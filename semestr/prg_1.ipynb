{
  "cells": [
    {
      "cell_type": "markdown",
      "id": "27ea1b2a",
      "metadata": {
        "id": "27ea1b2a"
      },
      "source": [
        "# A - Задача на вычисление\n",
        "\n",
        "Летом килограмм клубники стоит 80 рублей. Мама купила 1кг200г клубники. Сколько рублей сдачи она получит с 500 рублей?"
      ]
    },
    {
      "cell_type": "markdown",
      "id": "8d57578c",
      "metadata": {
        "id": "8d57578c"
      },
      "source": [
        "## Задание\n",
        "\n",
        "Напишите программу на языке Python для решения задачи с использованием переменных."
      ]
    },
    {
      "cell_type": "code",
      "execution_count": 1,
      "id": "4684a6f4",
      "metadata": {
        "colab": {
          "base_uri": "https://localhost:8080/"
        },
        "id": "4684a6f4",
        "outputId": "8f856dc3-d4bb-45c2-a94a-19e528833dec"
      },
      "outputs": [
        {
          "output_type": "stream",
          "name": "stdout",
          "text": [
            "Стоимость покупки: 96.0 руб.\n",
            "Сдача: 404.0 руб.\n"
          ]
        }
      ],
      "source": [
        "# Ваш код здесь\n",
        "\n",
        "цена_за_кг = 80\n",
        "вес_в_кг = 1.2\n",
        "сумма_у_мамы = 500\n",
        "\n",
        "стоимость_покупки = цена_за_кг * вес_в_кг\n",
        "сдача = сумма_у_мамы - стоимость_покупки\n",
        "\n",
        "print(\"Стоимость покупки:\", стоимость_покупки, \"руб.\")\n",
        "print(\"Сдача:\", сдача, \"руб.\")\n",
        "\n"
      ]
    },
    {
      "cell_type": "markdown",
      "id": "6596de06",
      "metadata": {
        "id": "6596de06"
      },
      "source": [
        "# B - Задача на ввод и вывод\n",
        "\n",
        "Пачка сливочного масла стоит X рублей. Пенсионерам магазин делает скидку Y%. Сколько рублей стоит пачка масла для пенсионера?"
      ]
    },
    {
      "cell_type": "markdown",
      "id": "74424a1e",
      "metadata": {
        "id": "74424a1e"
      },
      "source": [
        "## Задание\n",
        "\n",
        "Напишите программу на языке Python для решения задачи с использованием переменных."
      ]
    },
    {
      "cell_type": "code",
      "execution_count": 2,
      "id": "8a8a2439",
      "metadata": {
        "id": "8a8a2439",
        "colab": {
          "base_uri": "https://localhost:8080/"
        },
        "outputId": "b3e495fc-93aa-4fc6-e655-dfd5f7a50d11"
      },
      "outputs": [
        {
          "output_type": "stream",
          "name": "stdout",
          "text": [
            "Введите цену пачки масла (рублей): 40\n",
            "Введите процент скидки (%): 3\n",
            "Цена пачки масла для пенсионера: 38.80 рублей\n"
          ]
        }
      ],
      "source": [
        "# Ваш код здесь\n",
        "x = float(input(\"Введите цену пачки масла (рублей): \"))\n",
        "y = float(input(\"Введите процент скидки (%): \"))\n",
        "\n",
        "pensioner_price = x * (1 - y / 100)\n",
        "\n",
        "print(f\"Цена пачки масла для пенсионера: {pensioner_price:.2f} рублей\")\n"
      ]
    },
    {
      "cell_type": "markdown",
      "id": "e6255748",
      "metadata": {
        "id": "e6255748"
      },
      "source": [
        "# C - Задача про Остапа\n",
        "\n",
        "Остап разнорабочий по временам года. Весной он работает на лесоповале, летом - на стройке, осенью - на заводе, зимой - на логистическом центре."
      ]
    },
    {
      "cell_type": "markdown",
      "id": "9c97d7cd",
      "metadata": {
        "id": "9c97d7cd"
      },
      "source": [
        "## Задание\n",
        "\n",
        "Напишите программу на языке Python, которая по введенному времени года выведет работу для Остапа."
      ]
    },
    {
      "cell_type": "code",
      "execution_count": 4,
      "id": "1cc05537",
      "metadata": {
        "id": "1cc05537",
        "colab": {
          "base_uri": "https://localhost:8080/"
        },
        "outputId": "0c86c789-cfe3-4690-a098-13bc4bb0e2fb"
      },
      "outputs": [
        {
          "output_type": "stream",
          "name": "stdout",
          "text": [
            "осень\n",
            "Остап работает на заводе.\n"
          ]
        }
      ],
      "source": [
        "# Ваш код здесь\n",
        "season = input().lower()\n",
        "\n",
        "if season == \"весна\":\n",
        "    print(\"Остап работает на лесоповале.\")\n",
        "elif season == \"лето\":\n",
        "    print(\"Остап работает на стройке.\")\n",
        "elif season == \"осень\":\n",
        "    print(\"Остап работает на заводе.\")\n",
        "elif season == \"зима\":\n",
        "    print(\"Остап работает на логистическом центре.\")\n"
      ]
    },
    {
      "cell_type": "markdown",
      "id": "3f1e4bab",
      "metadata": {
        "id": "3f1e4bab"
      },
      "source": [
        "# D - Задача на списки\n",
        "\n",
        "Нужно сформировать список  lst из 20 элементов случайным образом. Элементы списка должны быть в диапазоне [-50;50]. Выведите элементы списка на экран."
      ]
    },
    {
      "cell_type": "code",
      "execution_count": 5,
      "id": "7739bdfe",
      "metadata": {
        "id": "7739bdfe",
        "colab": {
          "base_uri": "https://localhost:8080/"
        },
        "outputId": "103add1d-fb6a-4204-86ea-2a20e952ae77"
      },
      "outputs": [
        {
          "output_type": "stream",
          "name": "stdout",
          "text": [
            "Список случайных чисел:\n",
            "[-21, 22, 9, 31, -28, -19, 29, -47, 37, -39, 40, -12, -8, 11, 0, 15, 25, 49, 34, 34]\n"
          ]
        }
      ],
      "source": [
        "# Ваш код здесь\n",
        "import random\n",
        "lst = [random.randint(-50, 50) for _ in range(20)]\n",
        "print(\"Список случайных чисел:\")\n",
        "print(lst)\n"
      ]
    },
    {
      "cell_type": "markdown",
      "id": "7a2ec442",
      "metadata": {
        "id": "7a2ec442"
      },
      "source": [
        "#### Задание 1: Найдите длину списка"
      ]
    },
    {
      "cell_type": "code",
      "execution_count": 6,
      "id": "fa7153c6",
      "metadata": {
        "id": "fa7153c6",
        "colab": {
          "base_uri": "https://localhost:8080/"
        },
        "outputId": "2b281826-603f-4659-ae3b-a33a0a171a03"
      },
      "outputs": [
        {
          "output_type": "stream",
          "name": "stdout",
          "text": [
            "Список случайных чисел:\n",
            "[-25, 5, 1, -6, -40, -23, -9, 1, 48, -44, -45, -4, -3, 6, 45, 24, -40, -35, -25, 6]\n",
            "Длина списка: 20\n"
          ]
        }
      ],
      "source": [
        "# Ваш код здесь\n",
        "import random\n",
        "\n",
        "lst = [random.randint(-50, 50) for _ in range(20)]\n",
        "print(\"Список случайных чисел:\")\n",
        "print(lst)\n",
        "print(\"Длина списка:\", len(lst))\n",
        "\n"
      ]
    },
    {
      "cell_type": "markdown",
      "id": "00cb8a0e",
      "metadata": {
        "id": "00cb8a0e"
      },
      "source": [
        "#### Задание 2: Найдите максимальный и минимальный элемент списка"
      ]
    },
    {
      "cell_type": "code",
      "execution_count": 7,
      "id": "05f42f68",
      "metadata": {
        "id": "05f42f68",
        "colab": {
          "base_uri": "https://localhost:8080/"
        },
        "outputId": "0fc1ee08-3f7f-424a-b3c0-26bbccbe2931"
      },
      "outputs": [
        {
          "output_type": "stream",
          "name": "stdout",
          "text": [
            "Список случайных чисел:\n",
            "[49, -19, -24, -12, 10, 8, -1, -9, -17, -26, 0, 35, -15, -13, -26, -46, 44, -20, -21, 13]\n",
            "Длина списка: 20\n",
            "Максимальный элемент: 49\n",
            "Минимальный элемент: -46\n"
          ]
        }
      ],
      "source": [
        "# Ваш код здесь\n",
        "import random\n",
        "\n",
        "lst = [random.randint(-50, 50) for _ in range(20)]\n",
        "print(\"Список случайных чисел:\")\n",
        "print(lst)\n",
        "print(\"Длина списка:\", len(lst))\n",
        "print(\"Максимальный элемент:\", max(lst))\n",
        "print(\"Минимальный элемент:\", min(lst))"
      ]
    },
    {
      "cell_type": "markdown",
      "id": "ab4a9bcc",
      "metadata": {
        "id": "ab4a9bcc"
      },
      "source": [
        "#### Задание 3: Выведите список в обратном порядке"
      ]
    },
    {
      "cell_type": "code",
      "execution_count": 8,
      "id": "62aa3917",
      "metadata": {
        "id": "62aa3917",
        "colab": {
          "base_uri": "https://localhost:8080/"
        },
        "outputId": "a0c3d676-cb29-4102-b265-4b53e15a1a46"
      },
      "outputs": [
        {
          "output_type": "stream",
          "name": "stdout",
          "text": [
            "Список случайных чисел:\n",
            "[33, -28, 13, 36, 31, 5, -31, -39, -39, -14, -22, 13, 5, 45, 31, -2, -41, -37, -7, 48]\n",
            "Длина списка: 20\n",
            "Максимальный элемент: 48\n",
            "Минимальный элемент: -41\n",
            "Список в обратном порядке:\n",
            "[48, -7, -37, -41, -2, 31, 45, 5, 13, -22, -14, -39, -39, -31, 5, 31, 36, 13, -28, 33]\n"
          ]
        }
      ],
      "source": [
        "# Ваш код здесь\n",
        "import random\n",
        "\n",
        "lst = [random.randint(-50, 50) for _ in range(20)]\n",
        "print(\"Список случайных чисел:\")\n",
        "print(lst)\n",
        "print(\"Длина списка:\", len(lst))\n",
        "print(\"Список в обратном порядке:\")\n",
        "print(lst[::-1])\n"
      ]
    },
    {
      "cell_type": "markdown",
      "id": "d7b20ed8",
      "metadata": {
        "id": "d7b20ed8"
      },
      "source": [
        "#### Задание 4: Создайте копию списка в переменной mlst и отсортируйте список mlst по возрастанию"
      ]
    },
    {
      "cell_type": "code",
      "execution_count": 10,
      "id": "d791fab2",
      "metadata": {
        "id": "d791fab2",
        "colab": {
          "base_uri": "https://localhost:8080/"
        },
        "outputId": "7156aff5-9994-433d-bdc3-71e6f904f70b"
      },
      "outputs": [
        {
          "output_type": "stream",
          "name": "stdout",
          "text": [
            "Отсортированная копия списка (по возрастанию):\n",
            "[-41, -39, -39, -37, -31, -28, -22, -14, -7, -2, 5, 5, 13, 13, 31, 31, 33, 36, 45, 48]\n"
          ]
        }
      ],
      "source": [
        "# Ваш код здесь\n",
        "import random\n",
        "mlst = sorted(lst)\n",
        "print(\"Отсортированная копия списка (по возрастанию):\")\n",
        "print(mlst)\n"
      ]
    },
    {
      "cell_type": "markdown",
      "id": "0947502e",
      "metadata": {
        "id": "0947502e"
      },
      "source": [
        "#### Задание 5: Дано число K=7: Добавьте в список число K"
      ]
    },
    {
      "cell_type": "code",
      "execution_count": 11,
      "id": "b7f426ea",
      "metadata": {
        "id": "b7f426ea",
        "colab": {
          "base_uri": "https://localhost:8080/"
        },
        "outputId": "c9e1d8fe-fcd0-4454-89de-6d72c7850db6"
      },
      "outputs": [
        {
          "output_type": "stream",
          "name": "stdout",
          "text": [
            "Список после добавления числа K:\n",
            "[33, -28, 13, 36, 31, 5, -31, -39, -39, -14, -22, 13, 5, 45, 31, -2, -41, -37, -7, 48, 7]\n"
          ]
        }
      ],
      "source": [
        "# Ваш код здесь\n",
        "K = 7\n",
        "lst.append(K)\n",
        "print(\"Список после добавления числа K:\")\n",
        "print(lst)"
      ]
    },
    {
      "cell_type": "markdown",
      "id": "6ae3a7ac",
      "metadata": {
        "id": "6ae3a7ac"
      },
      "source": [
        "#### Задание 6: Выведите элементы списка, которые заканчиваются на 9"
      ]
    },
    {
      "cell_type": "code",
      "execution_count": 12,
      "id": "bf435be6",
      "metadata": {
        "id": "bf435be6",
        "colab": {
          "base_uri": "https://localhost:8080/"
        },
        "outputId": "a511503c-b049-4767-ae41-ba65e21915b0"
      },
      "outputs": [
        {
          "output_type": "stream",
          "name": "stdout",
          "text": [
            "Элементы, которые заканчиваются на 9:\n",
            "-39\n",
            "-39\n"
          ]
        }
      ],
      "source": [
        "# Ваш код здесь\n",
        "print(\"Элементы, которые заканчиваются на 9:\")\n",
        "for num in lst:\n",
        "    if abs(num) % 10 == 9:\n",
        "        print(num)"
      ]
    },
    {
      "cell_type": "markdown",
      "id": "52952f17",
      "metadata": {
        "id": "52952f17"
      },
      "source": [
        "#### Задание 7: Найдите количество элементов списка, которые меньше среднего арифметического"
      ]
    },
    {
      "cell_type": "code",
      "execution_count": 13,
      "id": "ae5a250a",
      "metadata": {
        "id": "ae5a250a",
        "colab": {
          "base_uri": "https://localhost:8080/"
        },
        "outputId": "927bf000-b6bf-406d-fb44-af5279349b07"
      },
      "outputs": [
        {
          "output_type": "stream",
          "name": "stdout",
          "text": [
            "Среднее арифметическое: 0.33\n",
            "Количество элементов меньше среднего арифметического: 10\n"
          ]
        }
      ],
      "source": [
        "# Ваш код здесь\n",
        "average = sum(lst) / len(lst)\n",
        "count_less_than_average = sum(1 for num in lst if num < average)\n",
        "print(f\"Среднее арифметическое: {average:.2f}\")\n",
        "print(f\"Количество элементов меньше среднего арифметического: {count_less_than_average}\")"
      ]
    },
    {
      "cell_type": "markdown",
      "id": "55ee0aaa",
      "metadata": {
        "id": "55ee0aaa"
      },
      "source": [
        "# E - Задача на строки\n",
        "\n",
        "Пользователь вводит с клавиатуры строку."
      ]
    },
    {
      "cell_type": "code",
      "execution_count": 26,
      "id": "83485639",
      "metadata": {
        "id": "83485639",
        "colab": {
          "base_uri": "https://localhost:8080/"
        },
        "outputId": "ffa46fb7-002f-426e-aaa1-8d03436b4634"
      },
      "outputs": [
        {
          "output_type": "stream",
          "name": "stdout",
          "text": [
            "Введите строку: Собаки любят плавать не более чем на 30 метров и только 2 месяца в году\n",
            "Вы ввели строку:\n",
            "Собаки любят плавать не более чем на 30 метров и только 2 месяца в году\n"
          ]
        }
      ],
      "source": [
        "# Ваш код здесь\n",
        "user_string = input(\"Введите строку: \")\n",
        "print(\"Вы ввели строку:\")\n",
        "print(user_string)"
      ]
    },
    {
      "cell_type": "markdown",
      "id": "522dbfa5",
      "metadata": {
        "id": "522dbfa5"
      },
      "source": [
        "#### Задание 1: Найдите длину строки"
      ]
    },
    {
      "cell_type": "code",
      "execution_count": 27,
      "id": "e3218fae",
      "metadata": {
        "id": "e3218fae",
        "colab": {
          "base_uri": "https://localhost:8080/"
        },
        "outputId": "d51d4318-27fb-4e50-ed6c-8a19b84e2ea5"
      },
      "outputs": [
        {
          "output_type": "stream",
          "name": "stdout",
          "text": [
            "Длина строки: 71\n"
          ]
        }
      ],
      "source": [
        "# Ваш код здесь\n",
        "print(f\"Длина строки: {len(user_string)}\")\n"
      ]
    },
    {
      "cell_type": "markdown",
      "id": "c93bb1d0",
      "metadata": {
        "id": "c93bb1d0"
      },
      "source": [
        "#### Задание 2: Найдите количество пробелов в строке"
      ]
    },
    {
      "cell_type": "code",
      "execution_count": 28,
      "id": "34ab76e3",
      "metadata": {
        "id": "34ab76e3",
        "colab": {
          "base_uri": "https://localhost:8080/"
        },
        "outputId": "5772f15b-b6ce-4b12-a75d-52f2ce87ef83"
      },
      "outputs": [
        {
          "output_type": "stream",
          "name": "stdout",
          "text": [
            "Количество пробелов: 14\n"
          ]
        }
      ],
      "source": [
        "# Ваш код здесь\n",
        "print(f\"Количество пробелов: {user_string.count(' ')}\")\n"
      ]
    },
    {
      "cell_type": "markdown",
      "id": "d1ed6399",
      "metadata": {
        "id": "d1ed6399"
      },
      "source": [
        "#### Задание 3: Выведите строку в обратном порядке"
      ]
    },
    {
      "cell_type": "code",
      "execution_count": 29,
      "id": "df464950",
      "metadata": {
        "id": "df464950",
        "colab": {
          "base_uri": "https://localhost:8080/"
        },
        "outputId": "752a4ecb-439e-4f54-8270-bb6759f1d272"
      },
      "outputs": [
        {
          "output_type": "stream",
          "name": "stdout",
          "text": [
            "Строка в обратном порядке: удог в ацясем 2 окьлот и вортем 03 ан меч еелоб ен ьтавалп тябюл икабоС\n"
          ]
        }
      ],
      "source": [
        "# Ваш код здесь\n",
        "print(f\"Строка в обратном порядке: {user_string[::-1]}\")"
      ]
    },
    {
      "cell_type": "markdown",
      "id": "bfc16f41",
      "metadata": {
        "id": "bfc16f41"
      },
      "source": [
        "#### Задание 4: Выведите всю строку, кроме первых двух символов"
      ]
    },
    {
      "cell_type": "code",
      "execution_count": 30,
      "id": "3d748871",
      "metadata": {
        "id": "3d748871",
        "colab": {
          "base_uri": "https://localhost:8080/"
        },
        "outputId": "62b38b18-fb05-4224-dc05-8edad6a292c1"
      },
      "outputs": [
        {
          "output_type": "stream",
          "name": "stdout",
          "text": [
            "Строка без первых двух символов: баки любят плавать не более чем на 30 метров и только 2 месяца в году\n"
          ]
        }
      ],
      "source": [
        "# Ваш код здесь\n",
        "print(f\"Строка без первых двух символов: {user_string[2:]}\")\n"
      ]
    },
    {
      "cell_type": "markdown",
      "id": "6c1f6932",
      "metadata": {
        "id": "6c1f6932"
      },
      "source": [
        "#### Задание 5: Выведите предпоследний символ этой строки"
      ]
    },
    {
      "cell_type": "code",
      "execution_count": 31,
      "id": "1faeb5f2",
      "metadata": {
        "id": "1faeb5f2",
        "colab": {
          "base_uri": "https://localhost:8080/"
        },
        "outputId": "dcddf5b0-1e11-4c5e-fd28-69822d6e6fc9"
      },
      "outputs": [
        {
          "output_type": "stream",
          "name": "stdout",
          "text": [
            "Предпоследний символ: д\n"
          ]
        }
      ],
      "source": [
        "# Ваш код здесь\n",
        "print(f\"Предпоследний символ: {user_string[-2]}\")"
      ]
    },
    {
      "cell_type": "markdown",
      "id": "4c888822",
      "metadata": {
        "id": "4c888822"
      },
      "source": [
        "#### Задание 6: Найдите количество слов в строке (слово это последовательность непробельных символов)"
      ]
    },
    {
      "cell_type": "code",
      "execution_count": 32,
      "id": "5dc3b826",
      "metadata": {
        "id": "5dc3b826",
        "colab": {
          "base_uri": "https://localhost:8080/"
        },
        "outputId": "995b10de-2780-4537-e6d8-6fda980fa44c"
      },
      "outputs": [
        {
          "output_type": "stream",
          "name": "stdout",
          "text": [
            "Количество слов: 15\n"
          ]
        }
      ],
      "source": [
        "# Ваш код здесь\n",
        "print(f\"Количество слов: {len(user_string.split())}\")"
      ]
    },
    {
      "cell_type": "markdown",
      "id": "f278e7c3",
      "metadata": {
        "id": "f278e7c3"
      },
      "source": [
        "#### Задание 7: Разделите строку на части используя пробел как разделитель и сохраните результат в списке slst"
      ]
    },
    {
      "cell_type": "code",
      "execution_count": 33,
      "id": "6ef05e65",
      "metadata": {
        "id": "6ef05e65",
        "colab": {
          "base_uri": "https://localhost:8080/"
        },
        "outputId": "1b1fc9c2-d3da-4237-ea98-f7927ee59ee2"
      },
      "outputs": [
        {
          "output_type": "stream",
          "name": "stdout",
          "text": [
            "Список слов (slst): ['Собаки', 'любят', 'плавать', 'не', 'более', 'чем', 'на', '30', 'метров', 'и', 'только', '2', 'месяца', 'в', 'году']\n"
          ]
        }
      ],
      "source": [
        "# Ваш код здесь\n",
        "slst = user_string.split()\n",
        "print(f\"Список слов (slst): {slst}\")\n"
      ]
    },
    {
      "cell_type": "markdown",
      "id": "979b0b14",
      "metadata": {
        "id": "979b0b14"
      },
      "source": [
        "#### Задание 8: Пользователь вводит с клавиатуры символ. Его нужно сохранить в переменной С: Замените все вхождения символа на *"
      ]
    },
    {
      "cell_type": "code",
      "execution_count": 34,
      "id": "d6348c9b",
      "metadata": {
        "id": "d6348c9b",
        "colab": {
          "base_uri": "https://localhost:8080/"
        },
        "outputId": "842acb24-ca37-4ed4-e834-46ced6032cee"
      },
      "outputs": [
        {
          "output_type": "stream",
          "name": "stdout",
          "text": [
            "Введите символ для замены: с\n",
            "Строка после замены 'с' на '*': Собаки любят плавать не более чем на 30 метров и только 2 ме*яца в году\n"
          ]
        }
      ],
      "source": [
        "# Ваш код здесь\n",
        "C = input(\"Введите символ для замены: \")\n",
        "print(f\"Строка после замены '{C}' на '*': {user_string.replace(C, '*')}\")"
      ]
    },
    {
      "cell_type": "markdown",
      "id": "8e901c76",
      "metadata": {
        "id": "8e901c76"
      },
      "source": [
        "#### Задание 9: Найдите количество символов . в строке"
      ]
    },
    {
      "cell_type": "code",
      "execution_count": 37,
      "id": "2b3dc119",
      "metadata": {
        "id": "2b3dc119",
        "colab": {
          "base_uri": "https://localhost:8080/"
        },
        "outputId": "d69f4918-13d9-45d4-ac69-b25d5206def6"
      },
      "outputs": [
        {
          "output_type": "stream",
          "name": "stdout",
          "text": [
            "Количество символов '.': 0\n"
          ]
        }
      ],
      "source": [
        "# Ваш код здесь\n",
        "print(f\"Количество символов '.': {user_string.count('.')}\")"
      ]
    },
    {
      "cell_type": "markdown",
      "id": "86d4db21",
      "metadata": {
        "id": "86d4db21"
      },
      "source": [
        "#### Задание 10: Сформируйте новую строку, в которую поместите все цифры из исходной строки"
      ]
    },
    {
      "cell_type": "code",
      "execution_count": 39,
      "id": "5682f658",
      "metadata": {
        "id": "5682f658",
        "colab": {
          "base_uri": "https://localhost:8080/"
        },
        "outputId": "1b858ac9-596c-4dee-d9a9-1b6389e0876d"
      },
      "outputs": [
        {
          "output_type": "stream",
          "name": "stdout",
          "text": [
            "Строка с цифрами: 302\n"
          ]
        }
      ],
      "source": [
        "# Ваш код здесь\n",
        "# Строка с цифрами\n",
        "digits_string = ''.join(filter(str.isdigit, user_string))\n",
        "print(f\"Строка с цифрами: {digits_string}\")"
      ]
    }
  ],
  "metadata": {
    "colab": {
      "provenance": []
    },
    "language_info": {
      "name": "python"
    },
    "kernelspec": {
      "name": "python3",
      "display_name": "Python 3"
    }
  },
  "nbformat": 4,
  "nbformat_minor": 5
}