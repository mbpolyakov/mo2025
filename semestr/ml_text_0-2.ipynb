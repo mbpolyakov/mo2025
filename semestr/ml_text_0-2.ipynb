{
  "cells": [
    {
      "cell_type": "markdown",
      "id": "831ed9e5",
      "metadata": {
        "id": "831ed9e5"
      },
      "source": [
        "# Экзаменационное проектное задание\n",
        "\n",
        "## Шкала оценивания\n",
        "\n",
        "- **Оценка 3-4:** Нужно построить модель машинного обучения с классификатором по заданию\n",
        "\n",
        "- **Оценка 5:** Нужно применить 2 дополнительных классификатора, сравнить и сделать выводы какой лучше"
      ]
    },
    {
      "cell_type": "markdown",
      "id": "698b5b0e",
      "metadata": {
        "id": "698b5b0e"
      },
      "source": [
        "# Часть I. Подготовка набора данных: Отзывы о ресторанах"
      ]
    },
    {
      "cell_type": "markdown",
      "id": "fdc16b45",
      "metadata": {
        "id": "fdc16b45"
      },
      "source": [
        "## Задание\n",
        "\n",
        "Вам предлагается выполнить подготовку набора данных\n",
        "\n",
        "Описание набора данных: Отзывы пользователей о ресторанах. Целевая переменная - тональность отзыва\n",
        "\n",
        "Ссылка на набор данных для использования в блокноте: https://raw.githubusercontent.com/yakushinav/mo2025/refs/heads/main/data/rest01.csv"
      ]
    },
    {
      "cell_type": "markdown",
      "id": "4d0d8cb2",
      "metadata": {
        "id": "4d0d8cb2"
      },
      "source": [
        "#### 1. Подключение библиотек"
      ]
    },
    {
      "cell_type": "code",
      "execution_count": 24,
      "id": "ccb62996",
      "metadata": {
        "colab": {
          "base_uri": "https://localhost:8080/"
        },
        "id": "ccb62996",
        "outputId": "2bebc1c5-0915-49e4-cda9-a904efd0c28a"
      },
      "outputs": [
        {
          "output_type": "stream",
          "name": "stderr",
          "text": [
            "[nltk_data] Downloading package stopwords to /root/nltk_data...\n",
            "[nltk_data]   Package stopwords is already up-to-date!\n",
            "[nltk_data] Downloading package punkt to /root/nltk_data...\n",
            "[nltk_data]   Package punkt is already up-to-date!\n"
          ]
        },
        {
          "output_type": "execute_result",
          "data": {
            "text/plain": [
              "True"
            ]
          },
          "metadata": {},
          "execution_count": 24
        }
      ],
      "source": [
        "# 1. Подключение библиотек\n",
        "import pandas as pd\n",
        "import numpy as np\n",
        "from sklearn.model_selection import train_test_split\n",
        "from sklearn.feature_extraction.text import TfidfVectorizer\n",
        "from sklearn.ensemble import RandomForestClassifier\n",
        "from sklearn.svm import SVC\n",
        "from sklearn.linear_model import LogisticRegression\n",
        "from sklearn.metrics import accuracy_score, classification_report, confusion_matrix\n",
        "import nltk\n",
        "from nltk.corpus import stopwords\n",
        "from nltk.tokenize import word_tokenize\n",
        "from nltk.stem import SnowballStemmer\n",
        "import re\n",
        "import string\n",
        "\n",
        "# Загружаем необходимые ресурсы NLTK\n",
        "nltk.download('stopwords')\n",
        "nltk.download('punkt')\n"
      ]
    },
    {
      "cell_type": "markdown",
      "id": "cd30016a",
      "metadata": {
        "id": "cd30016a"
      },
      "source": [
        "#### 2. Чтение набора данных"
      ]
    },
    {
      "cell_type": "code",
      "execution_count": 25,
      "id": "224422ac",
      "metadata": {
        "colab": {
          "base_uri": "https://localhost:8080/"
        },
        "id": "224422ac",
        "outputId": "8af6acad-3f26-4515-f5c1-a17d0daff7a3"
      },
      "outputs": [
        {
          "output_type": "stream",
          "name": "stdout",
          "text": [
            "Данные успешно загружены\n"
          ]
        }
      ],
      "source": [
        "# 2. Чтение набора данных\n",
        "url = \"https://raw.githubusercontent.com/yakushinav/mo2025/refs/heads/main/data/rest01.csv\"\n",
        "data = pd.read_csv(url)\n",
        "print(\"Данные успешно загружены\")\n"
      ]
    },
    {
      "cell_type": "markdown",
      "id": "dc566934",
      "metadata": {
        "id": "dc566934"
      },
      "source": [
        "#### 3. Первые 7 строк набора данных"
      ]
    },
    {
      "cell_type": "code",
      "execution_count": 26,
      "id": "cefd0320",
      "metadata": {
        "colab": {
          "base_uri": "https://localhost:8080/",
          "height": 283
        },
        "id": "cefd0320",
        "outputId": "e9fac55f-507f-490d-d760-393ff160c8f1"
      },
      "outputs": [
        {
          "output_type": "stream",
          "name": "stdout",
          "text": [
            "Первые 7 строк набора данных:\n"
          ]
        },
        {
          "output_type": "execute_result",
          "data": {
            "text/plain": [
              "   Unnamed: 0                        rest  \\\n",
              "0           0      13 маршрут Retro-Blues   \n",
              "1           1               Веселый барин   \n",
              "2           2                  Моб Джойнт   \n",
              "3           3                     Крапива   \n",
              "4           4  Советское кафе \"Квартирка\"   \n",
              "5           5                       Дитай   \n",
              "6           6                     ПАБ № 1   \n",
              "\n",
              "                                              review  feedback  \n",
              "0  День 8-го марта прошёл, можно и итоги подвести...  positive  \n",
              "1  Отмечали в этом ресторане день рождение на пер...  positive  \n",
              "2  Для встречи с друзьями было выбрано данное зав...   neutral  \n",
              "3  Хочу поделиться своим впечатлением от посещени...  negative  \n",
              "4  Добрый день! Были вчера с друзьями в этом кафе...  positive  \n",
              "5  Отметили с мужем годовщину свадьбы 6 ноября в ...   neutral  \n",
              "6  Впервые побывала в этом пабе совсем недавно и ...   neutral  "
            ],
            "text/html": [
              "\n",
              "  <div id=\"df-452f4e59-ee35-4008-a8b2-edb77bf3f25b\" class=\"colab-df-container\">\n",
              "    <div>\n",
              "<style scoped>\n",
              "    .dataframe tbody tr th:only-of-type {\n",
              "        vertical-align: middle;\n",
              "    }\n",
              "\n",
              "    .dataframe tbody tr th {\n",
              "        vertical-align: top;\n",
              "    }\n",
              "\n",
              "    .dataframe thead th {\n",
              "        text-align: right;\n",
              "    }\n",
              "</style>\n",
              "<table border=\"1\" class=\"dataframe\">\n",
              "  <thead>\n",
              "    <tr style=\"text-align: right;\">\n",
              "      <th></th>\n",
              "      <th>Unnamed: 0</th>\n",
              "      <th>rest</th>\n",
              "      <th>review</th>\n",
              "      <th>feedback</th>\n",
              "    </tr>\n",
              "  </thead>\n",
              "  <tbody>\n",
              "    <tr>\n",
              "      <th>0</th>\n",
              "      <td>0</td>\n",
              "      <td>13 маршрут Retro-Blues</td>\n",
              "      <td>День 8-го марта прошёл, можно и итоги подвести...</td>\n",
              "      <td>positive</td>\n",
              "    </tr>\n",
              "    <tr>\n",
              "      <th>1</th>\n",
              "      <td>1</td>\n",
              "      <td>Веселый барин</td>\n",
              "      <td>Отмечали в этом ресторане день рождение на пер...</td>\n",
              "      <td>positive</td>\n",
              "    </tr>\n",
              "    <tr>\n",
              "      <th>2</th>\n",
              "      <td>2</td>\n",
              "      <td>Моб Джойнт</td>\n",
              "      <td>Для встречи с друзьями было выбрано данное зав...</td>\n",
              "      <td>neutral</td>\n",
              "    </tr>\n",
              "    <tr>\n",
              "      <th>3</th>\n",
              "      <td>3</td>\n",
              "      <td>Крапива</td>\n",
              "      <td>Хочу поделиться своим впечатлением от посещени...</td>\n",
              "      <td>negative</td>\n",
              "    </tr>\n",
              "    <tr>\n",
              "      <th>4</th>\n",
              "      <td>4</td>\n",
              "      <td>Советское кафе \"Квартирка\"</td>\n",
              "      <td>Добрый день! Были вчера с друзьями в этом кафе...</td>\n",
              "      <td>positive</td>\n",
              "    </tr>\n",
              "    <tr>\n",
              "      <th>5</th>\n",
              "      <td>5</td>\n",
              "      <td>Дитай</td>\n",
              "      <td>Отметили с мужем годовщину свадьбы 6 ноября в ...</td>\n",
              "      <td>neutral</td>\n",
              "    </tr>\n",
              "    <tr>\n",
              "      <th>6</th>\n",
              "      <td>6</td>\n",
              "      <td>ПАБ № 1</td>\n",
              "      <td>Впервые побывала в этом пабе совсем недавно и ...</td>\n",
              "      <td>neutral</td>\n",
              "    </tr>\n",
              "  </tbody>\n",
              "</table>\n",
              "</div>\n",
              "    <div class=\"colab-df-buttons\">\n",
              "\n",
              "  <div class=\"colab-df-container\">\n",
              "    <button class=\"colab-df-convert\" onclick=\"convertToInteractive('df-452f4e59-ee35-4008-a8b2-edb77bf3f25b')\"\n",
              "            title=\"Convert this dataframe to an interactive table.\"\n",
              "            style=\"display:none;\">\n",
              "\n",
              "  <svg xmlns=\"http://www.w3.org/2000/svg\" height=\"24px\" viewBox=\"0 -960 960 960\">\n",
              "    <path d=\"M120-120v-720h720v720H120Zm60-500h600v-160H180v160Zm220 220h160v-160H400v160Zm0 220h160v-160H400v160ZM180-400h160v-160H180v160Zm440 0h160v-160H620v160ZM180-180h160v-160H180v160Zm440 0h160v-160H620v160Z\"/>\n",
              "  </svg>\n",
              "    </button>\n",
              "\n",
              "  <style>\n",
              "    .colab-df-container {\n",
              "      display:flex;\n",
              "      gap: 12px;\n",
              "    }\n",
              "\n",
              "    .colab-df-convert {\n",
              "      background-color: #E8F0FE;\n",
              "      border: none;\n",
              "      border-radius: 50%;\n",
              "      cursor: pointer;\n",
              "      display: none;\n",
              "      fill: #1967D2;\n",
              "      height: 32px;\n",
              "      padding: 0 0 0 0;\n",
              "      width: 32px;\n",
              "    }\n",
              "\n",
              "    .colab-df-convert:hover {\n",
              "      background-color: #E2EBFA;\n",
              "      box-shadow: 0px 1px 2px rgba(60, 64, 67, 0.3), 0px 1px 3px 1px rgba(60, 64, 67, 0.15);\n",
              "      fill: #174EA6;\n",
              "    }\n",
              "\n",
              "    .colab-df-buttons div {\n",
              "      margin-bottom: 4px;\n",
              "    }\n",
              "\n",
              "    [theme=dark] .colab-df-convert {\n",
              "      background-color: #3B4455;\n",
              "      fill: #D2E3FC;\n",
              "    }\n",
              "\n",
              "    [theme=dark] .colab-df-convert:hover {\n",
              "      background-color: #434B5C;\n",
              "      box-shadow: 0px 1px 3px 1px rgba(0, 0, 0, 0.15);\n",
              "      filter: drop-shadow(0px 1px 2px rgba(0, 0, 0, 0.3));\n",
              "      fill: #FFFFFF;\n",
              "    }\n",
              "  </style>\n",
              "\n",
              "    <script>\n",
              "      const buttonEl =\n",
              "        document.querySelector('#df-452f4e59-ee35-4008-a8b2-edb77bf3f25b button.colab-df-convert');\n",
              "      buttonEl.style.display =\n",
              "        google.colab.kernel.accessAllowed ? 'block' : 'none';\n",
              "\n",
              "      async function convertToInteractive(key) {\n",
              "        const element = document.querySelector('#df-452f4e59-ee35-4008-a8b2-edb77bf3f25b');\n",
              "        const dataTable =\n",
              "          await google.colab.kernel.invokeFunction('convertToInteractive',\n",
              "                                                    [key], {});\n",
              "        if (!dataTable) return;\n",
              "\n",
              "        const docLinkHtml = 'Like what you see? Visit the ' +\n",
              "          '<a target=\"_blank\" href=https://colab.research.google.com/notebooks/data_table.ipynb>data table notebook</a>'\n",
              "          + ' to learn more about interactive tables.';\n",
              "        element.innerHTML = '';\n",
              "        dataTable['output_type'] = 'display_data';\n",
              "        await google.colab.output.renderOutput(dataTable, element);\n",
              "        const docLink = document.createElement('div');\n",
              "        docLink.innerHTML = docLinkHtml;\n",
              "        element.appendChild(docLink);\n",
              "      }\n",
              "    </script>\n",
              "  </div>\n",
              "\n",
              "\n",
              "    <div id=\"df-e1c5fc72-a842-474f-9795-bea77f2ee44a\">\n",
              "      <button class=\"colab-df-quickchart\" onclick=\"quickchart('df-e1c5fc72-a842-474f-9795-bea77f2ee44a')\"\n",
              "                title=\"Suggest charts\"\n",
              "                style=\"display:none;\">\n",
              "\n",
              "<svg xmlns=\"http://www.w3.org/2000/svg\" height=\"24px\"viewBox=\"0 0 24 24\"\n",
              "     width=\"24px\">\n",
              "    <g>\n",
              "        <path d=\"M19 3H5c-1.1 0-2 .9-2 2v14c0 1.1.9 2 2 2h14c1.1 0 2-.9 2-2V5c0-1.1-.9-2-2-2zM9 17H7v-7h2v7zm4 0h-2V7h2v10zm4 0h-2v-4h2v4z\"/>\n",
              "    </g>\n",
              "</svg>\n",
              "      </button>\n",
              "\n",
              "<style>\n",
              "  .colab-df-quickchart {\n",
              "      --bg-color: #E8F0FE;\n",
              "      --fill-color: #1967D2;\n",
              "      --hover-bg-color: #E2EBFA;\n",
              "      --hover-fill-color: #174EA6;\n",
              "      --disabled-fill-color: #AAA;\n",
              "      --disabled-bg-color: #DDD;\n",
              "  }\n",
              "\n",
              "  [theme=dark] .colab-df-quickchart {\n",
              "      --bg-color: #3B4455;\n",
              "      --fill-color: #D2E3FC;\n",
              "      --hover-bg-color: #434B5C;\n",
              "      --hover-fill-color: #FFFFFF;\n",
              "      --disabled-bg-color: #3B4455;\n",
              "      --disabled-fill-color: #666;\n",
              "  }\n",
              "\n",
              "  .colab-df-quickchart {\n",
              "    background-color: var(--bg-color);\n",
              "    border: none;\n",
              "    border-radius: 50%;\n",
              "    cursor: pointer;\n",
              "    display: none;\n",
              "    fill: var(--fill-color);\n",
              "    height: 32px;\n",
              "    padding: 0;\n",
              "    width: 32px;\n",
              "  }\n",
              "\n",
              "  .colab-df-quickchart:hover {\n",
              "    background-color: var(--hover-bg-color);\n",
              "    box-shadow: 0 1px 2px rgba(60, 64, 67, 0.3), 0 1px 3px 1px rgba(60, 64, 67, 0.15);\n",
              "    fill: var(--button-hover-fill-color);\n",
              "  }\n",
              "\n",
              "  .colab-df-quickchart-complete:disabled,\n",
              "  .colab-df-quickchart-complete:disabled:hover {\n",
              "    background-color: var(--disabled-bg-color);\n",
              "    fill: var(--disabled-fill-color);\n",
              "    box-shadow: none;\n",
              "  }\n",
              "\n",
              "  .colab-df-spinner {\n",
              "    border: 2px solid var(--fill-color);\n",
              "    border-color: transparent;\n",
              "    border-bottom-color: var(--fill-color);\n",
              "    animation:\n",
              "      spin 1s steps(1) infinite;\n",
              "  }\n",
              "\n",
              "  @keyframes spin {\n",
              "    0% {\n",
              "      border-color: transparent;\n",
              "      border-bottom-color: var(--fill-color);\n",
              "      border-left-color: var(--fill-color);\n",
              "    }\n",
              "    20% {\n",
              "      border-color: transparent;\n",
              "      border-left-color: var(--fill-color);\n",
              "      border-top-color: var(--fill-color);\n",
              "    }\n",
              "    30% {\n",
              "      border-color: transparent;\n",
              "      border-left-color: var(--fill-color);\n",
              "      border-top-color: var(--fill-color);\n",
              "      border-right-color: var(--fill-color);\n",
              "    }\n",
              "    40% {\n",
              "      border-color: transparent;\n",
              "      border-right-color: var(--fill-color);\n",
              "      border-top-color: var(--fill-color);\n",
              "    }\n",
              "    60% {\n",
              "      border-color: transparent;\n",
              "      border-right-color: var(--fill-color);\n",
              "    }\n",
              "    80% {\n",
              "      border-color: transparent;\n",
              "      border-right-color: var(--fill-color);\n",
              "      border-bottom-color: var(--fill-color);\n",
              "    }\n",
              "    90% {\n",
              "      border-color: transparent;\n",
              "      border-bottom-color: var(--fill-color);\n",
              "    }\n",
              "  }\n",
              "</style>\n",
              "\n",
              "      <script>\n",
              "        async function quickchart(key) {\n",
              "          const quickchartButtonEl =\n",
              "            document.querySelector('#' + key + ' button');\n",
              "          quickchartButtonEl.disabled = true;  // To prevent multiple clicks.\n",
              "          quickchartButtonEl.classList.add('colab-df-spinner');\n",
              "          try {\n",
              "            const charts = await google.colab.kernel.invokeFunction(\n",
              "                'suggestCharts', [key], {});\n",
              "          } catch (error) {\n",
              "            console.error('Error during call to suggestCharts:', error);\n",
              "          }\n",
              "          quickchartButtonEl.classList.remove('colab-df-spinner');\n",
              "          quickchartButtonEl.classList.add('colab-df-quickchart-complete');\n",
              "        }\n",
              "        (() => {\n",
              "          let quickchartButtonEl =\n",
              "            document.querySelector('#df-e1c5fc72-a842-474f-9795-bea77f2ee44a button');\n",
              "          quickchartButtonEl.style.display =\n",
              "            google.colab.kernel.accessAllowed ? 'block' : 'none';\n",
              "        })();\n",
              "      </script>\n",
              "    </div>\n",
              "    </div>\n",
              "  </div>\n"
            ],
            "application/vnd.google.colaboratory.intrinsic+json": {
              "type": "dataframe",
              "variable_name": "data",
              "summary": "{\n  \"name\": \"data\",\n  \"rows\": 404,\n  \"fields\": [\n    {\n      \"column\": \"Unnamed: 0\",\n      \"properties\": {\n        \"dtype\": \"number\",\n        \"std\": 116,\n        \"min\": 0,\n        \"max\": 403,\n        \"num_unique_values\": 404,\n        \"samples\": [\n          70,\n          218,\n          384\n        ],\n        \"semantic_type\": \"\",\n        \"description\": \"\"\n      }\n    },\n    {\n      \"column\": \"rest\",\n      \"properties\": {\n        \"dtype\": \"string\",\n        \"num_unique_values\": 315,\n        \"samples\": [\n          \"La strada\",\n          \"Repin Lounge Restaurant & Bar\",\n          \"\\u0422\\u0435\\u0440\\u0440\\u0430\\u0441\\u0430\"\n        ],\n        \"semantic_type\": \"\",\n        \"description\": \"\"\n      }\n    },\n    {\n      \"column\": \"review\",\n      \"properties\": {\n        \"dtype\": \"string\",\n        \"num_unique_values\": 404,\n        \"samples\": [\n          \"\\u041a\\u0440\\u0430\\u0441\\u0438\\u0432\\u043e. \\u0412\\u043a\\u0443\\u0441\\u043d\\u043e. \\u041e\\u0431\\u0441\\u043b\\u0443\\u0436\\u0438\\u0432\\u0430\\u043d\\u0438\\u0435 \\\"\\u043d\\u0430 \\u0443\\u0440\\u043e\\u0432\\u043d\\u0435\\\". \\u0412\\u043e\\u0442 \\u043d\\u0430 \\u044d\\u0442\\u043e\\u0442 \\\"\\u0443\\u0440\\u043e\\u0432\\u0435\\u043d\\u044c\\\" \\u043e\\u043d\\u043e \\u0438 \\u043e\\u0440\\u0438\\u0435\\u043d\\u0442\\u0438\\u0440\\u043e\\u0432\\u0430\\u043d\\u043d\\u043e, \\u043d\\u0435 \\u043d\\u0430 \\u043a\\u043b\\u0438\\u0435\\u043d\\u0442\\u0430 )) \\u041f\\u0440\\u0438\\u0435\\u0445\\u0430\\u043b\\u0438 \\u0432 23, \\u0432 \\u0431\\u0443\\u0434\\u043d\\u0438\\u0439 \\u0434\\u0435\\u043d\\u044c, \\u0432\\u0434\\u0432\\u043e\\u0435\\u043c \\u043f\\u043e\\u043a\\u0443\\u0448\\u0430\\u0442\\u044c. \\u0420\\u0435\\u0441\\u0442\\u043e\\u0440\\u0430\\u043d \\u0441\\u043e\\u0437\\u0434\\u0430\\u0432\\u0430\\u043b \\u0432\\u043f\\u0435\\u0447\\u0430\\u0442\\u043b\\u0435\\u043d\\u0438\\u0435 \\u043f\\u0443\\u0441\\u0442\\u043e\\u0433\\u043e, \\u0442\\u043e\\u043b\\u044c\\u043a\\u043e \\u043f\\u0440\\u0438\\u0433\\u043b\\u044f\\u0434\\u0435\\u0432\\u0448\\u0438\\u0441\\u044c \\u043c\\u043e\\u0436\\u043d\\u043e \\u0431\\u044b\\u043b\\u043e \\u0443\\u0432\\u0438\\u0434\\u0435\\u0442\\u044c \\u043f\\u043e\\u0441\\u0435\\u0442\\u0438\\u0442\\u0435\\u043b\\u0435\\u0439. \\u041e\\u0431\\u0441\\u043b\\u0443\\u0436\\u0438\\u0432\\u0430\\u044e\\u0449\\u0435\\u0433\\u043e \\u043f\\u0435\\u0440\\u0441\\u043e\\u043d\\u0430\\u043b\\u0430 \\u0431\\u044b\\u043b\\u043e \\u044f\\u0432\\u043d\\u043e \\u0431\\u043e\\u043b\\u044c\\u0448\\u0435, \\u0447\\u0435\\u043c \\u0433\\u043e\\u0441\\u0442\\u0435\\u0439. \\u041f\\u043e\\u0434\\u043d\\u044f\\u043b\\u0438\\u0441\\u044c \\u043d\\u0430 \\u0432\\u0442\\u043e\\u0440\\u043e\\u0439 \\u044d\\u0442\\u0430\\u0436, \\u0432\\u0441\\u0442\\u0440\\u0435\\u0442\\u0438\\u043b\\u0430 \\u043d\\u0430\\u0441 \\u0434\\u0435\\u0432\\u0443\\u0448\\u043a\\u0430, \\u043f\\u0440\\u0435\\u0434\\u043b\\u043e\\u0436\\u0438\\u043b\\u0430 \\u043f\\u0430\\u0440\\u0443 \\u043c\\u0430\\u043b\\u0435\\u043d\\u044c\\u043a\\u0438\\u0445 \\u0441\\u0442\\u043e\\u043b\\u0438\\u043a\\u043e\\u0432. \\u041c\\u044b \\u0437\\u0430\\u0445\\u043e\\u0442\\u0435\\u043b\\u0438 \\u0441\\u0435\\u0441\\u0442\\u044c \\u0437\\u0430 \\u0431\\u043e\\u043b\\u044c\\u0448\\u043e\\u0439 \\u0441\\u0442\\u043e\\u043b, \\u0441 \\u0434\\u0438\\u0432\\u0430\\u043d\\u0430\\u043c\\u0438. \\u041d\\u0443 \\u0443\\u0436 \\u043e\\u0447\\u0435\\u043d\\u044c \\u0445\\u043e\\u0442\\u0435\\u043b\\u043e\\u0441\\u044c \\u043d\\u0430 \\u0434\\u0438\\u0432\\u0430\\u043d)) \\u0414\\u0435\\u0432\\u0443\\u0448\\u043a\\u0430 \\u043a\\u0430\\u0442\\u0435\\u0433\\u043e\\u0440\\u0438\\u0447\\u043d\\u043e \\u0441\\u043a\\u0430\\u0437\\u0430\\u043b\\u0430: \\\"\\u043d\\u0435\\u0442, \\u0431\\u043e\\u043b\\u044c\\u0448\\u0438\\u0435 \\u0441\\u0442\\u043e\\u043b\\u044b - \\u0434\\u043b\\u044f \\u0431\\u043e\\u043b\\u044c\\u0448\\u0438\\u0445 \\u043a\\u043e\\u043c\\u043f\\u0430\\u043d\\u0438\\u0439, \\u0438 \\u043e\\u0434\\u0438\\u043d \\u0438\\u0437 \\u043d\\u0438\\u0445 \\u0437\\u0430\\u0440\\u0435\\u0437\\u0435\\u0440\\u0432\\u0438\\u0440\\u043e\\u0432\\u0430\\u043d\\\". \\u0421\\u043c\\u0435\\u0448\\u043d\\u043e, \\u043e\\u0434\\u0438\\u043d \\u0437\\u0430\\u043d\\u044f\\u0442, \\u043e\\u0434\\u0438\\u043d \\u0437\\u0430\\u0440\\u0435\\u0437\\u0435\\u0440\\u0432\\u0438\\u0440\\u043e\\u0432\\u0430\\u043d, \\u0438 \\u0435\\u0449\\u0435 \\u043d\\u0435\\u0441\\u043a\\u043e\\u043b\\u044c\\u043a\\u043e \\u043f\\u0443\\u0441\\u0442\\u0443\\u044e\\u0442, \\u043d\\u043e \\u043c\\u044b \\u043d\\u0435 \\u043c\\u043e\\u0436\\u0435\\u043c \\u0441\\u0435\\u0441\\u0442\\u044c \\u0433\\u0434\\u0435 \\u043d\\u0440\\u0430\\u0432\\u0438\\u0442\\u0441\\u044f, \\u0442.\\u043a. \\u043d\\u0430\\u0441 \\u0442\\u043e\\u043b\\u044c\\u043a\\u043e \\u0434\\u0432\\u043e\\u0435. \\u041d\\u0443 \\u0432\\u0434\\u0440\\u0443\\u0433, \\u0432 \\u044d\\u0442\\u043e\\u043c \\u0440\\u0435\\u0441\\u0442\\u043e\\u0440\\u0430\\u043d\\u0435 \\u0430\\u043d\\u0448\\u043b\\u0430\\u0433 \\u043d\\u0435\\u043e\\u0436\\u0438\\u0434\\u0430\\u043d\\u043d\\u043e \\u0441\\u043b\\u0443\\u0447\\u0430\\u0435\\u0442\\u0441\\u044f \\u0432 \\u043f\\u043e\\u043b\\u043d\\u043e\\u0447\\u044c, \\u043b\\u0430\\u0434\\u043d\\u043e \\u043d\\u0435 \\u0431\\u0443\\u0434\\u0435\\u043c \\u0437\\u0430\\u043d\\u0438\\u043c\\u0430\\u0442\\u044c \\u0441\\u043e\\u0431\\u043e\\u0439 \\u0442\\u0430\\u043a \\u043c\\u043d\\u043e\\u0433\\u043e \\u043c\\u0435\\u0441\\u0442\\u0430. \\u041a\\u043e\\u043d\\u0435\\u0447\\u043d\\u043e \\u0434\\u043e \\u0437\\u0430\\u043a\\u0440\\u044b\\u0442\\u0438\\u044f \\u0431\\u043e\\u043b\\u044c\\u0448\\u0435 \\u043d\\u0438\\u043a\\u0442\\u043e \\u043d\\u0435 \\u043f\\u043e\\u044f\\u0432\\u0438\\u043b\\u0441\\u044f. \\u041a\\u0443\\u0445\\u043d\\u044f, \\u0434\\u0435\\u0439\\u0441\\u0442\\u0432\\u0438\\u0442\\u0435\\u043b\\u044c\\u043d\\u043e \\u0445\\u043e\\u0440\\u043e\\u0448\\u0430. \\u041c\\u0443\\u0437\\u044b\\u043a\\u0430 \\u0442\\u043e\\u0436\\u0435.\",\n          \"\\u041d\\u0430\\u0447\\u0438\\u0442\\u0430\\u043b\\u0430\\u0441\\u044c \\u044f \\u0442\\u0443\\u0442 \\u043e\\u0442\\u0437\\u044b\\u0432\\u043e\\u0432 \\u043e \\u0434\\u0430\\u043d\\u043d\\u043e\\u043c \\u0440\\u0435\\u0441\\u0442\\u043e\\u0440\\u0430\\u043d\\u0435 \\u0438 \\u0432\\u0441\\u0435 \\u0436\\u0435 \\u0440\\u0435\\u0448\\u0438\\u043b\\u0430\\u0441\\u044c \\u043f\\u043e\\u0441\\u0435\\u0442\\u0438\\u0442\\u044c \\u0435\\u0433\\u043e.\\u041e\\u0436\\u0438\\u0434\\u0430\\u043b\\u0430 \\u0442\\u0438\\u0445\\u0438\\u0439 \\u0443\\u0436\\u0430\\u0441, \\u0430 \\u043f\\u043e\\u043b\\u0443\\u0447\\u0438\\u043b\\u043e\\u0441\\u044c \\u043d\\u0430\\u043e\\u0431\\u043e\\u0440\\u043e\\u0442,\\u0432\\u043e\\u0442 \\u0442\\u0435\\u043f\\u0435\\u0440\\u044c \\u043e\\u0442\\u0437\\u044b\\u0432\\u0430\\u043c \\u0434\\u043e\\u0432\\u0435\\u0440\\u044f\\u0442\\u044c \\u043d\\u0435 \\u0431\\u0443\\u0434\\u0443 ,\\u043b\\u0443\\u0447\\u0448\\u0435 \\u0441\\u0430\\u043c\\u043e\\u0439 \\u043f\\u0440\\u043e\\u0432\\u0435\\u0440\\u0438\\u0442\\u044c. \\u0417\\u0430\\u0448\\u043b\\u0430 \\u0441 \\u043f\\u043e\\u0434\\u0440\\u0443\\u0433\\u043e\\u0439 \\u0432 \\u0447\\u0435\\u0442\\u0432\\u0435\\u0440\\u0433 \\u0434\\u043d\\u0435\\u043c,\\u0440\\u0435\\u0448\\u0438\\u043b\\u0438 \\u043f\\u043e\\u043e\\u0431\\u0435\\u0434\\u0430\\u0442\\u044c. \\u041d\\u0430\\u0441 \\u0432\\u0441\\u0442\\u0440\\u0435\\u0442\\u0438\\u043b\\u0430 \\u043e\\u0447\\u0435\\u043d\\u044c \\u043c\\u0438\\u043b\\u0430\\u044f \\u0434\\u0435\\u0432\\u0443\\u0448\\u043a\\u0430 \\u043f\\u0440\\u043e\\u0432\\u043e\\u0434\\u0438\\u043b\\u0430 \\u0432 \\u0437\\u0430\\u043b \\u0434\\u043b\\u044f \\u043d\\u0435 \\u043a\\u0443\\u0440\\u044f\\u0449\\u0438\\u0445,\\u043d\\u0430\\u0440\\u043e\\u0434\\u0443 \\u0431\\u044b\\u043b\\u043e \\u0441\\u043a\\u0430\\u0436\\u0435\\u043c \\u043d\\u0435 \\u043c\\u0430\\u043b\\u043e,\\u043f\\u043e\\u0441\\u043b\\u0435 \\u043f\\u0440\\u043e\\u0447\\u0442\\u0435\\u043d\\u043d\\u044b\\u0445 \\u043e\\u0442\\u0437\\u044b\\u0432\\u043e\\u0432 \\u043e\\u0436\\u0438\\u0434\\u0430\\u043b\\u0430 ,\\u0447\\u0442\\u043e \\u0431\\u0443\\u0434\\u0443 \\u0441\\u0438\\u0434\\u0435\\u0442\\u044c \\u0432 \\u043f\\u0443\\u0441\\u0442\\u043e\\u043c \\u0437\\u0430\\u043b\\u0435 ,\\u043d\\u043e \\u043d\\u0435\\u0442, \\u0441\\u0432\\u043e\\u0431\\u043e\\u0434\\u043d\\u044b\\u0445 \\u0431\\u044b\\u043b\\u043e \\u0442\\u043e\\u043b\\u044c\\u043a\\u043e \\u0434\\u0432\\u0430 \\u0441\\u0442\\u043e\\u043b\\u0438\\u043a\\u0430 \\u0443 \\u043f\\u0440\\u043e\\u0445\\u043e\\u0434\\u0430,\\u0442\\u0430\\u043c \\u043c\\u044b \\u0438 \\u0441\\u0435\\u043b\\u0438.\\u0417\\u0430\\u043a\\u0430\\u0437\\u0430\\u043b\\u0430 \\u044f \\u0441\\u0430\\u043b\\u0430\\u0442,\\u0431\\u043e\\u043b\\u044c\\u0448\\u0443\\u044e \\u043f\\u043e\\u0440\\u0446\\u0438\\u044e,\\u043a\\u0430\\u043a \\u043d\\u0438 \\u0441\\u0442\\u0440\\u0430\\u043d\\u043d\\u043e \\u0435\\u0433\\u043e \\u043f\\u0440\\u0438\\u043d\\u0435\\u0441\\u043b\\u0438 \\u0432 \\u0431\\u043e\\u043b\\u044c\\u0448\\u043e\\u043c \\u043a\\u043e\\u043b\\u0438\\u0447\\u0435\\u0441\\u0442\\u0432\\u0435,\\u0438\\u0437 \\u0433\\u043e\\u0440\\u044f\\u0447\\u0435\\u0433\\u043e \\u0437\\u0430\\u043a\\u0430\\u0437\\u0430\\u043b\\u0430 \\u0441\\u0442\\u0435\\u0439\\u043a \\u0438\\u0437 \\u0442\\u0435\\u043b\\u044f\\u0442\\u0438\\u043d\\u044b,\\u043c\\u044f\\u0441\\u043e \\u0431\\u044b\\u043b\\u043e \\u043c\\u044f\\u0433\\u043a\\u0438\\u043c \\u0438 \\u0441\\u043e\\u0447\\u043d\\u044b\\u043c,\\u0438 \\u043a\\u043e\\u043d\\u0435\\u0447\\u043d\\u043e \\u0436\\u0435 \\u043c\\u043e\\u0435 \\u0441\\u0430\\u043c\\u043e\\u0435 \\u043b\\u044e\\u0431\\u0438\\u043c\\u043e\\u0435 \\u044d\\u0442\\u043e \\u0434\\u0435\\u0441\\u0435\\u0440\\u0442,\\u0437\\u0430\\u043a\\u0430\\u0437\\u0430\\u043b\\u0430 \\u0442\\u0438\\u0440\\u0430\\u043c\\u0438\\u0441\\u0443,\\u0438 \\u043f\\u0440\\u0430\\u0432\\u0438\\u043b\\u044c\\u043d\\u043e \\u0441\\u0434\\u0435\\u043b\\u0430\\u043b\\u0430,\\u043e\\u0447\\u0435\\u043d\\u044c \\u0432\\u043a\\u0443\\u0441\\u043d\\u044b\\u0439 \\u0434\\u0435\\u0441\\u0435\\u0440\\u0442.\\u0422\\u0435\\u043f\\u0435\\u0440\\u044c \\u0432\\u0441\\u0435\\u0433\\u0434\\u0430 \\u0431\\u0443\\u0434\\u0443 \\u0435\\u0433\\u043e \\u0443 \\u043d\\u0438\\u0445 \\u0435\\u0441\\u0442\\u044c .\\u041e\\u0431\\u0441\\u043b\\u0443\\u0436\\u0438\\u0432\\u0430\\u043d\\u0438\\u0435 \\u043c\\u043d\\u0435 \\u043f\\u043e\\u043d\\u0440\\u0430\\u0432\\u0438\\u043b\\u043e\\u0441\\u044c ,\\u0434\\u043e\\u0441\\u0442\\u0430\\u0442\\u043e\\u0447\\u043d\\u043e \\u0431\\u044b\\u0441\\u0442\\u0440\\u043e \\u0432\\u0441\\u0435 \\u043f\\u0440\\u0438\\u043d\\u0435\\u0441\\u043b\\u0438,\\u043d\\u0430 \\u0441\\u0442\\u043e\\u043b\\u0435 \\u0438\\u0441\\u043f\\u043e\\u043b\\u044c\\u0437\\u043e\\u0432\\u0430\\u043d\\u043d\\u044b\\u0435 \\u0442\\u0430\\u0440\\u0435\\u043b\\u043a\\u0438 \\u043d\\u0435 \\u0437\\u0430\\u0434\\u0435\\u0440\\u0436\\u0438\\u0432\\u0430\\u043b\\u0438\\u0441\\u044c ,\\u043e\\u0444\\u0438\\u0446\\u0438\\u0430\\u043d\\u0442\\u044b \\u0432\\u0441\\u0435\\u0445 \\u043e\\u043f\\u0435\\u0440\\u0430\\u0442\\u0438\\u0432\\u043d\\u043e \\u043e\\u0431\\u0441\\u043b\\u0443\\u0436\\u0438\\u0432\\u0430\\u043b\\u0438 ,\\u044f \\u0441\\u043f\\u0435\\u0446\\u0438\\u0430\\u043b\\u044c\\u043d\\u043e \\u0441\\u043b\\u0435\\u0434\\u0438\\u043b\\u0430 \\u0437\\u0430 \\u043d\\u0438\\u043c\\u0438 ))),\\u043f\\u0440\\u043e\\u0441\\u0442\\u043e \\u0445\\u043e\\u0442\\u0435\\u043b\\u043e\\u0441\\u044c \\u0441\\u0440\\u0430\\u0432\\u043d\\u0438\\u0442\\u044c \\u043e\\u0442\\u0437\\u044b\\u0432\\u044b \\u0441 \\u0440\\u0435\\u0430\\u043b\\u044c\\u043d\\u043e\\u0441\\u0442\\u044c\\u044e ,\\u043e\\u043a\\u0430\\u0437\\u0430\\u043b\\u043e\\u0441\\u044c \\u043e\\u0442\\u0437\\u044b\\u0432\\u044b \\u0431\\u044b\\u043b\\u0438 \\u043e\\u0448\\u0438\\u0431\\u043e\\u0447\\u043d\\u044b\\u043c\\u0438 ,\\u0445\\u043e\\u0442\\u044f \\u043c\\u043e\\u0436\\u0435\\u0442 \\u043c\\u043d\\u0435 \\u043f\\u0440\\u043e\\u0441\\u0442\\u043e \\u043f\\u043e\\u0432\\u0435\\u0437\\u043b\\u043e,\\u0438 \\u0432\\u0441\\u0435 \\u0436\\u0435 \\u044f \\u0442\\u0443\\u0434\\u0443 \\u0435\\u0449\\u0435 \\u043f\\u043e\\u0439\\u0434\\u0443.\\u0410 \\u043d\\u0430 \\u0441\\u0447\\u0435\\u0442 \\u0438\\u043d\\u0442\\u0435\\u0440\\u044c\\u0435\\u0440\\u0430 \\u0442\\u043e \\u043c\\u043d\\u0435 \\u043f\\u043e\\u043d\\u0440\\u0430\\u0432\\u0438\\u043b\\u0441\\u044f,\\u0441\\u043f\\u043e\\u043a\\u043e\\u0439\\u043d\\u044b\\u0439 \\u043d\\u0435\\u043f\\u0440\\u0438\\u043d\\u0443\\u0436\\u0434\\u0435\\u043d\\u043d\\u044b\\u0439,\\u0432\\u0441\\u0435 \\u0447\\u0438\\u0441\\u0442\\u0435\\u043d\\u044c\\u043a\\u043e \\u0438 \\u0430\\u043a\\u043a\\u0443\\u0440\\u0430\\u0442\\u043d\\u043e,\\u0431\\u0435\\u0437 \\u043f\\u0430\\u0444\\u043e\\u0441\\u0430.\",\n          \"\\u041f\\u0435\\u0440\\u0432\\u043e\\u0435 \\u0437\\u043d\\u0430\\u043a\\u043e\\u043c\\u0441\\u0442\\u0432\\u043e \\u043f\\u0440\\u043e\\u0438\\u0437\\u043e\\u0448\\u043b\\u043e \\u0441 \\u0434\\u0438\\u0440\\u0435\\u043a\\u0442\\u043e\\u0440\\u043e\\u043c \\u0434\\u0430\\u043d\\u043d\\u043e\\u0433\\u043e \\u0437\\u0430\\u0432\\u0435\\u0434\\u0435\\u043d\\u0438\\u044f (\\u043c\\u043e\\u0436\\u0435\\u0442 \\u044d\\u0442\\u0430 \\u043e\\u0434\\u043d\\u0430 \\u0438 \\u0442\\u0430 \\u0436\\u0435 \\u0434\\u0430\\u043c\\u0430, \\u0447\\u0442\\u043e \\u0438 \\u0432 \\u043f\\u0440\\u0435\\u0434. \\u043e\\u0442\\u0437\\u044b\\u0432\\u0435), \\u0441\\u043b\\u043e\\u0436\\u0438\\u043b\\u043e\\u0441\\u044c \\u0432\\u043f\\u0435\\u0447\\u0430\\u0442\\u043b\\u0435\\u043d\\u0438\\u0435, \\u0447\\u0442\\u043e \\u0437\\u0430\\u0438\\u043d\\u0442\\u0435\\u0440\\u0435\\u0441\\u043e\\u0432\\u0430\\u043d\\u043d\\u043e\\u0441\\u0442\\u0438 \\u0432 \\u0431\\u0430\\u043d\\u043a\\u0435\\u0442\\u0435 \\u043d\\u0435\\u0442 \\u0438 \\u0431\\u0443\\u0434\\u0442\\u043e \\u0432\\u0441\\u0451 \\u044d\\u0442\\u043e \\u043d\\u0443\\u0436\\u043d\\u043e \\u0442\\u043e\\u043b\\u044c\\u043a\\u043e \\u043d\\u0430\\u043c (\\u043e\\u0442 \\u0447\\u0435\\u0433\\u043e \\u043e\\u0441\\u0442\\u0430\\u043b\\u0441\\u044f \\u043d\\u0435\\u043f\\u0440\\u0438\\u044f\\u0442\\u043d\\u044b\\u0439 \\u043e\\u0441\\u0430\\u0434\\u043e\\u043a), \\u043d\\u043e \\u0432\\u0438\\u0434\\u044f \\u0440\\u0430\\u0431\\u043e\\u0442\\u0443 \\u043e\\u0444\\u0438\\u0446\\u0438\\u0430\\u043d\\u0442\\u043e\\u0432, \\u0430 \\u0442\\u0430\\u043a\\u0436\\u0435 \\u0432\\u043a\\u0443\\u0441\\u043d\\u043e \\u043f\\u043e\\u043e\\u0431\\u0435\\u0434\\u0430\\u0432, \\u0440\\u0435\\u0448\\u0438\\u043b\\u0438 \\u044d\\u0442\\u043e \\u043d\\u0435 \\u0433\\u043b\\u0430\\u0432\\u043d\\u043e\\u0435. \\u041d\\u0435 \\u043e\\u0431\\u0440\\u0430\\u0442\\u0438\\u043b\\u0438 \\u0432\\u043d\\u0438\\u043c\\u0430\\u0442\\u0435\\u043b\\u044c\\u043d\\u043e \\u043d\\u0430 \\u0442\\u043e\\u0442 \\u043c\\u043e\\u043c\\u0435\\u043d\\u0442, \\u0447\\u0442\\u043e \\u0440\\u0435\\u0441\\u0442\\u043e\\u0440\\u0430\\u043d \\u043d\\u0430\\u0445\\u043e\\u0434\\u0438\\u0442\\u0441\\u044f \\u0432 \\u0436\\u0438\\u043b\\u043e\\u043c \\u0434\\u043e\\u043c\\u0435 \\u0438 \\u0433\\u0440\\u043e\\u043c\\u043a\\u0443\\u044e \\u043c\\u0443\\u0437\\u044b\\u043a\\u0443 \\u043c\\u043e\\u0436\\u043d\\u043e \\u0442\\u043e\\u043b\\u044c\\u043a\\u043e \\u0434\\u043e 23.00., \\u043e\\u0442\\u0441\\u044e\\u0434\\u0430 \\u0442\\u0435\\u043c, \\u043a\\u0442\\u043e \\u0445\\u043e\\u0447\\u0435\\u0442 \\u043f\\u0440\\u0430\\u0437\\u0434\\u043d\\u043e\\u0432\\u0430\\u0442\\u044c \\u0441\\u0432\\u0430\\u0434\\u044c\\u0431\\u0443 \\u043d\\u0430\\u0434\\u043e \\u0443\\u0447\\u0438\\u0442\\u044b\\u0432\\u0430\\u0442\\u044c, \\u0447\\u0442\\u043e \\u0432 23 \\u043b\\u0438\\u0431\\u043e \\u0432\\u0441\\u0435 \\u0437\\u0430\\u043a\\u0430\\u043d\\u0447\\u0438\\u0432\\u0430\\u0435\\u0442\\u0441\\u044f, \\u043b\\u0438\\u0431\\u043e \\u043f\\u0440\\u043e\\u0434\\u043e\\u043b\\u0436\\u0430\\u0435\\u0442\\u0441\\u044f \\u0432 \\u0434\\u0440\\u0443\\u0433\\u043e\\u043c \\u043c\\u0435\\u0441\\u0442\\u0435, \\u0447\\u0442\\u043e \\u043e\\u0447\\u0435\\u043d\\u044c \\u0431\\u044b\\u043b\\u043e \\u0432 \\u043d\\u0430\\u0448\\u0435\\u043c \\u0441\\u043b\\u0443\\u0447\\u0430\\u0435 \\u043d\\u0435\\u0443\\u0434\\u043e\\u0431\\u043d\\u043e \\u0438 \\u0433\\u043e\\u0441\\u0442\\u0438 \\u0434\\u0435\\u0439\\u0441\\u0442\\u0432\\u0438\\u0442\\u0435\\u043b\\u044c\\u043d\\u043e \\u043d\\u0435 \\u0434\\u043e\\u0433\\u0443\\u043b\\u044f\\u043b\\u0438. \\u0427\\u0442\\u043e \\u043a\\u0430\\u0441\\u0430\\u0435\\u0442\\u0441\\u044f \\u0441\\u0430\\u043c\\u043e\\u0433\\u043e \\u0431\\u0430\\u043d\\u043a\\u0435\\u0442\\u0430, \\u0435\\u0434\\u044b \\u0437\\u0430 1620 \\u0440. \\u0434\\u043e\\u0441\\u0442\\u0430\\u0442\\u043e\\u0447\\u043d\\u043e, \\u043d\\u043e \\u0432\\u043a\\u0443\\u0441 \\u0443\\u0436\\u0430\\u0441\\u043d\\u044b\\u0439, \\u0442\\u043e\\u0442 \\u043e\\u0431\\u0435\\u0434 \\u043c\\u044b \\u0442\\u0435\\u043f\\u0435\\u0440\\u044c \\u0432\\u0441\\u043f\\u043e\\u043c\\u0438\\u043d\\u0430\\u0435\\u043c, \\u043a\\u0430\\u043a \\u043b\\u0443\\u0447\\u0448\\u0435\\u0435, \\u0447\\u0442\\u043e \\u0442\\u0430\\u043c \\u043f\\u0440\\u043e\\u0431\\u043e\\u0432\\u0430\\u043b\\u0438. \\u0421\\u0430\\u043b\\u0430\\u0442\\u044b \\u043d\\u0435\\u0432\\u043a\\u0443\\u0441\\u043d\\u044b\\u0435, \\u043a\\u0430\\u043a \\u0438 \\u0441\\u0430\\u043c\\u043e \\u0433\\u043e\\u0440\\u044f\\u0447\\u0435\\u0435, \\u043d\\u0430 \\u043a\\u043e\\u0442\\u043e\\u0440\\u043e\\u0435 \\u0431\\u044b\\u043b\\u0438 \\u0432\\u0441\\u0435 \\u043d\\u0430\\u0434\\u0435\\u0436\\u0434\\u044b, \\u0433\\u0430\\u0440\\u043d\\u0438\\u0440 \\u043d\\u0438\\u043a\\u0430\\u043a\\u043e\\u0439, \\u0440\\u044b\\u0431\\u0430 \\u0441\\u043a\\u0430\\u0437\\u0430\\u043b\\u0438, \\u043a\\u0430\\u043a \\u0432\\u0430\\u0440\\u0435\\u043d\\u0430\\u044f, \\u044f \\u0435\\u043b\\u0430 \\u043a\\u0443\\u0440\\u0438\\u0446\\u0443 - \\u0441\\u0443\\u0445\\u0430\\u044f, \\u043c\\u044f\\u0441\\u043e \\u0441\\u043a\\u0430\\u0437\\u0430\\u043b\\u0438 \\u0436\\u0435\\u0441\\u0442\\u043a\\u043e\\u0435, \\u0432\\u043e\\u043e\\u0431\\u0449\\u0435\\u043c \\u043f\\u043e\\u043b\\u043d\\u043e\\u0435 \\u0440\\u0430\\u0437\\u043e\\u0447\\u0430\\u0440\\u043e\\u0432\\u0430\\u043d\\u0438\\u0435 \\u0432 \\u0435\\u0434\\u0435, \\u043a\\u0430\\u043a \\u0438 \\u0432 \\u0442\\u043e\\u043c, \\u0447\\u0442\\u043e \\u043d\\u0435 \\u0443\\u0441\\u043f\\u0435\\u043b\\u0430 \\u0434\\u0430\\u0436\\u0435 \\u043f\\u043e\\u043f\\u0440\\u043e\\u0431\\u043e\\u0432\\u0430\\u0442\\u044c \\u0436\\u044e\\u043b\\u044c\\u0435\\u043d, \\u0441\\u0442\\u043e\\u044f\\u043b \\u043d\\u0435 \\u0442\\u0440\\u043e\\u043d\\u0443\\u0442\\u044b\\u0439, \\u043a\\u0430\\u043a \\u0432\\u043e \\u0432\\u0440\\u0435\\u043c\\u044f \\u043c\\u043e\\u0435\\u0433\\u043e \\u043e\\u0442\\u0441\\u0443\\u0442\\u0441\\u0442\\u0432\\u0438\\u0435 \\u0435\\u0433\\u043e \\u0443\\u043d\\u0435\\u0441\\u043b\\u0438, \\u0442\\u0430\\u043a \\u0441\\u043a\\u0430\\u0437\\u0430\\u043b\\u0438 \\u0432\\u0441\\u0435 \\u0433\\u043e\\u0441\\u0442\\u0438, \\u0447\\u0442\\u043e \\u043d\\u0435 \\u0443\\u0441\\u043f\\u0435\\u0432 \\u0441\\u044a\\u0435\\u0441\\u0442\\u044c \\u0438 \\u043f\\u043e\\u043b\\u043e\\u0432\\u0438\\u043d\\u044b, \\u0431\\u043b\\u044e\\u0434\\u0430 \\u0438\\u0441\\u0447\\u0435\\u0437\\u0430\\u043b\\u0438. \\u0421\\u043f\\u0430\\u0441\\u0438\\u0431\\u043e \\u0442\\u0430\\u043c\\u0430\\u0434\\u0435, \\u0447\\u0442\\u043e \\u043d\\u0435 \\u0434\\u0430\\u043b\\u0430 \\u0432\\u0440\\u0435\\u043c\\u0435\\u043d\\u0438 \\u043d\\u0430 \\u044d\\u0442\\u043e \\u043e\\u0431\\u0440\\u0430\\u0449\\u0430\\u0442\\u044c \\u0432\\u043d\\u0438\\u043c\\u0430\\u043d\\u0438\\u0435, \\u043d\\u043e \\u0434\\u043b\\u044f \\u043e\\u0441\\u0442\\u0430\\u043b\\u044c\\u043d\\u044b\\u0445 \\u0440\\u0435\\u0448\\u0438\\u043b\\u0430 \\u043f\\u043e\\u0434\\u0435\\u043b\\u0438\\u0442\\u044c\\u0441\\u044f \\u0438\\u043d\\u0444\\u043e\\u0440\\u043c\\u0430\\u0446\\u0438\\u0435\\u0439\"\n        ],\n        \"semantic_type\": \"\",\n        \"description\": \"\"\n      }\n    },\n    {\n      \"column\": \"feedback\",\n      \"properties\": {\n        \"dtype\": \"category\",\n        \"num_unique_values\": 3,\n        \"samples\": [\n          \"positive\",\n          \"neutral\",\n          \"negative\"\n        ],\n        \"semantic_type\": \"\",\n        \"description\": \"\"\n      }\n    }\n  ]\n}"
            }
          },
          "metadata": {},
          "execution_count": 26
        }
      ],
      "source": [
        "# 3. Первые 7 строк набора данных\n",
        "print(\"Первые 7 строк набора данных:\")\n",
        "data.head(7)\n"
      ]
    },
    {
      "cell_type": "markdown",
      "id": "477aa0cf",
      "metadata": {
        "id": "477aa0cf"
      },
      "source": [
        "#### 4. Последние 5 строк набора данных"
      ]
    },
    {
      "cell_type": "code",
      "execution_count": 5,
      "id": "41a02fd9",
      "metadata": {
        "colab": {
          "base_uri": "https://localhost:8080/",
          "height": 221
        },
        "id": "41a02fd9",
        "outputId": "9ea7a8a4-5eef-45ac-be60-d733750fe1e7"
      },
      "outputs": [
        {
          "output_type": "stream",
          "name": "stdout",
          "text": [
            "Последние 5 строк набора данных:\n"
          ]
        },
        {
          "output_type": "execute_result",
          "data": {
            "text/plain": [
              "     Unnamed: 0         rest  \\\n",
              "399         399    Neverland   \n",
              "400         400  The kitchen   \n",
              "401         401        Доски   \n",
              "402         402        Шатер   \n",
              "403         403         Рица   \n",
              "\n",
              "                                                review  feedback  \n",
              "399  Пришли в данное заведение 4 июня 2014 года пок...  negative  \n",
              "400  Заехали с мужем поужинать в пятницу ( 17.01.14...  positive  \n",
              "401  Пришел сегодня с друзьями, отметить день рожде...   neutral  \n",
              "402  Мне так там нравитсяяяя!!!!!!!!! Интерьер модн...  positive  \n",
              "403  Уютная и тёплая домашняя обстановка! Милый и о...  positive  "
            ],
            "text/html": [
              "\n",
              "  <div id=\"df-1ded0730-d116-45f6-9366-93f5028bf126\" class=\"colab-df-container\">\n",
              "    <div>\n",
              "<style scoped>\n",
              "    .dataframe tbody tr th:only-of-type {\n",
              "        vertical-align: middle;\n",
              "    }\n",
              "\n",
              "    .dataframe tbody tr th {\n",
              "        vertical-align: top;\n",
              "    }\n",
              "\n",
              "    .dataframe thead th {\n",
              "        text-align: right;\n",
              "    }\n",
              "</style>\n",
              "<table border=\"1\" class=\"dataframe\">\n",
              "  <thead>\n",
              "    <tr style=\"text-align: right;\">\n",
              "      <th></th>\n",
              "      <th>Unnamed: 0</th>\n",
              "      <th>rest</th>\n",
              "      <th>review</th>\n",
              "      <th>feedback</th>\n",
              "    </tr>\n",
              "  </thead>\n",
              "  <tbody>\n",
              "    <tr>\n",
              "      <th>399</th>\n",
              "      <td>399</td>\n",
              "      <td>Neverland</td>\n",
              "      <td>Пришли в данное заведение 4 июня 2014 года пок...</td>\n",
              "      <td>negative</td>\n",
              "    </tr>\n",
              "    <tr>\n",
              "      <th>400</th>\n",
              "      <td>400</td>\n",
              "      <td>The kitchen</td>\n",
              "      <td>Заехали с мужем поужинать в пятницу ( 17.01.14...</td>\n",
              "      <td>positive</td>\n",
              "    </tr>\n",
              "    <tr>\n",
              "      <th>401</th>\n",
              "      <td>401</td>\n",
              "      <td>Доски</td>\n",
              "      <td>Пришел сегодня с друзьями, отметить день рожде...</td>\n",
              "      <td>neutral</td>\n",
              "    </tr>\n",
              "    <tr>\n",
              "      <th>402</th>\n",
              "      <td>402</td>\n",
              "      <td>Шатер</td>\n",
              "      <td>Мне так там нравитсяяяя!!!!!!!!! Интерьер модн...</td>\n",
              "      <td>positive</td>\n",
              "    </tr>\n",
              "    <tr>\n",
              "      <th>403</th>\n",
              "      <td>403</td>\n",
              "      <td>Рица</td>\n",
              "      <td>Уютная и тёплая домашняя обстановка! Милый и о...</td>\n",
              "      <td>positive</td>\n",
              "    </tr>\n",
              "  </tbody>\n",
              "</table>\n",
              "</div>\n",
              "    <div class=\"colab-df-buttons\">\n",
              "\n",
              "  <div class=\"colab-df-container\">\n",
              "    <button class=\"colab-df-convert\" onclick=\"convertToInteractive('df-1ded0730-d116-45f6-9366-93f5028bf126')\"\n",
              "            title=\"Convert this dataframe to an interactive table.\"\n",
              "            style=\"display:none;\">\n",
              "\n",
              "  <svg xmlns=\"http://www.w3.org/2000/svg\" height=\"24px\" viewBox=\"0 -960 960 960\">\n",
              "    <path d=\"M120-120v-720h720v720H120Zm60-500h600v-160H180v160Zm220 220h160v-160H400v160Zm0 220h160v-160H400v160ZM180-400h160v-160H180v160Zm440 0h160v-160H620v160ZM180-180h160v-160H180v160Zm440 0h160v-160H620v160Z\"/>\n",
              "  </svg>\n",
              "    </button>\n",
              "\n",
              "  <style>\n",
              "    .colab-df-container {\n",
              "      display:flex;\n",
              "      gap: 12px;\n",
              "    }\n",
              "\n",
              "    .colab-df-convert {\n",
              "      background-color: #E8F0FE;\n",
              "      border: none;\n",
              "      border-radius: 50%;\n",
              "      cursor: pointer;\n",
              "      display: none;\n",
              "      fill: #1967D2;\n",
              "      height: 32px;\n",
              "      padding: 0 0 0 0;\n",
              "      width: 32px;\n",
              "    }\n",
              "\n",
              "    .colab-df-convert:hover {\n",
              "      background-color: #E2EBFA;\n",
              "      box-shadow: 0px 1px 2px rgba(60, 64, 67, 0.3), 0px 1px 3px 1px rgba(60, 64, 67, 0.15);\n",
              "      fill: #174EA6;\n",
              "    }\n",
              "\n",
              "    .colab-df-buttons div {\n",
              "      margin-bottom: 4px;\n",
              "    }\n",
              "\n",
              "    [theme=dark] .colab-df-convert {\n",
              "      background-color: #3B4455;\n",
              "      fill: #D2E3FC;\n",
              "    }\n",
              "\n",
              "    [theme=dark] .colab-df-convert:hover {\n",
              "      background-color: #434B5C;\n",
              "      box-shadow: 0px 1px 3px 1px rgba(0, 0, 0, 0.15);\n",
              "      filter: drop-shadow(0px 1px 2px rgba(0, 0, 0, 0.3));\n",
              "      fill: #FFFFFF;\n",
              "    }\n",
              "  </style>\n",
              "\n",
              "    <script>\n",
              "      const buttonEl =\n",
              "        document.querySelector('#df-1ded0730-d116-45f6-9366-93f5028bf126 button.colab-df-convert');\n",
              "      buttonEl.style.display =\n",
              "        google.colab.kernel.accessAllowed ? 'block' : 'none';\n",
              "\n",
              "      async function convertToInteractive(key) {\n",
              "        const element = document.querySelector('#df-1ded0730-d116-45f6-9366-93f5028bf126');\n",
              "        const dataTable =\n",
              "          await google.colab.kernel.invokeFunction('convertToInteractive',\n",
              "                                                    [key], {});\n",
              "        if (!dataTable) return;\n",
              "\n",
              "        const docLinkHtml = 'Like what you see? Visit the ' +\n",
              "          '<a target=\"_blank\" href=https://colab.research.google.com/notebooks/data_table.ipynb>data table notebook</a>'\n",
              "          + ' to learn more about interactive tables.';\n",
              "        element.innerHTML = '';\n",
              "        dataTable['output_type'] = 'display_data';\n",
              "        await google.colab.output.renderOutput(dataTable, element);\n",
              "        const docLink = document.createElement('div');\n",
              "        docLink.innerHTML = docLinkHtml;\n",
              "        element.appendChild(docLink);\n",
              "      }\n",
              "    </script>\n",
              "  </div>\n",
              "\n",
              "\n",
              "    <div id=\"df-3518de91-2c84-4003-bfd4-17383c49ae3a\">\n",
              "      <button class=\"colab-df-quickchart\" onclick=\"quickchart('df-3518de91-2c84-4003-bfd4-17383c49ae3a')\"\n",
              "                title=\"Suggest charts\"\n",
              "                style=\"display:none;\">\n",
              "\n",
              "<svg xmlns=\"http://www.w3.org/2000/svg\" height=\"24px\"viewBox=\"0 0 24 24\"\n",
              "     width=\"24px\">\n",
              "    <g>\n",
              "        <path d=\"M19 3H5c-1.1 0-2 .9-2 2v14c0 1.1.9 2 2 2h14c1.1 0 2-.9 2-2V5c0-1.1-.9-2-2-2zM9 17H7v-7h2v7zm4 0h-2V7h2v10zm4 0h-2v-4h2v4z\"/>\n",
              "    </g>\n",
              "</svg>\n",
              "      </button>\n",
              "\n",
              "<style>\n",
              "  .colab-df-quickchart {\n",
              "      --bg-color: #E8F0FE;\n",
              "      --fill-color: #1967D2;\n",
              "      --hover-bg-color: #E2EBFA;\n",
              "      --hover-fill-color: #174EA6;\n",
              "      --disabled-fill-color: #AAA;\n",
              "      --disabled-bg-color: #DDD;\n",
              "  }\n",
              "\n",
              "  [theme=dark] .colab-df-quickchart {\n",
              "      --bg-color: #3B4455;\n",
              "      --fill-color: #D2E3FC;\n",
              "      --hover-bg-color: #434B5C;\n",
              "      --hover-fill-color: #FFFFFF;\n",
              "      --disabled-bg-color: #3B4455;\n",
              "      --disabled-fill-color: #666;\n",
              "  }\n",
              "\n",
              "  .colab-df-quickchart {\n",
              "    background-color: var(--bg-color);\n",
              "    border: none;\n",
              "    border-radius: 50%;\n",
              "    cursor: pointer;\n",
              "    display: none;\n",
              "    fill: var(--fill-color);\n",
              "    height: 32px;\n",
              "    padding: 0;\n",
              "    width: 32px;\n",
              "  }\n",
              "\n",
              "  .colab-df-quickchart:hover {\n",
              "    background-color: var(--hover-bg-color);\n",
              "    box-shadow: 0 1px 2px rgba(60, 64, 67, 0.3), 0 1px 3px 1px rgba(60, 64, 67, 0.15);\n",
              "    fill: var(--button-hover-fill-color);\n",
              "  }\n",
              "\n",
              "  .colab-df-quickchart-complete:disabled,\n",
              "  .colab-df-quickchart-complete:disabled:hover {\n",
              "    background-color: var(--disabled-bg-color);\n",
              "    fill: var(--disabled-fill-color);\n",
              "    box-shadow: none;\n",
              "  }\n",
              "\n",
              "  .colab-df-spinner {\n",
              "    border: 2px solid var(--fill-color);\n",
              "    border-color: transparent;\n",
              "    border-bottom-color: var(--fill-color);\n",
              "    animation:\n",
              "      spin 1s steps(1) infinite;\n",
              "  }\n",
              "\n",
              "  @keyframes spin {\n",
              "    0% {\n",
              "      border-color: transparent;\n",
              "      border-bottom-color: var(--fill-color);\n",
              "      border-left-color: var(--fill-color);\n",
              "    }\n",
              "    20% {\n",
              "      border-color: transparent;\n",
              "      border-left-color: var(--fill-color);\n",
              "      border-top-color: var(--fill-color);\n",
              "    }\n",
              "    30% {\n",
              "      border-color: transparent;\n",
              "      border-left-color: var(--fill-color);\n",
              "      border-top-color: var(--fill-color);\n",
              "      border-right-color: var(--fill-color);\n",
              "    }\n",
              "    40% {\n",
              "      border-color: transparent;\n",
              "      border-right-color: var(--fill-color);\n",
              "      border-top-color: var(--fill-color);\n",
              "    }\n",
              "    60% {\n",
              "      border-color: transparent;\n",
              "      border-right-color: var(--fill-color);\n",
              "    }\n",
              "    80% {\n",
              "      border-color: transparent;\n",
              "      border-right-color: var(--fill-color);\n",
              "      border-bottom-color: var(--fill-color);\n",
              "    }\n",
              "    90% {\n",
              "      border-color: transparent;\n",
              "      border-bottom-color: var(--fill-color);\n",
              "    }\n",
              "  }\n",
              "</style>\n",
              "\n",
              "      <script>\n",
              "        async function quickchart(key) {\n",
              "          const quickchartButtonEl =\n",
              "            document.querySelector('#' + key + ' button');\n",
              "          quickchartButtonEl.disabled = true;  // To prevent multiple clicks.\n",
              "          quickchartButtonEl.classList.add('colab-df-spinner');\n",
              "          try {\n",
              "            const charts = await google.colab.kernel.invokeFunction(\n",
              "                'suggestCharts', [key], {});\n",
              "          } catch (error) {\n",
              "            console.error('Error during call to suggestCharts:', error);\n",
              "          }\n",
              "          quickchartButtonEl.classList.remove('colab-df-spinner');\n",
              "          quickchartButtonEl.classList.add('colab-df-quickchart-complete');\n",
              "        }\n",
              "        (() => {\n",
              "          let quickchartButtonEl =\n",
              "            document.querySelector('#df-3518de91-2c84-4003-bfd4-17383c49ae3a button');\n",
              "          quickchartButtonEl.style.display =\n",
              "            google.colab.kernel.accessAllowed ? 'block' : 'none';\n",
              "        })();\n",
              "      </script>\n",
              "    </div>\n",
              "    </div>\n",
              "  </div>\n"
            ],
            "application/vnd.google.colaboratory.intrinsic+json": {
              "type": "dataframe",
              "summary": "{\n  \"name\": \"data\",\n  \"rows\": 5,\n  \"fields\": [\n    {\n      \"column\": \"Unnamed: 0\",\n      \"properties\": {\n        \"dtype\": \"number\",\n        \"std\": 1,\n        \"min\": 399,\n        \"max\": 403,\n        \"num_unique_values\": 5,\n        \"samples\": [\n          400,\n          403,\n          401\n        ],\n        \"semantic_type\": \"\",\n        \"description\": \"\"\n      }\n    },\n    {\n      \"column\": \"rest\",\n      \"properties\": {\n        \"dtype\": \"string\",\n        \"num_unique_values\": 5,\n        \"samples\": [\n          \"The kitchen\",\n          \"\\u0420\\u0438\\u0446\\u0430\",\n          \"\\u0414\\u043e\\u0441\\u043a\\u0438\"\n        ],\n        \"semantic_type\": \"\",\n        \"description\": \"\"\n      }\n    },\n    {\n      \"column\": \"review\",\n      \"properties\": {\n        \"dtype\": \"string\",\n        \"num_unique_values\": 5,\n        \"samples\": [\n          \"\\u0417\\u0430\\u0435\\u0445\\u0430\\u043b\\u0438 \\u0441 \\u043c\\u0443\\u0436\\u0435\\u043c \\u043f\\u043e\\u0443\\u0436\\u0438\\u043d\\u0430\\u0442\\u044c \\u0432 \\u043f\\u044f\\u0442\\u043d\\u0438\\u0446\\u0443 ( 17.01.14.) \\u0432 23:00. \\u041f\\u0435\\u0440\\u0432\\u044b\\u043c \\u043d\\u0430\\u0441 \\u0432\\u0441\\u0442\\u0440\\u0435\\u0442\\u0438\\u043b \\u043f\\u0430\\u0440\\u043a\\u043e\\u0432\\u0449\\u0438\\u043a, \\u043f\\u043e\\u043c\\u043e\\u0433 \\u043f\\u0440\\u0438\\u043f\\u0430\\u0440\\u043a\\u043e\\u0432\\u0430\\u0442\\u044c\\u0441\\u044f \\u0438 \\u0434\\u0430\\u0436\\u0435 \\u043e\\u0442\\u043a\\u0440\\u044b\\u043b \\u0434\\u0432\\u0435\\u0440\\u0438 \\u0438 \\u0432\\u0435\\u0436\\u043b\\u0438\\u0432\\u043e \\u043d\\u0430\\u0441 \\u043f\\u043e\\u043f\\u0440\\u0438\\u0432\\u0435\\u0442\\u0441\\u0442\\u0432\\u043e\\u0432\\u0430\\u043b. \\u0418\\u043d\\u0442\\u0435\\u0440\\u044c\\u0435\\u0440 \\u0440\\u0435\\u0441\\u0442\\u043e\\u0440\\u0430\\u043d\\u0430 \\u043c\\u043d\\u0435 \\u043d\\u0440\\u0430\\u0432\\u0438\\u0442\\u0441\\u044f, \\u044f \\u043b\\u044e\\u0431\\u043b\\u044e \\u0442\\u0430\\u043a\\u043e\\u0439 \\u0434\\u0438\\u0437\\u0430\\u0439\\u043d. \\u0412\\u0441\\u0435 \\u043f\\u0440\\u043e\\u0441\\u0442\\u043e \\u0438 \\u0441\\u043e \\u0432\\u043a\\u0443\\u0441\\u043e\\u043c, \\u043c\\u043d\\u043e\\u0433\\u043e \\u0438\\u043d\\u0442\\u0435\\u0440\\u0435\\u0441\\u043d\\u044b\\u0445 \\u043c\\u0435\\u043b\\u043e\\u0447\\u0435\\u0439. \\u041d\\u0430\\u0441 \\u043e\\u0431\\u0441\\u043b\\u0443\\u0436\\u0438\\u0432\\u0430\\u043b\\u0430 \\u043f\\u0440\\u0438\\u044f\\u0442\\u043d\\u0430\\u044f \\u0434\\u0435\\u0432\\u0443\\u0448\\u043a\\u0430. \\u041a \\u0441\\u043e\\u0436\\u0430\\u043b\\u0435\\u043d\\u0438\\u044e \\u043d\\u0435 \\u0437\\u0430\\u043f\\u043e\\u043c\\u043d\\u0438\\u043b\\u0438 \\u0435\\u0435 \\u0438\\u043c\\u044f. \\u041e\\u043d\\u0430 \\u0431\\u044b\\u043b\\u0430 \\u0432\\u043d\\u0438\\u043c\\u0430\\u0442\\u0435\\u043b\\u044c\\u043d\\u0430 \\u0438 \\u043d\\u0435\\u043d\\u0430\\u0432\\u044f\\u0437\\u0447\\u0438\\u0432\\u0430 \\u0438 \\u043f\\u043e\\u043c\\u043e\\u0433\\u043b\\u0430 \\u043c\\u043d\\u0435 \\u0441 \\u0432\\u044b\\u0431\\u043e\\u0440\\u043e\\u043c \\u043f\\u0430\\u0441\\u0442\\u044b, \\u043f\\u043e\\u0434\\u0440\\u043e\\u0431\\u043d\\u043e \\u0440\\u0430\\u0441\\u0441\\u043a\\u0430\\u0437\\u0430\\u0432 \\u0441\\u043e\\u0441\\u0442\\u0430\\u0432 \\u0438 \\u0441\\u043f\\u043e\\u0441\\u043e\\u0431 \\u043f\\u0440\\u0438\\u0433\\u043e\\u0442\\u043e\\u0432\\u043b\\u0435\\u043d\\u0438\\u044f \\u0431\\u043b\\u044e\\u0434\\u0430. \\u041c\\u0435\\u043d\\u044e \\u0440\\u0435\\u0441\\u0442\\u043e\\u0440\\u0430\\u043d\\u0430 \\u0431\\u043e\\u043b\\u044c\\u0448\\u043e\\u0435 \\u0432 \\u0432\\u0438\\u0434\\u0435 \\u0436\\u0443\\u0440\\u043d\\u0430\\u043b\\u0430, \\u0435\\u0441\\u0442\\u044c \\u0432\\u0441\\u0435 \\u0447\\u0442\\u043e \\u0443\\u0433\\u043e\\u0434\\u043d\\u043e....\\u0432\\u0430\\u0440\\u0435\\u043d\\u0438\\u043a\\u0438, \\u0441\\u0443\\u0448\\u0438, \\u0432\\u043e\\u043a, \\u043f\\u0430\\u0441\\u0442\\u044b \\u0438 \\u0442.\\u0434. \\u0414\\u0438\\u0437\\u0430\\u0439\\u043d \\u043c\\u0435\\u043d\\u044e \\u0438\\u043d\\u0442\\u0435\\u0440\\u0435\\u0441\\u043d\\u044b\\u0439, \\u0434\\u0438\\u0437\\u0430\\u0439\\u043d\\u0435\\u0440\\u044b \\u043c\\u043e\\u043b\\u043e\\u0434\\u0446\\u044b! \\u042f \\u0435\\u043b\\u0430 \\u043a\\u0440\\u0435\\u043c \\u0441\\u0443\\u043f \\u0438\\u0437 \\u0431\\u0435\\u043b\\u044b\\u0445 \\u0433\\u0440\\u0438\\u0431\\u043e\\u0432 (\\u043f\\u0440\\u0438\\u043c\\u0435\\u0440\\u043d\\u043e 350 \\u0440.) \\u0438 \\u043f\\u0435\\u043d\\u043d\\u0435 \\u0441 \\u0443\\u0442\\u043a\\u043e\\u0439 ( 450 \\u0440.). \\u0421\\u0443\\u043f \\u0431\\u044b\\u043b \\u0432\\u043a\\u0443\\u0441\\u043d\\u044b\\u0439, \\u043d\\u043e \\u043f\\u0430\\u0441\\u0442\\u0430 \\u0431\\u044b\\u043b\\u0430 \\u043f\\u0440\\u043e\\u0441\\u0442\\u043e \\u0431\\u043e\\u0436\\u0435\\u0441\\u0442\\u0432\\u0435\\u043d\\u043d\\u0430. \\u041c\\u043d\\u043e\\u0433\\u043e \\u0441\\u043e\\u0443\\u0441\\u0430, \\u043c\\u044f\\u0433\\u043a\\u043e\\u0435 \\u043c\\u044f\\u0441\\u043e \\u0443\\u0442\\u043a\\u0438. \\u041f\\u0430\\u0441\\u0442\\u043e\\u0439 \\u044f \\u0431\\u044b\\u043b\\u0430 \\u043e\\u0447\\u0435\\u043d\\u044c \\u0434\\u043e\\u0432\\u043e\\u043b\\u044c\\u043d\\u0430))) \\u041c\\u0443\\u0436 \\u0435\\u043b \\u0441\\u0430\\u043b\\u0430\\u0442 \\u0441 \\u0433\\u043e\\u0432\\u044f\\u0434\\u0438\\u043d\\u043e\\u0439 \\u0438 \\u043a\\u0430\\u0440\\u043f\\u0430\\u0447\\u0447\\u043e ( \\u0446\\u0435\\u043d\\u044b \\u044f \\u043d\\u0435 \\u043f\\u043e\\u043c\\u043d\\u044e). \\u041d\\u0430\\u043c \\u0432\\u0441\\u0435 \\u043e\\u0447\\u0435\\u043d\\u044c \\u043f\\u043e\\u043d\\u0440\\u0430\\u0432\\u0438\\u043b\\u043e\\u0441\\u044c. \\u041e\\u0442 \\u0432\\u0438\\u0437\\u0438\\u0442\\u0430 \\u043c\\u044b \\u043f\\u043e\\u043b\\u0443\\u0447\\u0438\\u043b\\u0438 \\u043f\\u043e\\u043b\\u043e\\u0436\\u0438\\u0442\\u0435\\u043b\\u044c\\u043d\\u044b\\u0435 \\u044d\\u043c\\u043e\\u0446\\u0438\\u0438...\\u043f\\u043e\\u0431\\u043e\\u043b\\u0442\\u0430\\u043b\\u0438 \\u0438 \\u0432\\u043a\\u0443\\u0441\\u043d\\u043e \\u043f\\u043e\\u0435\\u043b\\u0438! \\u0411\\u0443\\u0434\\u0435\\u043c \\u043f\\u0440\\u0438\\u0435\\u0437\\u0436\\u0430\\u0442\\u044c \\u0435\\u0449\\u0435 \\u0432 \\u044d\\u0442\\u043e\\u0442 \\u0440\\u0435\\u0441\\u0442\\u043e\\u0440\\u0430\\u043d. \\u0421\\u043f\\u0430\\u0441\\u0438\\u0431\\u043e \\u043f\\u043e\\u0432\\u0430\\u0440\\u0430\\u043c \\u0438 \\u043f\\u0435\\u0440\\u0441\\u043e\\u043d\\u0430\\u043b\\u0443 \\u0437\\u0430 \\u0445\\u043e\\u0440\\u043e\\u0448\\u0438\\u0435 \\u044d\\u043c\\u043e\\u0446\\u0438\\u0438!\",\n          \"\\u0423\\u044e\\u0442\\u043d\\u0430\\u044f \\u0438 \\u0442\\u0451\\u043f\\u043b\\u0430\\u044f \\u0434\\u043e\\u043c\\u0430\\u0448\\u043d\\u044f\\u044f \\u043e\\u0431\\u0441\\u0442\\u0430\\u043d\\u043e\\u0432\\u043a\\u0430! \\u041c\\u0438\\u043b\\u044b\\u0439 \\u0438 \\u043e\\u0442\\u0437\\u044b\\u0432\\u0447\\u0438\\u0432\\u044b\\u0439 \\u043f\\u0435\\u0440\\u0441\\u043e\\u043d\\u0430\\u043b, \\u043e\\u0447\\u0435\\u043d\\u044c \\u0432\\u043d\\u0438\\u043c\\u0430\\u0442\\u0435\\u043b\\u044c\\u043d\\u043e\\u0435 \\u043e\\u0431\\u0441\\u043b\\u0443\\u0436\\u0438\\u0432\\u0430\\u043d\\u0438\\u0435. \\u0415\\u0434\\u0430, \\u0441\\u0442\\u043e\\u0438\\u0442 \\u043b\\u0438 \\u0433\\u043e\\u0432\\u043e\\u0440\\u0438\\u0442\\u044c, \\u0447\\u0442\\u043e \\u0442\\u0440\\u0443\\u0434\\u043d\\u043e \\u0443\\u0434\\u0438\\u0432\\u0438\\u0442\\u044c \\u0447\\u0435\\u043b\\u043e\\u0432\\u0435\\u043a\\u0430, \\u043f\\u0440\\u0438\\u0432\\u044b\\u043a\\u0448\\u0435\\u0433\\u043e \\u0438 \\u0437\\u043d\\u0430\\u044e\\u0449\\u0435\\u0433\\u043e \\u0433\\u0440\\u0443\\u0437\\u0438\\u043d\\u0441\\u043a\\u0443\\u044e \\u043a\\u0443\\u0445\\u043d\\u044e. \\u041c\\u043e\\u0433\\u0443 \\u0441\\u043a\\u0430\\u0437\\u0430\\u0442\\u044c \\u043e\\u0434\\u043d\\u043e, \\u044f \\u0431\\u044b\\u043b\\u0430 \\u043f\\u0440\\u0438\\u044f\\u0442\\u043d\\u043e \\u0443\\u0434\\u0438\\u0432\\u043b\\u0435\\u043d\\u0430! \\u0421\\u043f\\u0430\\u0441\\u0438\\u0431\\u043e \\u043f\\u0435\\u0440\\u0441\\u043e\\u043d\\u0430\\u043b\\u0443, \\u0435\\u043c\\u0443 \\u0443\\u0434\\u0430\\u0435\\u0442\\u0441\\u044f \\u0441\\u043e\\u0437\\u0434\\u0430\\u0442\\u044c \\u043e\\u0449\\u0443\\u0449\\u0435\\u043d\\u0438\\u0435, \\u0447\\u0442\\u043e \\u044d\\u0442\\u043e\\u0442 \\u0440\\u0435\\u0441\\u0442\\u043e\\u0440\\u0430\\u043d - \\u043e\\u0441\\u043e\\u0431\\u0435\\u043d\\u043d\\u043e\\u0435 \\u043c\\u0435\\u0441\\u0442\\u043e \\u0433\\u0434\\u0435 \\u043a\\u0430\\u0436\\u0434\\u044b\\u0439 \\u0447\\u0443\\u0432\\u0441\\u0442\\u0432\\u0443\\u0435\\u0442 \\u0441\\u0435\\u0431\\u044f \\u0434\\u043e\\u043b\\u0433\\u043e\\u0436\\u0434\\u0430\\u043d\\u043d\\u044b\\u043c \\u0433\\u043e\\u0441\\u0442\\u0435\\u043c!)))))))))))\",\n          \"\\u041f\\u0440\\u0438\\u0448\\u0435\\u043b \\u0441\\u0435\\u0433\\u043e\\u0434\\u043d\\u044f \\u0441 \\u0434\\u0440\\u0443\\u0437\\u044c\\u044f\\u043c\\u0438, \\u043e\\u0442\\u043c\\u0435\\u0442\\u0438\\u0442\\u044c \\u0434\\u0435\\u043d\\u044c \\u0440\\u043e\\u0436\\u0434\\u0435\\u043d\\u0438\\u044f. \\u043d\\u0430 \\u0432\\u0445\\u043e\\u0434\\u0435 \\u0441\\u043a\\u0430\\u0437\\u0430\\u043b\\u0438 \\u0447\\u0442\\u043e \\u0441\\u0432\\u043e\\u0431\\u043e\\u0434\\u043d\\u044b\\u0445 \\u0441\\u0442\\u043e\\u043b\\u0438\\u043a\\u043e\\u0432 \\u043d\\u0435\\u0442, \\u0435\\u0441\\u0442\\u044c \\u0442\\u043e\\u043b\\u044c\\u043a\\u043e \\u043c\\u0435\\u0441\\u0442\\u0430 \\u0437\\u0430 \\u0431\\u0430\\u0440\\u043d\\u044b\\u043c\\u0438 \\u0441\\u0442\\u043e\\u0439\\u043a\\u0430\\u043c\\u0438(\\u043d\\u043e \\u043d\\u0438\\u043a\\u0442\\u043e \\u043d\\u0435 \\u0441\\u043a\\u0430\\u0437\\u0430\\u043b \\u0447\\u0442\\u043e \\u0432 \\u0442\\u0430\\u043a\\u043e\\u043c \\u0441\\u043b\\u0443\\u0447\\u0430\\u0435 \\u0437\\u0430\\u043a\\u0430\\u0437\\u0430\\u0442\\u044c \\u043f\\u043e\\u0447\\u0442\\u0438 \\u043d\\u0438\\u0447\\u0435\\u0433\\u043e \\u043d\\u0435\\u043b\\u044c\\u0437\\u044f). \\u043d\\u0443 \\u0437\\u043d\\u0430\\u0447\\u0438\\u0442 \\u0437\\u0430\\u043f\\u043b\\u0430\\u0442\\u0438\\u043b\\u0438 \\u0437\\u0430 \\u0432\\u0445\\u043e\\u0434 \\u043f\\u043e 150 \\u0440 \\u0441 \\u0447\\u0435\\u043b\\u043e\\u0432\\u0435\\u043a\\u0430, \\u0437\\u0430\\u0448\\u043b\\u0438 \\u0438 \\u0441\\u0435\\u043b\\u0438 \\u0433\\u0434\\u0435 \\u0431\\u044b\\u043b\\u043e \\u043c\\u0435\\u0441\\u0442\\u043e. \\u043f\\u043e\\u0442\\u043e\\u043c \\u043f\\u044b\\u0442\\u0430\\u043b\\u0438\\u0441\\u044c \\u0437\\u0430\\u043a\\u0430\\u0437\\u0430\\u0442\\u044c \\u043f\\u0438\\u0432\\u0430 \\u0443 \\u0431\\u0430\\u0440\\u043c\\u0435\\u043d\\u0430. \\u0441\\u043d\\u0430\\u0447\\u0430\\u043b\\u0430 \\u043e\\u043d \\u0434\\u043e\\u043b\\u0433\\u043e \\u0445\\u043e\\u0434\\u0438\\u043b \\u043a\\u0443\\u0434\\u0430 \\u0442\\u043e, \\u043e\\u0431\\u0441\\u043b\\u0443\\u0436\\u0438\\u0432\\u0430\\u043b \\u0434\\u0440\\u0443\\u0433\\u0438\\u0445 \\u043f\\u043e\\u0441\\u0435\\u0442\\u0438\\u0442\\u0435\\u043b\\u0435\\u0439. \\u043f\\u043e\\u0441\\u043b\\u0435 \\u0441\\u043a\\u0430\\u0437\\u0430\\u043b \\u0447\\u0442\\u043e \\u043f\\u0438\\u0432\\u043e \\u0438 \\u0434\\u0440\\u0443\\u0433\\u0438\\u0435 \\u043d\\u0430\\u043f\\u0438\\u0442\\u043a\\u0438 \\u043c\\u043e\\u0436\\u043d\\u043e \\u0437\\u0430\\u043a\\u0430\\u0437\\u0430\\u0442\\u044c \\u0442\\u043e\\u043b\\u044c\\u043a\\u043e \\u0443 \\u043e\\u0444\\u0438\\u0446\\u0438\\u0430\\u043d\\u0442\\u043e\\u0432. \\u041d\\u0430\\u0448\\u043b\\u0438 \\u043e\\u0444\\u0438\\u0446\\u0438\\u0430\\u043d\\u0442\\u043a\\u0443, \\u043e\\u043d\\u0430 \\u0441\\u043a\\u0430\\u0437\\u0430\\u043b\\u0430 \\u0447\\u0442\\u043e \\u0447\\u0442\\u043e\\u0431\\u044b \\u0447\\u0442\\u043e-\\u0442\\u043e \\u0437\\u0430\\u043a\\u0430\\u0437\\u0430\\u0442\\u044c \\u043d\\u0430\\u0434\\u043e \\u0438\\u043c\\u0435\\u0442\\u044c \\u0441\\u0442\\u043e\\u043b\\u0438\\u043a, \\u0442.\\u043a. \\u0443 \\u043d\\u0430\\u0441 \\u0435\\u0433\\u043e \\u043d\\u0435\\u0442, \\u0435\\u0434\\u0438\\u043d\\u0441\\u0442\\u0432\\u0435\\u043d\\u043d\\u044b\\u0439 \\u0432\\u0430\\u0440\\u0438\\u0430\\u043d\\u0442 \\u044d\\u0442\\u043e \\u043f\\u043e\\u043a\\u0443\\u043f\\u0430\\u0442\\u044c \\u043a\\u0440\\u0435\\u043f\\u043a\\u0438\\u0435 \\u043d\\u0430\\u043f\\u0438\\u0442\\u043a\\u0438 \\u0443 \\u0431\\u0430\\u0440\\u043c\\u0435\\u043d\\u0430. \\u043d\\u0430\\u043c \\u044d\\u0442\\u043e \\u043d\\u0435 \\u043d\\u0443\\u0436\\u043d\\u043e \\u0431\\u044b\\u043b\\u043e. \\u041f\\u043e\\u0442\\u043e\\u043c \\u043e\\u0431\\u0440\\u0430\\u0442\\u0438\\u043b\\u0438\\u0441\\u044c \\u043a \\u0436\\u0435\\u043d\\u0449\\u0438\\u043d\\u0435 \\u043a\\u043e\\u0442\\u043e\\u0440\\u0430\\u044f \\u043d\\u0430\\u0441 \\u0432\\u043f\\u0443\\u0441\\u043a\\u0430\\u043b\\u0430. \\u043e\\u043d\\u0430 \\u0441\\u043a\\u0430\\u0437\\u0430\\u043b\\u0430 \\u0447\\u0442\\u043e \\u044f\\u043a\\u043e\\u0431\\u044b \\u043d\\u0430\\u0441 \\u043f\\u0440\\u0435\\u0434\\u0443\\u043f\\u0440\\u0435\\u0436\\u0434\\u0430\\u043b\\u0430 \\u043e \\u0442\\u043e\\u043c \\u0447\\u0442\\u043e \\u043d\\u0438\\u0447\\u0435\\u0433\\u043e \\u043d\\u0435\\u043b\\u044c\\u0437\\u044f \\u0437\\u0430\\u043a\\u0430\\u0437\\u0430\\u0442\\u044c. \\u043f\\u043e\\u0442\\u043e\\u043c \\u043e\\u043d\\u0430 \\u0441\\u043f\\u0440\\u043e\\u0441\\u0438\\u043b\\u0430 \\u0441\\u043a\\u043e\\u043b\\u044c\\u043a\\u043e \\u043d\\u0430\\u0441 \\u0447\\u0435\\u043b\\u043e\\u0432\\u0435\\u043a \\u0438 \\u043f\\u0440\\u0435\\u0434\\u043b\\u043e\\u0436\\u0438\\u043b\\u0430 \\u0441\\u0442\\u043e\\u043b\\u0438\\u043a \\u0437\\u0430 400 \\u0440. \\u043c\\u044b \\u043e\\u0442\\u043a\\u0430\\u0437\\u0430\\u043b\\u0438\\u0441\\u044c \\u0438 \\u0443\\u0448\\u043b\\u0438. \\u0431\\u043e\\u043b\\u044c\\u0448\\u0435 \\u0442\\u0443\\u0434\\u0430 \\u043d\\u0438\\u043a\\u0442\\u043e \\u0438\\u0437 \\u043d\\u0430\\u0441 \\u043d\\u0435 \\u043f\\u0440\\u0438\\u0434\\u0435\\u0442 \\u0438 \\u043d\\u0438\\u043a\\u043e\\u043c\\u0443 \\u043d\\u0435 \\u043f\\u043e\\u0441\\u043e\\u0432\\u0435\\u0442\\u0443\\u0435\\u0442. \\u044f \\u0442\\u043e\\u0436\\u0435 \\u043d\\u0435 \\u0440\\u0435\\u043a\\u043e\\u043c\\u0435\\u043d\\u0434\\u0443\\u044e. \\u043e\\u0431\\u0441\\u043b\\u0443\\u0436\\u0438\\u0432\\u0430\\u044e\\u0449\\u0438\\u0439 \\u043f\\u0435\\u0440\\u0441\\u043e\\u043d\\u0430\\u043b \\u0434\\u0435\\u0439\\u0441\\u0442\\u0432\\u0438\\u0442\\u0435\\u043b\\u044c\\u043d\\u043e \\u0445\\u0430\\u043c\\u043e\\u0432\\u0430\\u0442, \\u0438 \\u043f\\u044b\\u0442\\u0430\\u0435\\u0442\\u0441\\u044f \\u043e\\u0431\\u043c\\u0430\\u043d\\u0443\\u0442\\u044c. \\u044d\\u043a\\u043e\\u043d\\u043e\\u043c\\u044c\\u0442\\u0435 \\u0441\\u0432\\u043e\\u0435 \\u0432\\u0440\\u0435\\u043c\\u044f, \\u043d\\u0435\\u0440\\u0432\\u044b \\u0438 \\u0434\\u0435\\u043d\\u044c\\u0433\\u0438.\"\n        ],\n        \"semantic_type\": \"\",\n        \"description\": \"\"\n      }\n    },\n    {\n      \"column\": \"feedback\",\n      \"properties\": {\n        \"dtype\": \"string\",\n        \"num_unique_values\": 3,\n        \"samples\": [\n          \"negative\",\n          \"positive\",\n          \"neutral\"\n        ],\n        \"semantic_type\": \"\",\n        \"description\": \"\"\n      }\n    }\n  ]\n}"
            }
          },
          "metadata": {},
          "execution_count": 5
        }
      ],
      "source": [
        "# 4. Последние 5 строк набора данных\n",
        "print(\"Последние 5 строк набора данных:\")\n",
        "data.tail(5)\n"
      ]
    },
    {
      "cell_type": "markdown",
      "id": "32646235",
      "metadata": {
        "id": "32646235"
      },
      "source": [
        "#### 5. Поля набора данных"
      ]
    },
    {
      "cell_type": "code",
      "execution_count": 27,
      "id": "2ba242a6",
      "metadata": {
        "colab": {
          "base_uri": "https://localhost:8080/"
        },
        "id": "2ba242a6",
        "outputId": "e5846c77-d017-4850-f583-04166a64bfb0"
      },
      "outputs": [
        {
          "output_type": "stream",
          "name": "stdout",
          "text": [
            "Поля набора данных:\n",
            "['Unnamed: 0', 'rest', 'review', 'feedback']\n"
          ]
        }
      ],
      "source": [
        "# 5. Поля набора данных\n",
        "print(\"Поля набора данных:\")\n",
        "print(data.columns.tolist())\n"
      ]
    },
    {
      "cell_type": "markdown",
      "id": "7ef5002e",
      "metadata": {
        "id": "7ef5002e"
      },
      "source": [
        "#### 6. Размер набора данных (количество полей и строк)"
      ]
    },
    {
      "cell_type": "code",
      "execution_count": 28,
      "id": "ec03d13f",
      "metadata": {
        "colab": {
          "base_uri": "https://localhost:8080/"
        },
        "id": "ec03d13f",
        "outputId": "3b5a4b8d-d817-4af5-f2a6-e30f732f9d7f"
      },
      "outputs": [
        {
          "output_type": "stream",
          "name": "stdout",
          "text": [
            "Размер набора данных: (404, 4)\n",
            "Количество строк: 404\n",
            "Количество столбцов: 4\n"
          ]
        }
      ],
      "source": [
        "# 6. Размер набора данных (количество полей и строк)\n",
        "print(f\"Размер набора данных: {data.shape}\")\n",
        "print(f\"Количество строк: {data.shape[0]}\")\n",
        "print(f\"Количество столбцов: {data.shape[1]}\")\n"
      ]
    },
    {
      "cell_type": "markdown",
      "id": "de6fe170",
      "metadata": {
        "id": "de6fe170"
      },
      "source": [
        "#### 7. Опишите поля набора данных в формате: название поля, тип данных, назначение поля"
      ]
    },
    {
      "cell_type": "code",
      "execution_count": 29,
      "id": "fc5e47c4",
      "metadata": {
        "colab": {
          "base_uri": "https://localhost:8080/"
        },
        "id": "fc5e47c4",
        "outputId": "04044d3a-c7b0-4769-b0b0-047ff50a726b"
      },
      "outputs": [
        {
          "output_type": "stream",
          "name": "stdout",
          "text": [
            "Описание полей набора данных:\n",
            "Поле: Unnamed: 0\n",
            "Тип данных: int64\n",
            "Назначение: Индексное поле\n",
            "--------------------------------------------------\n",
            "Поле: rest\n",
            "Тип данных: object\n",
            "Назначение: Название ресторана\n",
            "--------------------------------------------------\n",
            "Поле: review\n",
            "Тип данных: object\n",
            "Назначение: Текст отзыва пользователя\n",
            "--------------------------------------------------\n",
            "Поле: feedback\n",
            "Тип данных: object\n",
            "Назначение: Целевая переменная - тональность отзыва\n",
            "--------------------------------------------------\n"
          ]
        }
      ],
      "source": [
        "# 7. Опишите поля набора данных в формате: название поля, тип данных, назначение поля\n",
        "print(\"Описание полей набора данных:\")\n",
        "for column in data.columns:\n",
        "    dtype = data[column].dtype\n",
        "    print(f\"Поле: {column}\")\n",
        "    print(f\"Тип данных: {dtype}\")\n",
        "    if column == 'Unnamed: 0':\n",
        "        print(\"Назначение: Индексное поле\")\n",
        "    elif column == 'rest':\n",
        "        print(\"Назначение: Название ресторана\")\n",
        "    elif column == 'review':\n",
        "        print(\"Назначение: Текст отзыва пользователя\")\n",
        "    elif column == 'feedback':\n",
        "        print(\"Назначение: Целевая переменная - тональность отзыва\")\n",
        "    print(\"-\" * 50)\n"
      ]
    },
    {
      "cell_type": "markdown",
      "id": "e9b5d265",
      "metadata": {
        "id": "e9b5d265"
      },
      "source": [
        "#### 8. Информация о наборе данных"
      ]
    },
    {
      "cell_type": "code",
      "execution_count": 30,
      "id": "5ee67609",
      "metadata": {
        "colab": {
          "base_uri": "https://localhost:8080/",
          "height": 535
        },
        "id": "5ee67609",
        "outputId": "f329b18a-4e8a-4fbe-ff8c-5fb1fef1edd8"
      },
      "outputs": [
        {
          "output_type": "stream",
          "name": "stdout",
          "text": [
            "Информация о наборе данных:\n",
            "<class 'pandas.core.frame.DataFrame'>\n",
            "RangeIndex: 404 entries, 0 to 403\n",
            "Data columns (total 4 columns):\n",
            " #   Column      Non-Null Count  Dtype \n",
            "---  ------      --------------  ----- \n",
            " 0   Unnamed: 0  404 non-null    int64 \n",
            " 1   rest        404 non-null    object\n",
            " 2   review      404 non-null    object\n",
            " 3   feedback    404 non-null    object\n",
            "dtypes: int64(1), object(3)\n",
            "memory usage: 12.8+ KB\n",
            "\n",
            "Описательная статистика:\n"
          ]
        },
        {
          "output_type": "execute_result",
          "data": {
            "text/plain": [
              "       Unnamed: 0\n",
              "count  404.000000\n",
              "mean   201.500000\n",
              "std    116.769003\n",
              "min      0.000000\n",
              "25%    100.750000\n",
              "50%    201.500000\n",
              "75%    302.250000\n",
              "max    403.000000"
            ],
            "text/html": [
              "\n",
              "  <div id=\"df-db49f2e9-aa25-48e9-b35e-eb28b4888e8b\" class=\"colab-df-container\">\n",
              "    <div>\n",
              "<style scoped>\n",
              "    .dataframe tbody tr th:only-of-type {\n",
              "        vertical-align: middle;\n",
              "    }\n",
              "\n",
              "    .dataframe tbody tr th {\n",
              "        vertical-align: top;\n",
              "    }\n",
              "\n",
              "    .dataframe thead th {\n",
              "        text-align: right;\n",
              "    }\n",
              "</style>\n",
              "<table border=\"1\" class=\"dataframe\">\n",
              "  <thead>\n",
              "    <tr style=\"text-align: right;\">\n",
              "      <th></th>\n",
              "      <th>Unnamed: 0</th>\n",
              "    </tr>\n",
              "  </thead>\n",
              "  <tbody>\n",
              "    <tr>\n",
              "      <th>count</th>\n",
              "      <td>404.000000</td>\n",
              "    </tr>\n",
              "    <tr>\n",
              "      <th>mean</th>\n",
              "      <td>201.500000</td>\n",
              "    </tr>\n",
              "    <tr>\n",
              "      <th>std</th>\n",
              "      <td>116.769003</td>\n",
              "    </tr>\n",
              "    <tr>\n",
              "      <th>min</th>\n",
              "      <td>0.000000</td>\n",
              "    </tr>\n",
              "    <tr>\n",
              "      <th>25%</th>\n",
              "      <td>100.750000</td>\n",
              "    </tr>\n",
              "    <tr>\n",
              "      <th>50%</th>\n",
              "      <td>201.500000</td>\n",
              "    </tr>\n",
              "    <tr>\n",
              "      <th>75%</th>\n",
              "      <td>302.250000</td>\n",
              "    </tr>\n",
              "    <tr>\n",
              "      <th>max</th>\n",
              "      <td>403.000000</td>\n",
              "    </tr>\n",
              "  </tbody>\n",
              "</table>\n",
              "</div>\n",
              "    <div class=\"colab-df-buttons\">\n",
              "\n",
              "  <div class=\"colab-df-container\">\n",
              "    <button class=\"colab-df-convert\" onclick=\"convertToInteractive('df-db49f2e9-aa25-48e9-b35e-eb28b4888e8b')\"\n",
              "            title=\"Convert this dataframe to an interactive table.\"\n",
              "            style=\"display:none;\">\n",
              "\n",
              "  <svg xmlns=\"http://www.w3.org/2000/svg\" height=\"24px\" viewBox=\"0 -960 960 960\">\n",
              "    <path d=\"M120-120v-720h720v720H120Zm60-500h600v-160H180v160Zm220 220h160v-160H400v160Zm0 220h160v-160H400v160ZM180-400h160v-160H180v160Zm440 0h160v-160H620v160ZM180-180h160v-160H180v160Zm440 0h160v-160H620v160Z\"/>\n",
              "  </svg>\n",
              "    </button>\n",
              "\n",
              "  <style>\n",
              "    .colab-df-container {\n",
              "      display:flex;\n",
              "      gap: 12px;\n",
              "    }\n",
              "\n",
              "    .colab-df-convert {\n",
              "      background-color: #E8F0FE;\n",
              "      border: none;\n",
              "      border-radius: 50%;\n",
              "      cursor: pointer;\n",
              "      display: none;\n",
              "      fill: #1967D2;\n",
              "      height: 32px;\n",
              "      padding: 0 0 0 0;\n",
              "      width: 32px;\n",
              "    }\n",
              "\n",
              "    .colab-df-convert:hover {\n",
              "      background-color: #E2EBFA;\n",
              "      box-shadow: 0px 1px 2px rgba(60, 64, 67, 0.3), 0px 1px 3px 1px rgba(60, 64, 67, 0.15);\n",
              "      fill: #174EA6;\n",
              "    }\n",
              "\n",
              "    .colab-df-buttons div {\n",
              "      margin-bottom: 4px;\n",
              "    }\n",
              "\n",
              "    [theme=dark] .colab-df-convert {\n",
              "      background-color: #3B4455;\n",
              "      fill: #D2E3FC;\n",
              "    }\n",
              "\n",
              "    [theme=dark] .colab-df-convert:hover {\n",
              "      background-color: #434B5C;\n",
              "      box-shadow: 0px 1px 3px 1px rgba(0, 0, 0, 0.15);\n",
              "      filter: drop-shadow(0px 1px 2px rgba(0, 0, 0, 0.3));\n",
              "      fill: #FFFFFF;\n",
              "    }\n",
              "  </style>\n",
              "\n",
              "    <script>\n",
              "      const buttonEl =\n",
              "        document.querySelector('#df-db49f2e9-aa25-48e9-b35e-eb28b4888e8b button.colab-df-convert');\n",
              "      buttonEl.style.display =\n",
              "        google.colab.kernel.accessAllowed ? 'block' : 'none';\n",
              "\n",
              "      async function convertToInteractive(key) {\n",
              "        const element = document.querySelector('#df-db49f2e9-aa25-48e9-b35e-eb28b4888e8b');\n",
              "        const dataTable =\n",
              "          await google.colab.kernel.invokeFunction('convertToInteractive',\n",
              "                                                    [key], {});\n",
              "        if (!dataTable) return;\n",
              "\n",
              "        const docLinkHtml = 'Like what you see? Visit the ' +\n",
              "          '<a target=\"_blank\" href=https://colab.research.google.com/notebooks/data_table.ipynb>data table notebook</a>'\n",
              "          + ' to learn more about interactive tables.';\n",
              "        element.innerHTML = '';\n",
              "        dataTable['output_type'] = 'display_data';\n",
              "        await google.colab.output.renderOutput(dataTable, element);\n",
              "        const docLink = document.createElement('div');\n",
              "        docLink.innerHTML = docLinkHtml;\n",
              "        element.appendChild(docLink);\n",
              "      }\n",
              "    </script>\n",
              "  </div>\n",
              "\n",
              "\n",
              "    <div id=\"df-dd8f7e1c-0d70-495f-8810-b414c945f3f4\">\n",
              "      <button class=\"colab-df-quickchart\" onclick=\"quickchart('df-dd8f7e1c-0d70-495f-8810-b414c945f3f4')\"\n",
              "                title=\"Suggest charts\"\n",
              "                style=\"display:none;\">\n",
              "\n",
              "<svg xmlns=\"http://www.w3.org/2000/svg\" height=\"24px\"viewBox=\"0 0 24 24\"\n",
              "     width=\"24px\">\n",
              "    <g>\n",
              "        <path d=\"M19 3H5c-1.1 0-2 .9-2 2v14c0 1.1.9 2 2 2h14c1.1 0 2-.9 2-2V5c0-1.1-.9-2-2-2zM9 17H7v-7h2v7zm4 0h-2V7h2v10zm4 0h-2v-4h2v4z\"/>\n",
              "    </g>\n",
              "</svg>\n",
              "      </button>\n",
              "\n",
              "<style>\n",
              "  .colab-df-quickchart {\n",
              "      --bg-color: #E8F0FE;\n",
              "      --fill-color: #1967D2;\n",
              "      --hover-bg-color: #E2EBFA;\n",
              "      --hover-fill-color: #174EA6;\n",
              "      --disabled-fill-color: #AAA;\n",
              "      --disabled-bg-color: #DDD;\n",
              "  }\n",
              "\n",
              "  [theme=dark] .colab-df-quickchart {\n",
              "      --bg-color: #3B4455;\n",
              "      --fill-color: #D2E3FC;\n",
              "      --hover-bg-color: #434B5C;\n",
              "      --hover-fill-color: #FFFFFF;\n",
              "      --disabled-bg-color: #3B4455;\n",
              "      --disabled-fill-color: #666;\n",
              "  }\n",
              "\n",
              "  .colab-df-quickchart {\n",
              "    background-color: var(--bg-color);\n",
              "    border: none;\n",
              "    border-radius: 50%;\n",
              "    cursor: pointer;\n",
              "    display: none;\n",
              "    fill: var(--fill-color);\n",
              "    height: 32px;\n",
              "    padding: 0;\n",
              "    width: 32px;\n",
              "  }\n",
              "\n",
              "  .colab-df-quickchart:hover {\n",
              "    background-color: var(--hover-bg-color);\n",
              "    box-shadow: 0 1px 2px rgba(60, 64, 67, 0.3), 0 1px 3px 1px rgba(60, 64, 67, 0.15);\n",
              "    fill: var(--button-hover-fill-color);\n",
              "  }\n",
              "\n",
              "  .colab-df-quickchart-complete:disabled,\n",
              "  .colab-df-quickchart-complete:disabled:hover {\n",
              "    background-color: var(--disabled-bg-color);\n",
              "    fill: var(--disabled-fill-color);\n",
              "    box-shadow: none;\n",
              "  }\n",
              "\n",
              "  .colab-df-spinner {\n",
              "    border: 2px solid var(--fill-color);\n",
              "    border-color: transparent;\n",
              "    border-bottom-color: var(--fill-color);\n",
              "    animation:\n",
              "      spin 1s steps(1) infinite;\n",
              "  }\n",
              "\n",
              "  @keyframes spin {\n",
              "    0% {\n",
              "      border-color: transparent;\n",
              "      border-bottom-color: var(--fill-color);\n",
              "      border-left-color: var(--fill-color);\n",
              "    }\n",
              "    20% {\n",
              "      border-color: transparent;\n",
              "      border-left-color: var(--fill-color);\n",
              "      border-top-color: var(--fill-color);\n",
              "    }\n",
              "    30% {\n",
              "      border-color: transparent;\n",
              "      border-left-color: var(--fill-color);\n",
              "      border-top-color: var(--fill-color);\n",
              "      border-right-color: var(--fill-color);\n",
              "    }\n",
              "    40% {\n",
              "      border-color: transparent;\n",
              "      border-right-color: var(--fill-color);\n",
              "      border-top-color: var(--fill-color);\n",
              "    }\n",
              "    60% {\n",
              "      border-color: transparent;\n",
              "      border-right-color: var(--fill-color);\n",
              "    }\n",
              "    80% {\n",
              "      border-color: transparent;\n",
              "      border-right-color: var(--fill-color);\n",
              "      border-bottom-color: var(--fill-color);\n",
              "    }\n",
              "    90% {\n",
              "      border-color: transparent;\n",
              "      border-bottom-color: var(--fill-color);\n",
              "    }\n",
              "  }\n",
              "</style>\n",
              "\n",
              "      <script>\n",
              "        async function quickchart(key) {\n",
              "          const quickchartButtonEl =\n",
              "            document.querySelector('#' + key + ' button');\n",
              "          quickchartButtonEl.disabled = true;  // To prevent multiple clicks.\n",
              "          quickchartButtonEl.classList.add('colab-df-spinner');\n",
              "          try {\n",
              "            const charts = await google.colab.kernel.invokeFunction(\n",
              "                'suggestCharts', [key], {});\n",
              "          } catch (error) {\n",
              "            console.error('Error during call to suggestCharts:', error);\n",
              "          }\n",
              "          quickchartButtonEl.classList.remove('colab-df-spinner');\n",
              "          quickchartButtonEl.classList.add('colab-df-quickchart-complete');\n",
              "        }\n",
              "        (() => {\n",
              "          let quickchartButtonEl =\n",
              "            document.querySelector('#df-dd8f7e1c-0d70-495f-8810-b414c945f3f4 button');\n",
              "          quickchartButtonEl.style.display =\n",
              "            google.colab.kernel.accessAllowed ? 'block' : 'none';\n",
              "        })();\n",
              "      </script>\n",
              "    </div>\n",
              "    </div>\n",
              "  </div>\n"
            ],
            "application/vnd.google.colaboratory.intrinsic+json": {
              "type": "dataframe",
              "summary": "{\n  \"name\": \"data\",\n  \"rows\": 8,\n  \"fields\": [\n    {\n      \"column\": \"Unnamed: 0\",\n      \"properties\": {\n        \"dtype\": \"number\",\n        \"std\": 145.3849690828943,\n        \"min\": 0.0,\n        \"max\": 404.0,\n        \"num_unique_values\": 7,\n        \"samples\": [\n          404.0,\n          201.5,\n          302.25\n        ],\n        \"semantic_type\": \"\",\n        \"description\": \"\"\n      }\n    }\n  ]\n}"
            }
          },
          "metadata": {},
          "execution_count": 30
        }
      ],
      "source": [
        "# 8. Информация о наборе данных\n",
        "print(\"Информация о наборе данных:\")\n",
        "data.info()\n",
        "print(\"\\nОписательная статистика:\")\n",
        "data.describe()\n"
      ]
    },
    {
      "cell_type": "markdown",
      "id": "e076e26a",
      "metadata": {
        "id": "e076e26a"
      },
      "source": [
        "#### 9. Проверка наличия пропусков в данных"
      ]
    },
    {
      "cell_type": "code",
      "execution_count": 48,
      "id": "b8e45bcc",
      "metadata": {
        "colab": {
          "base_uri": "https://localhost:8080/"
        },
        "id": "b8e45bcc",
        "outputId": "08adef99-c13b-40f2-ba6f-4a83d32d0f9d"
      },
      "outputs": [
        {
          "output_type": "stream",
          "name": "stdout",
          "text": [
            "Проверка наличия пропусков в данных:\n",
            "Unnamed: 0    0\n",
            "rest          0\n",
            "review        0\n",
            "feedback      0\n",
            "dtype: int64\n",
            "\n",
            "Общее количество пропусков: 0\n"
          ]
        }
      ],
      "source": [
        "# 9. Проверка наличия пропусков в данных\n",
        "print(\"Проверка наличия пропусков в данных:\")\n",
        "missing_values = data.isnull().sum()\n",
        "print(missing_values)\n",
        "print(f\"\\nОбщее количество пропусков: {missing_values.sum()}\")\n"
      ]
    },
    {
      "cell_type": "markdown",
      "id": "e29d8c92",
      "metadata": {
        "id": "e29d8c92"
      },
      "source": [
        "#### 10. Если вы обнаружили пропуски в данных, то удалите их"
      ]
    },
    {
      "cell_type": "code",
      "execution_count": 49,
      "id": "31cbc03b",
      "metadata": {
        "colab": {
          "base_uri": "https://localhost:8080/"
        },
        "id": "31cbc03b",
        "outputId": "478cba88-a8cf-4a24-9680-e9900c5ec527"
      },
      "outputs": [
        {
          "output_type": "stream",
          "name": "stdout",
          "text": [
            "Пропуски в данных не обнаружены\n"
          ]
        }
      ],
      "source": [
        "# 10. Если вы обнаружили пропуски в данных, то удалите их\n",
        "if data.isnull().sum().sum() > 0:\n",
        "    print(\"Обнаружены пропуски. Удаляем строки с пропусками...\")\n",
        "    data_clean = data.dropna()\n",
        "    print(f\"Размер данных после удаления пропусков: {data_clean.shape}\")\n",
        "else:\n",
        "    print(\"Пропуски в данных не обнаружены\")\n",
        "    data_clean = data.copy()\n"
      ]
    },
    {
      "cell_type": "markdown",
      "id": "8f82e446",
      "metadata": {
        "id": "8f82e446"
      },
      "source": [
        "#### 11. Проведите предобработку текстовых данных: удаление символов, лемматизация, стоп слова, перевод в нижний регистр"
      ]
    },
    {
      "cell_type": "code",
      "execution_count": 59,
      "id": "da0daa0b",
      "metadata": {
        "colab": {
          "base_uri": "https://localhost:8080/"
        },
        "id": "da0daa0b",
        "outputId": "7157baf9-e867-4b0c-d423-bc4541df8af2"
      },
      "outputs": [
        {
          "output_type": "stream",
          "name": "stderr",
          "text": [
            "[nltk_data] Downloading package punkt_tab to /root/nltk_data...\n",
            "[nltk_data]   Package punkt_tab is already up-to-date!\n",
            "[nltk_data] Downloading package stopwords to /root/nltk_data...\n",
            "[nltk_data]   Package stopwords is already up-to-date!\n"
          ]
        },
        {
          "output_type": "stream",
          "name": "stdout",
          "text": [
            "Детальный анализ данных:\n",
            "Общее количество записей: 404\n",
            "\n",
            "Распределение классов:\n",
            "feedback\n",
            "positive    279\n",
            "neutral      84\n",
            "negative     41\n",
            "Name: count, dtype: int64\n",
            "\n",
            "Процентное соотношение:\n",
            "positive: 69.1%\n",
            "neutral: 20.8%\n",
            "negative: 10.1%\n",
            "\n",
            "Примеры обработанных текстов:\n",
            "\n",
            "Пример 1:\n",
            "Оригинал: День 8-го марта прошёл, можно и итоги подвести. Решил написать отзыв о ресторане в котором отметили прекрасный весений праздник, прочитал отзывы edik077 и Rules77777и понял что либо мы были вразных ресторанах, либо у ребят что-то незаладилось. Но теперь о ресторане. Столик бронировали заранее и сделали так как предложил администратор т.е. сделали предварительный заказ, когда придя увидели полностью заполненый ресторан поняли что совет нам дали действительно правильный, в ресторане было человек 70-80, тут действительно горячее блюдо можно ждать весьма долго. Меню достаточно разнообразное и весьма вкусное, мне и моим друзьям понравилось всё что нам принесли, а принесли нам немало. Обслуживание может и не самое лучьшее в городе, но официанты делали всё что нужно. Должен сказать что ждать нам всёравно пришлось, не очень долго конечно, но всё-же. Интерьер хороший, удобные диваны.Очень хорошая музыкальная программа и весёлый ведущий. В общем я остался доволен своим выбором, и тем как мы провели вечер, хороший ресторан, уютный и кухня хорошая. Руководству и персоналу СПАСИБО.\n",
            "Обработанный: ден март прошел итог подвест реш написа отз ресторан котор отмет прекрасн весен праздник прочита отзыв поня либ вразн ресторан либ реб незалад ресторан столик бронирова заран сдела предлож администратор сдела предварительн заказ прид увидел полност заполнен рестора поня совет нам дал действительн правильн ресторан человек действительн горяч блюд ждат весьм долг мен достаточн разнообразн весьм вкусн мо друз понрав все нам принесл принесл нам нема обслуживан сам лучьш город официант дела все нужн долж сказа ждат нам всеравн пришл очен долг все интерьер хорош удобн дива очен хорош музыкальн программ весел ведущ общ оста довол сво выбор провел вечер хорош рестора уютн кухн хорош руководств персонал спасиб\n",
            "Класс: positive\n",
            "\n",
            "Пример 2:\n",
            "Оригинал: Отмечали в этом ресторане день рождение на первом этаже в субботу вечером. Хочу выразить большую благодарность прежде всего руководству ресторана, обслуживающему персоналу и конечно же тем сотрудникам, которые готовят посетителям заведения столь вкусные блюда. Понравилось абсолютно все. Конечно же впечатляет интерьер: уютно и красиво. Стол был шикарный. Нас обслуживал официант Бахрам, спасибо ему. Хочу отметить, что для ресторана такого уровня цены не высокие.\n",
            "Обработанный: отмеча ресторан ден рожден перв этаж суббот вечер хоч выраз больш благодарн прежд руководств рестора обслужива персонал сотрудник котор готов посетител заведен стол вкусн блюд понрав абсолютн впечатля интерьер уютн красив стол шикарн обслужива официант бахр спасиб хоч отмет рестора так уровн цен высок\n",
            "Класс: positive\n",
            "\n",
            "Пример 3:\n",
            "Оригинал: Для встречи с друзьями было выбрано данное заведение в основном благодаря отзывам. Ну во-первых, хочется отметить одно маленькое разочарование, которое меня охватило сразу же: интерьер. Я действительно ожидала увидеть нечто большее. Не буду нудно расписывать что и как не так. Просто осталось чувство, что столь интересную задумку gangster bar-а не до конца смогли реализовать. Черно-белые плакаты, кирпичные стены... Во-вторых: Встреча гостей в ресторане- отсутствовала, мы стояли ждали...оглядывались, пару официантов делали свои дела... Не дождавшись хоть какого-то внимания в наш адрес, подошли к ближайшей девушке-официанту, и попросили посадить нас за столик, заказанный ранее. Провели. Усадили. Дальше было лучше. Заказ принимали быстро, еду приносили тоже достаточно быстро, убирали пустые тарелки, бокалы вовремя. Сама еда-названия соответствуют выбранному стилю заведения. Хотя на деле, ничего особенного и не предлагают. Персонал улыбчивый, приветливый. Сырная тарелка оставляет желать лучшего-для любителей сыра ее ну просто ОЧЕНЬ мало:) Салат цезарь-тарелка капусты, и три тонюсеньких (0,3см) ломтика курицы, сухарики, соус. Из блюд больше ничего нареканий не вызвало. В итоге, хочу сделать вывод: соотношение цена-качество выдержано. Отличное место для большой компании.\n",
            "Обработанный: встреч друз выбра дан заведен основн благодар отзыв перв хочет отмет одн маленьк разочарован котор охват сраз интерьер действительн ожида увидет нечт больш буд нудн расписыва прост оста чувств стол интересн задумк конц смогл реализова черн бел плакат кирпичн стен втор встреч гост ресторан отсутствова стоя ждал оглядыва пар официант дела сво дел дожда как вниман наш адрес подошл ближайш девушк официант попрос посад столик заказа ран провел усад дальш заказ принима быстр ед принос достаточн быстр убира пуст тарелк бокал воврем сам ед назван соответств выбра стил заведен хот дел особен предлага персона улыбчив приветлив сырн тарелк оставля жела лучш любител сыр прост очен мал салат цезар тарелк капуст тонюсеньк ломтик куриц сухарик соус блюд нарекан вызва итог хоч сдела вывод соотношен цен качеств выдержа отличн мест больш компан\n",
            "Класс: neutral\n"
          ]
        }
      ],
      "source": [
        "# 11. Улучшенная предобработка текстовых данных\n",
        "import re\n",
        "from nltk.corpus import stopwords\n",
        "from nltk.stem import SnowballStemmer\n",
        "from nltk.tokenize import word_tokenize\n",
        "\n",
        "# Загрузка ресурсов\n",
        "nltk.download('punkt_tab')\n",
        "nltk.download('stopwords')\n",
        "\n",
        "# Расширенный список стоп-слов для русского языка\n",
        "russian_stopwords = set(stopwords.words('russian'))\n",
        "# Добавляем дополнительные стоп-слова\n",
        "additional_stopwords = {'это', 'все', 'еще', 'уже', 'там', 'тут', 'где', 'как', 'что', 'кто', 'когда'}\n",
        "russian_stopwords.update(additional_stopwords)\n",
        "\n",
        "stemmer = SnowballStemmer(\"russian\")\n",
        "\n",
        "def improved_preprocess_text(text):\n",
        "    \"\"\"Улучшенная функция предобработки текста\"\"\"\n",
        "    # Приведение к нижнему регистру\n",
        "    text = text.lower()\n",
        "\n",
        "    # Замена множественных пробелов на одинарные\n",
        "    text = re.sub(r'\\s+', ' ', text)\n",
        "\n",
        "    # Удаление URL, email, чисел\n",
        "    text = re.sub(r'http\\S+|www\\S+|https\\S+', '', text)\n",
        "    text = re.sub(r'\\S+@\\S+', '', text)\n",
        "    text = re.sub(r'\\d+', '', text)\n",
        "\n",
        "    # Удаление знаков пунктуации, оставляя только буквы и пробелы\n",
        "    text = re.sub(r'[^а-яё\\s]', ' ', text)\n",
        "\n",
        "    # Удаление лишних пробелов\n",
        "    text = re.sub(r'\\s+', ' ', text).strip()\n",
        "\n",
        "    # Токенизация\n",
        "    tokens = word_tokenize(text, language='russian')\n",
        "\n",
        "    # Фильтрация токенов: удаление стоп-слов и коротких слов\n",
        "    processed_tokens = []\n",
        "    for token in tokens:\n",
        "        if (len(token) > 2 and\n",
        "            token not in russian_stopwords and\n",
        "            token.isalpha()):  # только буквенные токены\n",
        "            processed_tokens.append(stemmer.stem(token))\n",
        "\n",
        "    return ' '.join(processed_tokens)\n",
        "\n",
        "# Применение улучшенной предобработки\n",
        "data_clean['processed_review'] = data_clean['review'].apply(improved_preprocess_text)\n",
        "\n",
        "# Анализ распределения классов\n",
        "print(\"Детальный анализ данных:\")\n",
        "print(f\"Общее количество записей: {len(data_clean)}\")\n",
        "print(\"\\nРаспределение классов:\")\n",
        "class_dist = data_clean['feedback'].value_counts()\n",
        "print(class_dist)\n",
        "print(f\"\\nПроцентное соотношение:\")\n",
        "for class_name, count in class_dist.items():\n",
        "    percentage = (count / len(data_clean)) * 100\n",
        "    print(f\"{class_name}: {percentage:.1f}%\")\n",
        "\n",
        "print(\"\\nПримеры обработанных текстов:\")\n",
        "for i in range(3):\n",
        "    print(f\"\\nПример {i+1}:\")\n",
        "    print(f\"Оригинал: {data_clean['review'].iloc[i]}\")\n",
        "    print(f\"Обработанный: {data_clean['processed_review'].iloc[i]}\")\n",
        "    print(f\"Класс: {data_clean['feedback'].iloc[i]}\")\n"
      ]
    },
    {
      "cell_type": "markdown",
      "id": "58375ceb",
      "metadata": {
        "id": "58375ceb"
      },
      "source": [
        "#### 12. Сделайте вывод о пригодности набора данных для построения модели машинного обучения"
      ]
    },
    {
      "cell_type": "code",
      "execution_count": 51,
      "id": "cea16830",
      "metadata": {
        "colab": {
          "base_uri": "https://localhost:8080/"
        },
        "id": "cea16830",
        "outputId": "d631a8c3-f266-4ca8-a376-efec4096979f"
      },
      "outputs": [
        {
          "output_type": "stream",
          "name": "stdout",
          "text": [
            "ВЫВОД О ПРИГОДНОСТИ НАБОРА ДАННЫХ:\n",
            "============================================================\n",
            "1. Размер данных: 404 записей\n",
            "   ✓ Достаточный объем данных для машинного обучения\n",
            "2. Пропущенные значения: 0\n",
            "   ✓ Данные без пропусков\n",
            "3. Распределение классов в целевой переменной:\n",
            "feedback\n",
            "positive    279\n",
            "neutral      84\n",
            "negative     41\n",
            "Name: count, dtype: int64\n",
            "   ⚠ Значительный дисбаланс классов\n",
            "\n",
            "ОБЩИЙ ВЫВОД:\n",
            "Набор данных ПРИГОДЕН для построения модели машинного обучения.\n",
            "Данные имеют достаточный объем, отсутствуют пропуски,\n",
            "текстовые данные успешно предобработаны.\n"
          ]
        }
      ],
      "source": [
        "# 12. Сделайте вывод о пригодности набора данных для построения модели машинного обучения\n",
        "print(\"ВЫВОД О ПРИГОДНОСТИ НАБОРА ДАННЫХ:\")\n",
        "print(\"=\"*60)\n",
        "\n",
        "# Анализ размера данных\n",
        "print(f\"1. Размер данных: {data_clean.shape[0]} записей\")\n",
        "if data_clean.shape[0] >= 100:\n",
        "    print(\"   ✓ Достаточный объем данных для машинного обучения\")\n",
        "else:\n",
        "    print(\"   ⚠ Малый объем данных\")\n",
        "\n",
        "# Анализ качества данных\n",
        "print(f\"2. Пропущенные значения: {data_clean.isnull().sum().sum()}\")\n",
        "print(\"   ✓ Данные без пропусков\")\n",
        "\n",
        "# Анализ целевой переменной\n",
        "print(\"3. Распределение классов в целевой переменной:\")\n",
        "class_distribution = data_clean['feedback'].value_counts()\n",
        "print(class_distribution)\n",
        "\n",
        "# Проверка баланса классов\n",
        "min_class_size = class_distribution.min()\n",
        "max_class_size = class_distribution.max()\n",
        "balance_ratio = min_class_size / max_class_size\n",
        "\n",
        "if balance_ratio > 0.3:\n",
        "    print(\"   ✓ Классы достаточно сбалансированы\")\n",
        "else:\n",
        "    print(\"   ⚠ Значительный дисбаланс классов\")\n",
        "\n",
        "print(\"\\nОБЩИЙ ВЫВОД:\")\n",
        "print(\"Набор данных ПРИГОДЕН для построения модели машинного обучения.\")\n",
        "print(\"Данные имеют достаточный объем, отсутствуют пропуски,\")\n",
        "print(\"текстовые данные успешно предобработаны.\")\n"
      ]
    },
    {
      "cell_type": "markdown",
      "id": "3ae2e352",
      "metadata": {
        "id": "3ae2e352"
      },
      "source": [
        "# Часть II. Построение модели машинного обучения для набора данных: Отзывы о ресторанах"
      ]
    },
    {
      "cell_type": "markdown",
      "id": "6f0b261f",
      "metadata": {
        "id": "6f0b261f"
      },
      "source": [
        "## Задание\n",
        "\n",
        "Вам нужно решить задачу классификации с помощью алгоритма\n",
        "\n",
        "Случайный лес RandomForestClassifier\n",
        "\n",
        "\n",
        "\n",
        "Целевая переменная, результат: **feedback**"
      ]
    },
    {
      "cell_type": "markdown",
      "id": "d60003c6",
      "metadata": {
        "id": "d60003c6"
      },
      "source": [
        "#### 13. Разделить выборку на признаки (Х) и результат (Y)"
      ]
    },
    {
      "cell_type": "code",
      "execution_count": 52,
      "id": "79fce5f9",
      "metadata": {
        "colab": {
          "base_uri": "https://localhost:8080/"
        },
        "id": "79fce5f9",
        "outputId": "af7ee666-c08a-437a-adbb-d9a091337217"
      },
      "outputs": [
        {
          "output_type": "stream",
          "name": "stdout",
          "text": [
            "Разделение данных на признаки и целевую переменную:\n",
            "Размер признаков (X): (404,)\n",
            "Размер целевой переменной (y): (404,)\n",
            "Уникальные классы: ['positive' 'neutral' 'negative']\n"
          ]
        }
      ],
      "source": [
        "# 13. Разделить выборку на признаки (Х) и результат (Y)\n",
        "# Признаки - предобработанные тексты отзывов\n",
        "X = data_clean['processed_review']\n",
        "\n",
        "# Целевая переменная - тональность отзывов\n",
        "y = data_clean['feedback']\n",
        "\n",
        "print(\"Разделение данных на признаки и целевую переменную:\")\n",
        "print(f\"Размер признаков (X): {X.shape}\")\n",
        "print(f\"Размер целевой переменной (y): {y.shape}\")\n",
        "print(f\"Уникальные классы: {y.unique()}\")\n"
      ]
    },
    {
      "cell_type": "markdown",
      "id": "c14ac8e1",
      "metadata": {
        "id": "c14ac8e1"
      },
      "source": [
        "#### 14. Разделить на обучающую и тестовую выборки"
      ]
    },
    {
      "cell_type": "code",
      "execution_count": 53,
      "id": "f08dda91",
      "metadata": {
        "colab": {
          "base_uri": "https://localhost:8080/"
        },
        "id": "f08dda91",
        "outputId": "992e7056-b953-4c30-f742-c0a19bd62c30"
      },
      "outputs": [
        {
          "output_type": "stream",
          "name": "stdout",
          "text": [
            "Разделение на обучающую и тестовую выборки:\n",
            "Размер обучающей выборки: 323\n",
            "Размер тестовой выборки: 81\n",
            "Соотношение: 323/81 = 4.0\n",
            "\n",
            "Распределение классов в обучающей выборке:\n",
            "feedback\n",
            "positive    223\n",
            "neutral      67\n",
            "negative     33\n",
            "Name: count, dtype: int64\n",
            "\n",
            "Распределение классов в тестовой выборке:\n",
            "feedback\n",
            "positive    56\n",
            "neutral     17\n",
            "negative     8\n",
            "Name: count, dtype: int64\n"
          ]
        }
      ],
      "source": [
        "# 14. Разделить на обучающую и тестовую выборки\n",
        "X_train, X_test, y_train, y_test = train_test_split(\n",
        "    X, y,\n",
        "    test_size=0.2,\n",
        "    random_state=42,\n",
        "    stratify=y\n",
        ")\n",
        "\n",
        "print(\"Разделение на обучающую и тестовую выборки:\")\n",
        "print(f\"Размер обучающей выборки: {len(X_train)}\")\n",
        "print(f\"Размер тестовой выборки: {len(X_test)}\")\n",
        "print(f\"Соотношение: {len(X_train)}/{len(X_test)} = {len(X_train)/len(X_test):.1f}\")\n",
        "\n",
        "# Проверка распределения классов\n",
        "print(\"\\nРаспределение классов в обучающей выборке:\")\n",
        "print(y_train.value_counts())\n",
        "print(\"\\nРаспределение классов в тестовой выборке:\")\n",
        "print(y_test.value_counts())\n"
      ]
    },
    {
      "cell_type": "markdown",
      "id": "c2f48820",
      "metadata": {
        "id": "c2f48820"
      },
      "source": [
        "#### 15. TF-IDF векторизация и мешок слов"
      ]
    },
    {
      "cell_type": "code",
      "execution_count": 60,
      "id": "ccb49bf2",
      "metadata": {
        "colab": {
          "base_uri": "https://localhost:8080/"
        },
        "id": "ccb49bf2",
        "outputId": "bea21032-fd5a-49c1-d4ae-357e9bf374b6"
      },
      "outputs": [
        {
          "output_type": "stream",
          "name": "stdout",
          "text": [
            "Улучшенная TF-IDF векторизация:\n",
            "Размер обучающей матрицы: (323, 1500)\n",
            "Размер тестовой матрицы: (81, 1500)\n",
            "Плотность матрицы: 0.0468\n",
            "\n",
            "Примеры N-грамм: ['абсолютн' 'август' 'адекватн' 'администратор' 'администрац' 'аккуратн'\n",
            " 'акц' 'алкогол' 'алкогольн' 'ан' 'аппет' 'апрел' 'атмосфер' 'баклажа'\n",
            " 'балл' 'банкет' 'банкет человек' 'банкетн' 'банкетн мен' 'бар']\n"
          ]
        }
      ],
      "source": [
        "# 15. Улучшенная векторизация с TF-IDF\n",
        "from sklearn.feature_extraction.text import TfidfVectorizer\n",
        "\n",
        "# Создание улучшенного TF-IDF векторизатора\n",
        "tfidf_vectorizer = TfidfVectorizer(\n",
        "    max_features=1500,      # уменьшаем количество признаков\n",
        "    min_df=3,               # слово должно встречаться минимум в 3 документах\n",
        "    max_df=0.7,             # исключаем слишком частые слова\n",
        "    ngram_range=(1, 3),     # униграммы, биграммы и триграммы\n",
        "    sublinear_tf=True,      # логарифмическое масштабирование TF\n",
        "    use_idf=True,           # использовать IDF\n",
        "    smooth_idf=True,        # сглаживание IDF\n",
        "    norm='l2'               # L2 нормализация\n",
        ")\n",
        "\n",
        "# Векторизация\n",
        "X_train_tfidf = tfidf_vectorizer.fit_transform(X_train)\n",
        "X_test_tfidf = tfidf_vectorizer.transform(X_test)\n",
        "\n",
        "print(\"Улучшенная TF-IDF векторизация:\")\n",
        "print(f\"Размер обучающей матрицы: {X_train_tfidf.shape}\")\n",
        "print(f\"Размер тестовой матрицы: {X_test_tfidf.shape}\")\n",
        "print(f\"Плотность матрицы: {X_train_tfidf.nnz / (X_train_tfidf.shape[0] * X_train_tfidf.shape[1]):.4f}\")\n",
        "\n",
        "# Анализ наиболее важных n-грамм\n",
        "feature_names = tfidf_vectorizer.get_feature_names_out()\n",
        "print(f\"\\nПримеры N-грамм: {feature_names[:20]}\")\n"
      ]
    },
    {
      "cell_type": "markdown",
      "id": "1eb8bfb4",
      "metadata": {
        "id": "1eb8bfb4"
      },
      "source": [
        "#### 16. Сформировать модель машинного обучения"
      ]
    },
    {
      "cell_type": "code",
      "execution_count": 65,
      "id": "71354b1a",
      "metadata": {
        "colab": {
          "base_uri": "https://localhost:8080/"
        },
        "id": "71354b1a",
        "outputId": "94c44408-3a8d-49ce-9028-9204273d06bd"
      },
      "outputs": [
        {
          "output_type": "stream",
          "name": "stdout",
          "text": [
            "Модель Random Forest с поиском гиперпараметров создана\n",
            "Параметры для оптимизации:\n",
            "  n_estimators: [200, 300]\n",
            "  max_depth: [15, 20, None]\n",
            "  min_samples_split: [2, 5]\n",
            "  min_samples_leaf: [1, 2]\n",
            "  max_features: ['sqrt', 'log2']\n",
            "Метрика оценки: f1_macro\n",
            "Кросс-валидация: 3-fold\n"
          ]
        }
      ],
      "source": [
        "# 16. Сформировать модель машинного обучения\n",
        "from sklearn.model_selection import GridSearchCV\n",
        "\n",
        "# Определяем параметры для поиска оптимальных настроек\n",
        "param_grid = {\n",
        "    'n_estimators': [200, 300],\n",
        "    'max_depth': [15, 20, None],\n",
        "    'min_samples_split': [2, 5],\n",
        "    'min_samples_leaf': [1, 2],\n",
        "    'max_features': ['sqrt', 'log2']\n",
        "}\n",
        "\n",
        "# Создание базовой модели Random Forest с оптимальными настройками\n",
        "base_rf = RandomForestClassifier(\n",
        "    random_state=42,\n",
        "    class_weight='balanced',  # автоматическая балансировка классов\n",
        "    bootstrap=True,           # использование бутстрап-выборки\n",
        "    oob_score=True           # вычисление out-of-bag score\n",
        ")\n",
        "\n",
        "# Настройка поиска по сетке параметров\n",
        "grid_search = GridSearchCV(\n",
        "    estimator=base_rf,\n",
        "    param_grid=param_grid,\n",
        "    cv=3,                    # 3-fold кросс-валидация\n",
        "    scoring='f1_macro',      # макро F1-мера для мультиклассовой задачи\n",
        "    n_jobs=-1,              # использование всех доступных ядер\n",
        "    verbose=1               # вывод прогресса\n",
        ")\n",
        "\n",
        "print(\"Модель Random Forest с поиском гиперпараметров создана\")\n",
        "print(\"Параметры для оптимизации:\")\n",
        "for param, values in param_grid.items():\n",
        "    print(f\"  {param}: {values}\")\n",
        "print(f\"Метрика оценки: f1_macro\")\n",
        "print(f\"Кросс-валидация: 3-fold\")\n"
      ]
    },
    {
      "cell_type": "markdown",
      "id": "bcb65a7a",
      "metadata": {
        "id": "bcb65a7a"
      },
      "source": [
        "#### 17. Обучить модель"
      ]
    },
    {
      "cell_type": "code",
      "execution_count": 66,
      "id": "c06e9d88",
      "metadata": {
        "colab": {
          "base_uri": "https://localhost:8080/"
        },
        "id": "c06e9d88",
        "outputId": "f6b27f5c-3a27-41f2-8556-8586612f4efa"
      },
      "outputs": [
        {
          "output_type": "stream",
          "name": "stdout",
          "text": [
            "Начало поиска оптимальных параметров и обучения модели...\n",
            "Это может занять несколько минут...\n",
            "Fitting 3 folds for each of 48 candidates, totalling 144 fits\n",
            "\n",
            "Обучение завершено успешно!\n",
            "==================================================\n",
            "РЕЗУЛЬТАТЫ ОПТИМИЗАЦИИ:\n",
            "Лучшие параметры: {'max_depth': 20, 'max_features': 'sqrt', 'min_samples_leaf': 2, 'min_samples_split': 2, 'n_estimators': 200}\n",
            "Лучший CV F1-score: 0.3084\n",
            "OOB Score: 0.6873\n",
            "\n",
            "ПАРАМЕТРЫ ЛУЧШЕЙ МОДЕЛИ:\n",
            "Количество деревьев: 200\n",
            "Максимальная глубина: 20\n",
            "Минимум образцов для разделения: 2\n",
            "Минимум образцов в листе: 2\n",
            "Максимальные признаки: sqrt\n",
            "Балансировка классов: balanced\n",
            "\n",
            "Модель обучена на 323 образцах\n",
            "Количество признаков: 1500\n"
          ]
        }
      ],
      "source": [
        "# 17. Обучить модель\n",
        "print(\"Начало поиска оптимальных параметров и обучения модели...\")\n",
        "print(\"Это может занять несколько минут...\")\n",
        "\n",
        "# Обучение модели с поиском лучших параметров\n",
        "grid_search.fit(X_train_tfidf, y_train)\n",
        "\n",
        "# Получение лучшей модели\n",
        "rf_model = grid_search.best_estimator_\n",
        "\n",
        "print(\"\\nОбучение завершено успешно!\")\n",
        "print(\"=\"*50)\n",
        "print(\"РЕЗУЛЬТАТЫ ОПТИМИЗАЦИИ:\")\n",
        "print(f\"Лучшие параметры: {grid_search.best_params_}\")\n",
        "print(f\"Лучший CV F1-score: {grid_search.best_score_:.4f}\")\n",
        "print(f\"OOB Score: {rf_model.oob_score_:.4f}\")\n",
        "\n",
        "# Дополнительная информация о модели\n",
        "print(f\"\\nПАРАМЕТРЫ ЛУЧШЕЙ МОДЕЛИ:\")\n",
        "print(f\"Количество деревьев: {rf_model.n_estimators}\")\n",
        "print(f\"Максимальная глубина: {rf_model.max_depth}\")\n",
        "print(f\"Минимум образцов для разделения: {rf_model.min_samples_split}\")\n",
        "print(f\"Минимум образцов в листе: {rf_model.min_samples_leaf}\")\n",
        "print(f\"Максимальные признаки: {rf_model.max_features}\")\n",
        "print(f\"Балансировка классов: {rf_model.class_weight}\")\n",
        "\n",
        "print(f\"\\nМодель обучена на {X_train_tfidf.shape[0]} образцах\")\n",
        "print(f\"Количество признаков: {X_train_tfidf.shape[1]}\")\n"
      ]
    },
    {
      "cell_type": "markdown",
      "id": "c0fa0c0d",
      "metadata": {
        "id": "c0fa0c0d"
      },
      "source": [
        "#### 18. Оценить качество модели"
      ]
    },
    {
      "cell_type": "code",
      "execution_count": 67,
      "id": "ba4f50ee",
      "metadata": {
        "colab": {
          "base_uri": "https://localhost:8080/",
          "height": 350
        },
        "id": "ba4f50ee",
        "outputId": "06d678d9-d4e6-4c35-b8b0-9adacce148db"
      },
      "outputs": [
        {
          "output_type": "error",
          "ename": "ValueError",
          "evalue": "X has 2000 features, but RandomForestClassifier is expecting 1500 features as input.",
          "traceback": [
            "\u001b[0;31m---------------------------------------------------------------------------\u001b[0m",
            "\u001b[0;31mValueError\u001b[0m                                Traceback (most recent call last)",
            "\u001b[0;32m<ipython-input-67-5f2ebe659959>\u001b[0m in \u001b[0;36m<cell line: 0>\u001b[0;34m()\u001b[0m\n\u001b[1;32m      1\u001b[0m \u001b[0;31m# 18. Оценить качество модели\u001b[0m\u001b[0;34m\u001b[0m\u001b[0;34m\u001b[0m\u001b[0m\n\u001b[1;32m      2\u001b[0m \u001b[0;31m# Предсказания на тестовой выборке с новой моделью\u001b[0m\u001b[0;34m\u001b[0m\u001b[0;34m\u001b[0m\u001b[0m\n\u001b[0;32m----> 3\u001b[0;31m \u001b[0my_pred_rf\u001b[0m \u001b[0;34m=\u001b[0m \u001b[0mrf_model\u001b[0m\u001b[0;34m.\u001b[0m\u001b[0mpredict\u001b[0m\u001b[0;34m(\u001b[0m\u001b[0mX_test_count\u001b[0m\u001b[0;34m)\u001b[0m\u001b[0;34m\u001b[0m\u001b[0;34m\u001b[0m\u001b[0m\n\u001b[0m\u001b[1;32m      4\u001b[0m \u001b[0;34m\u001b[0m\u001b[0m\n\u001b[1;32m      5\u001b[0m \u001b[0;31m# Вычисление метрик качества\u001b[0m\u001b[0;34m\u001b[0m\u001b[0;34m\u001b[0m\u001b[0m\n",
            "\u001b[0;32m/usr/local/lib/python3.11/dist-packages/sklearn/ensemble/_forest.py\u001b[0m in \u001b[0;36mpredict\u001b[0;34m(self, X)\u001b[0m\n\u001b[1;32m    902\u001b[0m             \u001b[0mThe\u001b[0m \u001b[0mpredicted\u001b[0m \u001b[0mclasses\u001b[0m\u001b[0;34m.\u001b[0m\u001b[0;34m\u001b[0m\u001b[0;34m\u001b[0m\u001b[0m\n\u001b[1;32m    903\u001b[0m         \"\"\"\n\u001b[0;32m--> 904\u001b[0;31m         \u001b[0mproba\u001b[0m \u001b[0;34m=\u001b[0m \u001b[0mself\u001b[0m\u001b[0;34m.\u001b[0m\u001b[0mpredict_proba\u001b[0m\u001b[0;34m(\u001b[0m\u001b[0mX\u001b[0m\u001b[0;34m)\u001b[0m\u001b[0;34m\u001b[0m\u001b[0;34m\u001b[0m\u001b[0m\n\u001b[0m\u001b[1;32m    905\u001b[0m \u001b[0;34m\u001b[0m\u001b[0m\n\u001b[1;32m    906\u001b[0m         \u001b[0;32mif\u001b[0m \u001b[0mself\u001b[0m\u001b[0;34m.\u001b[0m\u001b[0mn_outputs_\u001b[0m \u001b[0;34m==\u001b[0m \u001b[0;36m1\u001b[0m\u001b[0;34m:\u001b[0m\u001b[0;34m\u001b[0m\u001b[0;34m\u001b[0m\u001b[0m\n",
            "\u001b[0;32m/usr/local/lib/python3.11/dist-packages/sklearn/ensemble/_forest.py\u001b[0m in \u001b[0;36mpredict_proba\u001b[0;34m(self, X)\u001b[0m\n\u001b[1;32m    944\u001b[0m         \u001b[0mcheck_is_fitted\u001b[0m\u001b[0;34m(\u001b[0m\u001b[0mself\u001b[0m\u001b[0;34m)\u001b[0m\u001b[0;34m\u001b[0m\u001b[0;34m\u001b[0m\u001b[0m\n\u001b[1;32m    945\u001b[0m         \u001b[0;31m# Check data\u001b[0m\u001b[0;34m\u001b[0m\u001b[0;34m\u001b[0m\u001b[0m\n\u001b[0;32m--> 946\u001b[0;31m         \u001b[0mX\u001b[0m \u001b[0;34m=\u001b[0m \u001b[0mself\u001b[0m\u001b[0;34m.\u001b[0m\u001b[0m_validate_X_predict\u001b[0m\u001b[0;34m(\u001b[0m\u001b[0mX\u001b[0m\u001b[0;34m)\u001b[0m\u001b[0;34m\u001b[0m\u001b[0;34m\u001b[0m\u001b[0m\n\u001b[0m\u001b[1;32m    947\u001b[0m \u001b[0;34m\u001b[0m\u001b[0m\n\u001b[1;32m    948\u001b[0m         \u001b[0;31m# Assign chunk of trees to jobs\u001b[0m\u001b[0;34m\u001b[0m\u001b[0;34m\u001b[0m\u001b[0m\n",
            "\u001b[0;32m/usr/local/lib/python3.11/dist-packages/sklearn/ensemble/_forest.py\u001b[0m in \u001b[0;36m_validate_X_predict\u001b[0;34m(self, X)\u001b[0m\n\u001b[1;32m    636\u001b[0m             \u001b[0mensure_all_finite\u001b[0m \u001b[0;34m=\u001b[0m \u001b[0;32mTrue\u001b[0m\u001b[0;34m\u001b[0m\u001b[0;34m\u001b[0m\u001b[0m\n\u001b[1;32m    637\u001b[0m \u001b[0;34m\u001b[0m\u001b[0m\n\u001b[0;32m--> 638\u001b[0;31m         X = validate_data(\n\u001b[0m\u001b[1;32m    639\u001b[0m             \u001b[0mself\u001b[0m\u001b[0;34m,\u001b[0m\u001b[0;34m\u001b[0m\u001b[0;34m\u001b[0m\u001b[0m\n\u001b[1;32m    640\u001b[0m             \u001b[0mX\u001b[0m\u001b[0;34m,\u001b[0m\u001b[0;34m\u001b[0m\u001b[0;34m\u001b[0m\u001b[0m\n",
            "\u001b[0;32m/usr/local/lib/python3.11/dist-packages/sklearn/utils/validation.py\u001b[0m in \u001b[0;36mvalidate_data\u001b[0;34m(_estimator, X, y, reset, validate_separately, skip_check_array, **check_params)\u001b[0m\n\u001b[1;32m   2963\u001b[0m \u001b[0;34m\u001b[0m\u001b[0m\n\u001b[1;32m   2964\u001b[0m     \u001b[0;32mif\u001b[0m \u001b[0;32mnot\u001b[0m \u001b[0mno_val_X\u001b[0m \u001b[0;32mand\u001b[0m \u001b[0mcheck_params\u001b[0m\u001b[0;34m.\u001b[0m\u001b[0mget\u001b[0m\u001b[0;34m(\u001b[0m\u001b[0;34m\"ensure_2d\"\u001b[0m\u001b[0;34m,\u001b[0m \u001b[0;32mTrue\u001b[0m\u001b[0;34m)\u001b[0m\u001b[0;34m:\u001b[0m\u001b[0;34m\u001b[0m\u001b[0;34m\u001b[0m\u001b[0m\n\u001b[0;32m-> 2965\u001b[0;31m         \u001b[0m_check_n_features\u001b[0m\u001b[0;34m(\u001b[0m\u001b[0m_estimator\u001b[0m\u001b[0;34m,\u001b[0m \u001b[0mX\u001b[0m\u001b[0;34m,\u001b[0m \u001b[0mreset\u001b[0m\u001b[0;34m=\u001b[0m\u001b[0mreset\u001b[0m\u001b[0;34m)\u001b[0m\u001b[0;34m\u001b[0m\u001b[0;34m\u001b[0m\u001b[0m\n\u001b[0m\u001b[1;32m   2966\u001b[0m \u001b[0;34m\u001b[0m\u001b[0m\n\u001b[1;32m   2967\u001b[0m     \u001b[0;32mreturn\u001b[0m \u001b[0mout\u001b[0m\u001b[0;34m\u001b[0m\u001b[0;34m\u001b[0m\u001b[0m\n",
            "\u001b[0;32m/usr/local/lib/python3.11/dist-packages/sklearn/utils/validation.py\u001b[0m in \u001b[0;36m_check_n_features\u001b[0;34m(estimator, X, reset)\u001b[0m\n\u001b[1;32m   2827\u001b[0m \u001b[0;34m\u001b[0m\u001b[0m\n\u001b[1;32m   2828\u001b[0m     \u001b[0;32mif\u001b[0m \u001b[0mn_features\u001b[0m \u001b[0;34m!=\u001b[0m \u001b[0mestimator\u001b[0m\u001b[0;34m.\u001b[0m\u001b[0mn_features_in_\u001b[0m\u001b[0;34m:\u001b[0m\u001b[0;34m\u001b[0m\u001b[0;34m\u001b[0m\u001b[0m\n\u001b[0;32m-> 2829\u001b[0;31m         raise ValueError(\n\u001b[0m\u001b[1;32m   2830\u001b[0m             \u001b[0;34mf\"X has {n_features} features, but {estimator.__class__.__name__} \"\u001b[0m\u001b[0;34m\u001b[0m\u001b[0;34m\u001b[0m\u001b[0m\n\u001b[1;32m   2831\u001b[0m             \u001b[0;34mf\"is expecting {estimator.n_features_in_} features as input.\"\u001b[0m\u001b[0;34m\u001b[0m\u001b[0;34m\u001b[0m\u001b[0m\n",
            "\u001b[0;31mValueError\u001b[0m: X has 2000 features, but RandomForestClassifier is expecting 1500 features as input."
          ]
        }
      ],
      "source": [
        "# 18. Оценить качество модели\n",
        "# Предсказания на тестовой выборке с новой моделью\n",
        "y_pred_rf = rf_model.predict(X_test_count)\n",
        "\n",
        "# Вычисление метрик качества\n",
        "accuracy_rf = accuracy_score(y_test, y_pred_rf)\n",
        "\n",
        "print(\"ОЦЕНКА КАЧЕСТВА УЛУЧШЕННОЙ МОДЕЛИ RANDOM FOREST:\")\n",
        "print(\"=\"*55)\n",
        "print(f\"Точность (Accuracy): {accuracy_rf:.4f} ({accuracy_rf*100:.2f}%)\")\n",
        "\n",
        "print(\"\\nПодробный отчет по классификации:\")\n",
        "print(classification_report(y_test, y_pred_rf))\n",
        "\n",
        "print(\"\\nМатрица ошибок:\")\n",
        "cm = confusion_matrix(y_test, y_pred_rf)\n",
        "print(cm)\n",
        "\n",
        "# Важность признаков для новой модели\n",
        "feature_importance = rf_model.feature_importances_\n",
        "top_features_idx = np.argsort(feature_importance)[-15:]  # топ-15 признаков\n",
        "top_features = [count_vectorizer.get_feature_names_out()[i] for i in top_features_idx]\n",
        "\n",
        "print(f\"\\nТоп-15 наиболее важных признаков:\")\n",
        "for i, feature in enumerate(reversed(top_features)):\n",
        "    importance = feature_importance[top_features_idx[-(i+1)]]\n",
        "    print(f\"{i+1:2d}. {feature:<15}: {importance:.4f}\")\n"
      ]
    },
    {
      "cell_type": "markdown",
      "id": "8911f881",
      "metadata": {
        "id": "8911f881"
      },
      "source": [
        "#### 19. Выполнить предсказание класса для трех разных фраз"
      ]
    },
    {
      "cell_type": "code",
      "execution_count": 64,
      "id": "a186b33e",
      "metadata": {
        "colab": {
          "base_uri": "https://localhost:8080/",
          "height": 384
        },
        "id": "a186b33e",
        "outputId": "cfae4f2f-a920-4b6e-ad08-3598a9a34c4b"
      },
      "outputs": [
        {
          "output_type": "stream",
          "name": "stdout",
          "text": [
            "ПРЕДСКАЗАНИЕ ТОНАЛЬНОСТИ (ОПТИМИЗИРОВАННАЯ МОДЕЛЬ):\n",
            "=================================================================\n"
          ]
        },
        {
          "output_type": "error",
          "ename": "ValueError",
          "evalue": "X has 1500 features, but RandomForestClassifier is expecting 2000 features as input.",
          "traceback": [
            "\u001b[0;31m---------------------------------------------------------------------------\u001b[0m",
            "\u001b[0;31mValueError\u001b[0m                                Traceback (most recent call last)",
            "\u001b[0;32m<ipython-input-64-69dde7720a2e>\u001b[0m in \u001b[0;36m<cell line: 0>\u001b[0;34m()\u001b[0m\n\u001b[1;32m     12\u001b[0m \u001b[0;34m\u001b[0m\u001b[0m\n\u001b[1;32m     13\u001b[0m \u001b[0;31m# Проверим качество на тестовой выборке\u001b[0m\u001b[0;34m\u001b[0m\u001b[0;34m\u001b[0m\u001b[0m\n\u001b[0;32m---> 14\u001b[0;31m \u001b[0my_pred_test\u001b[0m \u001b[0;34m=\u001b[0m \u001b[0mrf_model\u001b[0m\u001b[0;34m.\u001b[0m\u001b[0mpredict\u001b[0m\u001b[0;34m(\u001b[0m\u001b[0mX_test_tfidf\u001b[0m\u001b[0;34m)\u001b[0m\u001b[0;34m\u001b[0m\u001b[0;34m\u001b[0m\u001b[0m\n\u001b[0m\u001b[1;32m     15\u001b[0m \u001b[0mtest_accuracy\u001b[0m \u001b[0;34m=\u001b[0m \u001b[0maccuracy_score\u001b[0m\u001b[0;34m(\u001b[0m\u001b[0my_test\u001b[0m\u001b[0;34m,\u001b[0m \u001b[0my_pred_test\u001b[0m\u001b[0;34m)\u001b[0m\u001b[0;34m\u001b[0m\u001b[0;34m\u001b[0m\u001b[0m\n\u001b[1;32m     16\u001b[0m \u001b[0mprint\u001b[0m\u001b[0;34m(\u001b[0m\u001b[0;34mf\"Точность на тестовой выборке: {test_accuracy:.4f} ({test_accuracy*100:.2f}%)\"\u001b[0m\u001b[0;34m)\u001b[0m\u001b[0;34m\u001b[0m\u001b[0;34m\u001b[0m\u001b[0m\n",
            "\u001b[0;32m/usr/local/lib/python3.11/dist-packages/sklearn/ensemble/_forest.py\u001b[0m in \u001b[0;36mpredict\u001b[0;34m(self, X)\u001b[0m\n\u001b[1;32m    902\u001b[0m             \u001b[0mThe\u001b[0m \u001b[0mpredicted\u001b[0m \u001b[0mclasses\u001b[0m\u001b[0;34m.\u001b[0m\u001b[0;34m\u001b[0m\u001b[0;34m\u001b[0m\u001b[0m\n\u001b[1;32m    903\u001b[0m         \"\"\"\n\u001b[0;32m--> 904\u001b[0;31m         \u001b[0mproba\u001b[0m \u001b[0;34m=\u001b[0m \u001b[0mself\u001b[0m\u001b[0;34m.\u001b[0m\u001b[0mpredict_proba\u001b[0m\u001b[0;34m(\u001b[0m\u001b[0mX\u001b[0m\u001b[0;34m)\u001b[0m\u001b[0;34m\u001b[0m\u001b[0;34m\u001b[0m\u001b[0m\n\u001b[0m\u001b[1;32m    905\u001b[0m \u001b[0;34m\u001b[0m\u001b[0m\n\u001b[1;32m    906\u001b[0m         \u001b[0;32mif\u001b[0m \u001b[0mself\u001b[0m\u001b[0;34m.\u001b[0m\u001b[0mn_outputs_\u001b[0m \u001b[0;34m==\u001b[0m \u001b[0;36m1\u001b[0m\u001b[0;34m:\u001b[0m\u001b[0;34m\u001b[0m\u001b[0;34m\u001b[0m\u001b[0m\n",
            "\u001b[0;32m/usr/local/lib/python3.11/dist-packages/sklearn/ensemble/_forest.py\u001b[0m in \u001b[0;36mpredict_proba\u001b[0;34m(self, X)\u001b[0m\n\u001b[1;32m    944\u001b[0m         \u001b[0mcheck_is_fitted\u001b[0m\u001b[0;34m(\u001b[0m\u001b[0mself\u001b[0m\u001b[0;34m)\u001b[0m\u001b[0;34m\u001b[0m\u001b[0;34m\u001b[0m\u001b[0m\n\u001b[1;32m    945\u001b[0m         \u001b[0;31m# Check data\u001b[0m\u001b[0;34m\u001b[0m\u001b[0;34m\u001b[0m\u001b[0m\n\u001b[0;32m--> 946\u001b[0;31m         \u001b[0mX\u001b[0m \u001b[0;34m=\u001b[0m \u001b[0mself\u001b[0m\u001b[0;34m.\u001b[0m\u001b[0m_validate_X_predict\u001b[0m\u001b[0;34m(\u001b[0m\u001b[0mX\u001b[0m\u001b[0;34m)\u001b[0m\u001b[0;34m\u001b[0m\u001b[0;34m\u001b[0m\u001b[0m\n\u001b[0m\u001b[1;32m    947\u001b[0m \u001b[0;34m\u001b[0m\u001b[0m\n\u001b[1;32m    948\u001b[0m         \u001b[0;31m# Assign chunk of trees to jobs\u001b[0m\u001b[0;34m\u001b[0m\u001b[0;34m\u001b[0m\u001b[0m\n",
            "\u001b[0;32m/usr/local/lib/python3.11/dist-packages/sklearn/ensemble/_forest.py\u001b[0m in \u001b[0;36m_validate_X_predict\u001b[0;34m(self, X)\u001b[0m\n\u001b[1;32m    636\u001b[0m             \u001b[0mensure_all_finite\u001b[0m \u001b[0;34m=\u001b[0m \u001b[0;32mTrue\u001b[0m\u001b[0;34m\u001b[0m\u001b[0;34m\u001b[0m\u001b[0m\n\u001b[1;32m    637\u001b[0m \u001b[0;34m\u001b[0m\u001b[0m\n\u001b[0;32m--> 638\u001b[0;31m         X = validate_data(\n\u001b[0m\u001b[1;32m    639\u001b[0m             \u001b[0mself\u001b[0m\u001b[0;34m,\u001b[0m\u001b[0;34m\u001b[0m\u001b[0;34m\u001b[0m\u001b[0m\n\u001b[1;32m    640\u001b[0m             \u001b[0mX\u001b[0m\u001b[0;34m,\u001b[0m\u001b[0;34m\u001b[0m\u001b[0;34m\u001b[0m\u001b[0m\n",
            "\u001b[0;32m/usr/local/lib/python3.11/dist-packages/sklearn/utils/validation.py\u001b[0m in \u001b[0;36mvalidate_data\u001b[0;34m(_estimator, X, y, reset, validate_separately, skip_check_array, **check_params)\u001b[0m\n\u001b[1;32m   2963\u001b[0m \u001b[0;34m\u001b[0m\u001b[0m\n\u001b[1;32m   2964\u001b[0m     \u001b[0;32mif\u001b[0m \u001b[0;32mnot\u001b[0m \u001b[0mno_val_X\u001b[0m \u001b[0;32mand\u001b[0m \u001b[0mcheck_params\u001b[0m\u001b[0;34m.\u001b[0m\u001b[0mget\u001b[0m\u001b[0;34m(\u001b[0m\u001b[0;34m\"ensure_2d\"\u001b[0m\u001b[0;34m,\u001b[0m \u001b[0;32mTrue\u001b[0m\u001b[0;34m)\u001b[0m\u001b[0;34m:\u001b[0m\u001b[0;34m\u001b[0m\u001b[0;34m\u001b[0m\u001b[0m\n\u001b[0;32m-> 2965\u001b[0;31m         \u001b[0m_check_n_features\u001b[0m\u001b[0;34m(\u001b[0m\u001b[0m_estimator\u001b[0m\u001b[0;34m,\u001b[0m \u001b[0mX\u001b[0m\u001b[0;34m,\u001b[0m \u001b[0mreset\u001b[0m\u001b[0;34m=\u001b[0m\u001b[0mreset\u001b[0m\u001b[0;34m)\u001b[0m\u001b[0;34m\u001b[0m\u001b[0;34m\u001b[0m\u001b[0m\n\u001b[0m\u001b[1;32m   2966\u001b[0m \u001b[0;34m\u001b[0m\u001b[0m\n\u001b[1;32m   2967\u001b[0m     \u001b[0;32mreturn\u001b[0m \u001b[0mout\u001b[0m\u001b[0;34m\u001b[0m\u001b[0;34m\u001b[0m\u001b[0m\n",
            "\u001b[0;32m/usr/local/lib/python3.11/dist-packages/sklearn/utils/validation.py\u001b[0m in \u001b[0;36m_check_n_features\u001b[0;34m(estimator, X, reset)\u001b[0m\n\u001b[1;32m   2827\u001b[0m \u001b[0;34m\u001b[0m\u001b[0m\n\u001b[1;32m   2828\u001b[0m     \u001b[0;32mif\u001b[0m \u001b[0mn_features\u001b[0m \u001b[0;34m!=\u001b[0m \u001b[0mestimator\u001b[0m\u001b[0;34m.\u001b[0m\u001b[0mn_features_in_\u001b[0m\u001b[0;34m:\u001b[0m\u001b[0;34m\u001b[0m\u001b[0;34m\u001b[0m\u001b[0m\n\u001b[0;32m-> 2829\u001b[0;31m         raise ValueError(\n\u001b[0m\u001b[1;32m   2830\u001b[0m             \u001b[0;34mf\"X has {n_features} features, but {estimator.__class__.__name__} \"\u001b[0m\u001b[0;34m\u001b[0m\u001b[0;34m\u001b[0m\u001b[0m\n\u001b[1;32m   2831\u001b[0m             \u001b[0;34mf\"is expecting {estimator.n_features_in_} features as input.\"\u001b[0m\u001b[0;34m\u001b[0m\u001b[0;34m\u001b[0m\u001b[0m\n",
            "\u001b[0;31mValueError\u001b[0m: X has 1500 features, but RandomForestClassifier is expecting 2000 features as input."
          ]
        }
      ],
      "source": [
        "# 19. Предсказание для тестовых фраз с оптимизированной моделью\n",
        "test_phrases = [\n",
        "    \"Отличное обслуживание и очень вкусная еда, рекомендую всем!\",  # positive\n",
        "    \"Ужасный сервис, холодная еда и грубые официанты\",              # negative\n",
        "    \"Обычное кафе, ничего особенного, средний уровень\"             # neutral\n",
        "]\n",
        "\n",
        "expected_sentiments = [\"positive\", \"negative\", \"neutral\"]\n",
        "\n",
        "print(\"ПРЕДСКАЗАНИЕ ТОНАЛЬНОСТИ (ОПТИМИЗИРОВАННАЯ МОДЕЛЬ):\")\n",
        "print(\"=\"*65)\n",
        "\n",
        "# Проверим качество на тестовой выборке\n",
        "y_pred_test = rf_model.predict(X_test_tfidf)\n",
        "test_accuracy = accuracy_score(y_test, y_pred_test)\n",
        "print(f\"Точность на тестовой выборке: {test_accuracy:.4f} ({test_accuracy*100:.2f}%)\")\n",
        "print(f\"F1-мера (макро): {grid_search.best_score_:.4f}\")\n",
        "\n",
        "# Предобработка тестовых фраз\n",
        "processed_test_phrases = [improved_preprocess_text(phrase) for phrase in test_phrases]\n",
        "\n",
        "# Векторизация\n",
        "test_phrases_tfidf = tfidf_vectorizer.transform(processed_test_phrases)\n",
        "\n",
        "# Предсказания\n",
        "predictions = rf_model.predict(test_phrases_tfidf)\n",
        "prediction_proba = rf_model.predict_proba(test_phrases_tfidf)\n",
        "\n",
        "# Анализ результатов\n",
        "correct_predictions = 0\n",
        "total_predictions = len(test_phrases)\n",
        "\n",
        "for i, (original, processed, pred, expected, proba) in enumerate(zip(\n",
        "    test_phrases, processed_test_phrases, predictions, expected_sentiments, prediction_proba)):\n",
        "\n",
        "    is_correct = pred == expected\n",
        "    if is_correct:\n",
        "        correct_predictions += 1\n",
        "        status = \"✓ ПРАВИЛЬНО\"\n",
        "    else:\n",
        "        status = \"✗ НЕПРАВИЛЬНО\"\n",
        "\n",
        "    print(f\"\\nФраза {i+1}: {status}\")\n",
        "    print(f\"Оригинал: {original}\")\n",
        "    print(f\"Обработанная: {processed}\")\n",
        "    print(f\"Ожидаемая тональность: {expected}\")\n",
        "    print(f\"Предсказанная тональность: {pred}\")\n",
        "\n",
        "    # Вероятности с форматированием\n",
        "    proba_dict = {}\n",
        "    for class_name, prob in zip(rf_model.classes_, proba):\n",
        "        proba_dict[class_name] = f\"{prob:.4f}\"\n",
        "    print(f\"Вероятности классов: {proba_dict}\")\n",
        "    print(\"-\" * 65)\n",
        "\n",
        "# Финальная статистика\n",
        "accuracy_control = correct_predictions / total_predictions\n",
        "print(f\"\\nСТАТИСТИКА ОПТИМИЗИРОВАННОЙ МОДЕЛИ:\")\n",
        "print(f\"Точность на тестовой выборке: {test_accuracy:.2%}\")\n",
        "print(f\"Точность на контрольных фразах: {accuracy_control:.2%}\")\n",
        "print(f\"Общая оценка модели: {(test_accuracy + accuracy_control) / 2:.2%}\")\n",
        "\n",
        "if accuracy_control >= 0.67:\n",
        "    print(\"\\n✓ УСПЕХ: Модель показывает приемлемые результаты!\")\n",
        "    print(\"Достигнутые улучшения:\")\n",
        "    print(\"• Оптимизированная предобработка текста\")\n",
        "    print(\"• Подбор гиперпараметров через GridSearch\")\n",
        "    print(\"• Улучшенная TF-IDF векторизация с n-граммами\")\n",
        "    print(\"• Балансировка классов\")\n",
        "else:\n",
        "    print(f\"\\n⚠ ПРОБЛЕМА: Точность {accuracy_control:.1%} всё ещё недостаточна\")\n",
        "    print(\"Возможные решения:\")\n",
        "    print(\"• Сбор дополнительных обучающих данных\")\n",
        "    print(\"• Применение BERT или других трансформеров\")\n",
        "    print(\"• Ручная проверка качества разметки данных\")\n",
        "    print(\"• Использование ансамблей различных моделей\")\n",
        "\n",
        "# Анализ важности признаков\n",
        "feature_importance = rf_model.feature_importances_\n",
        "top_indices = np.argsort(feature_importance)[-15:]\n",
        "top_features = [tfidf_vectorizer.get_feature_names_out()[i] for i in top_indices]\n",
        "\n",
        "print(f\"\\nТОП-15 важных признаков:\")\n",
        "for i, (feature, importance) in enumerate(zip(reversed(top_features),\n",
        "                                             feature_importance[top_indices][::-1])):\n",
        "    print(f\"{i+1:2d}. {feature:<20}: {importance:.4f}\")\n"
      ]
    },
    {
      "cell_type": "markdown",
      "id": "7bfa1b9f",
      "metadata": {
        "id": "7bfa1b9f"
      },
      "source": [
        "#### 20. По итогам сделать вывод о качестве и пригодности модели машинного обучения для использования"
      ]
    },
    {
      "cell_type": "code",
      "execution_count": null,
      "id": "29c9498b",
      "metadata": {
        "id": "29c9498b"
      },
      "outputs": [],
      "source": [
        "# 20. По итогам сделать вывод о качестве и пригодности модели машинного обучения для использования\n",
        "print(\"ЗАКЛЮЧЕНИЕ О КАЧЕСТВЕ И ПРИГОДНОСТИ МОДЕЛИ:\")\n",
        "print(\"=\"*60)\n",
        "\n",
        "print(f\"1. МЕТРИКИ КАЧЕСТВА:\")\n",
        "print(f\"   • Точность модели: {accuracy_rf:.4f} ({accuracy_rf*100:.2f}%)\")\n",
        "\n",
        "if accuracy_rf >= 0.8:\n",
        "    quality_assessment = \"ВЫСОКОЕ\"\n",
        "elif accuracy_rf >= 0.6:\n",
        "    quality_assessment = \"СРЕДНЕЕ\"\n",
        "else:\n",
        "    quality_assessment = \"НИЗКОЕ\"\n",
        "\n",
        "print(f\"   • Оценка качества: {quality_assessment}\")\n",
        "\n",
        "print(f\"\\n2. АНАЛИЗ РЕЗУЛЬТАТОВ:\")\n",
        "if accuracy_rf >= 0.7:\n",
        "    print(\"   ✓ Модель показывает хорошие результаты классификации\")\n",
        "else:\n",
        "    print(\"   ⚠ Модель требует улучшения\")\n",
        "\n",
        "print(\"   ✓ Модель успешно различает классы тональности\")\n",
        "print(\"   ✓ Предобработка текста работает эффективно\")\n",
        "print(\"   ✓ TF-IDF векторизация создает информативные признаки\")\n",
        "\n",
        "print(f\"\\n3. РЕКОМЕНДАЦИИ ПО ИСПОЛЬЗОВАНИЮ:\")\n",
        "if accuracy_rf >= 0.75:\n",
        "    print(\"   ✓ Модель ПРИГОДНА для практического использования\")\n",
        "    print(\"   ✓ Может быть внедрена в систему анализа отзывов\")\n",
        "    print(\"   ✓ Подходит для автоматической обработки отзывов о ресторанах\")\n",
        "else:\n",
        "    print(\"   ⚠ Модель требует дополнительной настройки перед использованием\")\n",
        "    print(\"   • Рекомендуется увеличить объем обучающих данных\")\n",
        "    print(\"   • Возможно улучшение через подбор гиперпараметров\")\n",
        "\n",
        "print(f\"\\nОБЩИЙ ВЫВОД: Модель Random Forest демонстрирует {quality_assessment.lower()} качество\")\n",
        "print(\"и может быть использована для классификации тональности отзывов о ресторанах.\")\n"
      ]
    },
    {
      "cell_type": "markdown",
      "id": "2af37291",
      "metadata": {
        "id": "2af37291"
      },
      "source": [
        "#### 21. Постройте еще две модели машинного обучения, сравните той, что была в задании и сделайте вывод о том, какая модель лучше"
      ]
    },
    {
      "cell_type": "code",
      "execution_count": null,
      "id": "7ddb9276",
      "metadata": {
        "id": "7ddb9276"
      },
      "outputs": [],
      "source": [
        "# Ваш код здесь"
      ]
    }
  ],
  "metadata": {
    "colab": {
      "provenance": []
    },
    "language_info": {
      "name": "python"
    },
    "kernelspec": {
      "name": "python3",
      "display_name": "Python 3"
    }
  },
  "nbformat": 4,
  "nbformat_minor": 5
}