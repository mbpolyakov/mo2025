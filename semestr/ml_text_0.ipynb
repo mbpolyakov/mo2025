{
 "cells": [
  {
   "cell_type": "markdown",
   "id": "831ed9e5",
   "metadata": {},
   "source": [
    "# Экзаменационное проектное задание\n",
    "\n",
    "## Шкала оценивания\n",
    "\n",
    "- **Оценка 3-4:** Нужно построить модель машинного обучения с классификатором по заданию\n",
    "\n",
    "- **Оценка 5:** Нужно применить 2 дополнительных классификатора, сравнить и сделать выводы какой лучше"
   ]
  },
  {
   "cell_type": "markdown",
   "id": "698b5b0e",
   "metadata": {},
   "source": [
    "# Часть I. Подготовка набора данных: Отзывы о ресторанах"
   ]
  },
  {
   "cell_type": "markdown",
   "id": "fdc16b45",
   "metadata": {},
   "source": [
    "## Задание\n",
    "\n",
    "Вам предлагается выполнить подготовку набора данных\n",
    "\n",
    "Описание набора данных: Отзывы пользователей о ресторанах. Целевая переменная - тональность отзыва\n",
    "\n",
    "Ссылка на набор данных для использования в блокноте: https://raw.githubusercontent.com/yakushinav/mo2025/refs/heads/main/data/rest01.csv"
   ]
  },
  {
   "cell_type": "markdown",
   "id": "4d0d8cb2",
   "metadata": {},
   "source": [
    "#### 1. Подключение библиотек"
   ]
  },
  {
   "cell_type": "code",
   "execution_count": null,
   "id": "ccb62996",
   "metadata": {},
   "outputs": [],
   "source": [
    "# Ваш код здесь"
   ]
  },
  {
   "cell_type": "markdown",
   "id": "cd30016a",
   "metadata": {},
   "source": [
    "#### 2. Чтение набора данных"
   ]
  },
  {
   "cell_type": "code",
   "execution_count": null,
   "id": "224422ac",
   "metadata": {},
   "outputs": [],
   "source": [
    "# Ваш код здесь"
   ]
  },
  {
   "cell_type": "markdown",
   "id": "dc566934",
   "metadata": {},
   "source": [
    "#### 3. Первые 7 строк набора данных"
   ]
  },
  {
   "cell_type": "code",
   "execution_count": null,
   "id": "cefd0320",
   "metadata": {},
   "outputs": [],
   "source": [
    "# Ваш код здесь"
   ]
  },
  {
   "cell_type": "markdown",
   "id": "477aa0cf",
   "metadata": {},
   "source": [
    "#### 4. Последние 5 строк набора данных"
   ]
  },
  {
   "cell_type": "code",
   "execution_count": null,
   "id": "41a02fd9",
   "metadata": {},
   "outputs": [],
   "source": [
    "# Ваш код здесь"
   ]
  },
  {
   "cell_type": "markdown",
   "id": "32646235",
   "metadata": {},
   "source": [
    "#### 5. Поля набора данных"
   ]
  },
  {
   "cell_type": "code",
   "execution_count": null,
   "id": "2ba242a6",
   "metadata": {},
   "outputs": [],
   "source": [
    "# Ваш код здесь"
   ]
  },
  {
   "cell_type": "markdown",
   "id": "7ef5002e",
   "metadata": {},
   "source": [
    "#### 6. Размер набора данных (количество полей и строк)"
   ]
  },
  {
   "cell_type": "code",
   "execution_count": null,
   "id": "ec03d13f",
   "metadata": {},
   "outputs": [],
   "source": [
    "# Ваш код здесь"
   ]
  },
  {
   "cell_type": "markdown",
   "id": "de6fe170",
   "metadata": {},
   "source": [
    "#### 7. Опишите поля набора данных в формате: название поля, тип данных, назначение поля"
   ]
  },
  {
   "cell_type": "code",
   "execution_count": null,
   "id": "fc5e47c4",
   "metadata": {},
   "outputs": [],
   "source": [
    "# Ваш код здесь"
   ]
  },
  {
   "cell_type": "markdown",
   "id": "e9b5d265",
   "metadata": {},
   "source": [
    "#### 8. Информация о наборе данных"
   ]
  },
  {
   "cell_type": "code",
   "execution_count": null,
   "id": "5ee67609",
   "metadata": {},
   "outputs": [],
   "source": [
    "# Ваш код здесь"
   ]
  },
  {
   "cell_type": "markdown",
   "id": "e076e26a",
   "metadata": {},
   "source": [
    "#### 9. Проверка наличия пропусков в данных"
   ]
  },
  {
   "cell_type": "code",
   "execution_count": null,
   "id": "b8e45bcc",
   "metadata": {},
   "outputs": [],
   "source": [
    "# Ваш код здесь"
   ]
  },
  {
   "cell_type": "markdown",
   "id": "e29d8c92",
   "metadata": {},
   "source": [
    "#### 10. Если вы обнаружили пропуски в данных, то удалите их"
   ]
  },
  {
   "cell_type": "code",
   "execution_count": null,
   "id": "31cbc03b",
   "metadata": {},
   "outputs": [],
   "source": [
    "# Ваш код здесь"
   ]
  },
  {
   "cell_type": "markdown",
   "id": "8f82e446",
   "metadata": {},
   "source": [
    "#### 11. Проведите предобработку текстовых данных: удаление символов, лемматизация, стоп слова, перевод в нижний регистр"
   ]
  },
  {
   "cell_type": "code",
   "execution_count": null,
   "id": "da0daa0b",
   "metadata": {},
   "outputs": [],
   "source": [
    "# Ваш код здесь"
   ]
  },
  {
   "cell_type": "markdown",
   "id": "58375ceb",
   "metadata": {},
   "source": [
    "#### 12. Сделайте вывод о пригодности набора данных для построения модели машинного обучения"
   ]
  },
  {
   "cell_type": "code",
   "execution_count": null,
   "id": "cea16830",
   "metadata": {},
   "outputs": [],
   "source": [
    "# Ваш ответ здесь"
   ]
  },
  {
   "cell_type": "markdown",
   "id": "3ae2e352",
   "metadata": {},
   "source": [
    "# Часть II. Построение модели машинного обучения для набора данных: Отзывы о ресторанах"
   ]
  },
  {
   "cell_type": "markdown",
   "id": "6f0b261f",
   "metadata": {},
   "source": [
    "## Задание\n",
    "\n",
    "Вам нужно решить задачу классификации с помощью алгоритма \n",
    "\n",
    "Случайный лес RandomForestClassifier\n",
    "\n",
    "\n",
    "\n",
    "Целевая переменная, результат: **feedback**"
   ]
  },
  {
   "cell_type": "markdown",
   "id": "d60003c6",
   "metadata": {},
   "source": [
    "#### 13. Разделить выборку на признаки (Х) и результат (Y)"
   ]
  },
  {
   "cell_type": "code",
   "execution_count": null,
   "id": "79fce5f9",
   "metadata": {},
   "outputs": [],
   "source": [
    "# Ваш код здесь"
   ]
  },
  {
   "cell_type": "markdown",
   "id": "c14ac8e1",
   "metadata": {},
   "source": [
    "#### 14. Разделить на обучающую и тестовую выборки"
   ]
  },
  {
   "cell_type": "code",
   "execution_count": null,
   "id": "f08dda91",
   "metadata": {},
   "outputs": [],
   "source": [
    "# Ваш код здесь"
   ]
  },
  {
   "cell_type": "markdown",
   "id": "c2f48820",
   "metadata": {},
   "source": [
    "#### 15. TF-IDF векторизация и мешок слов"
   ]
  },
  {
   "cell_type": "code",
   "execution_count": null,
   "id": "ccb49bf2",
   "metadata": {},
   "outputs": [],
   "source": [
    "# Ваш код здесь"
   ]
  },
  {
   "cell_type": "markdown",
   "id": "1eb8bfb4",
   "metadata": {},
   "source": [
    "#### 16. Сформировать модель машинного обучения"
   ]
  },
  {
   "cell_type": "code",
   "execution_count": null,
   "id": "71354b1a",
   "metadata": {},
   "outputs": [],
   "source": [
    "# Ваш код здесь"
   ]
  },
  {
   "cell_type": "markdown",
   "id": "bcb65a7a",
   "metadata": {},
   "source": [
    "#### 17. Обучить модель"
   ]
  },
  {
   "cell_type": "code",
   "execution_count": null,
   "id": "c06e9d88",
   "metadata": {},
   "outputs": [],
   "source": [
    "# Ваш код здесь"
   ]
  },
  {
   "cell_type": "markdown",
   "id": "c0fa0c0d",
   "metadata": {},
   "source": [
    "#### 18. Оценить качество модели"
   ]
  },
  {
   "cell_type": "code",
   "execution_count": null,
   "id": "ba4f50ee",
   "metadata": {},
   "outputs": [],
   "source": [
    "# Ваш код здесь"
   ]
  },
  {
   "cell_type": "markdown",
   "id": "8911f881",
   "metadata": {},
   "source": [
    "#### 19. Выполнить предсказание класса для трех разных фраз"
   ]
  },
  {
   "cell_type": "code",
   "execution_count": null,
   "id": "a186b33e",
   "metadata": {},
   "outputs": [],
   "source": [
    "# Ваш код здесь"
   ]
  },
  {
   "cell_type": "markdown",
   "id": "7bfa1b9f",
   "metadata": {},
   "source": [
    "#### 20. По итогам сделать вывод о качестве и пригодности модели машинного обучения для использования"
   ]
  },
  {
   "cell_type": "code",
   "execution_count": null,
   "id": "29c9498b",
   "metadata": {},
   "outputs": [],
   "source": [
    "# Ваш код здесь"
   ]
  },
  {
   "cell_type": "markdown",
   "id": "2af37291",
   "metadata": {},
   "source": [
    "#### 21. Постройте еще две модели машинного обучения, сравните той, что была в задании и сделайте вывод о том, какая модель лучше"
   ]
  },
  {
   "cell_type": "code",
   "execution_count": null,
   "id": "7ddb9276",
   "metadata": {},
   "outputs": [],
   "source": [
    "# Ваш код здесь"
   ]
  }
 ],
 "metadata": {},
 "nbformat": 4,
 "nbformat_minor": 5
}
