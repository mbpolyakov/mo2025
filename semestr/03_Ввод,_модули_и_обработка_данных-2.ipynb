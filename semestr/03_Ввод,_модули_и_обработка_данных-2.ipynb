{
  "cells": [
    {
      "cell_type": "markdown",
      "id": "8f85e9d3",
      "metadata": {
        "id": "8f85e9d3"
      },
      "source": [
        "# 03 Ввод данных. input()"
      ]
    },
    {
      "cell_type": "markdown",
      "id": "cc58dfa3",
      "metadata": {
        "id": "cc58dfa3"
      },
      "source": [
        "Познакомимся с функцией input() - ввод. Это функция позволяет нам просить\n",
        "пользователя что-нибудь ввести или принять на ввод какие-то данные."
      ]
    },
    {
      "cell_type": "code",
      "execution_count": null,
      "id": "3698fa45",
      "metadata": {
        "scrolled": true,
        "id": "3698fa45"
      },
      "outputs": [],
      "source": [
        "x = input('Как вас зовут?')\n",
        "print(x)"
      ]
    },
    {
      "cell_type": "markdown",
      "id": "2e60102b",
      "metadata": {
        "id": "2e60102b"
      },
      "source": [
        "'Как вас зовут?' - аргумент функции input(), который будет отображаться в строке ввода. Он необязателен, но он может быть полезен для вас (особенно, если в задаче требуется ввести больше одной строки данных и нужно не запутаться).\n",
        "\n",
        "Обратите внимание, что функция  input() все сохраняет в строковом формате данных. Но мы можем сделать из\n",
        "числа-строки число-число с помощью функции int(). Введите \"1\" в обоих случаях и сравните результат."
      ]
    },
    {
      "cell_type": "code",
      "execution_count": null,
      "id": "450ca3c0",
      "metadata": {
        "id": "450ca3c0"
      },
      "outputs": [],
      "source": [
        "print(type(input()))\n",
        "print(type(int(input())))"
      ]
    },
    {
      "cell_type": "markdown",
      "id": "d6194b8e",
      "metadata": {
        "id": "d6194b8e"
      },
      "source": [
        "Нужно следить за тем, какие данные вы считываете и менять их при необходимости. Сравните два примере ниже."
      ]
    },
    {
      "cell_type": "code",
      "execution_count": null,
      "id": "0888dc6c",
      "metadata": {
        "id": "0888dc6c"
      },
      "outputs": [],
      "source": [
        "x = input('Input x value: ')\n",
        "y = input('Input y value: ')\n",
        "print(x + y) # произошла склейка строк, по умолчанию input() сохраняет значение типа str"
      ]
    },
    {
      "cell_type": "code",
      "execution_count": null,
      "id": "9a993185",
      "metadata": {
        "id": "9a993185"
      },
      "outputs": [],
      "source": [
        "x = int(input('Input x value: '))\n",
        "y = int(input('Input y value: '))\n",
        "print(x + y) # вот теперь произошло сложение чисел"
      ]
    },
    {
      "cell_type": "markdown",
      "id": "2a001194",
      "metadata": {
        "id": "2a001194"
      },
      "source": [
        "## Задача 1. Pig Latin 1\n",
        "\n",
        "Pig Latin - вымышленный язык, который в конец каждого слова подставляет 'yay' (на самом деле оригинальные условия задачи несколько хитрее, но мы будем к ней возвращаться по ходу курса.\n",
        "\n",
        "**Формат ввода**  \n",
        "Пользователь вводит слова.\n",
        "\n",
        "**Формат вывода**\n",
        "Слово на Pig Latin.\n",
        "\n",
        "\n",
        "#### Примеры\n",
        "Тест 1  \n",
        "**Ввод:**  \n",
        "apple\n",
        "\n",
        "**Вывод:**  \n",
        "appleyay"
      ]
    },
    {
      "cell_type": "code",
      "execution_count": 1,
      "id": "f3e532fa",
      "metadata": {
        "id": "f3e532fa",
        "colab": {
          "base_uri": "https://localhost:8080/"
        },
        "outputId": "205711ff-d6b1-48fd-86ec-b25619d42182"
      },
      "outputs": [
        {
          "output_type": "stream",
          "name": "stdout",
          "text": [
            "Введите слово: ггш\n",
            "ггшyay\n"
          ]
        }
      ],
      "source": [
        "word = input('Введите слово: ')\n",
        "print(word+'yay')"
      ]
    },
    {
      "cell_type": "markdown",
      "id": "ea45a103",
      "metadata": {
        "id": "ea45a103"
      },
      "source": [
        "## Задача 2. Как перевести градусы Цельсия в градусы Фаренгейта\n",
        "Чтобы при помощи Python перевести градусы Цельсия в градусы Фаренгейта (или наоборот), необходимо реализовать в коде следующие формулы:\n",
        "\n",
        "Градусы Цельсия в градусы Фаренгейта:\n",
        "F = 1.8 x C + 32\n",
        "\n",
        "Градусы Фаренгейта в градусы Цельсия:\n",
        "C = (F - 32) / 1.8"
      ]
    },
    {
      "cell_type": "code",
      "execution_count": null,
      "id": "a8045be4",
      "metadata": {
        "id": "a8045be4"
      },
      "outputs": [],
      "source": [
        "# Запросить пользовательский ввод (температуру в градусах Цельсия)\n",
        "c = float(input(\"Give me a temperature in celcius: \"))\n",
        "# Преобразовать значение, введенное пользователем, в градусы Фаренгейта\n",
        "f = 1.8 * c + 32\n",
        "# Вывести результат\n",
        "print(\"The temperature is \",f,\" in fahrenheit\")"
      ]
    },
    {
      "cell_type": "code",
      "execution_count": null,
      "id": "aeea655a",
      "metadata": {
        "id": "aeea655a"
      },
      "outputs": [],
      "source": [
        "# Запросить пользовательский ввод (температуру в градусах Фаренгейта)\n",
        "f = float(input(\"Введите температуру в Фаренгейтах: \"))\n",
        "\n",
        "# Преобразовать значение, введенное пользователем, в градусы Цельсия\n",
        "c = (f - 32) / 1.8\n",
        "\n",
        "# Вывести результат\n",
        "print(\"Температура в Цельсиях:\", c)\n"
      ]
    },
    {
      "cell_type": "markdown",
      "id": "8f28db59",
      "metadata": {
        "id": "8f28db59"
      },
      "source": [
        "## Импорт модулей\n",
        "По мере количества строк вашего кода будет не лишним начинать пользоваться модулями.\n",
        "\n",
        "Модуль — это файл, содержащий функции и операторы. У всех модулей в Python есть имя, которое заканчивается расширением .py.\n",
        "\n",
        "Операторы внутри модуля могут быть импортированы в другой модуль или в интерпретатор Python. Для этого мы используем ключевое слово import.\n",
        "\n",
        "Например, мы можем импортировать модуль math. Делается это следующим образом:\n",
        "\n",
        "`import math`"
      ]
    },
    {
      "cell_type": "code",
      "execution_count": null,
      "id": "abba2114",
      "metadata": {
        "id": "abba2114"
      },
      "outputs": [],
      "source": [
        "import math\n",
        "print(math.pi)"
      ]
    },
    {
      "cell_type": "markdown",
      "id": "0a0506bf",
      "metadata": {
        "id": "0a0506bf"
      },
      "source": [
        "## Модуль random\n",
        "Модуль random позволяет генерировать случайные числа. Прежде чем использовать модуль, необходимо подключить его\n",
        "\n",
        "`import random`"
      ]
    },
    {
      "cell_type": "markdown",
      "id": "cf95f26e",
      "metadata": {
        "id": "cf95f26e"
      },
      "source": [
        "## randint\n",
        "\n",
        "Функция randint(a, b) получает на вход два целых числа и возвращает случайное значение из диапазона [a,b]    (a и b входят в этот диапазон).\n"
      ]
    },
    {
      "cell_type": "code",
      "execution_count": null,
      "id": "15d2a919",
      "metadata": {
        "id": "15d2a919"
      },
      "outputs": [],
      "source": [
        "import random\n",
        "\n",
        "random_number = random.randint(0, 125)\n",
        "print(random_number)"
      ]
    },
    {
      "cell_type": "markdown",
      "id": "984611ba",
      "metadata": {
        "id": "984611ba"
      },
      "source": [
        "## randrange\n",
        "\n",
        "В функцию randrange(start, stop[, step]) передают три целых числа:\n",
        "\n",
        "start\n",
        " – начало диапазона (входит в последовательность);\n",
        "\n",
        "stop\n",
        " – конец диапазона (в последовательность не входит);\n",
        "\n",
        "step\n",
        " – шаг генерации (если на его месте написать 0, получим ошибку \"ValueError\").\n",
        "\n",
        "На выходе функция выдает случайное число в заданном диапазоне"
      ]
    },
    {
      "cell_type": "code",
      "execution_count": null,
      "id": "903cde2b",
      "metadata": {
        "id": "903cde2b"
      },
      "outputs": [],
      "source": [
        "import random\n",
        "\n",
        "random_number = random.randrange(1, 100, 2)\n",
        "print(random_number)"
      ]
    },
    {
      "cell_type": "markdown",
      "id": "9c2e9ce0",
      "metadata": {
        "id": "9c2e9ce0"
      },
      "source": [
        "## random\n",
        "\n",
        "Функция  random()  выдает вещественные числа, в диапазоне [0.0, 1.0)\n",
        "\n",
        " (включая 0.0, но не включая 1.0)."
      ]
    },
    {
      "cell_type": "code",
      "execution_count": null,
      "id": "2b716608",
      "metadata": {
        "id": "2b716608"
      },
      "outputs": [],
      "source": [
        "import random\n",
        "\n",
        "random_number = random.random()\n",
        "print(random_number)"
      ]
    },
    {
      "cell_type": "markdown",
      "id": "8d4f5f10",
      "metadata": {
        "id": "8d4f5f10"
      },
      "source": [
        "## Задача 3. Как перевести случайные градусы Цельсия в градусы Фаренгейта.\n",
        "\n",
        "Сделайте снова перевод градусов Цельсия в Фаренгейт, только теперь не запрашивайте градусы с клавиатуры, а сгенерируйте случайно в диапазоне [-50, 42]"
      ]
    },
    {
      "cell_type": "code",
      "execution_count": 2,
      "id": "39f06ca3",
      "metadata": {
        "id": "39f06ca3",
        "colab": {
          "base_uri": "https://localhost:8080/"
        },
        "outputId": "ddeed0ce-ec00-4f76-c865-724113c2d06c"
      },
      "outputs": [
        {
          "output_type": "stream",
          "name": "stdout",
          "text": [
            "-31.67°C = -25.01°F\n"
          ]
        }
      ],
      "source": [
        "import random\n",
        "\n",
        "c = random.uniform(-50, 42)\n",
        "f = 1.8 * c + 32\n",
        "\n",
        "print(f\"{c:.2f}°C = {f:.2f}°F\")"
      ]
    },
    {
      "cell_type": "markdown",
      "id": "06be6026",
      "metadata": {
        "id": "06be6026"
      },
      "source": [
        "# Задание 1\n",
        "\n",
        "Карандаш стоит X рублей за штуку. Покупатель дал кассиру Y рублей и хочет купить 8 карандашей. Какую сдачу он должен получить? Ответ дайте в рублях. (X и Y запросить у пользователя)\n"
      ]
    },
    {
      "cell_type": "code",
      "execution_count": 4,
      "id": "287d09ee",
      "metadata": {
        "id": "287d09ee",
        "colab": {
          "base_uri": "https://localhost:8080/"
        },
        "outputId": "813c9016-87b8-4702-f88a-d03513ae5096"
      },
      "outputs": [
        {
          "output_type": "stream",
          "name": "stdout",
          "text": [
            "Стоимость карандаша (руб): 22\n",
            "Внесено (руб): 122\n",
            "Сдача: -54.0 руб.\n"
          ]
        }
      ],
      "source": [
        "X = float(input(\"Стоимость карандаша (руб): \"))\n",
        "Y = float(input(\"Внесено (руб): \"))\n",
        "\n",
        "стоимость = X * 8\n",
        "сдача = Y - стоимость\n",
        "\n",
        "print(\"Сдача:\", сдача, \"руб.\")\n"
      ]
    },
    {
      "cell_type": "markdown",
      "id": "fbba2f6b",
      "metadata": {
        "id": "fbba2f6b"
      },
      "source": [
        "# Задание 3\n",
        "\n",
        "Ребенок в день съедает X творожка. Творожок продается в упаковках по Y штук. Какое наименьшее число упаковок надо купить, чтобы ребенку хватило на две недели?  (X и Y запросить у пользователя)"
      ]
    },
    {
      "cell_type": "code",
      "execution_count": 5,
      "id": "b6861407",
      "metadata": {
        "id": "b6861407",
        "colab": {
          "base_uri": "https://localhost:8080/"
        },
        "outputId": "23d506f0-fc95-46f1-dd77-207395290d25"
      },
      "outputs": [
        {
          "output_type": "stream",
          "name": "stdout",
          "text": [
            "Сколько творожков ребенок съедает в день? 34\n",
            "Сколько творожков в одной упаковке? 1\n",
            "Необходимо купить минимум 476 упаковок творожка.\n"
          ]
        }
      ],
      "source": [
        "\n",
        "import math\n",
        "\n",
        "X = int(input(\"Сколько творожков ребенок съедает в день? \"))\n",
        "Y = int(input(\"Сколько творожков в одной упаковке? \"))\n",
        "\n",
        "общее_количество = X * 14\n",
        "упаковки = math.ceil(общее_количество / Y)\n",
        "\n",
        "print(\"Необходимо купить минимум\", упаковки, \"упаковок творожка.\")"
      ]
    },
    {
      "cell_type": "markdown",
      "id": "259d0e60",
      "metadata": {
        "id": "259d0e60"
      },
      "source": [
        "# Задание 4\n",
        "\n",
        "Килограмм картошки стоит Х рублей. У Олега есть 1000 р, из этой суммы он 640 р должен положить на телефон, а на остальные деньги он купил картошку. Сколько килограмм купил Олег, если он получил сдачу Y рублей?\n",
        " (X и Y запросить у пользователя)"
      ]
    },
    {
      "cell_type": "code",
      "execution_count": 6,
      "id": "8f9fa034",
      "metadata": {
        "id": "8f9fa034",
        "colab": {
          "base_uri": "https://localhost:8080/"
        },
        "outputId": "54671938-3677-4202-f848-698af8c2e412"
      },
      "outputs": [
        {
          "output_type": "stream",
          "name": "stdout",
          "text": [
            "Стоимость килограмма картошки (руб): 23\n",
            "Сдача (руб): 23\n",
            "Олег купил 14.652173913043478 килограмм картошки.\n"
          ]
        }
      ],
      "source": [
        "X = float(input(\"Стоимость килограмма картошки (руб): \"))\n",
        "Y = float(input(\"Сдача (руб): \"))\n",
        "\n",
        "money_for_potatoes = 1000 - 640 - Y\n",
        "kilograms = money_for_potatoes / X\n",
        "\n",
        "print(\"Олег купил\", kilograms, \"килограмм картошки.\")"
      ]
    }
  ],
  "metadata": {
    "kernelspec": {
      "display_name": "Python 3 (ipykernel)",
      "language": "python",
      "name": "python3"
    },
    "language_info": {
      "codemirror_mode": {
        "name": "ipython",
        "version": 3
      },
      "file_extension": ".py",
      "mimetype": "text/x-python",
      "name": "python",
      "nbconvert_exporter": "python",
      "pygments_lexer": "ipython3",
      "version": "3.9.13"
    },
    "colab": {
      "provenance": []
    }
  },
  "nbformat": 4,
  "nbformat_minor": 5
}