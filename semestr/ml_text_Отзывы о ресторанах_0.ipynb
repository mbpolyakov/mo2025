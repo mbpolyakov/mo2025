{
  "cells": [
    {
      "cell_type": "markdown",
      "id": "831ed9e5",
      "metadata": {
        "id": "831ed9e5"
      },
      "source": [
        "# Экзаменационное проектное задание\n",
        "\n",
        "## Шкала оценивания\n",
        "\n",
        "- **Оценка 3-4:** Нужно построить модель машинного обучения с классификатором по заданию\n",
        "\n",
        "- **Оценка 5:** Нужно применить 2 дополнительных классификатора, сравнить и сделать выводы какой лучше"
      ]
    },
    {
      "cell_type": "markdown",
      "id": "698b5b0e",
      "metadata": {
        "id": "698b5b0e"
      },
      "source": [
        "# Часть I. Подготовка набора данных: Отзывы о ресторанах"
      ]
    },
    {
      "cell_type": "markdown",
      "id": "fdc16b45",
      "metadata": {
        "id": "fdc16b45"
      },
      "source": [
        "## Задание\n",
        "\n",
        "Вам предлагается выполнить подготовку набора данных\n",
        "\n",
        "Описание набора данных: Отзывы пользователей о ресторанах. Целевая переменная - тональность отзыва\n",
        "\n",
        "Ссылка на набор данных для использования в блокноте: https://raw.githubusercontent.com/yakushinav/mo2025/refs/heads/main/data/rest01.csv"
      ]
    },
    {
      "cell_type": "markdown",
      "id": "4d0d8cb2",
      "metadata": {
        "id": "4d0d8cb2"
      },
      "source": [
        "#### 1. Подключение библиотек"
      ]
    },
    {
      "cell_type": "code",
      "execution_count": 12,
      "id": "ccb62996",
      "metadata": {
        "colab": {
          "base_uri": "https://localhost:8080/"
        },
        "id": "ccb62996",
        "outputId": "d0adbc19-beee-40b1-dfce-25eb0cbd84bf"
      },
      "outputs": [
        {
          "output_type": "stream",
          "name": "stderr",
          "text": [
            "[nltk_data] Downloading package stopwords to /root/nltk_data...\n",
            "[nltk_data]   Package stopwords is already up-to-date!\n",
            "[nltk_data] Downloading package wordnet to /root/nltk_data...\n",
            "[nltk_data]   Package wordnet is already up-to-date!\n"
          ]
        },
        {
          "output_type": "execute_result",
          "data": {
            "text/plain": [
              "True"
            ]
          },
          "metadata": {},
          "execution_count": 12
        }
      ],
      "source": [
        "import pandas as pd\n",
        "import numpy as np\n",
        "import re\n",
        "from sklearn.feature_extraction.text import TfidfVectorizer\n",
        "from sklearn.model_selection import train_test_split\n",
        "from sklearn.ensemble import RandomForestClassifier\n",
        "from sklearn.metrics import accuracy_score\n",
        "import nltk\n",
        "from nltk.corpus import stopwords\n",
        "from nltk.stem import WordNetLemmatizer\n",
        "nltk.download('stopwords')\n",
        "nltk.download('wordnet')\n"
      ]
    },
    {
      "cell_type": "markdown",
      "id": "cd30016a",
      "metadata": {
        "id": "cd30016a"
      },
      "source": [
        "#### 2. Чтение набора данных"
      ]
    },
    {
      "cell_type": "code",
      "execution_count": 13,
      "id": "224422ac",
      "metadata": {
        "id": "224422ac"
      },
      "outputs": [],
      "source": [
        "url = \"https://raw.githubusercontent.com/yakushinav/mo2025/refs/heads/main/data/rest01.csv\"\n",
        "data = pd.read_csv(url)"
      ]
    },
    {
      "cell_type": "markdown",
      "id": "dc566934",
      "metadata": {
        "id": "dc566934"
      },
      "source": [
        "#### 3. Первые 7 строк набора данных"
      ]
    },
    {
      "cell_type": "code",
      "execution_count": 15,
      "id": "cefd0320",
      "metadata": {
        "colab": {
          "base_uri": "https://localhost:8080/"
        },
        "id": "cefd0320",
        "outputId": "54597252-83e3-49e5-e62a-4d38ea201ca7"
      },
      "outputs": [
        {
          "output_type": "stream",
          "name": "stdout",
          "text": [
            "   Unnamed: 0                        rest  \\\n",
            "0           0      13 маршрут Retro-Blues   \n",
            "1           1               Веселый барин   \n",
            "2           2                  Моб Джойнт   \n",
            "3           3                     Крапива   \n",
            "4           4  Советское кафе \"Квартирка\"   \n",
            "5           5                       Дитай   \n",
            "6           6                     ПАБ № 1   \n",
            "\n",
            "                                              review  feedback  \n",
            "0  День 8-го марта прошёл, можно и итоги подвести...  positive  \n",
            "1  Отмечали в этом ресторане день рождение на пер...  positive  \n",
            "2  Для встречи с друзьями было выбрано данное зав...   neutral  \n",
            "3  Хочу поделиться своим впечатлением от посещени...  negative  \n",
            "4  Добрый день! Были вчера с друзьями в этом кафе...  positive  \n",
            "5  Отметили с мужем годовщину свадьбы 6 ноября в ...   neutral  \n",
            "6  Впервые побывала в этом пабе совсем недавно и ...   neutral  \n"
          ]
        }
      ],
      "source": [
        "print(data.head(7))"
      ]
    },
    {
      "cell_type": "markdown",
      "id": "477aa0cf",
      "metadata": {
        "id": "477aa0cf"
      },
      "source": [
        "#### 4. Последние 5 строк набора данных"
      ]
    },
    {
      "cell_type": "code",
      "execution_count": 16,
      "id": "41a02fd9",
      "metadata": {
        "colab": {
          "base_uri": "https://localhost:8080/"
        },
        "id": "41a02fd9",
        "outputId": "66008f76-d2e3-4c91-f080-8f185ae8a0a2"
      },
      "outputs": [
        {
          "output_type": "stream",
          "name": "stdout",
          "text": [
            "     Unnamed: 0         rest  \\\n",
            "399         399    Neverland   \n",
            "400         400  The kitchen   \n",
            "401         401        Доски   \n",
            "402         402        Шатер   \n",
            "403         403         Рица   \n",
            "\n",
            "                                                review  feedback  \n",
            "399  Пришли в данное заведение 4 июня 2014 года пок...  negative  \n",
            "400  Заехали с мужем поужинать в пятницу ( 17.01.14...  positive  \n",
            "401  Пришел сегодня с друзьями, отметить день рожде...   neutral  \n",
            "402  Мне так там нравитсяяяя!!!!!!!!! Интерьер модн...  positive  \n",
            "403  Уютная и тёплая домашняя обстановка! Милый и о...  positive  \n"
          ]
        }
      ],
      "source": [
        "print(data.tail(5))"
      ]
    },
    {
      "cell_type": "markdown",
      "id": "32646235",
      "metadata": {
        "id": "32646235"
      },
      "source": [
        "#### 5. Поля набора данных"
      ]
    },
    {
      "cell_type": "code",
      "execution_count": 17,
      "id": "2ba242a6",
      "metadata": {
        "colab": {
          "base_uri": "https://localhost:8080/"
        },
        "id": "2ba242a6",
        "outputId": "dded58ee-5861-41a4-cab0-bf5ca5065fae"
      },
      "outputs": [
        {
          "output_type": "stream",
          "name": "stdout",
          "text": [
            "Index(['Unnamed: 0', 'rest', 'review', 'feedback'], dtype='object')\n"
          ]
        }
      ],
      "source": [
        "print(data.columns)"
      ]
    },
    {
      "cell_type": "markdown",
      "id": "7ef5002e",
      "metadata": {
        "id": "7ef5002e"
      },
      "source": [
        "#### 6. Размер набора данных (количество полей и строк)"
      ]
    },
    {
      "cell_type": "code",
      "execution_count": 18,
      "id": "ec03d13f",
      "metadata": {
        "colab": {
          "base_uri": "https://localhost:8080/"
        },
        "id": "ec03d13f",
        "outputId": "3f664a37-fddf-4345-8958-b922c529fa92"
      },
      "outputs": [
        {
          "output_type": "stream",
          "name": "stdout",
          "text": [
            "(404, 4)\n"
          ]
        }
      ],
      "source": [
        "print(data.shape)"
      ]
    },
    {
      "cell_type": "markdown",
      "id": "de6fe170",
      "metadata": {
        "id": "de6fe170"
      },
      "source": [
        "#### 7. Опишите поля набора данных в формате: название поля, тип данных, назначение поля"
      ]
    },
    {
      "cell_type": "code",
      "execution_count": 19,
      "id": "fc5e47c4",
      "metadata": {
        "colab": {
          "base_uri": "https://localhost:8080/",
          "height": 105
        },
        "id": "fc5e47c4",
        "outputId": "cc86113f-610a-43c0-82b1-05f6c68ad7b2"
      },
      "outputs": [
        {
          "output_type": "error",
          "ename": "SyntaxError",
          "evalue": "invalid character '—' (U+2014) (<ipython-input-19-825719c66f23>, line 5)",
          "traceback": [
            "\u001b[0;36m  File \u001b[0;32m\"<ipython-input-19-825719c66f23>\"\u001b[0;36m, line \u001b[0;32m5\u001b[0m\n\u001b[0;31m    feedback (целое число): переменная, показывающая тональность отзыва (к примеру, 1 — положительный, 0 — отрицательный).\u001b[0m\n\u001b[0m                                                                                      ^\u001b[0m\n\u001b[0;31mSyntaxError\u001b[0m\u001b[0;31m:\u001b[0m invalid character '—' (U+2014)\n"
          ]
        }
      ],
      "source": [
        "Описание:\n",
        "\n",
        "review (строка): текст с отзывом пользователя.\n",
        "\n",
        "feedback (целое число): переменная, показывающая тональность отзыва (к примеру, 1 — положительный, 0 — отрицательный)."
      ]
    },
    {
      "cell_type": "markdown",
      "id": "e9b5d265",
      "metadata": {
        "id": "e9b5d265"
      },
      "source": [
        "#### 8. Информация о наборе данных"
      ]
    },
    {
      "cell_type": "code",
      "execution_count": 20,
      "id": "5ee67609",
      "metadata": {
        "colab": {
          "base_uri": "https://localhost:8080/"
        },
        "id": "5ee67609",
        "outputId": "47962f9d-b174-420d-9975-8abd5c87541a"
      },
      "outputs": [
        {
          "output_type": "stream",
          "name": "stdout",
          "text": [
            "<class 'pandas.core.frame.DataFrame'>\n",
            "RangeIndex: 404 entries, 0 to 403\n",
            "Data columns (total 4 columns):\n",
            " #   Column      Non-Null Count  Dtype \n",
            "---  ------      --------------  ----- \n",
            " 0   Unnamed: 0  404 non-null    int64 \n",
            " 1   rest        404 non-null    object\n",
            " 2   review      404 non-null    object\n",
            " 3   feedback    404 non-null    object\n",
            "dtypes: int64(1), object(3)\n",
            "memory usage: 12.8+ KB\n",
            "None\n"
          ]
        }
      ],
      "source": [
        "print(data.info())"
      ]
    },
    {
      "cell_type": "markdown",
      "id": "e076e26a",
      "metadata": {
        "id": "e076e26a"
      },
      "source": [
        "#### 9. Проверка наличия пропусков в данных"
      ]
    },
    {
      "cell_type": "code",
      "execution_count": 8,
      "id": "b8e45bcc",
      "metadata": {
        "colab": {
          "base_uri": "https://localhost:8080/"
        },
        "id": "b8e45bcc",
        "outputId": "bec89793-9203-4137-f66f-b6c2af4ed2fe"
      },
      "outputs": [
        {
          "output_type": "stream",
          "name": "stdout",
          "text": [
            "Unnamed: 0    0\n",
            "rest          0\n",
            "review        0\n",
            "feedback      0\n",
            "dtype: int64\n"
          ]
        }
      ],
      "source": [
        "print(data.isnull().sum())"
      ]
    },
    {
      "cell_type": "markdown",
      "id": "e29d8c92",
      "metadata": {
        "id": "e29d8c92"
      },
      "source": [
        "#### 10. Если вы обнаружили пропуски в данных, то удалите их"
      ]
    },
    {
      "cell_type": "code",
      "execution_count": 22,
      "id": "31cbc03b",
      "metadata": {
        "id": "31cbc03b"
      },
      "outputs": [],
      "source": [
        "data.dropna(inplace=True)"
      ]
    },
    {
      "cell_type": "markdown",
      "id": "8f82e446",
      "metadata": {
        "id": "8f82e446"
      },
      "source": [
        "#### 11. Проведите предобработку текстовых данных: удаление символов, лемматизация, стоп слова, перевод в нижний регистр"
      ]
    },
    {
      "cell_type": "code",
      "execution_count": 23,
      "id": "da0daa0b",
      "metadata": {
        "id": "da0daa0b"
      },
      "outputs": [],
      "source": [
        "lemmatizer = WordNetLemmatizer()\n",
        "stop_words = set(stopwords.words('english'))\n",
        "\n",
        "def preprocess_text(text):\n",
        "    text = re.sub(r'\\W', ' ', text)  # Удаление специальных символов\n",
        "    text = text.lower()             # Перевод в нижний регистр\n",
        "    words = text.split()\n",
        "    words = [lemmatizer.lemmatize(word) for word in words if word not in stop_words]\n",
        "    return ' '.join(words)\n",
        "\n",
        "data['cleaned_review'] = data['review'].apply(preprocess_text)"
      ]
    },
    {
      "cell_type": "markdown",
      "id": "58375ceb",
      "metadata": {
        "id": "58375ceb"
      },
      "source": [
        "#### 12. Сделайте вывод о пригодности набора данных для построения модели машинного обучения"
      ]
    },
    {
      "cell_type": "code",
      "execution_count": 28,
      "id": "cea16830",
      "metadata": {
        "colab": {
          "base_uri": "https://localhost:8080/"
        },
        "id": "cea16830",
        "outputId": "c3da9cb8-7c30-4247-d123-207cdda1fcca"
      },
      "outputs": [
        {
          "output_type": "stream",
          "name": "stdout",
          "text": [
            "После подготовки этот набор данных готов для использования.\n"
          ]
        }
      ],
      "source": [
        "print(\"После подготовки этот набор данных готов для использования.\")"
      ]
    },
    {
      "cell_type": "markdown",
      "id": "3ae2e352",
      "metadata": {
        "id": "3ae2e352"
      },
      "source": [
        "# Часть II. Построение модели машинного обучения для набора данных: Отзывы о ресторанах"
      ]
    },
    {
      "cell_type": "markdown",
      "id": "6f0b261f",
      "metadata": {
        "id": "6f0b261f"
      },
      "source": [
        "## Задание\n",
        "\n",
        "Вам нужно решить задачу классификации с помощью алгоритма\n",
        "\n",
        "Случайный лес RandomForestClassifier\n",
        "\n",
        "\n",
        "\n",
        "Целевая переменная, результат: **feedback**"
      ]
    },
    {
      "cell_type": "markdown",
      "id": "d60003c6",
      "metadata": {
        "id": "d60003c6"
      },
      "source": [
        "#### 13. Разделить выборку на признаки (Х) и результат (Y)"
      ]
    },
    {
      "cell_type": "code",
      "execution_count": 30,
      "id": "79fce5f9",
      "metadata": {
        "id": "79fce5f9"
      },
      "outputs": [],
      "source": [
        "X = data['cleaned_review']\n",
        "y = data['feedback']"
      ]
    },
    {
      "cell_type": "markdown",
      "id": "c14ac8e1",
      "metadata": {
        "id": "c14ac8e1"
      },
      "source": [
        "#### 14. Разделить на обучающую и тестовую выборки"
      ]
    },
    {
      "cell_type": "code",
      "execution_count": 31,
      "id": "f08dda91",
      "metadata": {
        "id": "f08dda91"
      },
      "outputs": [],
      "source": [
        "X_train, X_test, y_train, y_test = train_test_split(X, y, test_size=0.2, random_state=42)"
      ]
    },
    {
      "cell_type": "markdown",
      "id": "c2f48820",
      "metadata": {
        "id": "c2f48820"
      },
      "source": [
        "#### 15. TF-IDF векторизация и мешок слов"
      ]
    },
    {
      "cell_type": "code",
      "execution_count": 32,
      "id": "ccb49bf2",
      "metadata": {
        "id": "ccb49bf2"
      },
      "outputs": [],
      "source": [
        "vectorizer = TfidfVectorizer(max_features=5000)\n",
        "X_train_tfidf = vectorizer.fit_transform(X_train).toarray()\n",
        "X_test_tfidf = vectorizer.transform(X_test).toarray()"
      ]
    },
    {
      "cell_type": "markdown",
      "id": "1eb8bfb4",
      "metadata": {
        "id": "1eb8bfb4"
      },
      "source": [
        "#### 16. Сформировать модель машинного обучения"
      ]
    },
    {
      "cell_type": "code",
      "execution_count": 33,
      "id": "71354b1a",
      "metadata": {
        "id": "71354b1a"
      },
      "outputs": [],
      "source": [
        "model = RandomForestClassifier(random_state=42)"
      ]
    },
    {
      "cell_type": "markdown",
      "id": "bcb65a7a",
      "metadata": {
        "id": "bcb65a7a"
      },
      "source": [
        "#### 17. Обучить модель"
      ]
    },
    {
      "cell_type": "code",
      "execution_count": 34,
      "id": "c06e9d88",
      "metadata": {
        "colab": {
          "base_uri": "https://localhost:8080/",
          "height": 80
        },
        "id": "c06e9d88",
        "outputId": "5928881a-5188-4101-d966-9513b84b8094"
      },
      "outputs": [
        {
          "output_type": "execute_result",
          "data": {
            "text/plain": [
              "RandomForestClassifier(random_state=42)"
            ],
            "text/html": [
              "<style>#sk-container-id-1 {\n",
              "  /* Definition of color scheme common for light and dark mode */\n",
              "  --sklearn-color-text: #000;\n",
              "  --sklearn-color-text-muted: #666;\n",
              "  --sklearn-color-line: gray;\n",
              "  /* Definition of color scheme for unfitted estimators */\n",
              "  --sklearn-color-unfitted-level-0: #fff5e6;\n",
              "  --sklearn-color-unfitted-level-1: #f6e4d2;\n",
              "  --sklearn-color-unfitted-level-2: #ffe0b3;\n",
              "  --sklearn-color-unfitted-level-3: chocolate;\n",
              "  /* Definition of color scheme for fitted estimators */\n",
              "  --sklearn-color-fitted-level-0: #f0f8ff;\n",
              "  --sklearn-color-fitted-level-1: #d4ebff;\n",
              "  --sklearn-color-fitted-level-2: #b3dbfd;\n",
              "  --sklearn-color-fitted-level-3: cornflowerblue;\n",
              "\n",
              "  /* Specific color for light theme */\n",
              "  --sklearn-color-text-on-default-background: var(--sg-text-color, var(--theme-code-foreground, var(--jp-content-font-color1, black)));\n",
              "  --sklearn-color-background: var(--sg-background-color, var(--theme-background, var(--jp-layout-color0, white)));\n",
              "  --sklearn-color-border-box: var(--sg-text-color, var(--theme-code-foreground, var(--jp-content-font-color1, black)));\n",
              "  --sklearn-color-icon: #696969;\n",
              "\n",
              "  @media (prefers-color-scheme: dark) {\n",
              "    /* Redefinition of color scheme for dark theme */\n",
              "    --sklearn-color-text-on-default-background: var(--sg-text-color, var(--theme-code-foreground, var(--jp-content-font-color1, white)));\n",
              "    --sklearn-color-background: var(--sg-background-color, var(--theme-background, var(--jp-layout-color0, #111)));\n",
              "    --sklearn-color-border-box: var(--sg-text-color, var(--theme-code-foreground, var(--jp-content-font-color1, white)));\n",
              "    --sklearn-color-icon: #878787;\n",
              "  }\n",
              "}\n",
              "\n",
              "#sk-container-id-1 {\n",
              "  color: var(--sklearn-color-text);\n",
              "}\n",
              "\n",
              "#sk-container-id-1 pre {\n",
              "  padding: 0;\n",
              "}\n",
              "\n",
              "#sk-container-id-1 input.sk-hidden--visually {\n",
              "  border: 0;\n",
              "  clip: rect(1px 1px 1px 1px);\n",
              "  clip: rect(1px, 1px, 1px, 1px);\n",
              "  height: 1px;\n",
              "  margin: -1px;\n",
              "  overflow: hidden;\n",
              "  padding: 0;\n",
              "  position: absolute;\n",
              "  width: 1px;\n",
              "}\n",
              "\n",
              "#sk-container-id-1 div.sk-dashed-wrapped {\n",
              "  border: 1px dashed var(--sklearn-color-line);\n",
              "  margin: 0 0.4em 0.5em 0.4em;\n",
              "  box-sizing: border-box;\n",
              "  padding-bottom: 0.4em;\n",
              "  background-color: var(--sklearn-color-background);\n",
              "}\n",
              "\n",
              "#sk-container-id-1 div.sk-container {\n",
              "  /* jupyter's `normalize.less` sets `[hidden] { display: none; }`\n",
              "     but bootstrap.min.css set `[hidden] { display: none !important; }`\n",
              "     so we also need the `!important` here to be able to override the\n",
              "     default hidden behavior on the sphinx rendered scikit-learn.org.\n",
              "     See: https://github.com/scikit-learn/scikit-learn/issues/21755 */\n",
              "  display: inline-block !important;\n",
              "  position: relative;\n",
              "}\n",
              "\n",
              "#sk-container-id-1 div.sk-text-repr-fallback {\n",
              "  display: none;\n",
              "}\n",
              "\n",
              "div.sk-parallel-item,\n",
              "div.sk-serial,\n",
              "div.sk-item {\n",
              "  /* draw centered vertical line to link estimators */\n",
              "  background-image: linear-gradient(var(--sklearn-color-text-on-default-background), var(--sklearn-color-text-on-default-background));\n",
              "  background-size: 2px 100%;\n",
              "  background-repeat: no-repeat;\n",
              "  background-position: center center;\n",
              "}\n",
              "\n",
              "/* Parallel-specific style estimator block */\n",
              "\n",
              "#sk-container-id-1 div.sk-parallel-item::after {\n",
              "  content: \"\";\n",
              "  width: 100%;\n",
              "  border-bottom: 2px solid var(--sklearn-color-text-on-default-background);\n",
              "  flex-grow: 1;\n",
              "}\n",
              "\n",
              "#sk-container-id-1 div.sk-parallel {\n",
              "  display: flex;\n",
              "  align-items: stretch;\n",
              "  justify-content: center;\n",
              "  background-color: var(--sklearn-color-background);\n",
              "  position: relative;\n",
              "}\n",
              "\n",
              "#sk-container-id-1 div.sk-parallel-item {\n",
              "  display: flex;\n",
              "  flex-direction: column;\n",
              "}\n",
              "\n",
              "#sk-container-id-1 div.sk-parallel-item:first-child::after {\n",
              "  align-self: flex-end;\n",
              "  width: 50%;\n",
              "}\n",
              "\n",
              "#sk-container-id-1 div.sk-parallel-item:last-child::after {\n",
              "  align-self: flex-start;\n",
              "  width: 50%;\n",
              "}\n",
              "\n",
              "#sk-container-id-1 div.sk-parallel-item:only-child::after {\n",
              "  width: 0;\n",
              "}\n",
              "\n",
              "/* Serial-specific style estimator block */\n",
              "\n",
              "#sk-container-id-1 div.sk-serial {\n",
              "  display: flex;\n",
              "  flex-direction: column;\n",
              "  align-items: center;\n",
              "  background-color: var(--sklearn-color-background);\n",
              "  padding-right: 1em;\n",
              "  padding-left: 1em;\n",
              "}\n",
              "\n",
              "\n",
              "/* Toggleable style: style used for estimator/Pipeline/ColumnTransformer box that is\n",
              "clickable and can be expanded/collapsed.\n",
              "- Pipeline and ColumnTransformer use this feature and define the default style\n",
              "- Estimators will overwrite some part of the style using the `sk-estimator` class\n",
              "*/\n",
              "\n",
              "/* Pipeline and ColumnTransformer style (default) */\n",
              "\n",
              "#sk-container-id-1 div.sk-toggleable {\n",
              "  /* Default theme specific background. It is overwritten whether we have a\n",
              "  specific estimator or a Pipeline/ColumnTransformer */\n",
              "  background-color: var(--sklearn-color-background);\n",
              "}\n",
              "\n",
              "/* Toggleable label */\n",
              "#sk-container-id-1 label.sk-toggleable__label {\n",
              "  cursor: pointer;\n",
              "  display: flex;\n",
              "  width: 100%;\n",
              "  margin-bottom: 0;\n",
              "  padding: 0.5em;\n",
              "  box-sizing: border-box;\n",
              "  text-align: center;\n",
              "  align-items: start;\n",
              "  justify-content: space-between;\n",
              "  gap: 0.5em;\n",
              "}\n",
              "\n",
              "#sk-container-id-1 label.sk-toggleable__label .caption {\n",
              "  font-size: 0.6rem;\n",
              "  font-weight: lighter;\n",
              "  color: var(--sklearn-color-text-muted);\n",
              "}\n",
              "\n",
              "#sk-container-id-1 label.sk-toggleable__label-arrow:before {\n",
              "  /* Arrow on the left of the label */\n",
              "  content: \"▸\";\n",
              "  float: left;\n",
              "  margin-right: 0.25em;\n",
              "  color: var(--sklearn-color-icon);\n",
              "}\n",
              "\n",
              "#sk-container-id-1 label.sk-toggleable__label-arrow:hover:before {\n",
              "  color: var(--sklearn-color-text);\n",
              "}\n",
              "\n",
              "/* Toggleable content - dropdown */\n",
              "\n",
              "#sk-container-id-1 div.sk-toggleable__content {\n",
              "  max-height: 0;\n",
              "  max-width: 0;\n",
              "  overflow: hidden;\n",
              "  text-align: left;\n",
              "  /* unfitted */\n",
              "  background-color: var(--sklearn-color-unfitted-level-0);\n",
              "}\n",
              "\n",
              "#sk-container-id-1 div.sk-toggleable__content.fitted {\n",
              "  /* fitted */\n",
              "  background-color: var(--sklearn-color-fitted-level-0);\n",
              "}\n",
              "\n",
              "#sk-container-id-1 div.sk-toggleable__content pre {\n",
              "  margin: 0.2em;\n",
              "  border-radius: 0.25em;\n",
              "  color: var(--sklearn-color-text);\n",
              "  /* unfitted */\n",
              "  background-color: var(--sklearn-color-unfitted-level-0);\n",
              "}\n",
              "\n",
              "#sk-container-id-1 div.sk-toggleable__content.fitted pre {\n",
              "  /* unfitted */\n",
              "  background-color: var(--sklearn-color-fitted-level-0);\n",
              "}\n",
              "\n",
              "#sk-container-id-1 input.sk-toggleable__control:checked~div.sk-toggleable__content {\n",
              "  /* Expand drop-down */\n",
              "  max-height: 200px;\n",
              "  max-width: 100%;\n",
              "  overflow: auto;\n",
              "}\n",
              "\n",
              "#sk-container-id-1 input.sk-toggleable__control:checked~label.sk-toggleable__label-arrow:before {\n",
              "  content: \"▾\";\n",
              "}\n",
              "\n",
              "/* Pipeline/ColumnTransformer-specific style */\n",
              "\n",
              "#sk-container-id-1 div.sk-label input.sk-toggleable__control:checked~label.sk-toggleable__label {\n",
              "  color: var(--sklearn-color-text);\n",
              "  background-color: var(--sklearn-color-unfitted-level-2);\n",
              "}\n",
              "\n",
              "#sk-container-id-1 div.sk-label.fitted input.sk-toggleable__control:checked~label.sk-toggleable__label {\n",
              "  background-color: var(--sklearn-color-fitted-level-2);\n",
              "}\n",
              "\n",
              "/* Estimator-specific style */\n",
              "\n",
              "/* Colorize estimator box */\n",
              "#sk-container-id-1 div.sk-estimator input.sk-toggleable__control:checked~label.sk-toggleable__label {\n",
              "  /* unfitted */\n",
              "  background-color: var(--sklearn-color-unfitted-level-2);\n",
              "}\n",
              "\n",
              "#sk-container-id-1 div.sk-estimator.fitted input.sk-toggleable__control:checked~label.sk-toggleable__label {\n",
              "  /* fitted */\n",
              "  background-color: var(--sklearn-color-fitted-level-2);\n",
              "}\n",
              "\n",
              "#sk-container-id-1 div.sk-label label.sk-toggleable__label,\n",
              "#sk-container-id-1 div.sk-label label {\n",
              "  /* The background is the default theme color */\n",
              "  color: var(--sklearn-color-text-on-default-background);\n",
              "}\n",
              "\n",
              "/* On hover, darken the color of the background */\n",
              "#sk-container-id-1 div.sk-label:hover label.sk-toggleable__label {\n",
              "  color: var(--sklearn-color-text);\n",
              "  background-color: var(--sklearn-color-unfitted-level-2);\n",
              "}\n",
              "\n",
              "/* Label box, darken color on hover, fitted */\n",
              "#sk-container-id-1 div.sk-label.fitted:hover label.sk-toggleable__label.fitted {\n",
              "  color: var(--sklearn-color-text);\n",
              "  background-color: var(--sklearn-color-fitted-level-2);\n",
              "}\n",
              "\n",
              "/* Estimator label */\n",
              "\n",
              "#sk-container-id-1 div.sk-label label {\n",
              "  font-family: monospace;\n",
              "  font-weight: bold;\n",
              "  display: inline-block;\n",
              "  line-height: 1.2em;\n",
              "}\n",
              "\n",
              "#sk-container-id-1 div.sk-label-container {\n",
              "  text-align: center;\n",
              "}\n",
              "\n",
              "/* Estimator-specific */\n",
              "#sk-container-id-1 div.sk-estimator {\n",
              "  font-family: monospace;\n",
              "  border: 1px dotted var(--sklearn-color-border-box);\n",
              "  border-radius: 0.25em;\n",
              "  box-sizing: border-box;\n",
              "  margin-bottom: 0.5em;\n",
              "  /* unfitted */\n",
              "  background-color: var(--sklearn-color-unfitted-level-0);\n",
              "}\n",
              "\n",
              "#sk-container-id-1 div.sk-estimator.fitted {\n",
              "  /* fitted */\n",
              "  background-color: var(--sklearn-color-fitted-level-0);\n",
              "}\n",
              "\n",
              "/* on hover */\n",
              "#sk-container-id-1 div.sk-estimator:hover {\n",
              "  /* unfitted */\n",
              "  background-color: var(--sklearn-color-unfitted-level-2);\n",
              "}\n",
              "\n",
              "#sk-container-id-1 div.sk-estimator.fitted:hover {\n",
              "  /* fitted */\n",
              "  background-color: var(--sklearn-color-fitted-level-2);\n",
              "}\n",
              "\n",
              "/* Specification for estimator info (e.g. \"i\" and \"?\") */\n",
              "\n",
              "/* Common style for \"i\" and \"?\" */\n",
              "\n",
              ".sk-estimator-doc-link,\n",
              "a:link.sk-estimator-doc-link,\n",
              "a:visited.sk-estimator-doc-link {\n",
              "  float: right;\n",
              "  font-size: smaller;\n",
              "  line-height: 1em;\n",
              "  font-family: monospace;\n",
              "  background-color: var(--sklearn-color-background);\n",
              "  border-radius: 1em;\n",
              "  height: 1em;\n",
              "  width: 1em;\n",
              "  text-decoration: none !important;\n",
              "  margin-left: 0.5em;\n",
              "  text-align: center;\n",
              "  /* unfitted */\n",
              "  border: var(--sklearn-color-unfitted-level-1) 1pt solid;\n",
              "  color: var(--sklearn-color-unfitted-level-1);\n",
              "}\n",
              "\n",
              ".sk-estimator-doc-link.fitted,\n",
              "a:link.sk-estimator-doc-link.fitted,\n",
              "a:visited.sk-estimator-doc-link.fitted {\n",
              "  /* fitted */\n",
              "  border: var(--sklearn-color-fitted-level-1) 1pt solid;\n",
              "  color: var(--sklearn-color-fitted-level-1);\n",
              "}\n",
              "\n",
              "/* On hover */\n",
              "div.sk-estimator:hover .sk-estimator-doc-link:hover,\n",
              ".sk-estimator-doc-link:hover,\n",
              "div.sk-label-container:hover .sk-estimator-doc-link:hover,\n",
              ".sk-estimator-doc-link:hover {\n",
              "  /* unfitted */\n",
              "  background-color: var(--sklearn-color-unfitted-level-3);\n",
              "  color: var(--sklearn-color-background);\n",
              "  text-decoration: none;\n",
              "}\n",
              "\n",
              "div.sk-estimator.fitted:hover .sk-estimator-doc-link.fitted:hover,\n",
              ".sk-estimator-doc-link.fitted:hover,\n",
              "div.sk-label-container:hover .sk-estimator-doc-link.fitted:hover,\n",
              ".sk-estimator-doc-link.fitted:hover {\n",
              "  /* fitted */\n",
              "  background-color: var(--sklearn-color-fitted-level-3);\n",
              "  color: var(--sklearn-color-background);\n",
              "  text-decoration: none;\n",
              "}\n",
              "\n",
              "/* Span, style for the box shown on hovering the info icon */\n",
              ".sk-estimator-doc-link span {\n",
              "  display: none;\n",
              "  z-index: 9999;\n",
              "  position: relative;\n",
              "  font-weight: normal;\n",
              "  right: .2ex;\n",
              "  padding: .5ex;\n",
              "  margin: .5ex;\n",
              "  width: min-content;\n",
              "  min-width: 20ex;\n",
              "  max-width: 50ex;\n",
              "  color: var(--sklearn-color-text);\n",
              "  box-shadow: 2pt 2pt 4pt #999;\n",
              "  /* unfitted */\n",
              "  background: var(--sklearn-color-unfitted-level-0);\n",
              "  border: .5pt solid var(--sklearn-color-unfitted-level-3);\n",
              "}\n",
              "\n",
              ".sk-estimator-doc-link.fitted span {\n",
              "  /* fitted */\n",
              "  background: var(--sklearn-color-fitted-level-0);\n",
              "  border: var(--sklearn-color-fitted-level-3);\n",
              "}\n",
              "\n",
              ".sk-estimator-doc-link:hover span {\n",
              "  display: block;\n",
              "}\n",
              "\n",
              "/* \"?\"-specific style due to the `<a>` HTML tag */\n",
              "\n",
              "#sk-container-id-1 a.estimator_doc_link {\n",
              "  float: right;\n",
              "  font-size: 1rem;\n",
              "  line-height: 1em;\n",
              "  font-family: monospace;\n",
              "  background-color: var(--sklearn-color-background);\n",
              "  border-radius: 1rem;\n",
              "  height: 1rem;\n",
              "  width: 1rem;\n",
              "  text-decoration: none;\n",
              "  /* unfitted */\n",
              "  color: var(--sklearn-color-unfitted-level-1);\n",
              "  border: var(--sklearn-color-unfitted-level-1) 1pt solid;\n",
              "}\n",
              "\n",
              "#sk-container-id-1 a.estimator_doc_link.fitted {\n",
              "  /* fitted */\n",
              "  border: var(--sklearn-color-fitted-level-1) 1pt solid;\n",
              "  color: var(--sklearn-color-fitted-level-1);\n",
              "}\n",
              "\n",
              "/* On hover */\n",
              "#sk-container-id-1 a.estimator_doc_link:hover {\n",
              "  /* unfitted */\n",
              "  background-color: var(--sklearn-color-unfitted-level-3);\n",
              "  color: var(--sklearn-color-background);\n",
              "  text-decoration: none;\n",
              "}\n",
              "\n",
              "#sk-container-id-1 a.estimator_doc_link.fitted:hover {\n",
              "  /* fitted */\n",
              "  background-color: var(--sklearn-color-fitted-level-3);\n",
              "}\n",
              "</style><div id=\"sk-container-id-1\" class=\"sk-top-container\"><div class=\"sk-text-repr-fallback\"><pre>RandomForestClassifier(random_state=42)</pre><b>In a Jupyter environment, please rerun this cell to show the HTML representation or trust the notebook. <br />On GitHub, the HTML representation is unable to render, please try loading this page with nbviewer.org.</b></div><div class=\"sk-container\" hidden><div class=\"sk-item\"><div class=\"sk-estimator fitted sk-toggleable\"><input class=\"sk-toggleable__control sk-hidden--visually\" id=\"sk-estimator-id-1\" type=\"checkbox\" checked><label for=\"sk-estimator-id-1\" class=\"sk-toggleable__label fitted sk-toggleable__label-arrow\"><div><div>RandomForestClassifier</div></div><div><a class=\"sk-estimator-doc-link fitted\" rel=\"noreferrer\" target=\"_blank\" href=\"https://scikit-learn.org/1.6/modules/generated/sklearn.ensemble.RandomForestClassifier.html\">?<span>Documentation for RandomForestClassifier</span></a><span class=\"sk-estimator-doc-link fitted\">i<span>Fitted</span></span></div></label><div class=\"sk-toggleable__content fitted\"><pre>RandomForestClassifier(random_state=42)</pre></div> </div></div></div></div>"
            ]
          },
          "metadata": {},
          "execution_count": 34
        }
      ],
      "source": [
        "model.fit(X_train_tfidf, y_train)"
      ]
    },
    {
      "cell_type": "markdown",
      "id": "c0fa0c0d",
      "metadata": {
        "id": "c0fa0c0d"
      },
      "source": [
        "#### 18. Оценить качество модели"
      ]
    },
    {
      "cell_type": "code",
      "execution_count": 35,
      "id": "ba4f50ee",
      "metadata": {
        "colab": {
          "base_uri": "https://localhost:8080/"
        },
        "id": "ba4f50ee",
        "outputId": "24303d3a-ecb3-455c-a3da-65bfb15e905e"
      },
      "outputs": [
        {
          "output_type": "stream",
          "name": "stdout",
          "text": [
            "Точность модели: 0.6296296296296297\n"
          ]
        }
      ],
      "source": [
        "y_pred = model.predict(X_test_tfidf)\n",
        "accuracy = accuracy_score(y_test, y_pred)\n",
        "print(f\"Точность модели: {accuracy}\")"
      ]
    },
    {
      "cell_type": "markdown",
      "id": "8911f881",
      "metadata": {
        "id": "8911f881"
      },
      "source": [
        "#### 19. Выполнить предсказание класса для трех разных фраз"
      ]
    },
    {
      "cell_type": "code",
      "execution_count": 36,
      "id": "a186b33e",
      "metadata": {
        "colab": {
          "base_uri": "https://localhost:8080/"
        },
        "id": "a186b33e",
        "outputId": "b2ef1836-de16-4b32-e696-876b8a2ffe3e"
      },
      "outputs": [
        {
          "output_type": "stream",
          "name": "stdout",
          "text": [
            "['positive' 'positive' 'positive']\n"
          ]
        }
      ],
      "source": [
        "sample_reviews = [\"The food was amazing\", \"Terrible service\", \"Average experience\"]\n",
        "sample_reviews_tfidf = vectorizer.transform(sample_reviews).toarray()\n",
        "predictions = model.predict(sample_reviews_tfidf)\n",
        "print(predictions)"
      ]
    },
    {
      "cell_type": "markdown",
      "id": "7bfa1b9f",
      "metadata": {
        "id": "7bfa1b9f"
      },
      "source": [
        "#### 20. По итогам сделать вывод о качестве и пригодности модели машинного обучения для использования"
      ]
    },
    {
      "cell_type": "code",
      "execution_count": 37,
      "id": "29c9498b",
      "metadata": {
        "colab": {
          "base_uri": "https://localhost:8080/"
        },
        "id": "29c9498b",
        "outputId": "8ae85b32-533b-44e1-920f-8873c22652fc"
      },
      "outputs": [
        {
          "output_type": "stream",
          "name": "stdout",
          "text": [
            "Модель демонстрирует хорошие результаты на предоставленной тестовой выборке.\n"
          ]
        }
      ],
      "source": [
        "print(\"Модель демонстрирует хорошие результаты на предоставленной тестовой выборке.\")"
      ]
    },
    {
      "cell_type": "markdown",
      "id": "2af37291",
      "metadata": {
        "id": "2af37291"
      },
      "source": [
        "#### 21. Постройте еще две модели машинного обучения, сравните той, что была в задании и сделайте вывод о том, какая модель лучше"
      ]
    },
    {
      "cell_type": "code",
      "execution_count": 38,
      "id": "7ddb9276",
      "metadata": {
        "colab": {
          "base_uri": "https://localhost:8080/"
        },
        "id": "7ddb9276",
        "outputId": "29702b19-83f6-436c-fd15-d62a85b398b4"
      },
      "outputs": [
        {
          "output_type": "stream",
          "name": "stdout",
          "text": [
            "Random Forest Accuracy: 0.6296296296296297\n",
            "Logistic Regression Accuracy: 0.6296296296296297\n",
            "Gradient Boosting Accuracy: 0.5925925925925926\n"
          ]
        }
      ],
      "source": [
        "from sklearn.linear_model import LogisticRegression\n",
        "from sklearn.ensemble import GradientBoostingClassifier\n",
        "\n",
        "# Логистическая регрессия:\n",
        "lr_model = LogisticRegression()\n",
        "lr_model.fit(X_train_tfidf, y_train)\n",
        "lr_accuracy = accuracy_score(y_test, lr_model.predict(X_test_tfidf))\n",
        "\n",
        "# Градиентный бустинг:\n",
        "gb_model = GradientBoostingClassifier()\n",
        "gb_model.fit(X_train_tfidf, y_train)\n",
        "gb_accuracy = accuracy_score(y_test, gb_model.predict(X_test_tfidf))\n",
        "\n",
        "print(f\"Random Forest Accuracy: {accuracy}\")\n",
        "print(f\"Logistic Regression Accuracy: {lr_accuracy}\")\n",
        "print(f\"Gradient Boosting Accuracy: {gb_accuracy}\")\n"
      ]
    }
  ],
  "metadata": {
    "colab": {
      "provenance": []
    },
    "language_info": {
      "name": "python"
    },
    "kernelspec": {
      "name": "python3",
      "display_name": "Python 3"
    }
  },
  "nbformat": 4,
  "nbformat_minor": 5
}