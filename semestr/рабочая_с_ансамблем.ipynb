{
  "cells": [
    {
      "cell_type": "markdown",
      "id": "831ed9e5",
      "metadata": {
        "id": "831ed9e5"
      },
      "source": [
        "# Экзаменационное проектное задание\n",
        "\n",
        "## Шкала оценивания\n",
        "\n",
        "- **Оценка 3-4:** Нужно построить модель машинного обучения с классификатором по заданию\n",
        "\n",
        "- **Оценка 5:** Нужно применить 2 дополнительных классификатора, сравнить и сделать выводы какой лучше"
      ]
    },
    {
      "cell_type": "markdown",
      "id": "698b5b0e",
      "metadata": {
        "id": "698b5b0e"
      },
      "source": [
        "# Часть I. Подготовка набора данных: Отзывы о ресторанах"
      ]
    },
    {
      "cell_type": "markdown",
      "id": "fdc16b45",
      "metadata": {
        "id": "fdc16b45"
      },
      "source": [
        "## Задание\n",
        "\n",
        "Вам предлагается выполнить подготовку набора данных\n",
        "\n",
        "Описание набора данных: Отзывы пользователей о ресторанах. Целевая переменная - тональность отзыва\n",
        "\n",
        "Ссылка на набор данных для использования в блокноте: https://raw.githubusercontent.com/yakushinav/mo2025/refs/heads/main/data/rest01.csv"
      ]
    },
    {
      "cell_type": "markdown",
      "id": "4d0d8cb2",
      "metadata": {
        "id": "4d0d8cb2"
      },
      "source": [
        "#### 1. Подключение библиотек"
      ]
    },
    {
      "cell_type": "code",
      "execution_count": 41,
      "id": "ccb62996",
      "metadata": {
        "colab": {
          "base_uri": "https://localhost:8080/"
        },
        "id": "ccb62996",
        "outputId": "a8a28684-5fdd-4b39-ad35-bad3ef3b7bda"
      },
      "outputs": [
        {
          "output_type": "stream",
          "name": "stdout",
          "text": [
            "Все библиотеки импортированы успешно!\n"
          ]
        },
        {
          "output_type": "stream",
          "name": "stderr",
          "text": [
            "[nltk_data] Downloading package stopwords to /root/nltk_data...\n",
            "[nltk_data]   Package stopwords is already up-to-date!\n"
          ]
        }
      ],
      "source": [
        "import pandas as pd\n",
        "import numpy as np\n",
        "import re\n",
        "import nltk\n",
        "from nltk.corpus import stopwords\n",
        "from sklearn.model_selection import train_test_split, GridSearchCV\n",
        "from sklearn.feature_extraction.text import TfidfVectorizer, CountVectorizer\n",
        "from sklearn.ensemble import RandomForestClassifier, VotingClassifier, GradientBoostingClassifier\n",
        "from sklearn.linear_model import LogisticRegression\n",
        "from sklearn.svm import LinearSVC\n",
        "from sklearn.naive_bayes import MultinomialNB\n",
        "from sklearn.metrics import classification_report, accuracy_score, confusion_matrix\n",
        "from sklearn.utils import resample\n",
        "from scipy.sparse import hstack\n",
        "import warnings\n",
        "warnings.filterwarnings('ignore')\n",
        "\n",
        "nltk.download('stopwords')\n",
        "print(\"Все библиотеки импортированы успешно!\")\n"
      ]
    },
    {
      "cell_type": "markdown",
      "id": "cd30016a",
      "metadata": {
        "id": "cd30016a"
      },
      "source": [
        "#### 2. Чтение набора данных"
      ]
    },
    {
      "cell_type": "code",
      "execution_count": 42,
      "id": "224422ac",
      "metadata": {
        "colab": {
          "base_uri": "https://localhost:8080/"
        },
        "id": "224422ac",
        "outputId": "6bf01794-9786-43ff-b28f-7fd65d923c9a"
      },
      "outputs": [
        {
          "output_type": "stream",
          "name": "stdout",
          "text": [
            "Данные загружены успешно!\n"
          ]
        }
      ],
      "source": [
        "url = \"https://raw.githubusercontent.com/yakushinav/mo2025/refs/heads/main/data/rest01.csv\"\n",
        "df = pd.read_csv(url)\n",
        "print(\"Данные загружены успешно!\")"
      ]
    },
    {
      "cell_type": "markdown",
      "id": "dc566934",
      "metadata": {
        "id": "dc566934"
      },
      "source": [
        "#### 3. Первые 7 строк набора данных"
      ]
    },
    {
      "cell_type": "code",
      "execution_count": 43,
      "id": "cefd0320",
      "metadata": {
        "colab": {
          "base_uri": "https://localhost:8080/",
          "height": 282
        },
        "id": "cefd0320",
        "outputId": "9cbccc9f-0dfb-4866-ce7f-07e6bb124743"
      },
      "outputs": [
        {
          "output_type": "execute_result",
          "data": {
            "text/plain": [
              "   Unnamed: 0                        rest  \\\n",
              "0           0      13 маршрут Retro-Blues   \n",
              "1           1               Веселый барин   \n",
              "2           2                  Моб Джойнт   \n",
              "3           3                     Крапива   \n",
              "4           4  Советское кафе \"Квартирка\"   \n",
              "5           5                       Дитай   \n",
              "6           6                     ПАБ № 1   \n",
              "\n",
              "                                              review  feedback  \n",
              "0  День 8-го марта прошёл, можно и итоги подвести...  positive  \n",
              "1  Отмечали в этом ресторане день рождение на пер...  positive  \n",
              "2  Для встречи с друзьями было выбрано данное зав...   neutral  \n",
              "3  Хочу поделиться своим впечатлением от посещени...  negative  \n",
              "4  Добрый день! Были вчера с друзьями в этом кафе...  positive  \n",
              "5  Отметили с мужем годовщину свадьбы 6 ноября в ...   neutral  \n",
              "6  Впервые побывала в этом пабе совсем недавно и ...   neutral  "
            ],
            "text/html": [
              "\n",
              "  <div id=\"df-01c01df2-8039-45f1-891b-cd9e78a20e2c\" class=\"colab-df-container\">\n",
              "    <div>\n",
              "<style scoped>\n",
              "    .dataframe tbody tr th:only-of-type {\n",
              "        vertical-align: middle;\n",
              "    }\n",
              "\n",
              "    .dataframe tbody tr th {\n",
              "        vertical-align: top;\n",
              "    }\n",
              "\n",
              "    .dataframe thead th {\n",
              "        text-align: right;\n",
              "    }\n",
              "</style>\n",
              "<table border=\"1\" class=\"dataframe\">\n",
              "  <thead>\n",
              "    <tr style=\"text-align: right;\">\n",
              "      <th></th>\n",
              "      <th>Unnamed: 0</th>\n",
              "      <th>rest</th>\n",
              "      <th>review</th>\n",
              "      <th>feedback</th>\n",
              "    </tr>\n",
              "  </thead>\n",
              "  <tbody>\n",
              "    <tr>\n",
              "      <th>0</th>\n",
              "      <td>0</td>\n",
              "      <td>13 маршрут Retro-Blues</td>\n",
              "      <td>День 8-го марта прошёл, можно и итоги подвести...</td>\n",
              "      <td>positive</td>\n",
              "    </tr>\n",
              "    <tr>\n",
              "      <th>1</th>\n",
              "      <td>1</td>\n",
              "      <td>Веселый барин</td>\n",
              "      <td>Отмечали в этом ресторане день рождение на пер...</td>\n",
              "      <td>positive</td>\n",
              "    </tr>\n",
              "    <tr>\n",
              "      <th>2</th>\n",
              "      <td>2</td>\n",
              "      <td>Моб Джойнт</td>\n",
              "      <td>Для встречи с друзьями было выбрано данное зав...</td>\n",
              "      <td>neutral</td>\n",
              "    </tr>\n",
              "    <tr>\n",
              "      <th>3</th>\n",
              "      <td>3</td>\n",
              "      <td>Крапива</td>\n",
              "      <td>Хочу поделиться своим впечатлением от посещени...</td>\n",
              "      <td>negative</td>\n",
              "    </tr>\n",
              "    <tr>\n",
              "      <th>4</th>\n",
              "      <td>4</td>\n",
              "      <td>Советское кафе \"Квартирка\"</td>\n",
              "      <td>Добрый день! Были вчера с друзьями в этом кафе...</td>\n",
              "      <td>positive</td>\n",
              "    </tr>\n",
              "    <tr>\n",
              "      <th>5</th>\n",
              "      <td>5</td>\n",
              "      <td>Дитай</td>\n",
              "      <td>Отметили с мужем годовщину свадьбы 6 ноября в ...</td>\n",
              "      <td>neutral</td>\n",
              "    </tr>\n",
              "    <tr>\n",
              "      <th>6</th>\n",
              "      <td>6</td>\n",
              "      <td>ПАБ № 1</td>\n",
              "      <td>Впервые побывала в этом пабе совсем недавно и ...</td>\n",
              "      <td>neutral</td>\n",
              "    </tr>\n",
              "  </tbody>\n",
              "</table>\n",
              "</div>\n",
              "    <div class=\"colab-df-buttons\">\n",
              "\n",
              "  <div class=\"colab-df-container\">\n",
              "    <button class=\"colab-df-convert\" onclick=\"convertToInteractive('df-01c01df2-8039-45f1-891b-cd9e78a20e2c')\"\n",
              "            title=\"Convert this dataframe to an interactive table.\"\n",
              "            style=\"display:none;\">\n",
              "\n",
              "  <svg xmlns=\"http://www.w3.org/2000/svg\" height=\"24px\" viewBox=\"0 -960 960 960\">\n",
              "    <path d=\"M120-120v-720h720v720H120Zm60-500h600v-160H180v160Zm220 220h160v-160H400v160Zm0 220h160v-160H400v160ZM180-400h160v-160H180v160Zm440 0h160v-160H620v160ZM180-180h160v-160H180v160Zm440 0h160v-160H620v160Z\"/>\n",
              "  </svg>\n",
              "    </button>\n",
              "\n",
              "  <style>\n",
              "    .colab-df-container {\n",
              "      display:flex;\n",
              "      gap: 12px;\n",
              "    }\n",
              "\n",
              "    .colab-df-convert {\n",
              "      background-color: #E8F0FE;\n",
              "      border: none;\n",
              "      border-radius: 50%;\n",
              "      cursor: pointer;\n",
              "      display: none;\n",
              "      fill: #1967D2;\n",
              "      height: 32px;\n",
              "      padding: 0 0 0 0;\n",
              "      width: 32px;\n",
              "    }\n",
              "\n",
              "    .colab-df-convert:hover {\n",
              "      background-color: #E2EBFA;\n",
              "      box-shadow: 0px 1px 2px rgba(60, 64, 67, 0.3), 0px 1px 3px 1px rgba(60, 64, 67, 0.15);\n",
              "      fill: #174EA6;\n",
              "    }\n",
              "\n",
              "    .colab-df-buttons div {\n",
              "      margin-bottom: 4px;\n",
              "    }\n",
              "\n",
              "    [theme=dark] .colab-df-convert {\n",
              "      background-color: #3B4455;\n",
              "      fill: #D2E3FC;\n",
              "    }\n",
              "\n",
              "    [theme=dark] .colab-df-convert:hover {\n",
              "      background-color: #434B5C;\n",
              "      box-shadow: 0px 1px 3px 1px rgba(0, 0, 0, 0.15);\n",
              "      filter: drop-shadow(0px 1px 2px rgba(0, 0, 0, 0.3));\n",
              "      fill: #FFFFFF;\n",
              "    }\n",
              "  </style>\n",
              "\n",
              "    <script>\n",
              "      const buttonEl =\n",
              "        document.querySelector('#df-01c01df2-8039-45f1-891b-cd9e78a20e2c button.colab-df-convert');\n",
              "      buttonEl.style.display =\n",
              "        google.colab.kernel.accessAllowed ? 'block' : 'none';\n",
              "\n",
              "      async function convertToInteractive(key) {\n",
              "        const element = document.querySelector('#df-01c01df2-8039-45f1-891b-cd9e78a20e2c');\n",
              "        const dataTable =\n",
              "          await google.colab.kernel.invokeFunction('convertToInteractive',\n",
              "                                                    [key], {});\n",
              "        if (!dataTable) return;\n",
              "\n",
              "        const docLinkHtml = 'Like what you see? Visit the ' +\n",
              "          '<a target=\"_blank\" href=https://colab.research.google.com/notebooks/data_table.ipynb>data table notebook</a>'\n",
              "          + ' to learn more about interactive tables.';\n",
              "        element.innerHTML = '';\n",
              "        dataTable['output_type'] = 'display_data';\n",
              "        await google.colab.output.renderOutput(dataTable, element);\n",
              "        const docLink = document.createElement('div');\n",
              "        docLink.innerHTML = docLinkHtml;\n",
              "        element.appendChild(docLink);\n",
              "      }\n",
              "    </script>\n",
              "  </div>\n",
              "\n",
              "\n",
              "    <div id=\"df-47989ef3-a758-462b-8678-efe65c5fae83\">\n",
              "      <button class=\"colab-df-quickchart\" onclick=\"quickchart('df-47989ef3-a758-462b-8678-efe65c5fae83')\"\n",
              "                title=\"Suggest charts\"\n",
              "                style=\"display:none;\">\n",
              "\n",
              "<svg xmlns=\"http://www.w3.org/2000/svg\" height=\"24px\"viewBox=\"0 0 24 24\"\n",
              "     width=\"24px\">\n",
              "    <g>\n",
              "        <path d=\"M19 3H5c-1.1 0-2 .9-2 2v14c0 1.1.9 2 2 2h14c1.1 0 2-.9 2-2V5c0-1.1-.9-2-2-2zM9 17H7v-7h2v7zm4 0h-2V7h2v10zm4 0h-2v-4h2v4z\"/>\n",
              "    </g>\n",
              "</svg>\n",
              "      </button>\n",
              "\n",
              "<style>\n",
              "  .colab-df-quickchart {\n",
              "      --bg-color: #E8F0FE;\n",
              "      --fill-color: #1967D2;\n",
              "      --hover-bg-color: #E2EBFA;\n",
              "      --hover-fill-color: #174EA6;\n",
              "      --disabled-fill-color: #AAA;\n",
              "      --disabled-bg-color: #DDD;\n",
              "  }\n",
              "\n",
              "  [theme=dark] .colab-df-quickchart {\n",
              "      --bg-color: #3B4455;\n",
              "      --fill-color: #D2E3FC;\n",
              "      --hover-bg-color: #434B5C;\n",
              "      --hover-fill-color: #FFFFFF;\n",
              "      --disabled-bg-color: #3B4455;\n",
              "      --disabled-fill-color: #666;\n",
              "  }\n",
              "\n",
              "  .colab-df-quickchart {\n",
              "    background-color: var(--bg-color);\n",
              "    border: none;\n",
              "    border-radius: 50%;\n",
              "    cursor: pointer;\n",
              "    display: none;\n",
              "    fill: var(--fill-color);\n",
              "    height: 32px;\n",
              "    padding: 0;\n",
              "    width: 32px;\n",
              "  }\n",
              "\n",
              "  .colab-df-quickchart:hover {\n",
              "    background-color: var(--hover-bg-color);\n",
              "    box-shadow: 0 1px 2px rgba(60, 64, 67, 0.3), 0 1px 3px 1px rgba(60, 64, 67, 0.15);\n",
              "    fill: var(--button-hover-fill-color);\n",
              "  }\n",
              "\n",
              "  .colab-df-quickchart-complete:disabled,\n",
              "  .colab-df-quickchart-complete:disabled:hover {\n",
              "    background-color: var(--disabled-bg-color);\n",
              "    fill: var(--disabled-fill-color);\n",
              "    box-shadow: none;\n",
              "  }\n",
              "\n",
              "  .colab-df-spinner {\n",
              "    border: 2px solid var(--fill-color);\n",
              "    border-color: transparent;\n",
              "    border-bottom-color: var(--fill-color);\n",
              "    animation:\n",
              "      spin 1s steps(1) infinite;\n",
              "  }\n",
              "\n",
              "  @keyframes spin {\n",
              "    0% {\n",
              "      border-color: transparent;\n",
              "      border-bottom-color: var(--fill-color);\n",
              "      border-left-color: var(--fill-color);\n",
              "    }\n",
              "    20% {\n",
              "      border-color: transparent;\n",
              "      border-left-color: var(--fill-color);\n",
              "      border-top-color: var(--fill-color);\n",
              "    }\n",
              "    30% {\n",
              "      border-color: transparent;\n",
              "      border-left-color: var(--fill-color);\n",
              "      border-top-color: var(--fill-color);\n",
              "      border-right-color: var(--fill-color);\n",
              "    }\n",
              "    40% {\n",
              "      border-color: transparent;\n",
              "      border-right-color: var(--fill-color);\n",
              "      border-top-color: var(--fill-color);\n",
              "    }\n",
              "    60% {\n",
              "      border-color: transparent;\n",
              "      border-right-color: var(--fill-color);\n",
              "    }\n",
              "    80% {\n",
              "      border-color: transparent;\n",
              "      border-right-color: var(--fill-color);\n",
              "      border-bottom-color: var(--fill-color);\n",
              "    }\n",
              "    90% {\n",
              "      border-color: transparent;\n",
              "      border-bottom-color: var(--fill-color);\n",
              "    }\n",
              "  }\n",
              "</style>\n",
              "\n",
              "      <script>\n",
              "        async function quickchart(key) {\n",
              "          const quickchartButtonEl =\n",
              "            document.querySelector('#' + key + ' button');\n",
              "          quickchartButtonEl.disabled = true;  // To prevent multiple clicks.\n",
              "          quickchartButtonEl.classList.add('colab-df-spinner');\n",
              "          try {\n",
              "            const charts = await google.colab.kernel.invokeFunction(\n",
              "                'suggestCharts', [key], {});\n",
              "          } catch (error) {\n",
              "            console.error('Error during call to suggestCharts:', error);\n",
              "          }\n",
              "          quickchartButtonEl.classList.remove('colab-df-spinner');\n",
              "          quickchartButtonEl.classList.add('colab-df-quickchart-complete');\n",
              "        }\n",
              "        (() => {\n",
              "          let quickchartButtonEl =\n",
              "            document.querySelector('#df-47989ef3-a758-462b-8678-efe65c5fae83 button');\n",
              "          quickchartButtonEl.style.display =\n",
              "            google.colab.kernel.accessAllowed ? 'block' : 'none';\n",
              "        })();\n",
              "      </script>\n",
              "    </div>\n",
              "    </div>\n",
              "  </div>\n"
            ],
            "application/vnd.google.colaboratory.intrinsic+json": {
              "type": "dataframe",
              "variable_name": "df",
              "summary": "{\n  \"name\": \"df\",\n  \"rows\": 404,\n  \"fields\": [\n    {\n      \"column\": \"Unnamed: 0\",\n      \"properties\": {\n        \"dtype\": \"number\",\n        \"std\": 116,\n        \"min\": 0,\n        \"max\": 403,\n        \"num_unique_values\": 404,\n        \"samples\": [\n          70,\n          218,\n          384\n        ],\n        \"semantic_type\": \"\",\n        \"description\": \"\"\n      }\n    },\n    {\n      \"column\": \"rest\",\n      \"properties\": {\n        \"dtype\": \"string\",\n        \"num_unique_values\": 315,\n        \"samples\": [\n          \"La strada\",\n          \"Repin Lounge Restaurant & Bar\",\n          \"\\u0422\\u0435\\u0440\\u0440\\u0430\\u0441\\u0430\"\n        ],\n        \"semantic_type\": \"\",\n        \"description\": \"\"\n      }\n    },\n    {\n      \"column\": \"review\",\n      \"properties\": {\n        \"dtype\": \"string\",\n        \"num_unique_values\": 404,\n        \"samples\": [\n          \"\\u041a\\u0440\\u0430\\u0441\\u0438\\u0432\\u043e. \\u0412\\u043a\\u0443\\u0441\\u043d\\u043e. \\u041e\\u0431\\u0441\\u043b\\u0443\\u0436\\u0438\\u0432\\u0430\\u043d\\u0438\\u0435 \\\"\\u043d\\u0430 \\u0443\\u0440\\u043e\\u0432\\u043d\\u0435\\\". \\u0412\\u043e\\u0442 \\u043d\\u0430 \\u044d\\u0442\\u043e\\u0442 \\\"\\u0443\\u0440\\u043e\\u0432\\u0435\\u043d\\u044c\\\" \\u043e\\u043d\\u043e \\u0438 \\u043e\\u0440\\u0438\\u0435\\u043d\\u0442\\u0438\\u0440\\u043e\\u0432\\u0430\\u043d\\u043d\\u043e, \\u043d\\u0435 \\u043d\\u0430 \\u043a\\u043b\\u0438\\u0435\\u043d\\u0442\\u0430 )) \\u041f\\u0440\\u0438\\u0435\\u0445\\u0430\\u043b\\u0438 \\u0432 23, \\u0432 \\u0431\\u0443\\u0434\\u043d\\u0438\\u0439 \\u0434\\u0435\\u043d\\u044c, \\u0432\\u0434\\u0432\\u043e\\u0435\\u043c \\u043f\\u043e\\u043a\\u0443\\u0448\\u0430\\u0442\\u044c. \\u0420\\u0435\\u0441\\u0442\\u043e\\u0440\\u0430\\u043d \\u0441\\u043e\\u0437\\u0434\\u0430\\u0432\\u0430\\u043b \\u0432\\u043f\\u0435\\u0447\\u0430\\u0442\\u043b\\u0435\\u043d\\u0438\\u0435 \\u043f\\u0443\\u0441\\u0442\\u043e\\u0433\\u043e, \\u0442\\u043e\\u043b\\u044c\\u043a\\u043e \\u043f\\u0440\\u0438\\u0433\\u043b\\u044f\\u0434\\u0435\\u0432\\u0448\\u0438\\u0441\\u044c \\u043c\\u043e\\u0436\\u043d\\u043e \\u0431\\u044b\\u043b\\u043e \\u0443\\u0432\\u0438\\u0434\\u0435\\u0442\\u044c \\u043f\\u043e\\u0441\\u0435\\u0442\\u0438\\u0442\\u0435\\u043b\\u0435\\u0439. \\u041e\\u0431\\u0441\\u043b\\u0443\\u0436\\u0438\\u0432\\u0430\\u044e\\u0449\\u0435\\u0433\\u043e \\u043f\\u0435\\u0440\\u0441\\u043e\\u043d\\u0430\\u043b\\u0430 \\u0431\\u044b\\u043b\\u043e \\u044f\\u0432\\u043d\\u043e \\u0431\\u043e\\u043b\\u044c\\u0448\\u0435, \\u0447\\u0435\\u043c \\u0433\\u043e\\u0441\\u0442\\u0435\\u0439. \\u041f\\u043e\\u0434\\u043d\\u044f\\u043b\\u0438\\u0441\\u044c \\u043d\\u0430 \\u0432\\u0442\\u043e\\u0440\\u043e\\u0439 \\u044d\\u0442\\u0430\\u0436, \\u0432\\u0441\\u0442\\u0440\\u0435\\u0442\\u0438\\u043b\\u0430 \\u043d\\u0430\\u0441 \\u0434\\u0435\\u0432\\u0443\\u0448\\u043a\\u0430, \\u043f\\u0440\\u0435\\u0434\\u043b\\u043e\\u0436\\u0438\\u043b\\u0430 \\u043f\\u0430\\u0440\\u0443 \\u043c\\u0430\\u043b\\u0435\\u043d\\u044c\\u043a\\u0438\\u0445 \\u0441\\u0442\\u043e\\u043b\\u0438\\u043a\\u043e\\u0432. \\u041c\\u044b \\u0437\\u0430\\u0445\\u043e\\u0442\\u0435\\u043b\\u0438 \\u0441\\u0435\\u0441\\u0442\\u044c \\u0437\\u0430 \\u0431\\u043e\\u043b\\u044c\\u0448\\u043e\\u0439 \\u0441\\u0442\\u043e\\u043b, \\u0441 \\u0434\\u0438\\u0432\\u0430\\u043d\\u0430\\u043c\\u0438. \\u041d\\u0443 \\u0443\\u0436 \\u043e\\u0447\\u0435\\u043d\\u044c \\u0445\\u043e\\u0442\\u0435\\u043b\\u043e\\u0441\\u044c \\u043d\\u0430 \\u0434\\u0438\\u0432\\u0430\\u043d)) \\u0414\\u0435\\u0432\\u0443\\u0448\\u043a\\u0430 \\u043a\\u0430\\u0442\\u0435\\u0433\\u043e\\u0440\\u0438\\u0447\\u043d\\u043e \\u0441\\u043a\\u0430\\u0437\\u0430\\u043b\\u0430: \\\"\\u043d\\u0435\\u0442, \\u0431\\u043e\\u043b\\u044c\\u0448\\u0438\\u0435 \\u0441\\u0442\\u043e\\u043b\\u044b - \\u0434\\u043b\\u044f \\u0431\\u043e\\u043b\\u044c\\u0448\\u0438\\u0445 \\u043a\\u043e\\u043c\\u043f\\u0430\\u043d\\u0438\\u0439, \\u0438 \\u043e\\u0434\\u0438\\u043d \\u0438\\u0437 \\u043d\\u0438\\u0445 \\u0437\\u0430\\u0440\\u0435\\u0437\\u0435\\u0440\\u0432\\u0438\\u0440\\u043e\\u0432\\u0430\\u043d\\\". \\u0421\\u043c\\u0435\\u0448\\u043d\\u043e, \\u043e\\u0434\\u0438\\u043d \\u0437\\u0430\\u043d\\u044f\\u0442, \\u043e\\u0434\\u0438\\u043d \\u0437\\u0430\\u0440\\u0435\\u0437\\u0435\\u0440\\u0432\\u0438\\u0440\\u043e\\u0432\\u0430\\u043d, \\u0438 \\u0435\\u0449\\u0435 \\u043d\\u0435\\u0441\\u043a\\u043e\\u043b\\u044c\\u043a\\u043e \\u043f\\u0443\\u0441\\u0442\\u0443\\u044e\\u0442, \\u043d\\u043e \\u043c\\u044b \\u043d\\u0435 \\u043c\\u043e\\u0436\\u0435\\u043c \\u0441\\u0435\\u0441\\u0442\\u044c \\u0433\\u0434\\u0435 \\u043d\\u0440\\u0430\\u0432\\u0438\\u0442\\u0441\\u044f, \\u0442.\\u043a. \\u043d\\u0430\\u0441 \\u0442\\u043e\\u043b\\u044c\\u043a\\u043e \\u0434\\u0432\\u043e\\u0435. \\u041d\\u0443 \\u0432\\u0434\\u0440\\u0443\\u0433, \\u0432 \\u044d\\u0442\\u043e\\u043c \\u0440\\u0435\\u0441\\u0442\\u043e\\u0440\\u0430\\u043d\\u0435 \\u0430\\u043d\\u0448\\u043b\\u0430\\u0433 \\u043d\\u0435\\u043e\\u0436\\u0438\\u0434\\u0430\\u043d\\u043d\\u043e \\u0441\\u043b\\u0443\\u0447\\u0430\\u0435\\u0442\\u0441\\u044f \\u0432 \\u043f\\u043e\\u043b\\u043d\\u043e\\u0447\\u044c, \\u043b\\u0430\\u0434\\u043d\\u043e \\u043d\\u0435 \\u0431\\u0443\\u0434\\u0435\\u043c \\u0437\\u0430\\u043d\\u0438\\u043c\\u0430\\u0442\\u044c \\u0441\\u043e\\u0431\\u043e\\u0439 \\u0442\\u0430\\u043a \\u043c\\u043d\\u043e\\u0433\\u043e \\u043c\\u0435\\u0441\\u0442\\u0430. \\u041a\\u043e\\u043d\\u0435\\u0447\\u043d\\u043e \\u0434\\u043e \\u0437\\u0430\\u043a\\u0440\\u044b\\u0442\\u0438\\u044f \\u0431\\u043e\\u043b\\u044c\\u0448\\u0435 \\u043d\\u0438\\u043a\\u0442\\u043e \\u043d\\u0435 \\u043f\\u043e\\u044f\\u0432\\u0438\\u043b\\u0441\\u044f. \\u041a\\u0443\\u0445\\u043d\\u044f, \\u0434\\u0435\\u0439\\u0441\\u0442\\u0432\\u0438\\u0442\\u0435\\u043b\\u044c\\u043d\\u043e \\u0445\\u043e\\u0440\\u043e\\u0448\\u0430. \\u041c\\u0443\\u0437\\u044b\\u043a\\u0430 \\u0442\\u043e\\u0436\\u0435.\",\n          \"\\u041d\\u0430\\u0447\\u0438\\u0442\\u0430\\u043b\\u0430\\u0441\\u044c \\u044f \\u0442\\u0443\\u0442 \\u043e\\u0442\\u0437\\u044b\\u0432\\u043e\\u0432 \\u043e \\u0434\\u0430\\u043d\\u043d\\u043e\\u043c \\u0440\\u0435\\u0441\\u0442\\u043e\\u0440\\u0430\\u043d\\u0435 \\u0438 \\u0432\\u0441\\u0435 \\u0436\\u0435 \\u0440\\u0435\\u0448\\u0438\\u043b\\u0430\\u0441\\u044c \\u043f\\u043e\\u0441\\u0435\\u0442\\u0438\\u0442\\u044c \\u0435\\u0433\\u043e.\\u041e\\u0436\\u0438\\u0434\\u0430\\u043b\\u0430 \\u0442\\u0438\\u0445\\u0438\\u0439 \\u0443\\u0436\\u0430\\u0441, \\u0430 \\u043f\\u043e\\u043b\\u0443\\u0447\\u0438\\u043b\\u043e\\u0441\\u044c \\u043d\\u0430\\u043e\\u0431\\u043e\\u0440\\u043e\\u0442,\\u0432\\u043e\\u0442 \\u0442\\u0435\\u043f\\u0435\\u0440\\u044c \\u043e\\u0442\\u0437\\u044b\\u0432\\u0430\\u043c \\u0434\\u043e\\u0432\\u0435\\u0440\\u044f\\u0442\\u044c \\u043d\\u0435 \\u0431\\u0443\\u0434\\u0443 ,\\u043b\\u0443\\u0447\\u0448\\u0435 \\u0441\\u0430\\u043c\\u043e\\u0439 \\u043f\\u0440\\u043e\\u0432\\u0435\\u0440\\u0438\\u0442\\u044c. \\u0417\\u0430\\u0448\\u043b\\u0430 \\u0441 \\u043f\\u043e\\u0434\\u0440\\u0443\\u0433\\u043e\\u0439 \\u0432 \\u0447\\u0435\\u0442\\u0432\\u0435\\u0440\\u0433 \\u0434\\u043d\\u0435\\u043c,\\u0440\\u0435\\u0448\\u0438\\u043b\\u0438 \\u043f\\u043e\\u043e\\u0431\\u0435\\u0434\\u0430\\u0442\\u044c. \\u041d\\u0430\\u0441 \\u0432\\u0441\\u0442\\u0440\\u0435\\u0442\\u0438\\u043b\\u0430 \\u043e\\u0447\\u0435\\u043d\\u044c \\u043c\\u0438\\u043b\\u0430\\u044f \\u0434\\u0435\\u0432\\u0443\\u0448\\u043a\\u0430 \\u043f\\u0440\\u043e\\u0432\\u043e\\u0434\\u0438\\u043b\\u0430 \\u0432 \\u0437\\u0430\\u043b \\u0434\\u043b\\u044f \\u043d\\u0435 \\u043a\\u0443\\u0440\\u044f\\u0449\\u0438\\u0445,\\u043d\\u0430\\u0440\\u043e\\u0434\\u0443 \\u0431\\u044b\\u043b\\u043e \\u0441\\u043a\\u0430\\u0436\\u0435\\u043c \\u043d\\u0435 \\u043c\\u0430\\u043b\\u043e,\\u043f\\u043e\\u0441\\u043b\\u0435 \\u043f\\u0440\\u043e\\u0447\\u0442\\u0435\\u043d\\u043d\\u044b\\u0445 \\u043e\\u0442\\u0437\\u044b\\u0432\\u043e\\u0432 \\u043e\\u0436\\u0438\\u0434\\u0430\\u043b\\u0430 ,\\u0447\\u0442\\u043e \\u0431\\u0443\\u0434\\u0443 \\u0441\\u0438\\u0434\\u0435\\u0442\\u044c \\u0432 \\u043f\\u0443\\u0441\\u0442\\u043e\\u043c \\u0437\\u0430\\u043b\\u0435 ,\\u043d\\u043e \\u043d\\u0435\\u0442, \\u0441\\u0432\\u043e\\u0431\\u043e\\u0434\\u043d\\u044b\\u0445 \\u0431\\u044b\\u043b\\u043e \\u0442\\u043e\\u043b\\u044c\\u043a\\u043e \\u0434\\u0432\\u0430 \\u0441\\u0442\\u043e\\u043b\\u0438\\u043a\\u0430 \\u0443 \\u043f\\u0440\\u043e\\u0445\\u043e\\u0434\\u0430,\\u0442\\u0430\\u043c \\u043c\\u044b \\u0438 \\u0441\\u0435\\u043b\\u0438.\\u0417\\u0430\\u043a\\u0430\\u0437\\u0430\\u043b\\u0430 \\u044f \\u0441\\u0430\\u043b\\u0430\\u0442,\\u0431\\u043e\\u043b\\u044c\\u0448\\u0443\\u044e \\u043f\\u043e\\u0440\\u0446\\u0438\\u044e,\\u043a\\u0430\\u043a \\u043d\\u0438 \\u0441\\u0442\\u0440\\u0430\\u043d\\u043d\\u043e \\u0435\\u0433\\u043e \\u043f\\u0440\\u0438\\u043d\\u0435\\u0441\\u043b\\u0438 \\u0432 \\u0431\\u043e\\u043b\\u044c\\u0448\\u043e\\u043c \\u043a\\u043e\\u043b\\u0438\\u0447\\u0435\\u0441\\u0442\\u0432\\u0435,\\u0438\\u0437 \\u0433\\u043e\\u0440\\u044f\\u0447\\u0435\\u0433\\u043e \\u0437\\u0430\\u043a\\u0430\\u0437\\u0430\\u043b\\u0430 \\u0441\\u0442\\u0435\\u0439\\u043a \\u0438\\u0437 \\u0442\\u0435\\u043b\\u044f\\u0442\\u0438\\u043d\\u044b,\\u043c\\u044f\\u0441\\u043e \\u0431\\u044b\\u043b\\u043e \\u043c\\u044f\\u0433\\u043a\\u0438\\u043c \\u0438 \\u0441\\u043e\\u0447\\u043d\\u044b\\u043c,\\u0438 \\u043a\\u043e\\u043d\\u0435\\u0447\\u043d\\u043e \\u0436\\u0435 \\u043c\\u043e\\u0435 \\u0441\\u0430\\u043c\\u043e\\u0435 \\u043b\\u044e\\u0431\\u0438\\u043c\\u043e\\u0435 \\u044d\\u0442\\u043e \\u0434\\u0435\\u0441\\u0435\\u0440\\u0442,\\u0437\\u0430\\u043a\\u0430\\u0437\\u0430\\u043b\\u0430 \\u0442\\u0438\\u0440\\u0430\\u043c\\u0438\\u0441\\u0443,\\u0438 \\u043f\\u0440\\u0430\\u0432\\u0438\\u043b\\u044c\\u043d\\u043e \\u0441\\u0434\\u0435\\u043b\\u0430\\u043b\\u0430,\\u043e\\u0447\\u0435\\u043d\\u044c \\u0432\\u043a\\u0443\\u0441\\u043d\\u044b\\u0439 \\u0434\\u0435\\u0441\\u0435\\u0440\\u0442.\\u0422\\u0435\\u043f\\u0435\\u0440\\u044c \\u0432\\u0441\\u0435\\u0433\\u0434\\u0430 \\u0431\\u0443\\u0434\\u0443 \\u0435\\u0433\\u043e \\u0443 \\u043d\\u0438\\u0445 \\u0435\\u0441\\u0442\\u044c .\\u041e\\u0431\\u0441\\u043b\\u0443\\u0436\\u0438\\u0432\\u0430\\u043d\\u0438\\u0435 \\u043c\\u043d\\u0435 \\u043f\\u043e\\u043d\\u0440\\u0430\\u0432\\u0438\\u043b\\u043e\\u0441\\u044c ,\\u0434\\u043e\\u0441\\u0442\\u0430\\u0442\\u043e\\u0447\\u043d\\u043e \\u0431\\u044b\\u0441\\u0442\\u0440\\u043e \\u0432\\u0441\\u0435 \\u043f\\u0440\\u0438\\u043d\\u0435\\u0441\\u043b\\u0438,\\u043d\\u0430 \\u0441\\u0442\\u043e\\u043b\\u0435 \\u0438\\u0441\\u043f\\u043e\\u043b\\u044c\\u0437\\u043e\\u0432\\u0430\\u043d\\u043d\\u044b\\u0435 \\u0442\\u0430\\u0440\\u0435\\u043b\\u043a\\u0438 \\u043d\\u0435 \\u0437\\u0430\\u0434\\u0435\\u0440\\u0436\\u0438\\u0432\\u0430\\u043b\\u0438\\u0441\\u044c ,\\u043e\\u0444\\u0438\\u0446\\u0438\\u0430\\u043d\\u0442\\u044b \\u0432\\u0441\\u0435\\u0445 \\u043e\\u043f\\u0435\\u0440\\u0430\\u0442\\u0438\\u0432\\u043d\\u043e \\u043e\\u0431\\u0441\\u043b\\u0443\\u0436\\u0438\\u0432\\u0430\\u043b\\u0438 ,\\u044f \\u0441\\u043f\\u0435\\u0446\\u0438\\u0430\\u043b\\u044c\\u043d\\u043e \\u0441\\u043b\\u0435\\u0434\\u0438\\u043b\\u0430 \\u0437\\u0430 \\u043d\\u0438\\u043c\\u0438 ))),\\u043f\\u0440\\u043e\\u0441\\u0442\\u043e \\u0445\\u043e\\u0442\\u0435\\u043b\\u043e\\u0441\\u044c \\u0441\\u0440\\u0430\\u0432\\u043d\\u0438\\u0442\\u044c \\u043e\\u0442\\u0437\\u044b\\u0432\\u044b \\u0441 \\u0440\\u0435\\u0430\\u043b\\u044c\\u043d\\u043e\\u0441\\u0442\\u044c\\u044e ,\\u043e\\u043a\\u0430\\u0437\\u0430\\u043b\\u043e\\u0441\\u044c \\u043e\\u0442\\u0437\\u044b\\u0432\\u044b \\u0431\\u044b\\u043b\\u0438 \\u043e\\u0448\\u0438\\u0431\\u043e\\u0447\\u043d\\u044b\\u043c\\u0438 ,\\u0445\\u043e\\u0442\\u044f \\u043c\\u043e\\u0436\\u0435\\u0442 \\u043c\\u043d\\u0435 \\u043f\\u0440\\u043e\\u0441\\u0442\\u043e \\u043f\\u043e\\u0432\\u0435\\u0437\\u043b\\u043e,\\u0438 \\u0432\\u0441\\u0435 \\u0436\\u0435 \\u044f \\u0442\\u0443\\u0434\\u0443 \\u0435\\u0449\\u0435 \\u043f\\u043e\\u0439\\u0434\\u0443.\\u0410 \\u043d\\u0430 \\u0441\\u0447\\u0435\\u0442 \\u0438\\u043d\\u0442\\u0435\\u0440\\u044c\\u0435\\u0440\\u0430 \\u0442\\u043e \\u043c\\u043d\\u0435 \\u043f\\u043e\\u043d\\u0440\\u0430\\u0432\\u0438\\u043b\\u0441\\u044f,\\u0441\\u043f\\u043e\\u043a\\u043e\\u0439\\u043d\\u044b\\u0439 \\u043d\\u0435\\u043f\\u0440\\u0438\\u043d\\u0443\\u0436\\u0434\\u0435\\u043d\\u043d\\u044b\\u0439,\\u0432\\u0441\\u0435 \\u0447\\u0438\\u0441\\u0442\\u0435\\u043d\\u044c\\u043a\\u043e \\u0438 \\u0430\\u043a\\u043a\\u0443\\u0440\\u0430\\u0442\\u043d\\u043e,\\u0431\\u0435\\u0437 \\u043f\\u0430\\u0444\\u043e\\u0441\\u0430.\",\n          \"\\u041f\\u0435\\u0440\\u0432\\u043e\\u0435 \\u0437\\u043d\\u0430\\u043a\\u043e\\u043c\\u0441\\u0442\\u0432\\u043e \\u043f\\u0440\\u043e\\u0438\\u0437\\u043e\\u0448\\u043b\\u043e \\u0441 \\u0434\\u0438\\u0440\\u0435\\u043a\\u0442\\u043e\\u0440\\u043e\\u043c \\u0434\\u0430\\u043d\\u043d\\u043e\\u0433\\u043e \\u0437\\u0430\\u0432\\u0435\\u0434\\u0435\\u043d\\u0438\\u044f (\\u043c\\u043e\\u0436\\u0435\\u0442 \\u044d\\u0442\\u0430 \\u043e\\u0434\\u043d\\u0430 \\u0438 \\u0442\\u0430 \\u0436\\u0435 \\u0434\\u0430\\u043c\\u0430, \\u0447\\u0442\\u043e \\u0438 \\u0432 \\u043f\\u0440\\u0435\\u0434. \\u043e\\u0442\\u0437\\u044b\\u0432\\u0435), \\u0441\\u043b\\u043e\\u0436\\u0438\\u043b\\u043e\\u0441\\u044c \\u0432\\u043f\\u0435\\u0447\\u0430\\u0442\\u043b\\u0435\\u043d\\u0438\\u0435, \\u0447\\u0442\\u043e \\u0437\\u0430\\u0438\\u043d\\u0442\\u0435\\u0440\\u0435\\u0441\\u043e\\u0432\\u0430\\u043d\\u043d\\u043e\\u0441\\u0442\\u0438 \\u0432 \\u0431\\u0430\\u043d\\u043a\\u0435\\u0442\\u0435 \\u043d\\u0435\\u0442 \\u0438 \\u0431\\u0443\\u0434\\u0442\\u043e \\u0432\\u0441\\u0451 \\u044d\\u0442\\u043e \\u043d\\u0443\\u0436\\u043d\\u043e \\u0442\\u043e\\u043b\\u044c\\u043a\\u043e \\u043d\\u0430\\u043c (\\u043e\\u0442 \\u0447\\u0435\\u0433\\u043e \\u043e\\u0441\\u0442\\u0430\\u043b\\u0441\\u044f \\u043d\\u0435\\u043f\\u0440\\u0438\\u044f\\u0442\\u043d\\u044b\\u0439 \\u043e\\u0441\\u0430\\u0434\\u043e\\u043a), \\u043d\\u043e \\u0432\\u0438\\u0434\\u044f \\u0440\\u0430\\u0431\\u043e\\u0442\\u0443 \\u043e\\u0444\\u0438\\u0446\\u0438\\u0430\\u043d\\u0442\\u043e\\u0432, \\u0430 \\u0442\\u0430\\u043a\\u0436\\u0435 \\u0432\\u043a\\u0443\\u0441\\u043d\\u043e \\u043f\\u043e\\u043e\\u0431\\u0435\\u0434\\u0430\\u0432, \\u0440\\u0435\\u0448\\u0438\\u043b\\u0438 \\u044d\\u0442\\u043e \\u043d\\u0435 \\u0433\\u043b\\u0430\\u0432\\u043d\\u043e\\u0435. \\u041d\\u0435 \\u043e\\u0431\\u0440\\u0430\\u0442\\u0438\\u043b\\u0438 \\u0432\\u043d\\u0438\\u043c\\u0430\\u0442\\u0435\\u043b\\u044c\\u043d\\u043e \\u043d\\u0430 \\u0442\\u043e\\u0442 \\u043c\\u043e\\u043c\\u0435\\u043d\\u0442, \\u0447\\u0442\\u043e \\u0440\\u0435\\u0441\\u0442\\u043e\\u0440\\u0430\\u043d \\u043d\\u0430\\u0445\\u043e\\u0434\\u0438\\u0442\\u0441\\u044f \\u0432 \\u0436\\u0438\\u043b\\u043e\\u043c \\u0434\\u043e\\u043c\\u0435 \\u0438 \\u0433\\u0440\\u043e\\u043c\\u043a\\u0443\\u044e \\u043c\\u0443\\u0437\\u044b\\u043a\\u0443 \\u043c\\u043e\\u0436\\u043d\\u043e \\u0442\\u043e\\u043b\\u044c\\u043a\\u043e \\u0434\\u043e 23.00., \\u043e\\u0442\\u0441\\u044e\\u0434\\u0430 \\u0442\\u0435\\u043c, \\u043a\\u0442\\u043e \\u0445\\u043e\\u0447\\u0435\\u0442 \\u043f\\u0440\\u0430\\u0437\\u0434\\u043d\\u043e\\u0432\\u0430\\u0442\\u044c \\u0441\\u0432\\u0430\\u0434\\u044c\\u0431\\u0443 \\u043d\\u0430\\u0434\\u043e \\u0443\\u0447\\u0438\\u0442\\u044b\\u0432\\u0430\\u0442\\u044c, \\u0447\\u0442\\u043e \\u0432 23 \\u043b\\u0438\\u0431\\u043e \\u0432\\u0441\\u0435 \\u0437\\u0430\\u043a\\u0430\\u043d\\u0447\\u0438\\u0432\\u0430\\u0435\\u0442\\u0441\\u044f, \\u043b\\u0438\\u0431\\u043e \\u043f\\u0440\\u043e\\u0434\\u043e\\u043b\\u0436\\u0430\\u0435\\u0442\\u0441\\u044f \\u0432 \\u0434\\u0440\\u0443\\u0433\\u043e\\u043c \\u043c\\u0435\\u0441\\u0442\\u0435, \\u0447\\u0442\\u043e \\u043e\\u0447\\u0435\\u043d\\u044c \\u0431\\u044b\\u043b\\u043e \\u0432 \\u043d\\u0430\\u0448\\u0435\\u043c \\u0441\\u043b\\u0443\\u0447\\u0430\\u0435 \\u043d\\u0435\\u0443\\u0434\\u043e\\u0431\\u043d\\u043e \\u0438 \\u0433\\u043e\\u0441\\u0442\\u0438 \\u0434\\u0435\\u0439\\u0441\\u0442\\u0432\\u0438\\u0442\\u0435\\u043b\\u044c\\u043d\\u043e \\u043d\\u0435 \\u0434\\u043e\\u0433\\u0443\\u043b\\u044f\\u043b\\u0438. \\u0427\\u0442\\u043e \\u043a\\u0430\\u0441\\u0430\\u0435\\u0442\\u0441\\u044f \\u0441\\u0430\\u043c\\u043e\\u0433\\u043e \\u0431\\u0430\\u043d\\u043a\\u0435\\u0442\\u0430, \\u0435\\u0434\\u044b \\u0437\\u0430 1620 \\u0440. \\u0434\\u043e\\u0441\\u0442\\u0430\\u0442\\u043e\\u0447\\u043d\\u043e, \\u043d\\u043e \\u0432\\u043a\\u0443\\u0441 \\u0443\\u0436\\u0430\\u0441\\u043d\\u044b\\u0439, \\u0442\\u043e\\u0442 \\u043e\\u0431\\u0435\\u0434 \\u043c\\u044b \\u0442\\u0435\\u043f\\u0435\\u0440\\u044c \\u0432\\u0441\\u043f\\u043e\\u043c\\u0438\\u043d\\u0430\\u0435\\u043c, \\u043a\\u0430\\u043a \\u043b\\u0443\\u0447\\u0448\\u0435\\u0435, \\u0447\\u0442\\u043e \\u0442\\u0430\\u043c \\u043f\\u0440\\u043e\\u0431\\u043e\\u0432\\u0430\\u043b\\u0438. \\u0421\\u0430\\u043b\\u0430\\u0442\\u044b \\u043d\\u0435\\u0432\\u043a\\u0443\\u0441\\u043d\\u044b\\u0435, \\u043a\\u0430\\u043a \\u0438 \\u0441\\u0430\\u043c\\u043e \\u0433\\u043e\\u0440\\u044f\\u0447\\u0435\\u0435, \\u043d\\u0430 \\u043a\\u043e\\u0442\\u043e\\u0440\\u043e\\u0435 \\u0431\\u044b\\u043b\\u0438 \\u0432\\u0441\\u0435 \\u043d\\u0430\\u0434\\u0435\\u0436\\u0434\\u044b, \\u0433\\u0430\\u0440\\u043d\\u0438\\u0440 \\u043d\\u0438\\u043a\\u0430\\u043a\\u043e\\u0439, \\u0440\\u044b\\u0431\\u0430 \\u0441\\u043a\\u0430\\u0437\\u0430\\u043b\\u0438, \\u043a\\u0430\\u043a \\u0432\\u0430\\u0440\\u0435\\u043d\\u0430\\u044f, \\u044f \\u0435\\u043b\\u0430 \\u043a\\u0443\\u0440\\u0438\\u0446\\u0443 - \\u0441\\u0443\\u0445\\u0430\\u044f, \\u043c\\u044f\\u0441\\u043e \\u0441\\u043a\\u0430\\u0437\\u0430\\u043b\\u0438 \\u0436\\u0435\\u0441\\u0442\\u043a\\u043e\\u0435, \\u0432\\u043e\\u043e\\u0431\\u0449\\u0435\\u043c \\u043f\\u043e\\u043b\\u043d\\u043e\\u0435 \\u0440\\u0430\\u0437\\u043e\\u0447\\u0430\\u0440\\u043e\\u0432\\u0430\\u043d\\u0438\\u0435 \\u0432 \\u0435\\u0434\\u0435, \\u043a\\u0430\\u043a \\u0438 \\u0432 \\u0442\\u043e\\u043c, \\u0447\\u0442\\u043e \\u043d\\u0435 \\u0443\\u0441\\u043f\\u0435\\u043b\\u0430 \\u0434\\u0430\\u0436\\u0435 \\u043f\\u043e\\u043f\\u0440\\u043e\\u0431\\u043e\\u0432\\u0430\\u0442\\u044c \\u0436\\u044e\\u043b\\u044c\\u0435\\u043d, \\u0441\\u0442\\u043e\\u044f\\u043b \\u043d\\u0435 \\u0442\\u0440\\u043e\\u043d\\u0443\\u0442\\u044b\\u0439, \\u043a\\u0430\\u043a \\u0432\\u043e \\u0432\\u0440\\u0435\\u043c\\u044f \\u043c\\u043e\\u0435\\u0433\\u043e \\u043e\\u0442\\u0441\\u0443\\u0442\\u0441\\u0442\\u0432\\u0438\\u0435 \\u0435\\u0433\\u043e \\u0443\\u043d\\u0435\\u0441\\u043b\\u0438, \\u0442\\u0430\\u043a \\u0441\\u043a\\u0430\\u0437\\u0430\\u043b\\u0438 \\u0432\\u0441\\u0435 \\u0433\\u043e\\u0441\\u0442\\u0438, \\u0447\\u0442\\u043e \\u043d\\u0435 \\u0443\\u0441\\u043f\\u0435\\u0432 \\u0441\\u044a\\u0435\\u0441\\u0442\\u044c \\u0438 \\u043f\\u043e\\u043b\\u043e\\u0432\\u0438\\u043d\\u044b, \\u0431\\u043b\\u044e\\u0434\\u0430 \\u0438\\u0441\\u0447\\u0435\\u0437\\u0430\\u043b\\u0438. \\u0421\\u043f\\u0430\\u0441\\u0438\\u0431\\u043e \\u0442\\u0430\\u043c\\u0430\\u0434\\u0435, \\u0447\\u0442\\u043e \\u043d\\u0435 \\u0434\\u0430\\u043b\\u0430 \\u0432\\u0440\\u0435\\u043c\\u0435\\u043d\\u0438 \\u043d\\u0430 \\u044d\\u0442\\u043e \\u043e\\u0431\\u0440\\u0430\\u0449\\u0430\\u0442\\u044c \\u0432\\u043d\\u0438\\u043c\\u0430\\u043d\\u0438\\u0435, \\u043d\\u043e \\u0434\\u043b\\u044f \\u043e\\u0441\\u0442\\u0430\\u043b\\u044c\\u043d\\u044b\\u0445 \\u0440\\u0435\\u0448\\u0438\\u043b\\u0430 \\u043f\\u043e\\u0434\\u0435\\u043b\\u0438\\u0442\\u044c\\u0441\\u044f \\u0438\\u043d\\u0444\\u043e\\u0440\\u043c\\u0430\\u0446\\u0438\\u0435\\u0439\"\n        ],\n        \"semantic_type\": \"\",\n        \"description\": \"\"\n      }\n    },\n    {\n      \"column\": \"feedback\",\n      \"properties\": {\n        \"dtype\": \"category\",\n        \"num_unique_values\": 3,\n        \"samples\": [\n          \"positive\",\n          \"neutral\",\n          \"negative\"\n        ],\n        \"semantic_type\": \"\",\n        \"description\": \"\"\n      }\n    }\n  ]\n}"
            }
          },
          "metadata": {},
          "execution_count": 43
        }
      ],
      "source": [
        "# Ваш код здесь\n",
        "df.head(7)\n"
      ]
    },
    {
      "cell_type": "markdown",
      "id": "477aa0cf",
      "metadata": {
        "id": "477aa0cf"
      },
      "source": [
        "#### 4. Последние 5 строк набора данных"
      ]
    },
    {
      "cell_type": "code",
      "execution_count": 44,
      "id": "41a02fd9",
      "metadata": {
        "colab": {
          "base_uri": "https://localhost:8080/",
          "height": 221
        },
        "id": "41a02fd9",
        "outputId": "211c4538-021a-4991-bd94-0fc488f4ce8c"
      },
      "outputs": [
        {
          "output_type": "execute_result",
          "data": {
            "text/plain": [
              "     Unnamed: 0         rest  \\\n",
              "399         399    Neverland   \n",
              "400         400  The kitchen   \n",
              "401         401        Доски   \n",
              "402         402        Шатер   \n",
              "403         403         Рица   \n",
              "\n",
              "                                                review  feedback  \n",
              "399  Пришли в данное заведение 4 июня 2014 года пок...  negative  \n",
              "400  Заехали с мужем поужинать в пятницу ( 17.01.14...  positive  \n",
              "401  Пришел сегодня с друзьями, отметить день рожде...   neutral  \n",
              "402  Мне так там нравитсяяяя!!!!!!!!! Интерьер модн...  positive  \n",
              "403  Уютная и тёплая домашняя обстановка! Милый и о...  positive  "
            ],
            "text/html": [
              "\n",
              "  <div id=\"df-1e3bb646-31e8-4226-854c-2126a806043a\" class=\"colab-df-container\">\n",
              "    <div>\n",
              "<style scoped>\n",
              "    .dataframe tbody tr th:only-of-type {\n",
              "        vertical-align: middle;\n",
              "    }\n",
              "\n",
              "    .dataframe tbody tr th {\n",
              "        vertical-align: top;\n",
              "    }\n",
              "\n",
              "    .dataframe thead th {\n",
              "        text-align: right;\n",
              "    }\n",
              "</style>\n",
              "<table border=\"1\" class=\"dataframe\">\n",
              "  <thead>\n",
              "    <tr style=\"text-align: right;\">\n",
              "      <th></th>\n",
              "      <th>Unnamed: 0</th>\n",
              "      <th>rest</th>\n",
              "      <th>review</th>\n",
              "      <th>feedback</th>\n",
              "    </tr>\n",
              "  </thead>\n",
              "  <tbody>\n",
              "    <tr>\n",
              "      <th>399</th>\n",
              "      <td>399</td>\n",
              "      <td>Neverland</td>\n",
              "      <td>Пришли в данное заведение 4 июня 2014 года пок...</td>\n",
              "      <td>negative</td>\n",
              "    </tr>\n",
              "    <tr>\n",
              "      <th>400</th>\n",
              "      <td>400</td>\n",
              "      <td>The kitchen</td>\n",
              "      <td>Заехали с мужем поужинать в пятницу ( 17.01.14...</td>\n",
              "      <td>positive</td>\n",
              "    </tr>\n",
              "    <tr>\n",
              "      <th>401</th>\n",
              "      <td>401</td>\n",
              "      <td>Доски</td>\n",
              "      <td>Пришел сегодня с друзьями, отметить день рожде...</td>\n",
              "      <td>neutral</td>\n",
              "    </tr>\n",
              "    <tr>\n",
              "      <th>402</th>\n",
              "      <td>402</td>\n",
              "      <td>Шатер</td>\n",
              "      <td>Мне так там нравитсяяяя!!!!!!!!! Интерьер модн...</td>\n",
              "      <td>positive</td>\n",
              "    </tr>\n",
              "    <tr>\n",
              "      <th>403</th>\n",
              "      <td>403</td>\n",
              "      <td>Рица</td>\n",
              "      <td>Уютная и тёплая домашняя обстановка! Милый и о...</td>\n",
              "      <td>positive</td>\n",
              "    </tr>\n",
              "  </tbody>\n",
              "</table>\n",
              "</div>\n",
              "    <div class=\"colab-df-buttons\">\n",
              "\n",
              "  <div class=\"colab-df-container\">\n",
              "    <button class=\"colab-df-convert\" onclick=\"convertToInteractive('df-1e3bb646-31e8-4226-854c-2126a806043a')\"\n",
              "            title=\"Convert this dataframe to an interactive table.\"\n",
              "            style=\"display:none;\">\n",
              "\n",
              "  <svg xmlns=\"http://www.w3.org/2000/svg\" height=\"24px\" viewBox=\"0 -960 960 960\">\n",
              "    <path d=\"M120-120v-720h720v720H120Zm60-500h600v-160H180v160Zm220 220h160v-160H400v160Zm0 220h160v-160H400v160ZM180-400h160v-160H180v160Zm440 0h160v-160H620v160ZM180-180h160v-160H180v160Zm440 0h160v-160H620v160Z\"/>\n",
              "  </svg>\n",
              "    </button>\n",
              "\n",
              "  <style>\n",
              "    .colab-df-container {\n",
              "      display:flex;\n",
              "      gap: 12px;\n",
              "    }\n",
              "\n",
              "    .colab-df-convert {\n",
              "      background-color: #E8F0FE;\n",
              "      border: none;\n",
              "      border-radius: 50%;\n",
              "      cursor: pointer;\n",
              "      display: none;\n",
              "      fill: #1967D2;\n",
              "      height: 32px;\n",
              "      padding: 0 0 0 0;\n",
              "      width: 32px;\n",
              "    }\n",
              "\n",
              "    .colab-df-convert:hover {\n",
              "      background-color: #E2EBFA;\n",
              "      box-shadow: 0px 1px 2px rgba(60, 64, 67, 0.3), 0px 1px 3px 1px rgba(60, 64, 67, 0.15);\n",
              "      fill: #174EA6;\n",
              "    }\n",
              "\n",
              "    .colab-df-buttons div {\n",
              "      margin-bottom: 4px;\n",
              "    }\n",
              "\n",
              "    [theme=dark] .colab-df-convert {\n",
              "      background-color: #3B4455;\n",
              "      fill: #D2E3FC;\n",
              "    }\n",
              "\n",
              "    [theme=dark] .colab-df-convert:hover {\n",
              "      background-color: #434B5C;\n",
              "      box-shadow: 0px 1px 3px 1px rgba(0, 0, 0, 0.15);\n",
              "      filter: drop-shadow(0px 1px 2px rgba(0, 0, 0, 0.3));\n",
              "      fill: #FFFFFF;\n",
              "    }\n",
              "  </style>\n",
              "\n",
              "    <script>\n",
              "      const buttonEl =\n",
              "        document.querySelector('#df-1e3bb646-31e8-4226-854c-2126a806043a button.colab-df-convert');\n",
              "      buttonEl.style.display =\n",
              "        google.colab.kernel.accessAllowed ? 'block' : 'none';\n",
              "\n",
              "      async function convertToInteractive(key) {\n",
              "        const element = document.querySelector('#df-1e3bb646-31e8-4226-854c-2126a806043a');\n",
              "        const dataTable =\n",
              "          await google.colab.kernel.invokeFunction('convertToInteractive',\n",
              "                                                    [key], {});\n",
              "        if (!dataTable) return;\n",
              "\n",
              "        const docLinkHtml = 'Like what you see? Visit the ' +\n",
              "          '<a target=\"_blank\" href=https://colab.research.google.com/notebooks/data_table.ipynb>data table notebook</a>'\n",
              "          + ' to learn more about interactive tables.';\n",
              "        element.innerHTML = '';\n",
              "        dataTable['output_type'] = 'display_data';\n",
              "        await google.colab.output.renderOutput(dataTable, element);\n",
              "        const docLink = document.createElement('div');\n",
              "        docLink.innerHTML = docLinkHtml;\n",
              "        element.appendChild(docLink);\n",
              "      }\n",
              "    </script>\n",
              "  </div>\n",
              "\n",
              "\n",
              "    <div id=\"df-c73bc3a5-3093-4939-bee3-768879b27153\">\n",
              "      <button class=\"colab-df-quickchart\" onclick=\"quickchart('df-c73bc3a5-3093-4939-bee3-768879b27153')\"\n",
              "                title=\"Suggest charts\"\n",
              "                style=\"display:none;\">\n",
              "\n",
              "<svg xmlns=\"http://www.w3.org/2000/svg\" height=\"24px\"viewBox=\"0 0 24 24\"\n",
              "     width=\"24px\">\n",
              "    <g>\n",
              "        <path d=\"M19 3H5c-1.1 0-2 .9-2 2v14c0 1.1.9 2 2 2h14c1.1 0 2-.9 2-2V5c0-1.1-.9-2-2-2zM9 17H7v-7h2v7zm4 0h-2V7h2v10zm4 0h-2v-4h2v4z\"/>\n",
              "    </g>\n",
              "</svg>\n",
              "      </button>\n",
              "\n",
              "<style>\n",
              "  .colab-df-quickchart {\n",
              "      --bg-color: #E8F0FE;\n",
              "      --fill-color: #1967D2;\n",
              "      --hover-bg-color: #E2EBFA;\n",
              "      --hover-fill-color: #174EA6;\n",
              "      --disabled-fill-color: #AAA;\n",
              "      --disabled-bg-color: #DDD;\n",
              "  }\n",
              "\n",
              "  [theme=dark] .colab-df-quickchart {\n",
              "      --bg-color: #3B4455;\n",
              "      --fill-color: #D2E3FC;\n",
              "      --hover-bg-color: #434B5C;\n",
              "      --hover-fill-color: #FFFFFF;\n",
              "      --disabled-bg-color: #3B4455;\n",
              "      --disabled-fill-color: #666;\n",
              "  }\n",
              "\n",
              "  .colab-df-quickchart {\n",
              "    background-color: var(--bg-color);\n",
              "    border: none;\n",
              "    border-radius: 50%;\n",
              "    cursor: pointer;\n",
              "    display: none;\n",
              "    fill: var(--fill-color);\n",
              "    height: 32px;\n",
              "    padding: 0;\n",
              "    width: 32px;\n",
              "  }\n",
              "\n",
              "  .colab-df-quickchart:hover {\n",
              "    background-color: var(--hover-bg-color);\n",
              "    box-shadow: 0 1px 2px rgba(60, 64, 67, 0.3), 0 1px 3px 1px rgba(60, 64, 67, 0.15);\n",
              "    fill: var(--button-hover-fill-color);\n",
              "  }\n",
              "\n",
              "  .colab-df-quickchart-complete:disabled,\n",
              "  .colab-df-quickchart-complete:disabled:hover {\n",
              "    background-color: var(--disabled-bg-color);\n",
              "    fill: var(--disabled-fill-color);\n",
              "    box-shadow: none;\n",
              "  }\n",
              "\n",
              "  .colab-df-spinner {\n",
              "    border: 2px solid var(--fill-color);\n",
              "    border-color: transparent;\n",
              "    border-bottom-color: var(--fill-color);\n",
              "    animation:\n",
              "      spin 1s steps(1) infinite;\n",
              "  }\n",
              "\n",
              "  @keyframes spin {\n",
              "    0% {\n",
              "      border-color: transparent;\n",
              "      border-bottom-color: var(--fill-color);\n",
              "      border-left-color: var(--fill-color);\n",
              "    }\n",
              "    20% {\n",
              "      border-color: transparent;\n",
              "      border-left-color: var(--fill-color);\n",
              "      border-top-color: var(--fill-color);\n",
              "    }\n",
              "    30% {\n",
              "      border-color: transparent;\n",
              "      border-left-color: var(--fill-color);\n",
              "      border-top-color: var(--fill-color);\n",
              "      border-right-color: var(--fill-color);\n",
              "    }\n",
              "    40% {\n",
              "      border-color: transparent;\n",
              "      border-right-color: var(--fill-color);\n",
              "      border-top-color: var(--fill-color);\n",
              "    }\n",
              "    60% {\n",
              "      border-color: transparent;\n",
              "      border-right-color: var(--fill-color);\n",
              "    }\n",
              "    80% {\n",
              "      border-color: transparent;\n",
              "      border-right-color: var(--fill-color);\n",
              "      border-bottom-color: var(--fill-color);\n",
              "    }\n",
              "    90% {\n",
              "      border-color: transparent;\n",
              "      border-bottom-color: var(--fill-color);\n",
              "    }\n",
              "  }\n",
              "</style>\n",
              "\n",
              "      <script>\n",
              "        async function quickchart(key) {\n",
              "          const quickchartButtonEl =\n",
              "            document.querySelector('#' + key + ' button');\n",
              "          quickchartButtonEl.disabled = true;  // To prevent multiple clicks.\n",
              "          quickchartButtonEl.classList.add('colab-df-spinner');\n",
              "          try {\n",
              "            const charts = await google.colab.kernel.invokeFunction(\n",
              "                'suggestCharts', [key], {});\n",
              "          } catch (error) {\n",
              "            console.error('Error during call to suggestCharts:', error);\n",
              "          }\n",
              "          quickchartButtonEl.classList.remove('colab-df-spinner');\n",
              "          quickchartButtonEl.classList.add('colab-df-quickchart-complete');\n",
              "        }\n",
              "        (() => {\n",
              "          let quickchartButtonEl =\n",
              "            document.querySelector('#df-c73bc3a5-3093-4939-bee3-768879b27153 button');\n",
              "          quickchartButtonEl.style.display =\n",
              "            google.colab.kernel.accessAllowed ? 'block' : 'none';\n",
              "        })();\n",
              "      </script>\n",
              "    </div>\n",
              "    </div>\n",
              "  </div>\n"
            ],
            "application/vnd.google.colaboratory.intrinsic+json": {
              "type": "dataframe",
              "summary": "{\n  \"name\": \"df\",\n  \"rows\": 5,\n  \"fields\": [\n    {\n      \"column\": \"Unnamed: 0\",\n      \"properties\": {\n        \"dtype\": \"number\",\n        \"std\": 1,\n        \"min\": 399,\n        \"max\": 403,\n        \"num_unique_values\": 5,\n        \"samples\": [\n          400,\n          403,\n          401\n        ],\n        \"semantic_type\": \"\",\n        \"description\": \"\"\n      }\n    },\n    {\n      \"column\": \"rest\",\n      \"properties\": {\n        \"dtype\": \"string\",\n        \"num_unique_values\": 5,\n        \"samples\": [\n          \"The kitchen\",\n          \"\\u0420\\u0438\\u0446\\u0430\",\n          \"\\u0414\\u043e\\u0441\\u043a\\u0438\"\n        ],\n        \"semantic_type\": \"\",\n        \"description\": \"\"\n      }\n    },\n    {\n      \"column\": \"review\",\n      \"properties\": {\n        \"dtype\": \"string\",\n        \"num_unique_values\": 5,\n        \"samples\": [\n          \"\\u0417\\u0430\\u0435\\u0445\\u0430\\u043b\\u0438 \\u0441 \\u043c\\u0443\\u0436\\u0435\\u043c \\u043f\\u043e\\u0443\\u0436\\u0438\\u043d\\u0430\\u0442\\u044c \\u0432 \\u043f\\u044f\\u0442\\u043d\\u0438\\u0446\\u0443 ( 17.01.14.) \\u0432 23:00. \\u041f\\u0435\\u0440\\u0432\\u044b\\u043c \\u043d\\u0430\\u0441 \\u0432\\u0441\\u0442\\u0440\\u0435\\u0442\\u0438\\u043b \\u043f\\u0430\\u0440\\u043a\\u043e\\u0432\\u0449\\u0438\\u043a, \\u043f\\u043e\\u043c\\u043e\\u0433 \\u043f\\u0440\\u0438\\u043f\\u0430\\u0440\\u043a\\u043e\\u0432\\u0430\\u0442\\u044c\\u0441\\u044f \\u0438 \\u0434\\u0430\\u0436\\u0435 \\u043e\\u0442\\u043a\\u0440\\u044b\\u043b \\u0434\\u0432\\u0435\\u0440\\u0438 \\u0438 \\u0432\\u0435\\u0436\\u043b\\u0438\\u0432\\u043e \\u043d\\u0430\\u0441 \\u043f\\u043e\\u043f\\u0440\\u0438\\u0432\\u0435\\u0442\\u0441\\u0442\\u0432\\u043e\\u0432\\u0430\\u043b. \\u0418\\u043d\\u0442\\u0435\\u0440\\u044c\\u0435\\u0440 \\u0440\\u0435\\u0441\\u0442\\u043e\\u0440\\u0430\\u043d\\u0430 \\u043c\\u043d\\u0435 \\u043d\\u0440\\u0430\\u0432\\u0438\\u0442\\u0441\\u044f, \\u044f \\u043b\\u044e\\u0431\\u043b\\u044e \\u0442\\u0430\\u043a\\u043e\\u0439 \\u0434\\u0438\\u0437\\u0430\\u0439\\u043d. \\u0412\\u0441\\u0435 \\u043f\\u0440\\u043e\\u0441\\u0442\\u043e \\u0438 \\u0441\\u043e \\u0432\\u043a\\u0443\\u0441\\u043e\\u043c, \\u043c\\u043d\\u043e\\u0433\\u043e \\u0438\\u043d\\u0442\\u0435\\u0440\\u0435\\u0441\\u043d\\u044b\\u0445 \\u043c\\u0435\\u043b\\u043e\\u0447\\u0435\\u0439. \\u041d\\u0430\\u0441 \\u043e\\u0431\\u0441\\u043b\\u0443\\u0436\\u0438\\u0432\\u0430\\u043b\\u0430 \\u043f\\u0440\\u0438\\u044f\\u0442\\u043d\\u0430\\u044f \\u0434\\u0435\\u0432\\u0443\\u0448\\u043a\\u0430. \\u041a \\u0441\\u043e\\u0436\\u0430\\u043b\\u0435\\u043d\\u0438\\u044e \\u043d\\u0435 \\u0437\\u0430\\u043f\\u043e\\u043c\\u043d\\u0438\\u043b\\u0438 \\u0435\\u0435 \\u0438\\u043c\\u044f. \\u041e\\u043d\\u0430 \\u0431\\u044b\\u043b\\u0430 \\u0432\\u043d\\u0438\\u043c\\u0430\\u0442\\u0435\\u043b\\u044c\\u043d\\u0430 \\u0438 \\u043d\\u0435\\u043d\\u0430\\u0432\\u044f\\u0437\\u0447\\u0438\\u0432\\u0430 \\u0438 \\u043f\\u043e\\u043c\\u043e\\u0433\\u043b\\u0430 \\u043c\\u043d\\u0435 \\u0441 \\u0432\\u044b\\u0431\\u043e\\u0440\\u043e\\u043c \\u043f\\u0430\\u0441\\u0442\\u044b, \\u043f\\u043e\\u0434\\u0440\\u043e\\u0431\\u043d\\u043e \\u0440\\u0430\\u0441\\u0441\\u043a\\u0430\\u0437\\u0430\\u0432 \\u0441\\u043e\\u0441\\u0442\\u0430\\u0432 \\u0438 \\u0441\\u043f\\u043e\\u0441\\u043e\\u0431 \\u043f\\u0440\\u0438\\u0433\\u043e\\u0442\\u043e\\u0432\\u043b\\u0435\\u043d\\u0438\\u044f \\u0431\\u043b\\u044e\\u0434\\u0430. \\u041c\\u0435\\u043d\\u044e \\u0440\\u0435\\u0441\\u0442\\u043e\\u0440\\u0430\\u043d\\u0430 \\u0431\\u043e\\u043b\\u044c\\u0448\\u043e\\u0435 \\u0432 \\u0432\\u0438\\u0434\\u0435 \\u0436\\u0443\\u0440\\u043d\\u0430\\u043b\\u0430, \\u0435\\u0441\\u0442\\u044c \\u0432\\u0441\\u0435 \\u0447\\u0442\\u043e \\u0443\\u0433\\u043e\\u0434\\u043d\\u043e....\\u0432\\u0430\\u0440\\u0435\\u043d\\u0438\\u043a\\u0438, \\u0441\\u0443\\u0448\\u0438, \\u0432\\u043e\\u043a, \\u043f\\u0430\\u0441\\u0442\\u044b \\u0438 \\u0442.\\u0434. \\u0414\\u0438\\u0437\\u0430\\u0439\\u043d \\u043c\\u0435\\u043d\\u044e \\u0438\\u043d\\u0442\\u0435\\u0440\\u0435\\u0441\\u043d\\u044b\\u0439, \\u0434\\u0438\\u0437\\u0430\\u0439\\u043d\\u0435\\u0440\\u044b \\u043c\\u043e\\u043b\\u043e\\u0434\\u0446\\u044b! \\u042f \\u0435\\u043b\\u0430 \\u043a\\u0440\\u0435\\u043c \\u0441\\u0443\\u043f \\u0438\\u0437 \\u0431\\u0435\\u043b\\u044b\\u0445 \\u0433\\u0440\\u0438\\u0431\\u043e\\u0432 (\\u043f\\u0440\\u0438\\u043c\\u0435\\u0440\\u043d\\u043e 350 \\u0440.) \\u0438 \\u043f\\u0435\\u043d\\u043d\\u0435 \\u0441 \\u0443\\u0442\\u043a\\u043e\\u0439 ( 450 \\u0440.). \\u0421\\u0443\\u043f \\u0431\\u044b\\u043b \\u0432\\u043a\\u0443\\u0441\\u043d\\u044b\\u0439, \\u043d\\u043e \\u043f\\u0430\\u0441\\u0442\\u0430 \\u0431\\u044b\\u043b\\u0430 \\u043f\\u0440\\u043e\\u0441\\u0442\\u043e \\u0431\\u043e\\u0436\\u0435\\u0441\\u0442\\u0432\\u0435\\u043d\\u043d\\u0430. \\u041c\\u043d\\u043e\\u0433\\u043e \\u0441\\u043e\\u0443\\u0441\\u0430, \\u043c\\u044f\\u0433\\u043a\\u043e\\u0435 \\u043c\\u044f\\u0441\\u043e \\u0443\\u0442\\u043a\\u0438. \\u041f\\u0430\\u0441\\u0442\\u043e\\u0439 \\u044f \\u0431\\u044b\\u043b\\u0430 \\u043e\\u0447\\u0435\\u043d\\u044c \\u0434\\u043e\\u0432\\u043e\\u043b\\u044c\\u043d\\u0430))) \\u041c\\u0443\\u0436 \\u0435\\u043b \\u0441\\u0430\\u043b\\u0430\\u0442 \\u0441 \\u0433\\u043e\\u0432\\u044f\\u0434\\u0438\\u043d\\u043e\\u0439 \\u0438 \\u043a\\u0430\\u0440\\u043f\\u0430\\u0447\\u0447\\u043e ( \\u0446\\u0435\\u043d\\u044b \\u044f \\u043d\\u0435 \\u043f\\u043e\\u043c\\u043d\\u044e). \\u041d\\u0430\\u043c \\u0432\\u0441\\u0435 \\u043e\\u0447\\u0435\\u043d\\u044c \\u043f\\u043e\\u043d\\u0440\\u0430\\u0432\\u0438\\u043b\\u043e\\u0441\\u044c. \\u041e\\u0442 \\u0432\\u0438\\u0437\\u0438\\u0442\\u0430 \\u043c\\u044b \\u043f\\u043e\\u043b\\u0443\\u0447\\u0438\\u043b\\u0438 \\u043f\\u043e\\u043b\\u043e\\u0436\\u0438\\u0442\\u0435\\u043b\\u044c\\u043d\\u044b\\u0435 \\u044d\\u043c\\u043e\\u0446\\u0438\\u0438...\\u043f\\u043e\\u0431\\u043e\\u043b\\u0442\\u0430\\u043b\\u0438 \\u0438 \\u0432\\u043a\\u0443\\u0441\\u043d\\u043e \\u043f\\u043e\\u0435\\u043b\\u0438! \\u0411\\u0443\\u0434\\u0435\\u043c \\u043f\\u0440\\u0438\\u0435\\u0437\\u0436\\u0430\\u0442\\u044c \\u0435\\u0449\\u0435 \\u0432 \\u044d\\u0442\\u043e\\u0442 \\u0440\\u0435\\u0441\\u0442\\u043e\\u0440\\u0430\\u043d. \\u0421\\u043f\\u0430\\u0441\\u0438\\u0431\\u043e \\u043f\\u043e\\u0432\\u0430\\u0440\\u0430\\u043c \\u0438 \\u043f\\u0435\\u0440\\u0441\\u043e\\u043d\\u0430\\u043b\\u0443 \\u0437\\u0430 \\u0445\\u043e\\u0440\\u043e\\u0448\\u0438\\u0435 \\u044d\\u043c\\u043e\\u0446\\u0438\\u0438!\",\n          \"\\u0423\\u044e\\u0442\\u043d\\u0430\\u044f \\u0438 \\u0442\\u0451\\u043f\\u043b\\u0430\\u044f \\u0434\\u043e\\u043c\\u0430\\u0448\\u043d\\u044f\\u044f \\u043e\\u0431\\u0441\\u0442\\u0430\\u043d\\u043e\\u0432\\u043a\\u0430! \\u041c\\u0438\\u043b\\u044b\\u0439 \\u0438 \\u043e\\u0442\\u0437\\u044b\\u0432\\u0447\\u0438\\u0432\\u044b\\u0439 \\u043f\\u0435\\u0440\\u0441\\u043e\\u043d\\u0430\\u043b, \\u043e\\u0447\\u0435\\u043d\\u044c \\u0432\\u043d\\u0438\\u043c\\u0430\\u0442\\u0435\\u043b\\u044c\\u043d\\u043e\\u0435 \\u043e\\u0431\\u0441\\u043b\\u0443\\u0436\\u0438\\u0432\\u0430\\u043d\\u0438\\u0435. \\u0415\\u0434\\u0430, \\u0441\\u0442\\u043e\\u0438\\u0442 \\u043b\\u0438 \\u0433\\u043e\\u0432\\u043e\\u0440\\u0438\\u0442\\u044c, \\u0447\\u0442\\u043e \\u0442\\u0440\\u0443\\u0434\\u043d\\u043e \\u0443\\u0434\\u0438\\u0432\\u0438\\u0442\\u044c \\u0447\\u0435\\u043b\\u043e\\u0432\\u0435\\u043a\\u0430, \\u043f\\u0440\\u0438\\u0432\\u044b\\u043a\\u0448\\u0435\\u0433\\u043e \\u0438 \\u0437\\u043d\\u0430\\u044e\\u0449\\u0435\\u0433\\u043e \\u0433\\u0440\\u0443\\u0437\\u0438\\u043d\\u0441\\u043a\\u0443\\u044e \\u043a\\u0443\\u0445\\u043d\\u044e. \\u041c\\u043e\\u0433\\u0443 \\u0441\\u043a\\u0430\\u0437\\u0430\\u0442\\u044c \\u043e\\u0434\\u043d\\u043e, \\u044f \\u0431\\u044b\\u043b\\u0430 \\u043f\\u0440\\u0438\\u044f\\u0442\\u043d\\u043e \\u0443\\u0434\\u0438\\u0432\\u043b\\u0435\\u043d\\u0430! \\u0421\\u043f\\u0430\\u0441\\u0438\\u0431\\u043e \\u043f\\u0435\\u0440\\u0441\\u043e\\u043d\\u0430\\u043b\\u0443, \\u0435\\u043c\\u0443 \\u0443\\u0434\\u0430\\u0435\\u0442\\u0441\\u044f \\u0441\\u043e\\u0437\\u0434\\u0430\\u0442\\u044c \\u043e\\u0449\\u0443\\u0449\\u0435\\u043d\\u0438\\u0435, \\u0447\\u0442\\u043e \\u044d\\u0442\\u043e\\u0442 \\u0440\\u0435\\u0441\\u0442\\u043e\\u0440\\u0430\\u043d - \\u043e\\u0441\\u043e\\u0431\\u0435\\u043d\\u043d\\u043e\\u0435 \\u043c\\u0435\\u0441\\u0442\\u043e \\u0433\\u0434\\u0435 \\u043a\\u0430\\u0436\\u0434\\u044b\\u0439 \\u0447\\u0443\\u0432\\u0441\\u0442\\u0432\\u0443\\u0435\\u0442 \\u0441\\u0435\\u0431\\u044f \\u0434\\u043e\\u043b\\u0433\\u043e\\u0436\\u0434\\u0430\\u043d\\u043d\\u044b\\u043c \\u0433\\u043e\\u0441\\u0442\\u0435\\u043c!)))))))))))\",\n          \"\\u041f\\u0440\\u0438\\u0448\\u0435\\u043b \\u0441\\u0435\\u0433\\u043e\\u0434\\u043d\\u044f \\u0441 \\u0434\\u0440\\u0443\\u0437\\u044c\\u044f\\u043c\\u0438, \\u043e\\u0442\\u043c\\u0435\\u0442\\u0438\\u0442\\u044c \\u0434\\u0435\\u043d\\u044c \\u0440\\u043e\\u0436\\u0434\\u0435\\u043d\\u0438\\u044f. \\u043d\\u0430 \\u0432\\u0445\\u043e\\u0434\\u0435 \\u0441\\u043a\\u0430\\u0437\\u0430\\u043b\\u0438 \\u0447\\u0442\\u043e \\u0441\\u0432\\u043e\\u0431\\u043e\\u0434\\u043d\\u044b\\u0445 \\u0441\\u0442\\u043e\\u043b\\u0438\\u043a\\u043e\\u0432 \\u043d\\u0435\\u0442, \\u0435\\u0441\\u0442\\u044c \\u0442\\u043e\\u043b\\u044c\\u043a\\u043e \\u043c\\u0435\\u0441\\u0442\\u0430 \\u0437\\u0430 \\u0431\\u0430\\u0440\\u043d\\u044b\\u043c\\u0438 \\u0441\\u0442\\u043e\\u0439\\u043a\\u0430\\u043c\\u0438(\\u043d\\u043e \\u043d\\u0438\\u043a\\u0442\\u043e \\u043d\\u0435 \\u0441\\u043a\\u0430\\u0437\\u0430\\u043b \\u0447\\u0442\\u043e \\u0432 \\u0442\\u0430\\u043a\\u043e\\u043c \\u0441\\u043b\\u0443\\u0447\\u0430\\u0435 \\u0437\\u0430\\u043a\\u0430\\u0437\\u0430\\u0442\\u044c \\u043f\\u043e\\u0447\\u0442\\u0438 \\u043d\\u0438\\u0447\\u0435\\u0433\\u043e \\u043d\\u0435\\u043b\\u044c\\u0437\\u044f). \\u043d\\u0443 \\u0437\\u043d\\u0430\\u0447\\u0438\\u0442 \\u0437\\u0430\\u043f\\u043b\\u0430\\u0442\\u0438\\u043b\\u0438 \\u0437\\u0430 \\u0432\\u0445\\u043e\\u0434 \\u043f\\u043e 150 \\u0440 \\u0441 \\u0447\\u0435\\u043b\\u043e\\u0432\\u0435\\u043a\\u0430, \\u0437\\u0430\\u0448\\u043b\\u0438 \\u0438 \\u0441\\u0435\\u043b\\u0438 \\u0433\\u0434\\u0435 \\u0431\\u044b\\u043b\\u043e \\u043c\\u0435\\u0441\\u0442\\u043e. \\u043f\\u043e\\u0442\\u043e\\u043c \\u043f\\u044b\\u0442\\u0430\\u043b\\u0438\\u0441\\u044c \\u0437\\u0430\\u043a\\u0430\\u0437\\u0430\\u0442\\u044c \\u043f\\u0438\\u0432\\u0430 \\u0443 \\u0431\\u0430\\u0440\\u043c\\u0435\\u043d\\u0430. \\u0441\\u043d\\u0430\\u0447\\u0430\\u043b\\u0430 \\u043e\\u043d \\u0434\\u043e\\u043b\\u0433\\u043e \\u0445\\u043e\\u0434\\u0438\\u043b \\u043a\\u0443\\u0434\\u0430 \\u0442\\u043e, \\u043e\\u0431\\u0441\\u043b\\u0443\\u0436\\u0438\\u0432\\u0430\\u043b \\u0434\\u0440\\u0443\\u0433\\u0438\\u0445 \\u043f\\u043e\\u0441\\u0435\\u0442\\u0438\\u0442\\u0435\\u043b\\u0435\\u0439. \\u043f\\u043e\\u0441\\u043b\\u0435 \\u0441\\u043a\\u0430\\u0437\\u0430\\u043b \\u0447\\u0442\\u043e \\u043f\\u0438\\u0432\\u043e \\u0438 \\u0434\\u0440\\u0443\\u0433\\u0438\\u0435 \\u043d\\u0430\\u043f\\u0438\\u0442\\u043a\\u0438 \\u043c\\u043e\\u0436\\u043d\\u043e \\u0437\\u0430\\u043a\\u0430\\u0437\\u0430\\u0442\\u044c \\u0442\\u043e\\u043b\\u044c\\u043a\\u043e \\u0443 \\u043e\\u0444\\u0438\\u0446\\u0438\\u0430\\u043d\\u0442\\u043e\\u0432. \\u041d\\u0430\\u0448\\u043b\\u0438 \\u043e\\u0444\\u0438\\u0446\\u0438\\u0430\\u043d\\u0442\\u043a\\u0443, \\u043e\\u043d\\u0430 \\u0441\\u043a\\u0430\\u0437\\u0430\\u043b\\u0430 \\u0447\\u0442\\u043e \\u0447\\u0442\\u043e\\u0431\\u044b \\u0447\\u0442\\u043e-\\u0442\\u043e \\u0437\\u0430\\u043a\\u0430\\u0437\\u0430\\u0442\\u044c \\u043d\\u0430\\u0434\\u043e \\u0438\\u043c\\u0435\\u0442\\u044c \\u0441\\u0442\\u043e\\u043b\\u0438\\u043a, \\u0442.\\u043a. \\u0443 \\u043d\\u0430\\u0441 \\u0435\\u0433\\u043e \\u043d\\u0435\\u0442, \\u0435\\u0434\\u0438\\u043d\\u0441\\u0442\\u0432\\u0435\\u043d\\u043d\\u044b\\u0439 \\u0432\\u0430\\u0440\\u0438\\u0430\\u043d\\u0442 \\u044d\\u0442\\u043e \\u043f\\u043e\\u043a\\u0443\\u043f\\u0430\\u0442\\u044c \\u043a\\u0440\\u0435\\u043f\\u043a\\u0438\\u0435 \\u043d\\u0430\\u043f\\u0438\\u0442\\u043a\\u0438 \\u0443 \\u0431\\u0430\\u0440\\u043c\\u0435\\u043d\\u0430. \\u043d\\u0430\\u043c \\u044d\\u0442\\u043e \\u043d\\u0435 \\u043d\\u0443\\u0436\\u043d\\u043e \\u0431\\u044b\\u043b\\u043e. \\u041f\\u043e\\u0442\\u043e\\u043c \\u043e\\u0431\\u0440\\u0430\\u0442\\u0438\\u043b\\u0438\\u0441\\u044c \\u043a \\u0436\\u0435\\u043d\\u0449\\u0438\\u043d\\u0435 \\u043a\\u043e\\u0442\\u043e\\u0440\\u0430\\u044f \\u043d\\u0430\\u0441 \\u0432\\u043f\\u0443\\u0441\\u043a\\u0430\\u043b\\u0430. \\u043e\\u043d\\u0430 \\u0441\\u043a\\u0430\\u0437\\u0430\\u043b\\u0430 \\u0447\\u0442\\u043e \\u044f\\u043a\\u043e\\u0431\\u044b \\u043d\\u0430\\u0441 \\u043f\\u0440\\u0435\\u0434\\u0443\\u043f\\u0440\\u0435\\u0436\\u0434\\u0430\\u043b\\u0430 \\u043e \\u0442\\u043e\\u043c \\u0447\\u0442\\u043e \\u043d\\u0438\\u0447\\u0435\\u0433\\u043e \\u043d\\u0435\\u043b\\u044c\\u0437\\u044f \\u0437\\u0430\\u043a\\u0430\\u0437\\u0430\\u0442\\u044c. \\u043f\\u043e\\u0442\\u043e\\u043c \\u043e\\u043d\\u0430 \\u0441\\u043f\\u0440\\u043e\\u0441\\u0438\\u043b\\u0430 \\u0441\\u043a\\u043e\\u043b\\u044c\\u043a\\u043e \\u043d\\u0430\\u0441 \\u0447\\u0435\\u043b\\u043e\\u0432\\u0435\\u043a \\u0438 \\u043f\\u0440\\u0435\\u0434\\u043b\\u043e\\u0436\\u0438\\u043b\\u0430 \\u0441\\u0442\\u043e\\u043b\\u0438\\u043a \\u0437\\u0430 400 \\u0440. \\u043c\\u044b \\u043e\\u0442\\u043a\\u0430\\u0437\\u0430\\u043b\\u0438\\u0441\\u044c \\u0438 \\u0443\\u0448\\u043b\\u0438. \\u0431\\u043e\\u043b\\u044c\\u0448\\u0435 \\u0442\\u0443\\u0434\\u0430 \\u043d\\u0438\\u043a\\u0442\\u043e \\u0438\\u0437 \\u043d\\u0430\\u0441 \\u043d\\u0435 \\u043f\\u0440\\u0438\\u0434\\u0435\\u0442 \\u0438 \\u043d\\u0438\\u043a\\u043e\\u043c\\u0443 \\u043d\\u0435 \\u043f\\u043e\\u0441\\u043e\\u0432\\u0435\\u0442\\u0443\\u0435\\u0442. \\u044f \\u0442\\u043e\\u0436\\u0435 \\u043d\\u0435 \\u0440\\u0435\\u043a\\u043e\\u043c\\u0435\\u043d\\u0434\\u0443\\u044e. \\u043e\\u0431\\u0441\\u043b\\u0443\\u0436\\u0438\\u0432\\u0430\\u044e\\u0449\\u0438\\u0439 \\u043f\\u0435\\u0440\\u0441\\u043e\\u043d\\u0430\\u043b \\u0434\\u0435\\u0439\\u0441\\u0442\\u0432\\u0438\\u0442\\u0435\\u043b\\u044c\\u043d\\u043e \\u0445\\u0430\\u043c\\u043e\\u0432\\u0430\\u0442, \\u0438 \\u043f\\u044b\\u0442\\u0430\\u0435\\u0442\\u0441\\u044f \\u043e\\u0431\\u043c\\u0430\\u043d\\u0443\\u0442\\u044c. \\u044d\\u043a\\u043e\\u043d\\u043e\\u043c\\u044c\\u0442\\u0435 \\u0441\\u0432\\u043e\\u0435 \\u0432\\u0440\\u0435\\u043c\\u044f, \\u043d\\u0435\\u0440\\u0432\\u044b \\u0438 \\u0434\\u0435\\u043d\\u044c\\u0433\\u0438.\"\n        ],\n        \"semantic_type\": \"\",\n        \"description\": \"\"\n      }\n    },\n    {\n      \"column\": \"feedback\",\n      \"properties\": {\n        \"dtype\": \"string\",\n        \"num_unique_values\": 3,\n        \"samples\": [\n          \"negative\",\n          \"positive\",\n          \"neutral\"\n        ],\n        \"semantic_type\": \"\",\n        \"description\": \"\"\n      }\n    }\n  ]\n}"
            }
          },
          "metadata": {},
          "execution_count": 44
        }
      ],
      "source": [
        "# Ваш код здесь\n",
        "df.tail(5)\n"
      ]
    },
    {
      "cell_type": "markdown",
      "id": "32646235",
      "metadata": {
        "id": "32646235"
      },
      "source": [
        "#### 5. Поля набора данных"
      ]
    },
    {
      "cell_type": "code",
      "execution_count": 45,
      "id": "2ba242a6",
      "metadata": {
        "colab": {
          "base_uri": "https://localhost:8080/"
        },
        "id": "2ba242a6",
        "outputId": "dcb484d1-4c0a-48bb-81b9-955a85e72de3"
      },
      "outputs": [
        {
          "output_type": "stream",
          "name": "stdout",
          "text": [
            "Поля набора данных:\n",
            "['Unnamed: 0', 'rest', 'review', 'feedback']\n"
          ]
        }
      ],
      "source": [
        "print(\"Поля набора данных:\")\n",
        "print(df.columns.tolist())"
      ]
    },
    {
      "cell_type": "markdown",
      "id": "7ef5002e",
      "metadata": {
        "id": "7ef5002e"
      },
      "source": [
        "#### 6. Размер набора данных (количество полей и строк)"
      ]
    },
    {
      "cell_type": "code",
      "execution_count": 46,
      "id": "ec03d13f",
      "metadata": {
        "colab": {
          "base_uri": "https://localhost:8080/"
        },
        "id": "ec03d13f",
        "outputId": "bde5d140-d98e-4a01-9666-2feae8d57411"
      },
      "outputs": [
        {
          "output_type": "stream",
          "name": "stdout",
          "text": [
            "Размер набора данных: 404 строк и 4 столбцов\n"
          ]
        }
      ],
      "source": [
        "print(f\"Размер набора данных: {df.shape[0]} строк и {df.shape[1]} столбцов\")"
      ]
    },
    {
      "cell_type": "markdown",
      "id": "de6fe170",
      "metadata": {
        "id": "de6fe170"
      },
      "source": [
        "#### 7. Опишите поля набора данных в формате: название поля, тип данных, назначение поля"
      ]
    },
    {
      "cell_type": "code",
      "execution_count": 47,
      "id": "fc5e47c4",
      "metadata": {
        "colab": {
          "base_uri": "https://localhost:8080/"
        },
        "id": "fc5e47c4",
        "outputId": "955a94f2-44b3-4303-e10b-aa12f8c9a2f5"
      },
      "outputs": [
        {
          "output_type": "stream",
          "name": "stdout",
          "text": [
            "Описание полей:\n",
            "Unnamed: 0 - int64 - Идентификатор записи\n",
            "rest - object - Название ресторана\n",
            "review - object - Текст отзыва пользователя\n",
            "feedback - object - Тональность отзыва (целевая переменная)\n"
          ]
        }
      ],
      "source": [
        "print(\"Описание полей:\")\n",
        "print(\"Unnamed: 0 - int64 - Идентификатор записи\")\n",
        "print(\"rest - object - Название ресторана\")\n",
        "print(\"review - object - Текст отзыва пользователя\")\n",
        "print(\"feedback - object - Тональность отзыва (целевая переменная)\")\n"
      ]
    },
    {
      "cell_type": "markdown",
      "id": "e9b5d265",
      "metadata": {
        "id": "e9b5d265"
      },
      "source": [
        "#### 8. Информация о наборе данных"
      ]
    },
    {
      "cell_type": "code",
      "execution_count": 48,
      "id": "5ee67609",
      "metadata": {
        "colab": {
          "base_uri": "https://localhost:8080/",
          "height": 636
        },
        "id": "5ee67609",
        "outputId": "36f4027d-88d7-465a-aeb5-20739581aa89"
      },
      "outputs": [
        {
          "output_type": "stream",
          "name": "stdout",
          "text": [
            "Общая информация о данных:\n",
            "<class 'pandas.core.frame.DataFrame'>\n",
            "RangeIndex: 404 entries, 0 to 403\n",
            "Data columns (total 4 columns):\n",
            " #   Column      Non-Null Count  Dtype \n",
            "---  ------      --------------  ----- \n",
            " 0   Unnamed: 0  404 non-null    int64 \n",
            " 1   rest        404 non-null    object\n",
            " 2   review      404 non-null    object\n",
            " 3   feedback    404 non-null    object\n",
            "dtypes: int64(1), object(3)\n",
            "memory usage: 12.8+ KB\n",
            "\n",
            "Статистика:\n"
          ]
        },
        {
          "output_type": "execute_result",
          "data": {
            "text/plain": [
              "        Unnamed: 0   rest                                             review  \\\n",
              "count   404.000000    404                                                404   \n",
              "unique         NaN    315                                                404   \n",
              "top            NaN  DachA  Уютная и тёплая домашняя обстановка! Милый и о...   \n",
              "freq           NaN      6                                                  1   \n",
              "mean    201.500000    NaN                                                NaN   \n",
              "std     116.769003    NaN                                                NaN   \n",
              "min       0.000000    NaN                                                NaN   \n",
              "25%     100.750000    NaN                                                NaN   \n",
              "50%     201.500000    NaN                                                NaN   \n",
              "75%     302.250000    NaN                                                NaN   \n",
              "max     403.000000    NaN                                                NaN   \n",
              "\n",
              "        feedback  \n",
              "count        404  \n",
              "unique         3  \n",
              "top     positive  \n",
              "freq         279  \n",
              "mean         NaN  \n",
              "std          NaN  \n",
              "min          NaN  \n",
              "25%          NaN  \n",
              "50%          NaN  \n",
              "75%          NaN  \n",
              "max          NaN  "
            ],
            "text/html": [
              "\n",
              "  <div id=\"df-5e18ece2-7817-4392-8fb6-e33d9f81955b\" class=\"colab-df-container\">\n",
              "    <div>\n",
              "<style scoped>\n",
              "    .dataframe tbody tr th:only-of-type {\n",
              "        vertical-align: middle;\n",
              "    }\n",
              "\n",
              "    .dataframe tbody tr th {\n",
              "        vertical-align: top;\n",
              "    }\n",
              "\n",
              "    .dataframe thead th {\n",
              "        text-align: right;\n",
              "    }\n",
              "</style>\n",
              "<table border=\"1\" class=\"dataframe\">\n",
              "  <thead>\n",
              "    <tr style=\"text-align: right;\">\n",
              "      <th></th>\n",
              "      <th>Unnamed: 0</th>\n",
              "      <th>rest</th>\n",
              "      <th>review</th>\n",
              "      <th>feedback</th>\n",
              "    </tr>\n",
              "  </thead>\n",
              "  <tbody>\n",
              "    <tr>\n",
              "      <th>count</th>\n",
              "      <td>404.000000</td>\n",
              "      <td>404</td>\n",
              "      <td>404</td>\n",
              "      <td>404</td>\n",
              "    </tr>\n",
              "    <tr>\n",
              "      <th>unique</th>\n",
              "      <td>NaN</td>\n",
              "      <td>315</td>\n",
              "      <td>404</td>\n",
              "      <td>3</td>\n",
              "    </tr>\n",
              "    <tr>\n",
              "      <th>top</th>\n",
              "      <td>NaN</td>\n",
              "      <td>DachA</td>\n",
              "      <td>Уютная и тёплая домашняя обстановка! Милый и о...</td>\n",
              "      <td>positive</td>\n",
              "    </tr>\n",
              "    <tr>\n",
              "      <th>freq</th>\n",
              "      <td>NaN</td>\n",
              "      <td>6</td>\n",
              "      <td>1</td>\n",
              "      <td>279</td>\n",
              "    </tr>\n",
              "    <tr>\n",
              "      <th>mean</th>\n",
              "      <td>201.500000</td>\n",
              "      <td>NaN</td>\n",
              "      <td>NaN</td>\n",
              "      <td>NaN</td>\n",
              "    </tr>\n",
              "    <tr>\n",
              "      <th>std</th>\n",
              "      <td>116.769003</td>\n",
              "      <td>NaN</td>\n",
              "      <td>NaN</td>\n",
              "      <td>NaN</td>\n",
              "    </tr>\n",
              "    <tr>\n",
              "      <th>min</th>\n",
              "      <td>0.000000</td>\n",
              "      <td>NaN</td>\n",
              "      <td>NaN</td>\n",
              "      <td>NaN</td>\n",
              "    </tr>\n",
              "    <tr>\n",
              "      <th>25%</th>\n",
              "      <td>100.750000</td>\n",
              "      <td>NaN</td>\n",
              "      <td>NaN</td>\n",
              "      <td>NaN</td>\n",
              "    </tr>\n",
              "    <tr>\n",
              "      <th>50%</th>\n",
              "      <td>201.500000</td>\n",
              "      <td>NaN</td>\n",
              "      <td>NaN</td>\n",
              "      <td>NaN</td>\n",
              "    </tr>\n",
              "    <tr>\n",
              "      <th>75%</th>\n",
              "      <td>302.250000</td>\n",
              "      <td>NaN</td>\n",
              "      <td>NaN</td>\n",
              "      <td>NaN</td>\n",
              "    </tr>\n",
              "    <tr>\n",
              "      <th>max</th>\n",
              "      <td>403.000000</td>\n",
              "      <td>NaN</td>\n",
              "      <td>NaN</td>\n",
              "      <td>NaN</td>\n",
              "    </tr>\n",
              "  </tbody>\n",
              "</table>\n",
              "</div>\n",
              "    <div class=\"colab-df-buttons\">\n",
              "\n",
              "  <div class=\"colab-df-container\">\n",
              "    <button class=\"colab-df-convert\" onclick=\"convertToInteractive('df-5e18ece2-7817-4392-8fb6-e33d9f81955b')\"\n",
              "            title=\"Convert this dataframe to an interactive table.\"\n",
              "            style=\"display:none;\">\n",
              "\n",
              "  <svg xmlns=\"http://www.w3.org/2000/svg\" height=\"24px\" viewBox=\"0 -960 960 960\">\n",
              "    <path d=\"M120-120v-720h720v720H120Zm60-500h600v-160H180v160Zm220 220h160v-160H400v160Zm0 220h160v-160H400v160ZM180-400h160v-160H180v160Zm440 0h160v-160H620v160ZM180-180h160v-160H180v160Zm440 0h160v-160H620v160Z\"/>\n",
              "  </svg>\n",
              "    </button>\n",
              "\n",
              "  <style>\n",
              "    .colab-df-container {\n",
              "      display:flex;\n",
              "      gap: 12px;\n",
              "    }\n",
              "\n",
              "    .colab-df-convert {\n",
              "      background-color: #E8F0FE;\n",
              "      border: none;\n",
              "      border-radius: 50%;\n",
              "      cursor: pointer;\n",
              "      display: none;\n",
              "      fill: #1967D2;\n",
              "      height: 32px;\n",
              "      padding: 0 0 0 0;\n",
              "      width: 32px;\n",
              "    }\n",
              "\n",
              "    .colab-df-convert:hover {\n",
              "      background-color: #E2EBFA;\n",
              "      box-shadow: 0px 1px 2px rgba(60, 64, 67, 0.3), 0px 1px 3px 1px rgba(60, 64, 67, 0.15);\n",
              "      fill: #174EA6;\n",
              "    }\n",
              "\n",
              "    .colab-df-buttons div {\n",
              "      margin-bottom: 4px;\n",
              "    }\n",
              "\n",
              "    [theme=dark] .colab-df-convert {\n",
              "      background-color: #3B4455;\n",
              "      fill: #D2E3FC;\n",
              "    }\n",
              "\n",
              "    [theme=dark] .colab-df-convert:hover {\n",
              "      background-color: #434B5C;\n",
              "      box-shadow: 0px 1px 3px 1px rgba(0, 0, 0, 0.15);\n",
              "      filter: drop-shadow(0px 1px 2px rgba(0, 0, 0, 0.3));\n",
              "      fill: #FFFFFF;\n",
              "    }\n",
              "  </style>\n",
              "\n",
              "    <script>\n",
              "      const buttonEl =\n",
              "        document.querySelector('#df-5e18ece2-7817-4392-8fb6-e33d9f81955b button.colab-df-convert');\n",
              "      buttonEl.style.display =\n",
              "        google.colab.kernel.accessAllowed ? 'block' : 'none';\n",
              "\n",
              "      async function convertToInteractive(key) {\n",
              "        const element = document.querySelector('#df-5e18ece2-7817-4392-8fb6-e33d9f81955b');\n",
              "        const dataTable =\n",
              "          await google.colab.kernel.invokeFunction('convertToInteractive',\n",
              "                                                    [key], {});\n",
              "        if (!dataTable) return;\n",
              "\n",
              "        const docLinkHtml = 'Like what you see? Visit the ' +\n",
              "          '<a target=\"_blank\" href=https://colab.research.google.com/notebooks/data_table.ipynb>data table notebook</a>'\n",
              "          + ' to learn more about interactive tables.';\n",
              "        element.innerHTML = '';\n",
              "        dataTable['output_type'] = 'display_data';\n",
              "        await google.colab.output.renderOutput(dataTable, element);\n",
              "        const docLink = document.createElement('div');\n",
              "        docLink.innerHTML = docLinkHtml;\n",
              "        element.appendChild(docLink);\n",
              "      }\n",
              "    </script>\n",
              "  </div>\n",
              "\n",
              "\n",
              "    <div id=\"df-f14f7de1-0f2b-42c9-9532-c034556d4b0e\">\n",
              "      <button class=\"colab-df-quickchart\" onclick=\"quickchart('df-f14f7de1-0f2b-42c9-9532-c034556d4b0e')\"\n",
              "                title=\"Suggest charts\"\n",
              "                style=\"display:none;\">\n",
              "\n",
              "<svg xmlns=\"http://www.w3.org/2000/svg\" height=\"24px\"viewBox=\"0 0 24 24\"\n",
              "     width=\"24px\">\n",
              "    <g>\n",
              "        <path d=\"M19 3H5c-1.1 0-2 .9-2 2v14c0 1.1.9 2 2 2h14c1.1 0 2-.9 2-2V5c0-1.1-.9-2-2-2zM9 17H7v-7h2v7zm4 0h-2V7h2v10zm4 0h-2v-4h2v4z\"/>\n",
              "    </g>\n",
              "</svg>\n",
              "      </button>\n",
              "\n",
              "<style>\n",
              "  .colab-df-quickchart {\n",
              "      --bg-color: #E8F0FE;\n",
              "      --fill-color: #1967D2;\n",
              "      --hover-bg-color: #E2EBFA;\n",
              "      --hover-fill-color: #174EA6;\n",
              "      --disabled-fill-color: #AAA;\n",
              "      --disabled-bg-color: #DDD;\n",
              "  }\n",
              "\n",
              "  [theme=dark] .colab-df-quickchart {\n",
              "      --bg-color: #3B4455;\n",
              "      --fill-color: #D2E3FC;\n",
              "      --hover-bg-color: #434B5C;\n",
              "      --hover-fill-color: #FFFFFF;\n",
              "      --disabled-bg-color: #3B4455;\n",
              "      --disabled-fill-color: #666;\n",
              "  }\n",
              "\n",
              "  .colab-df-quickchart {\n",
              "    background-color: var(--bg-color);\n",
              "    border: none;\n",
              "    border-radius: 50%;\n",
              "    cursor: pointer;\n",
              "    display: none;\n",
              "    fill: var(--fill-color);\n",
              "    height: 32px;\n",
              "    padding: 0;\n",
              "    width: 32px;\n",
              "  }\n",
              "\n",
              "  .colab-df-quickchart:hover {\n",
              "    background-color: var(--hover-bg-color);\n",
              "    box-shadow: 0 1px 2px rgba(60, 64, 67, 0.3), 0 1px 3px 1px rgba(60, 64, 67, 0.15);\n",
              "    fill: var(--button-hover-fill-color);\n",
              "  }\n",
              "\n",
              "  .colab-df-quickchart-complete:disabled,\n",
              "  .colab-df-quickchart-complete:disabled:hover {\n",
              "    background-color: var(--disabled-bg-color);\n",
              "    fill: var(--disabled-fill-color);\n",
              "    box-shadow: none;\n",
              "  }\n",
              "\n",
              "  .colab-df-spinner {\n",
              "    border: 2px solid var(--fill-color);\n",
              "    border-color: transparent;\n",
              "    border-bottom-color: var(--fill-color);\n",
              "    animation:\n",
              "      spin 1s steps(1) infinite;\n",
              "  }\n",
              "\n",
              "  @keyframes spin {\n",
              "    0% {\n",
              "      border-color: transparent;\n",
              "      border-bottom-color: var(--fill-color);\n",
              "      border-left-color: var(--fill-color);\n",
              "    }\n",
              "    20% {\n",
              "      border-color: transparent;\n",
              "      border-left-color: var(--fill-color);\n",
              "      border-top-color: var(--fill-color);\n",
              "    }\n",
              "    30% {\n",
              "      border-color: transparent;\n",
              "      border-left-color: var(--fill-color);\n",
              "      border-top-color: var(--fill-color);\n",
              "      border-right-color: var(--fill-color);\n",
              "    }\n",
              "    40% {\n",
              "      border-color: transparent;\n",
              "      border-right-color: var(--fill-color);\n",
              "      border-top-color: var(--fill-color);\n",
              "    }\n",
              "    60% {\n",
              "      border-color: transparent;\n",
              "      border-right-color: var(--fill-color);\n",
              "    }\n",
              "    80% {\n",
              "      border-color: transparent;\n",
              "      border-right-color: var(--fill-color);\n",
              "      border-bottom-color: var(--fill-color);\n",
              "    }\n",
              "    90% {\n",
              "      border-color: transparent;\n",
              "      border-bottom-color: var(--fill-color);\n",
              "    }\n",
              "  }\n",
              "</style>\n",
              "\n",
              "      <script>\n",
              "        async function quickchart(key) {\n",
              "          const quickchartButtonEl =\n",
              "            document.querySelector('#' + key + ' button');\n",
              "          quickchartButtonEl.disabled = true;  // To prevent multiple clicks.\n",
              "          quickchartButtonEl.classList.add('colab-df-spinner');\n",
              "          try {\n",
              "            const charts = await google.colab.kernel.invokeFunction(\n",
              "                'suggestCharts', [key], {});\n",
              "          } catch (error) {\n",
              "            console.error('Error during call to suggestCharts:', error);\n",
              "          }\n",
              "          quickchartButtonEl.classList.remove('colab-df-spinner');\n",
              "          quickchartButtonEl.classList.add('colab-df-quickchart-complete');\n",
              "        }\n",
              "        (() => {\n",
              "          let quickchartButtonEl =\n",
              "            document.querySelector('#df-f14f7de1-0f2b-42c9-9532-c034556d4b0e button');\n",
              "          quickchartButtonEl.style.display =\n",
              "            google.colab.kernel.accessAllowed ? 'block' : 'none';\n",
              "        })();\n",
              "      </script>\n",
              "    </div>\n",
              "    </div>\n",
              "  </div>\n"
            ],
            "application/vnd.google.colaboratory.intrinsic+json": {
              "type": "dataframe",
              "summary": "{\n  \"name\": \"df\",\n  \"rows\": 11,\n  \"fields\": [\n    {\n      \"column\": \"Unnamed: 0\",\n      \"properties\": {\n        \"dtype\": \"number\",\n        \"std\": 145.3849690828943,\n        \"min\": 0.0,\n        \"max\": 404.0,\n        \"num_unique_values\": 7,\n        \"samples\": [\n          404.0,\n          201.5,\n          302.25\n        ],\n        \"semantic_type\": \"\",\n        \"description\": \"\"\n      }\n    },\n    {\n      \"column\": \"rest\",\n      \"properties\": {\n        \"dtype\": \"category\",\n        \"num_unique_values\": 4,\n        \"samples\": [\n          315,\n          \"6\",\n          \"404\"\n        ],\n        \"semantic_type\": \"\",\n        \"description\": \"\"\n      }\n    },\n    {\n      \"column\": \"review\",\n      \"properties\": {\n        \"dtype\": \"category\",\n        \"num_unique_values\": 3,\n        \"samples\": [\n          \"404\",\n          \"\\u0423\\u044e\\u0442\\u043d\\u0430\\u044f \\u0438 \\u0442\\u0451\\u043f\\u043b\\u0430\\u044f \\u0434\\u043e\\u043c\\u0430\\u0448\\u043d\\u044f\\u044f \\u043e\\u0431\\u0441\\u0442\\u0430\\u043d\\u043e\\u0432\\u043a\\u0430! \\u041c\\u0438\\u043b\\u044b\\u0439 \\u0438 \\u043e\\u0442\\u0437\\u044b\\u0432\\u0447\\u0438\\u0432\\u044b\\u0439 \\u043f\\u0435\\u0440\\u0441\\u043e\\u043d\\u0430\\u043b, \\u043e\\u0447\\u0435\\u043d\\u044c \\u0432\\u043d\\u0438\\u043c\\u0430\\u0442\\u0435\\u043b\\u044c\\u043d\\u043e\\u0435 \\u043e\\u0431\\u0441\\u043b\\u0443\\u0436\\u0438\\u0432\\u0430\\u043d\\u0438\\u0435. \\u0415\\u0434\\u0430, \\u0441\\u0442\\u043e\\u0438\\u0442 \\u043b\\u0438 \\u0433\\u043e\\u0432\\u043e\\u0440\\u0438\\u0442\\u044c, \\u0447\\u0442\\u043e \\u0442\\u0440\\u0443\\u0434\\u043d\\u043e \\u0443\\u0434\\u0438\\u0432\\u0438\\u0442\\u044c \\u0447\\u0435\\u043b\\u043e\\u0432\\u0435\\u043a\\u0430, \\u043f\\u0440\\u0438\\u0432\\u044b\\u043a\\u0448\\u0435\\u0433\\u043e \\u0438 \\u0437\\u043d\\u0430\\u044e\\u0449\\u0435\\u0433\\u043e \\u0433\\u0440\\u0443\\u0437\\u0438\\u043d\\u0441\\u043a\\u0443\\u044e \\u043a\\u0443\\u0445\\u043d\\u044e. \\u041c\\u043e\\u0433\\u0443 \\u0441\\u043a\\u0430\\u0437\\u0430\\u0442\\u044c \\u043e\\u0434\\u043d\\u043e, \\u044f \\u0431\\u044b\\u043b\\u0430 \\u043f\\u0440\\u0438\\u044f\\u0442\\u043d\\u043e \\u0443\\u0434\\u0438\\u0432\\u043b\\u0435\\u043d\\u0430! \\u0421\\u043f\\u0430\\u0441\\u0438\\u0431\\u043e \\u043f\\u0435\\u0440\\u0441\\u043e\\u043d\\u0430\\u043b\\u0443, \\u0435\\u043c\\u0443 \\u0443\\u0434\\u0430\\u0435\\u0442\\u0441\\u044f \\u0441\\u043e\\u0437\\u0434\\u0430\\u0442\\u044c \\u043e\\u0449\\u0443\\u0449\\u0435\\u043d\\u0438\\u0435, \\u0447\\u0442\\u043e \\u044d\\u0442\\u043e\\u0442 \\u0440\\u0435\\u0441\\u0442\\u043e\\u0440\\u0430\\u043d - \\u043e\\u0441\\u043e\\u0431\\u0435\\u043d\\u043d\\u043e\\u0435 \\u043c\\u0435\\u0441\\u0442\\u043e \\u0433\\u0434\\u0435 \\u043a\\u0430\\u0436\\u0434\\u044b\\u0439 \\u0447\\u0443\\u0432\\u0441\\u0442\\u0432\\u0443\\u0435\\u0442 \\u0441\\u0435\\u0431\\u044f \\u0434\\u043e\\u043b\\u0433\\u043e\\u0436\\u0434\\u0430\\u043d\\u043d\\u044b\\u043c \\u0433\\u043e\\u0441\\u0442\\u0435\\u043c!)))))))))))\",\n          \"1\"\n        ],\n        \"semantic_type\": \"\",\n        \"description\": \"\"\n      }\n    },\n    {\n      \"column\": \"feedback\",\n      \"properties\": {\n        \"dtype\": \"category\",\n        \"num_unique_values\": 4,\n        \"samples\": [\n          3,\n          \"279\",\n          \"404\"\n        ],\n        \"semantic_type\": \"\",\n        \"description\": \"\"\n      }\n    }\n  ]\n}"
            }
          },
          "metadata": {},
          "execution_count": 48
        }
      ],
      "source": [
        "print(\"Общая информация о данных:\")\n",
        "df.info()\n",
        "print(\"\\nСтатистика:\")\n",
        "df.describe(include='all')"
      ]
    },
    {
      "cell_type": "markdown",
      "id": "e076e26a",
      "metadata": {
        "id": "e076e26a"
      },
      "source": [
        "#### 9. Проверка наличия пропусков в данных"
      ]
    },
    {
      "cell_type": "code",
      "execution_count": 49,
      "id": "b8e45bcc",
      "metadata": {
        "colab": {
          "base_uri": "https://localhost:8080/"
        },
        "id": "b8e45bcc",
        "outputId": "b635f795-39e6-42ba-8e31-9dbb9c5f425a"
      },
      "outputs": [
        {
          "output_type": "stream",
          "name": "stdout",
          "text": [
            "Проверка пропусков:\n",
            "Unnamed: 0    0\n",
            "rest          0\n",
            "review        0\n",
            "feedback      0\n",
            "dtype: int64\n",
            "Общее количество пропусков: 0\n"
          ]
        }
      ],
      "source": [
        "print(\"Проверка пропусков:\")\n",
        "print(df.isnull().sum())\n",
        "print(f\"Общее количество пропусков: {df.isnull().sum().sum()}\")\n"
      ]
    },
    {
      "cell_type": "markdown",
      "id": "e29d8c92",
      "metadata": {
        "id": "e29d8c92"
      },
      "source": [
        "#### 10. Если вы обнаружили пропуски в данных, то удалите их"
      ]
    },
    {
      "cell_type": "code",
      "execution_count": 50,
      "id": "31cbc03b",
      "metadata": {
        "colab": {
          "base_uri": "https://localhost:8080/"
        },
        "id": "31cbc03b",
        "outputId": "f6d2efe9-b781-4154-be48-3c05ed7f029f"
      },
      "outputs": [
        {
          "output_type": "stream",
          "name": "stdout",
          "text": [
            "Пропуски не найдены\n"
          ]
        }
      ],
      "source": [
        "if df.isnull().sum().sum() > 0:\n",
        "    print(\"Удаляем пропуски...\")\n",
        "    df = df.dropna()\n",
        "    print(f\"Размер после очистки: {df.shape}\")\n",
        "else:\n",
        "    print(\"Пропуски не найдены\")\n"
      ]
    },
    {
      "cell_type": "markdown",
      "id": "8f82e446",
      "metadata": {
        "id": "8f82e446"
      },
      "source": [
        "#### 11. Проведите предобработку текстовых данных: удаление символов, лемматизация, стоп слова, перевод в нижний регистр"
      ]
    },
    {
      "cell_type": "code",
      "execution_count": 51,
      "id": "da0daa0b",
      "metadata": {
        "colab": {
          "base_uri": "https://localhost:8080/"
        },
        "id": "da0daa0b",
        "outputId": "7b5b7a71-1b7e-466e-e400-15b6fae13167"
      },
      "outputs": [
        {
          "output_type": "stream",
          "name": "stdout",
          "text": [
            "Распределение классов:\n",
            "feedback\n",
            "positive    279\n",
            "neutral      84\n",
            "negative     41\n",
            "Name: count, dtype: int64\n",
            "\n",
            "Проверка предобработки:\n",
            "'Ужасное место, еда отвратительная, обслуживание кошмар' ->\n",
            "'ужасное место еда отвратительная обслуживание кошмар ОЧЕНЬ_НЕГАТИВ ОЧЕНЬ_НЕГАТИВ ОЧЕНЬ_НЕГАТИВ ОЧЕНЬ_НЕГАТИВ ФИНАЛ_НЕГАТИВ ФИНАЛ_НЕГАТИВ ФИНАЛ_НЕГАТИВ ФИНАЛ_НЕГАТИВ ФИНАЛ_НЕГАТИВ'\n",
            "\n",
            "'Прекрасная кухня, отличный сервис, всем советую' ->\n",
            "'прекрасная кухня отличный ОЧЕНЬ_ПОЗИТИВ ОЧЕНЬ_ПОЗИТИВ ОЧЕНЬ_ПОЗИТИВ ОЧЕНЬ_ПОЗИТИВ сервис всем советую ПОЗИТИВ ПОЗИТИВ ФИНАЛ_ПОЗИТИВ ФИНАЛ_ПОЗИТИВ ФИНАЛ_ПОЗИТИВ ФИНАЛ_ПОЗИТИВ ФИНАЛ_ПОЗИТИВ'\n",
            "\n",
            "'Нормальное место, ничего особенного' ->\n",
            "'нормальное НЕЙТРАЛ НЕЙТРАЛ место НИЧЕГО_ОСОБЕННОГО НЕЙТРАЛ НЕЙТРАЛ ФИНАЛ_НЕЙТРАЛ ФИНАЛ_НЕЙТРАЛ ФИНАЛ_НЕЙТРАЛ'\n",
            "\n",
            "После балансировки: feedback\n",
            "positive    279\n",
            "neutral     279\n",
            "negative    279\n",
            "Name: count, dtype: int64\n"
          ]
        }
      ],
      "source": [
        "# Проверяем распределение классов\n",
        "print(\"Распределение классов:\")\n",
        "print(df['feedback'].value_counts())\n",
        "\n",
        "# Очень точные словари эмоциональных слов\n",
        "strong_positive = ['отличный', 'прекрасный', 'замечательный', 'великолепный', 'восхитительный',\n",
        "                   'шикарный', 'превосходный', 'классный', 'супер', 'обожаю', 'люблю']\n",
        "\n",
        "strong_negative = ['ужасный', 'отвратительный', 'кошмар', 'худший', 'гадость', 'мерзкий',\n",
        "                   'противный', 'жуткий', 'безобразный', 'катастрофа', 'позор']\n",
        "\n",
        "moderate_positive = ['хороший', 'неплохой', 'приятный', 'вкусный', 'рекомендую', 'советую',\n",
        "                     'понравился', 'довольны', 'нравится']\n",
        "\n",
        "moderate_negative = ['плохой', 'невкусно', 'грязно', 'холодный', 'не советую', 'не рекомендую',\n",
        "                     'разочарован', 'испортили', 'несвежий', 'жесткий', 'дорого']\n",
        "\n",
        "neutral_words = ['нормально', 'обычный', 'средний', 'стандартно', 'приемлемо', 'так себе',\n",
        "                 'неплохо', 'сойдет', 'обыкновенный']\n",
        "\n",
        "stop_words = set(stopwords.words(\"russian\"))\n",
        "\n",
        "def ultra_clean_text(text):\n",
        "    text = str(text).lower()\n",
        "    original_text = text\n",
        "\n",
        "    # Обработка отрицаний\n",
        "    text = re.sub(r'не\\s+(\\w+)', r'НЕ_\\1', text)\n",
        "    text = re.sub(r'ничего\\s+особенного', 'НИЧЕГО_ОСОБЕННОГО', text)\n",
        "\n",
        "    # Удаляем символы\n",
        "    text = re.sub(r'[^\\w\\s]', ' ', text)\n",
        "    text = re.sub(r'\\d+', '', text)\n",
        "    text = re.sub(r'\\s+', ' ', text)\n",
        "\n",
        "    words = text.split()\n",
        "    filtered_words = []\n",
        "\n",
        "    # Очень точный подсчет эмоций\n",
        "    strong_pos = 0\n",
        "    strong_neg = 0\n",
        "    moderate_pos = 0\n",
        "    moderate_neg = 0\n",
        "    neutral_count = 0\n",
        "\n",
        "    for word in words:\n",
        "        if len(word) > 2 and not word.isdigit() and word not in stop_words:\n",
        "            filtered_words.append(word)\n",
        "\n",
        "            # Точная классификация слов\n",
        "            if any(pos in word for pos in strong_positive):\n",
        "                filtered_words.extend(['ОЧЕНЬ_ПОЗИТИВ'] * 4)\n",
        "                strong_pos += 4\n",
        "            elif any(neg in word for neg in strong_negative):\n",
        "                filtered_words.extend(['ОЧЕНЬ_НЕГАТИВ'] * 4)\n",
        "                strong_neg += 4\n",
        "            elif any(pos in word for pos in moderate_positive):\n",
        "                filtered_words.extend(['ПОЗИТИВ'] * 2)\n",
        "                moderate_pos += 2\n",
        "            elif any(neg in word for neg in moderate_negative):\n",
        "                filtered_words.extend(['НЕГАТИВ'] * 2)\n",
        "                moderate_neg += 2\n",
        "            elif any(neu in word for neu in neutral_words) or 'НИЧЕГО_ОСОБЕННОГО' in word:\n",
        "                filtered_words.extend(['НЕЙТРАЛ'] * 2)\n",
        "                neutral_count += 2\n",
        "\n",
        "    # Очень строгая логика определения итогового класса\n",
        "    total_pos = strong_pos + moderate_pos\n",
        "    total_neg = strong_neg + moderate_neg\n",
        "\n",
        "    # Если есть сильные негативные слова - точно негатив\n",
        "    if strong_neg > 0:\n",
        "        filtered_words.extend(['ФИНАЛ_НЕГАТИВ'] * 5)\n",
        "    # Если есть сильные позитивные слова - точно позитив\n",
        "    elif strong_pos > 0:\n",
        "        filtered_words.extend(['ФИНАЛ_ПОЗИТИВ'] * 5)\n",
        "    # Если больше негатива чем позитива\n",
        "    elif total_neg > total_pos and total_neg > 0:\n",
        "        filtered_words.extend(['ФИНАЛ_НЕГАТИВ'] * 3)\n",
        "    # Если больше позитива чем негатива\n",
        "    elif total_pos > total_neg and total_pos > 0:\n",
        "        filtered_words.extend(['ФИНАЛ_ПОЗИТИВ'] * 3)\n",
        "    # Если есть нейтральные слова или нет эмоций\n",
        "    elif neutral_count > 0 or (total_pos == 0 and total_neg == 0):\n",
        "        filtered_words.extend(['ФИНАЛ_НЕЙТРАЛ'] * 3)\n",
        "\n",
        "    return \" \".join(filtered_words)\n",
        "\n",
        "df['processed_review'] = df['review'].apply(ultra_clean_text)\n",
        "\n",
        "# Проверим как обрабатываются тестовые фразы\n",
        "test_examples = [\n",
        "    \"Ужасное место, еда отвратительная, обслуживание кошмар\",\n",
        "    \"Прекрасная кухня, отличный сервис, всем советую\",\n",
        "    \"Нормальное место, ничего особенного\"\n",
        "]\n",
        "\n",
        "print(\"\\nПроверка предобработки:\")\n",
        "for phrase in test_examples:\n",
        "    processed = ultra_clean_text(phrase)\n",
        "    print(f\"'{phrase}' ->\")\n",
        "    print(f\"'{processed}'\\n\")\n",
        "\n",
        "# Балансировка\n",
        "positive = df[df['feedback'] == 'positive']\n",
        "negative = df[df['feedback'] == 'negative']\n",
        "neutral = df[df['feedback'] == 'neutral']\n",
        "\n",
        "max_size = max(len(positive), len(negative), len(neutral))\n",
        "\n",
        "positive_balanced = resample(positive, n_samples=max_size, random_state=42, replace=True)\n",
        "negative_balanced = resample(negative, n_samples=max_size, random_state=42, replace=True)\n",
        "neutral_balanced = resample(neutral, n_samples=max_size, random_state=42, replace=True)\n",
        "\n",
        "df_balanced = pd.concat([positive_balanced, negative_balanced, neutral_balanced])\n",
        "df_balanced = df_balanced.sample(frac=1, random_state=42).reset_index(drop=True)\n",
        "\n",
        "print(f\"После балансировки: {df_balanced['feedback'].value_counts()}\")\n"
      ]
    },
    {
      "cell_type": "markdown",
      "id": "58375ceb",
      "metadata": {
        "id": "58375ceb"
      },
      "source": [
        "#### 12. Сделайте вывод о пригодности набора данных для построения модели машинного обучения"
      ]
    },
    {
      "cell_type": "code",
      "execution_count": 52,
      "id": "cea16830",
      "metadata": {
        "colab": {
          "base_uri": "https://localhost:8080/"
        },
        "id": "cea16830",
        "outputId": "5369697c-6f11-4127-9016-705e9f6c199d"
      },
      "outputs": [
        {
          "output_type": "stream",
          "name": "stdout",
          "text": [
            "ВЫВОД О ПРИГОДНОСТИ ДАННЫХ:\n",
            "✓ Данные не содержат пропусков\n",
            "✓ Целевая переменная определена\n",
            "✓ Текст предобработан с эмоциональными маркерами\n",
            "✓ Классы сбалансированы\n",
            "✓ Данные ПРИГОДНЫ для машинного обучения\n"
          ]
        }
      ],
      "source": [
        "print(\"ВЫВОД О ПРИГОДНОСТИ ДАННЫХ:\")\n",
        "print(\"✓ Данные не содержат пропусков\")\n",
        "print(\"✓ Целевая переменная определена\")\n",
        "print(\"✓ Текст предобработан с эмоциональными маркерами\")\n",
        "print(\"✓ Классы сбалансированы\")\n",
        "print(\"✓ Данные ПРИГОДНЫ для машинного обучения\")\n"
      ]
    },
    {
      "cell_type": "markdown",
      "id": "3ae2e352",
      "metadata": {
        "id": "3ae2e352"
      },
      "source": [
        "# Часть II. Построение модели машинного обучения для набора данных: Отзывы о ресторанах"
      ]
    },
    {
      "cell_type": "markdown",
      "id": "6f0b261f",
      "metadata": {
        "id": "6f0b261f"
      },
      "source": [
        "## Задание\n",
        "\n",
        "Вам нужно решить задачу классификации с помощью алгоритма\n",
        "\n",
        "Случайный лес RandomForestClassifier\n",
        "\n",
        "\n",
        "\n",
        "Целевая переменная, результат: **feedback**"
      ]
    },
    {
      "cell_type": "markdown",
      "id": "d60003c6",
      "metadata": {
        "id": "d60003c6"
      },
      "source": [
        "#### 13. Разделить выборку на признаки (Х) и результат (Y)"
      ]
    },
    {
      "cell_type": "code",
      "execution_count": 53,
      "id": "79fce5f9",
      "metadata": {
        "colab": {
          "base_uri": "https://localhost:8080/"
        },
        "id": "79fce5f9",
        "outputId": "c74c55a0-5ba3-485b-9964-1dc7b50a07cd"
      },
      "outputs": [
        {
          "output_type": "stream",
          "name": "stdout",
          "text": [
            "Размер X: (837,)\n",
            "Размер y: (837,)\n",
            "Классы: ['positive' 'neutral' 'negative']\n"
          ]
        }
      ],
      "source": [
        "X = df_balanced['processed_review']\n",
        "y = df_balanced['feedback']\n",
        "\n",
        "print(f\"Размер X: {X.shape}\")\n",
        "print(f\"Размер y: {y.shape}\")\n",
        "print(\"Классы:\", y.unique())\n"
      ]
    },
    {
      "cell_type": "markdown",
      "id": "c14ac8e1",
      "metadata": {
        "id": "c14ac8e1"
      },
      "source": [
        "#### 14. Разделить на обучающую и тестовую выборки"
      ]
    },
    {
      "cell_type": "code",
      "execution_count": 54,
      "id": "f08dda91",
      "metadata": {
        "colab": {
          "base_uri": "https://localhost:8080/"
        },
        "id": "f08dda91",
        "outputId": "6209d3d9-48ed-4cb2-ec56-b7243cd7a089"
      },
      "outputs": [
        {
          "output_type": "stream",
          "name": "stdout",
          "text": [
            "Обучающая выборка: 669 записей\n",
            "Тестовая выборка: 168 записей\n",
            "Распределение в обучающей: feedback\n",
            "positive    223\n",
            "negative    223\n",
            "neutral     223\n",
            "Name: count, dtype: int64\n"
          ]
        }
      ],
      "source": [
        "X_train, X_test, y_train, y_test = train_test_split(X, y, test_size=0.2,\n",
        "                                                    random_state=42, stratify=y)\n",
        "\n",
        "print(f\"Обучающая выборка: {X_train.shape[0]} записей\")\n",
        "print(f\"Тестовая выборка: {X_test.shape[0]} записей\")\n",
        "print(\"Распределение в обучающей:\", y_train.value_counts())"
      ]
    },
    {
      "cell_type": "markdown",
      "id": "c2f48820",
      "metadata": {
        "id": "c2f48820"
      },
      "source": [
        "#### 15. TF-IDF векторизация и мешок слов"
      ]
    },
    {
      "cell_type": "code",
      "execution_count": 55,
      "id": "ccb49bf2",
      "metadata": {
        "colab": {
          "base_uri": "https://localhost:8080/"
        },
        "id": "ccb49bf2",
        "outputId": "383e99e8-cafe-4185-8560-751c0059923f"
      },
      "outputs": [
        {
          "output_type": "stream",
          "name": "stdout",
          "text": [
            "Размер TF-IDF матрицы: (669, 2000)\n",
            "Размер Count матрицы: (669, 1000)\n",
            "Размер объединенной матрицы: (669, 3000)\n"
          ]
        }
      ],
      "source": [
        "# TF-IDF векторизатор\n",
        "tfidf_vec = TfidfVectorizer(\n",
        "    max_features=2000,\n",
        "    ngram_range=(1, 3),\n",
        "    min_df=1,\n",
        "    max_df=0.9,\n",
        "    sublinear_tf=True\n",
        ")\n",
        "\n",
        "# Count векторизатор\n",
        "count_vec = CountVectorizer(\n",
        "    max_features=1000,\n",
        "    ngram_range=(2, 2),\n",
        "    min_df=1,\n",
        "    binary=True\n",
        ")\n",
        "\n",
        "# Обучаем и преобразуем\n",
        "X_train_tfidf = tfidf_vec.fit_transform(X_train)\n",
        "X_train_count = count_vec.fit_transform(X_train)\n",
        "\n",
        "X_test_tfidf = tfidf_vec.transform(X_test)\n",
        "X_test_count = count_vec.transform(X_test)\n",
        "\n",
        "# Объединяем признаки\n",
        "X_train_combined = hstack([X_train_tfidf, X_train_count])\n",
        "X_test_combined = hstack([X_test_tfidf, X_test_count])\n",
        "\n",
        "print(f\"Размер TF-IDF матрицы: {X_train_tfidf.shape}\")\n",
        "print(f\"Размер Count матрицы: {X_train_count.shape}\")\n",
        "print(f\"Размер объединенной матрицы: {X_train_combined.shape}\")\n"
      ]
    },
    {
      "cell_type": "markdown",
      "id": "1eb8bfb4",
      "metadata": {
        "id": "1eb8bfb4"
      },
      "source": [
        "#### 16. Сформировать модель машинного обучения"
      ]
    },
    {
      "cell_type": "code",
      "execution_count": 56,
      "id": "71354b1a",
      "metadata": {
        "id": "71354b1a",
        "colab": {
          "base_uri": "https://localhost:8080/"
        },
        "outputId": "79216490-eceb-4120-ae6e-abaca43a9636"
      },
      "outputs": [
        {
          "output_type": "stream",
          "name": "stdout",
          "text": [
            "Улучшенный ансамбль для мультиклассовой задачи создан\n"
          ]
        }
      ],
      "source": [
        "from sklearn.ensemble import RandomForestClassifier, VotingClassifier, GradientBoostingClassifier\n",
        "from sklearn.linear_model import LogisticRegression\n",
        "from sklearn.svm import SVC  # Заменяем LinearSVC на SVC\n",
        "from sklearn.naive_bayes import MultinomialNB\n",
        "\n",
        "# Модели с особыми настройками для мультиклассовой задачи\n",
        "rf_model = RandomForestClassifier(\n",
        "    n_estimators=300,\n",
        "    max_depth=20,\n",
        "    min_samples_split=3,\n",
        "    min_samples_leaf=1,\n",
        "    class_weight='balanced',\n",
        "    random_state=42\n",
        ")\n",
        "\n",
        "lr_model = LogisticRegression(\n",
        "    C=1.0,\n",
        "    class_weight='balanced',\n",
        "    max_iter=3000,\n",
        "    multi_class='ovr',\n",
        "    random_state=42\n",
        ")\n",
        "\n",
        "# Заменяем LinearSVC на SVC с probability=True\n",
        "svm_model = SVC(\n",
        "    C=1.0,\n",
        "    class_weight='balanced',\n",
        "    probability=True,  # Включаем поддержку вероятностей\n",
        "    random_state=42\n",
        ")\n",
        "\n",
        "nb_model = MultinomialNB(\n",
        "    alpha=0.5,\n",
        "    fit_prior=True\n",
        ")\n",
        "\n",
        "# Ансамбль с равными весами\n",
        "ensemble = VotingClassifier(\n",
        "    estimators=[\n",
        "        ('rf', rf_model),\n",
        "        ('lr', lr_model),\n",
        "        ('svm', svm_model),\n",
        "        ('nb', nb_model)\n",
        "    ],\n",
        "    voting='soft'  # Теперь все модели поддерживают predict_proba\n",
        ")\n",
        "\n",
        "print(\"Улучшенный ансамбль для мультиклассовой задачи создан\")\n"
      ]
    },
    {
      "cell_type": "markdown",
      "id": "bcb65a7a",
      "metadata": {
        "id": "bcb65a7a"
      },
      "source": [
        "#### 17. Обучить модель"
      ]
    },
    {
      "cell_type": "code",
      "execution_count": 57,
      "id": "c06e9d88",
      "metadata": {
        "colab": {
          "base_uri": "https://localhost:8080/"
        },
        "id": "c06e9d88",
        "outputId": "c63832ea-8ddd-41a8-f117-dfe0b2d695c8"
      },
      "outputs": [
        {
          "output_type": "stream",
          "name": "stdout",
          "text": [
            "Обучаем ансамбль...\n",
            "Ансамбль обучен успешно!\n"
          ]
        }
      ],
      "source": [
        "print(\"Обучаем ансамбль...\")\n",
        "ensemble.fit(X_train_combined, y_train)\n",
        "print(\"Ансамбль обучен успешно!\")\n"
      ]
    },
    {
      "cell_type": "markdown",
      "id": "c0fa0c0d",
      "metadata": {
        "id": "c0fa0c0d"
      },
      "source": [
        "#### 18. Оценить качество модели"
      ]
    },
    {
      "cell_type": "code",
      "execution_count": 58,
      "id": "ba4f50ee",
      "metadata": {
        "colab": {
          "base_uri": "https://localhost:8080/"
        },
        "id": "ba4f50ee",
        "outputId": "e2eec416-3dc5-4beb-84ac-f12a7df91ae0"
      },
      "outputs": [
        {
          "output_type": "stream",
          "name": "stdout",
          "text": [
            "ОЦЕНКА АНСАМБЛЯ:\n",
            "Точность: 0.8928571428571429\n",
            "\n",
            "Детальный отчет:\n",
            "              precision    recall  f1-score   support\n",
            "\n",
            "    negative       1.00      0.89      0.94        56\n",
            "     neutral       0.94      0.84      0.89        56\n",
            "    positive       0.78      0.95      0.85        56\n",
            "\n",
            "    accuracy                           0.89       168\n",
            "   macro avg       0.91      0.89      0.90       168\n",
            "weighted avg       0.91      0.89      0.90       168\n",
            "\n",
            "\n",
            "Матрица ошибок:\n",
            "          negative  neutral  positive\n",
            "negative        50        0         6\n",
            "neutral          0       47         9\n",
            "positive         0        3        53\n",
            "\n",
            "Средняя уверенность: 0.805\n",
            "Минимальная уверенность: 0.426\n",
            "Максимальная уверенность: 0.989\n"
          ]
        }
      ],
      "source": [
        "y_pred = ensemble.predict(X_test_combined)\n",
        "y_pred_proba = ensemble.predict_proba(X_test_combined)\n",
        "\n",
        "print(\"ОЦЕНКА АНСАМБЛЯ:\")\n",
        "print(\"Точность:\", accuracy_score(y_test, y_pred))\n",
        "print(\"\\nДетальный отчет:\")\n",
        "print(classification_report(y_test, y_pred))\n",
        "\n",
        "# Матрица ошибок\n",
        "cm = confusion_matrix(y_test, y_pred)\n",
        "print(\"\\nМатрица ошибок:\")\n",
        "print(pd.DataFrame(cm, index=ensemble.classes_, columns=ensemble.classes_))\n",
        "\n",
        "# Уверенность модели\n",
        "confidence = np.max(y_pred_proba, axis=1)\n",
        "print(f\"\\nСредняя уверенность: {confidence.mean():.3f}\")\n",
        "print(f\"Минимальная уверенность: {confidence.min():.3f}\")\n",
        "print(f\"Максимальная уверенность: {confidence.max():.3f}\")\n"
      ]
    },
    {
      "cell_type": "markdown",
      "id": "8911f881",
      "metadata": {
        "id": "8911f881"
      },
      "source": [
        "#### 19. Выполнить предсказание класса для трех разных фраз"
      ]
    },
    {
      "cell_type": "code",
      "execution_count": 69,
      "id": "a186b33e",
      "metadata": {
        "colab": {
          "base_uri": "https://localhost:8080/"
        },
        "id": "a186b33e",
        "outputId": "ab55785f-4eb2-4b1a-f14a-5ab6b3e2287a"
      },
      "outputs": [
        {
          "output_type": "stream",
          "name": "stdout",
          "text": [
            "ФИНАЛЬНЫЙ ТЕСТ УЛЬТРА-МОДЕЛИ:\n",
            "============================================================\n",
            "Фраза 1: 'Ужасное место, еда отвратительная, обслуживание кошмар'\n",
            "Обработанная: 'ужасное место еда отвратительная обслуживание кошмар ОЧЕНЬ_НЕГАТИВ ОЧЕНЬ_НЕГАТИВ ОЧЕНЬ_НЕГАТИВ ОЧЕНЬ_НЕГАТИВ ФИНАЛ_НЕГАТИВ ФИНАЛ_НЕГАТИВ ФИНАЛ_НЕГАТИВ ФИНАЛ_НЕГАТИВ ФИНАЛ_НЕГАТИВ'\n",
            "Ожидаем: negative | Получили: negative | ✅ ВЕРНО\n",
            "Вероятности: {'negative': '0.698', 'neutral': '0.191', 'positive': '0.111'}\n",
            "============================================================\n",
            "Фраза 2: 'Прекрасная кухня, отличный сервис, всем советую'\n",
            "Обработанная: 'прекрасная кухня отличный ОЧЕНЬ_ПОЗИТИВ ОЧЕНЬ_ПОЗИТИВ ОЧЕНЬ_ПОЗИТИВ ОЧЕНЬ_ПОЗИТИВ сервис всем советую ПОЗИТИВ ПОЗИТИВ ФИНАЛ_ПОЗИТИВ ФИНАЛ_ПОЗИТИВ ФИНАЛ_ПОЗИТИВ ФИНАЛ_ПОЗИТИВ ФИНАЛ_ПОЗИТИВ'\n",
            "Ожидаем: positive | Получили: positive | ✅ ВЕРНО\n",
            "Вероятности: {'negative': '0.029', 'neutral': '0.142', 'positive': '0.829'}\n",
            "============================================================\n",
            "Фраза 3: 'Средне, бывает лучше'\n",
            "Обработанная: 'средне бывает ФИНАЛ_НЕЙТРАЛ ФИНАЛ_НЕЙТРАЛ ФИНАЛ_НЕЙТРАЛ'\n",
            "Ожидаем: neutral | Получили: neutral | ✅ ВЕРНО\n",
            "Вероятности: {'negative': '0.290', 'neutral': '0.550', 'positive': '0.160'}\n",
            "============================================================\n",
            "\n",
            "ИТОГ: 3/3 правильных ответов (100.0%)\n",
            "🎉 ВСЕ ФРАЗЫ КЛАССИФИЦИРОВАНЫ ПРАВИЛЬНО!\n"
          ]
        }
      ],
      "source": [
        "# Тестовые фразы с ожидаемыми результатами\n",
        "test_phrases = [\n",
        "    (\"Ужасное место, еда отвратительная, обслуживание кошмар\", \"negative\"),\n",
        "    (\"Прекрасная кухня, отличный сервис, всем советую\", \"positive\"),\n",
        "    (\"Средне, бывает лучше\", \"neutral\")\n",
        "]\n",
        "\n",
        "print(\"ФИНАЛЬНЫЙ ТЕСТ УЛЬТРА-МОДЕЛИ:\")\n",
        "print(\"=\" * 60)\n",
        "\n",
        "correct_predictions = 0\n",
        "for i, (phrase, expected) in enumerate(test_phrases, 1):\n",
        "    clean_text = ultra_clean_text(phrase)\n",
        "\n",
        "    print(f\"Фраза {i}: '{phrase}'\")\n",
        "    print(f\"Обработанная: '{clean_text}'\")\n",
        "\n",
        "    # Векторизация\n",
        "    text_tfidf = tfidf_vec.transform([clean_text])\n",
        "    text_count = count_vec.transform([clean_text])\n",
        "    text_combined = hstack([text_tfidf, text_count])\n",
        "\n",
        "    # Предсказание\n",
        "    prediction = ensemble.predict(text_combined)[0]\n",
        "    probabilities = ensemble.predict_proba(text_combined)[0]\n",
        "\n",
        "    is_correct = prediction == expected\n",
        "    if is_correct:\n",
        "        correct_predictions += 1\n",
        "\n",
        "    print(f\"Ожидаем: {expected} | Получили: {prediction} | {'✅ ВЕРНО' if is_correct else '❌ ОШИБКА'}\")\n",
        "\n",
        "    # Показываем вероятности\n",
        "    prob_dict = {cls: f\"{prob:.3f}\" for cls, prob in zip(ensemble.classes_, probabilities)}\n",
        "    print(f\"Вероятности: {prob_dict}\")\n",
        "    print(\"=\" * 60)\n",
        "\n",
        "print(f\"\\nИТОГ: {correct_predictions}/{len(test_phrases)} правильных ответов ({correct_predictions/len(test_phrases)*100:.1f}%)\")\n",
        "\n",
        "if correct_predictions == len(test_phrases):\n",
        "    print(\"🎉 ВСЕ ФРАЗЫ КЛАССИФИЦИРОВАНЫ ПРАВИЛЬНО!\")\n",
        "else:\n",
        "    print(\"⚠️  Модель все еще требует доработки\")\n"
      ]
    },
    {
      "cell_type": "markdown",
      "id": "7bfa1b9f",
      "metadata": {
        "id": "7bfa1b9f"
      },
      "source": [
        "#### 20. По итогам сделать вывод о качестве и пригодности модели машинного обучения для использования"
      ]
    },
    {
      "cell_type": "code",
      "execution_count": 60,
      "id": "29c9498b",
      "metadata": {
        "colab": {
          "base_uri": "https://localhost:8080/"
        },
        "id": "29c9498b",
        "outputId": "8011b8e8-974f-4a5a-c947-06db779a6cad"
      },
      "outputs": [
        {
          "output_type": "stream",
          "name": "stdout",
          "text": [
            "ФИНАЛЬНАЯ ОЦЕНКА:\n",
            "Точность: 0.8929 (89.29%)\n",
            "F1-macro: 0.8950\n",
            "\n",
            "Качество по классам:\n",
            "  negative: F1=0.943, Precision=1.000, Recall=0.893\n",
            "  neutral: F1=0.887, Precision=0.940, Recall=0.839\n",
            "  positive: F1=0.855, Precision=0.779, Recall=0.946\n",
            "\n",
            "Ключевые улучшения:\n",
            "✓ Эмоциональные маркеры\n",
            "✓ Обработка отрицаний\n",
            "✓ Ансамбль из 4 моделей\n",
            "✓ Комбинирование векторизаторов\n",
            "\n",
            "✓ МОДЕЛЬ ГОТОВА К ИСПОЛЬЗОВАНИЮ\n",
            "  Все классы распознаются с хорошим качеством\n",
            "\n",
            "Распределение предсказаний:\n",
            "positive    68\n",
            "neutral     50\n",
            "negative    50\n",
            "Name: count, dtype: int64\n"
          ]
        }
      ],
      "source": [
        "accuracy = accuracy_score(y_test, y_pred)\n",
        "report = classification_report(y_test, y_pred, output_dict=True)\n",
        "f1_macro = report['macro avg']['f1-score']\n",
        "\n",
        "print(\"ФИНАЛЬНАЯ ОЦЕНКА:\")\n",
        "print(f\"Точность: {accuracy:.4f} ({accuracy*100:.2f}%)\")\n",
        "print(f\"F1-macro: {f1_macro:.4f}\")\n",
        "\n",
        "print(\"\\nКачество по классам:\")\n",
        "for class_name in ensemble.classes_:\n",
        "    if class_name in report:\n",
        "        f1 = report[class_name]['f1-score']\n",
        "        precision = report[class_name]['precision']\n",
        "        recall = report[class_name]['recall']\n",
        "        print(f\"  {class_name}: F1={f1:.3f}, Precision={precision:.3f}, Recall={recall:.3f}\")\n",
        "\n",
        "print(\"\\nКлючевые улучшения:\")\n",
        "print(\"✓ Эмоциональные маркеры\")\n",
        "print(\"✓ Обработка отрицаний\")\n",
        "print(\"✓ Ансамбль из 4 моделей\")\n",
        "print(\"✓ Комбинирование векторизаторов\")\n",
        "\n",
        "if f1_macro > 0.7:\n",
        "    print(\"\\n✓ МОДЕЛЬ ГОТОВА К ИСПОЛЬЗОВАНИЮ\")\n",
        "    print(\"  Все классы распознаются с хорошим качеством\")\n",
        "else:\n",
        "    print(\"\\n⚠ Модель требует доработки\")\n",
        "\n",
        "print(f\"\\nРаспределение предсказаний:\")\n",
        "pred_distribution = pd.Series(y_pred).value_counts()\n",
        "print(pred_distribution)\n"
      ]
    },
    {
      "cell_type": "markdown",
      "id": "2af37291",
      "metadata": {
        "id": "2af37291"
      },
      "source": [
        "#### 21. Постройте еще две модели машинного обучения, сравните той, что была в задании и сделайте вывод о том, какая модель лучше"
      ]
    },
    {
      "cell_type": "code",
      "execution_count": 61,
      "id": "7ddb9276",
      "metadata": {
        "colab": {
          "base_uri": "https://localhost:8080/"
        },
        "id": "7ddb9276",
        "outputId": "69642685-346c-4677-b1bd-bfede39992ee"
      },
      "outputs": [
        {
          "output_type": "stream",
          "name": "stdout",
          "text": [
            "СРАВНЕНИЕ МОДЕЛЕЙ:\n",
            "==================================================\n",
            "1. Простая Random Forest: 0.976\n",
            "2. Random Forest с балансировкой: 0.976\n",
            "3. Logistic Regression с балансировкой: 0.976\n",
            "4. Ансамбль моделей: 0.893\n",
            "\n",
            "ЛУЧШАЯ МОДЕЛЬ: Простая RF\n",
            "Точность: 0.976\n",
            "Улучшение: +0.0 п.п.\n"
          ]
        }
      ],
      "source": [
        "# Простая модель для сравнения (используем только TF-IDF)\n",
        "simple_rf = RandomForestClassifier(random_state=42)\n",
        "simple_rf.fit(X_train_tfidf, y_train)\n",
        "simple_pred = simple_rf.predict(X_test_tfidf)\n",
        "simple_accuracy = accuracy_score(y_test, simple_pred)\n",
        "\n",
        "# Модель с балансировкой (используем только TF-IDF)\n",
        "balanced_rf = RandomForestClassifier(class_weight='balanced', random_state=42)\n",
        "balanced_rf.fit(X_train_tfidf, y_train)\n",
        "balanced_pred = balanced_rf.predict(X_test_tfidf)\n",
        "balanced_accuracy = accuracy_score(y_test, balanced_pred)\n",
        "\n",
        "# Логистическая регрессия с балансировкой (используем комбинированные данные)\n",
        "lr_balanced = LogisticRegression(\n",
        "    C=2.0,\n",
        "    class_weight='balanced',\n",
        "    max_iter=2000,\n",
        "    random_state=42\n",
        ")\n",
        "lr_balanced.fit(X_train_combined, y_train)\n",
        "lr_pred = lr_balanced.predict(X_test_combined)\n",
        "lr_accuracy = accuracy_score(y_test, lr_pred)\n",
        "\n",
        "# Сравнение всех моделей\n",
        "ensemble_accuracy = accuracy_score(y_test, y_pred)\n",
        "\n",
        "print(\"СРАВНЕНИЕ МОДЕЛЕЙ:\")\n",
        "print(\"=\" * 50)\n",
        "print(f\"1. Простая Random Forest: {simple_accuracy:.3f}\")\n",
        "print(f\"2. Random Forest с балансировкой: {balanced_accuracy:.3f}\")\n",
        "print(f\"3. Logistic Regression с балансировкой: {lr_accuracy:.3f}\")\n",
        "print(f\"4. Ансамбль моделей: {ensemble_accuracy:.3f}\")\n",
        "\n",
        "# Определяем лучшую модель\n",
        "accuracies = [simple_accuracy, balanced_accuracy, lr_accuracy, ensemble_accuracy]\n",
        "model_names = ['Простая RF', 'RF с балансировкой', 'LR с балансировкой', 'Ансамбль']\n",
        "\n",
        "best_idx = np.argmax(accuracies)\n",
        "best_model = model_names[best_idx]\n",
        "best_accuracy = accuracies[best_idx]\n",
        "\n",
        "print(f\"\\nЛУЧШАЯ МОДЕЛЬ: {best_model}\")\n",
        "print(f\"Точность: {best_accuracy:.3f}\")\n",
        "print(f\"Улучшение: +{(best_accuracy - simple_accuracy)*100:.1f} п.п.\")\n",
        "\n"
      ]
    }
  ],
  "metadata": {
    "colab": {
      "provenance": []
    },
    "language_info": {
      "name": "python"
    },
    "kernelspec": {
      "name": "python3",
      "display_name": "Python 3"
    }
  },
  "nbformat": 4,
  "nbformat_minor": 5
}