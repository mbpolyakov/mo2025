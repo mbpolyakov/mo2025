{
  "cells": [
    {
      "cell_type": "markdown",
      "id": "8cf68337",
      "metadata": {
        "id": "8cf68337"
      },
      "source": [
        "## Задание 1.\n",
        "\n",
        "Прочитать данные\n",
        "`https://raw.githubusercontent.com/yakushinav/omo/main/data/movies.csv`\n",
        "\n",
        "Имена столбцов\n",
        "```\n",
        "['color', 'director_name', 'num_critic_for_reviews', 'duration',\n",
        "                'gross', 'movie_title', 'num_user_for_reviews', 'country',\n",
        "                'cotent_rating', 'budget', 'title_year', 'imdb_score', 'genre']\n",
        "```"
      ]
    },
    {
      "cell_type": "code",
      "execution_count": 8,
      "id": "3df68271",
      "metadata": {
        "colab": {
          "base_uri": "https://localhost:8080/"
        },
        "id": "3df68271",
        "outputId": "27f4301a-bbbb-412e-d000-679691cf0cae"
      },
      "outputs": [
        {
          "output_type": "stream",
          "name": "stdout",
          "text": [
            "                                               color director_name  \\\n",
            "0  Color|James Cameron|723.0|178.0|760505847.0|Av...           000   \n",
            "1  Color|Gore Verbinski|302.0|169.0|309404152.0|P...           000   \n",
            "2  Color|Sam Mendes|602.0|148.0|200074175.0|Spect...           000   \n",
            "3  Color|Christopher Nolan|813.0|164.0|448130642....           000   \n",
            "4  ?|Doug Walker|?|?|?|Star Wars: Episode VII - T...           NaN   \n",
            "\n",
            "    num_critic_for_reviews duration  gross  movie_title  num_user_for_reviews  \\\n",
            "0  000.0|2009.0|7.9|Action      NaN    NaN          NaN                   NaN   \n",
            "1  000.0|2007.0|7.1|Action      NaN    NaN          NaN                   NaN   \n",
            "2  000.0|2015.0|6.8|Action      NaN    NaN          NaN                   NaN   \n",
            "3  000.0|2012.0|8.5|Action      NaN    NaN          NaN                   NaN   \n",
            "4                      NaN      NaN    NaN          NaN                   NaN   \n",
            "\n",
            "   country  cotent_rating  budget  title_year  imdb_score  genre  \n",
            "0      NaN            NaN     NaN         NaN         NaN    NaN  \n",
            "1      NaN            NaN     NaN         NaN         NaN    NaN  \n",
            "2      NaN            NaN     NaN         NaN         NaN    NaN  \n",
            "3      NaN            NaN     NaN         NaN         NaN    NaN  \n",
            "4      NaN            NaN     NaN         NaN         NaN    NaN  \n"
          ]
        }
      ],
      "source": [
        "import pandas as pd\n",
        "\n",
        "url = 'https://raw.githubusercontent.com/yakushinav/omo/main/data/movies.csv'\n",
        "\n",
        "column_names = ['color', 'director_name', 'num_critic_for_reviews', 'duration',\n",
        "                'gross', 'movie_title', 'num_user_for_reviews', 'country',\n",
        "                'cotent_rating', 'budget', 'title_year', 'imdb_score', 'genre']\n",
        "\n",
        "df = pd.read_csv(url, header=None, names=column_names, encoding='utf-8')\n",
        "\n",
        "print(df.head())\n"
      ]
    },
    {
      "cell_type": "markdown",
      "id": "161f36f5",
      "metadata": {
        "id": "161f36f5"
      },
      "source": [
        "## Задание 2\n",
        "\n",
        "Прочитать данные `https://raw.githubusercontent.com/yakushinav/omo/main/data/playstore.xlsx`.\n",
        "\n",
        "Для столбца `Last_Updated` установить формат `дата_и_время`."
      ]
    },
    {
      "cell_type": "code",
      "execution_count": 9,
      "id": "c6e1d0b3",
      "metadata": {
        "colab": {
          "base_uri": "https://localhost:8080/"
        },
        "id": "c6e1d0b3",
        "outputId": "4995fe7f-9d12-4a2d-95e4-165fbb1a3ad0"
      },
      "outputs": [
        {
          "output_type": "stream",
          "name": "stdout",
          "text": [
            "   Unnamed: 0                                                App  \\\n",
            "0           0     Photo Editor & Candy Camera & Grid & ScrapBook   \n",
            "1           1                                Coloring book moana   \n",
            "2           2  U Launcher Lite – FREE Live Cool Themes, Hide ...   \n",
            "3           3                              Sketch - Draw & Paint   \n",
            "4           4              Pixel Draw - Number Art Coloring Book   \n",
            "\n",
            "         Category  Rating     Installs  Type Price  Content_ID  \\\n",
            "0  ART_AND_DESIGN     4.1      10,000+  Free     0         101   \n",
            "1  ART_AND_DESIGN     3.9     500,000+  Free     0         101   \n",
            "2  ART_AND_DESIGN     4.7   5,000,000+  Free     0         101   \n",
            "3  ART_AND_DESIGN     4.5  50,000,000+  Free     0         102   \n",
            "4  ART_AND_DESIGN     4.3     100,000+  Free     0         101   \n",
            "\n",
            "                      Genres Last_Updated  \n",
            "0               Art & Design   2018-01-07  \n",
            "1  Art & Design;Pretend Play   2018-01-15  \n",
            "2               Art & Design   2018-08-01  \n",
            "3               Art & Design   2018-06-08  \n",
            "4    Art & Design;Creativity   2018-06-20  \n",
            "datetime64[ns]\n"
          ]
        }
      ],
      "source": [
        "import pandas as pd\n",
        "\n",
        "url = 'https://raw.githubusercontent.com/yakushinav/omo/main/data/playstore.xlsx'\n",
        "\n",
        "df = pd.read_excel(url)\n",
        "\n",
        "df['Last_Updated'] = pd.to_datetime(df['Last_Updated'])\n",
        "\n",
        "print(df.head())\n",
        "print(df['Last_Updated'].dtype)\n"
      ]
    },
    {
      "cell_type": "markdown",
      "id": "7fd01ac2",
      "metadata": {
        "id": "7fd01ac2"
      },
      "source": [
        "## Задание 3\n",
        "\n",
        "Прочитать данные `https://raw.githubusercontent.com/yakushinav/omo/main/data/artists.json`.\n",
        "\n",
        "Выполнить сохранение в формат CSV. Прочитать полученный файл. Сравнить с исходным.\n"
      ]
    },
    {
      "cell_type": "code",
      "execution_count": 10,
      "id": "f47b3c1c",
      "metadata": {
        "colab": {
          "base_uri": "https://localhost:8080/"
        },
        "id": "f47b3c1c",
        "outputId": "7741316b-91de-4d3e-b760-7a1b331e8052"
      },
      "outputs": [
        {
          "output_type": "stream",
          "name": "stdout",
          "text": [
            "DataFrames are equal: False\n",
            "DataFrame from JSON:\n",
            "                 name        years                         genre nationality  \\\n",
            "0   Amedeo Modigliani  1884 - 1920                 Expressionism     Italian   \n",
            "1  Vasiliy Kandinskiy  1866 - 1944  Expressionism,Abstractionism     Russian   \n",
            "2        Diego Rivera  1886 - 1957       Social Realism,Muralism     Mexican   \n",
            "3        Claude Monet  1840 - 1926                 Impressionism      French   \n",
            "4       Rene Magritte  1898 - 1967      Surrealism,Impressionism     Belgian   \n",
            "\n",
            "                                                 bio  \n",
            "0  [{'full name': 'Amedeo Clemente Modigliani', '...  \n",
            "1  [{'full name': 'Wassily Wassilyevich Kandinsky...  \n",
            "2  [{'full name': 'Diego María de la Concepción J...  \n",
            "3  [{'full name': 'Oscar-Claude Monet', 'pronunci...  \n",
            "4  [{'full name': 'René François Ghislain Magritt...  \n",
            "DataFrame from CSV:\n",
            "                 name        years                         genre nationality  \\\n",
            "0   Amedeo Modigliani  1884 - 1920                 Expressionism     Italian   \n",
            "1  Vasiliy Kandinskiy  1866 - 1944  Expressionism,Abstractionism     Russian   \n",
            "2        Diego Rivera  1886 - 1957       Social Realism,Muralism     Mexican   \n",
            "3        Claude Monet  1840 - 1926                 Impressionism      French   \n",
            "4       Rene Magritte  1898 - 1967      Surrealism,Impressionism     Belgian   \n",
            "\n",
            "                                                 bio  \n",
            "0  [{'full name': 'Amedeo Clemente Modigliani', '...  \n",
            "1  [{'full name': 'Wassily Wassilyevich Kandinsky...  \n",
            "2  [{'full name': 'Diego María de la Concepción J...  \n",
            "3  [{'full name': 'Oscar-Claude Monet', 'pronunci...  \n",
            "4  [{'full name': 'René François Ghislain Magritt...  \n"
          ]
        }
      ],
      "source": [
        "import pandas as pd\n",
        "\n",
        "url = 'https://raw.githubusercontent.com/yakushinav/omo/main/data/artists.json'\n",
        "\n",
        "df = pd.read_json(url)\n",
        "\n",
        "csv_file = 'artists.csv'\n",
        "df.to_csv(csv_file, index=False)\n",
        "\n",
        "df_csv = pd.read_csv(csv_file)\n",
        "\n",
        "comparison = df.equals(df_csv)\n",
        "\n",
        "print(f\"DataFrames are equal: {comparison}\")\n",
        "\n",
        "print(\"DataFrame from JSON:\")\n",
        "print(df.head())\n",
        "print(\"DataFrame from CSV:\")\n",
        "print(df_csv.head())\n"
      ]
    }
  ],
  "metadata": {
    "kernelspec": {
      "display_name": "Python 3 (ipykernel)",
      "language": "python",
      "name": "python3"
    },
    "language_info": {
      "codemirror_mode": {
        "name": "ipython",
        "version": 3
      },
      "file_extension": ".py",
      "mimetype": "text/x-python",
      "name": "python",
      "nbconvert_exporter": "python",
      "pygments_lexer": "ipython3",
      "version": "3.9.13"
    },
    "colab": {
      "provenance": []
    }
  },
  "nbformat": 4,
  "nbformat_minor": 5
}