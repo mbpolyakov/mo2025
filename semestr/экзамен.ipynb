{
  "cells": [
    {
      "cell_type": "markdown",
      "id": "831ed9e5",
      "metadata": {
        "id": "831ed9e5"
      },
      "source": [
        "# Экзаменационное проектное задание\n",
        "\n",
        "## Шкала оценивания\n",
        "\n",
        "- **Оценка 3-4:** Нужно построить модель машинного обучения с классификатором по заданию\n",
        "\n",
        "- **Оценка 5:** Нужно применить 2 дополнительных классификатора, сравнить и сделать выводы какой лучше"
      ]
    },
    {
      "cell_type": "markdown",
      "id": "698b5b0e",
      "metadata": {
        "id": "698b5b0e"
      },
      "source": [
        "# Часть I. Подготовка набора данных: Отзывы о ресторанах"
      ]
    },
    {
      "cell_type": "markdown",
      "id": "fdc16b45",
      "metadata": {
        "id": "fdc16b45"
      },
      "source": [
        "## Задание\n",
        "\n",
        "Вам предлагается выполнить подготовку набора данных\n",
        "\n",
        "Описание набора данных: Отзывы пользователей о ресторанах. Целевая переменная - тональность отзыва\n",
        "\n",
        "Ссылка на набор данных для использования в блокноте: https://raw.githubusercontent.com/yakushinav/mo2025/refs/heads/main/data/rest01.csv"
      ]
    },
    {
      "cell_type": "markdown",
      "id": "4d0d8cb2",
      "metadata": {
        "id": "4d0d8cb2"
      },
      "source": [
        "#### 1. Подключение библиотек"
      ]
    },
    {
      "cell_type": "code",
      "execution_count": 1,
      "id": "ccb62996",
      "metadata": {
        "colab": {
          "base_uri": "https://localhost:8080/"
        },
        "id": "ccb62996",
        "outputId": "8d4643fe-34c1-45df-de05-3662566bc5a9"
      },
      "outputs": [
        {
          "output_type": "stream",
          "name": "stderr",
          "text": [
            "[nltk_data] Downloading package stopwords to /root/nltk_data...\n",
            "[nltk_data]   Unzipping corpora/stopwords.zip.\n",
            "[nltk_data] Downloading package punkt to /root/nltk_data...\n",
            "[nltk_data]   Unzipping tokenizers/punkt.zip.\n",
            "[nltk_data] Downloading package punkt_tab to /root/nltk_data...\n",
            "[nltk_data]   Unzipping tokenizers/punkt_tab.zip.\n"
          ]
        },
        {
          "output_type": "execute_result",
          "data": {
            "text/plain": [
              "True"
            ]
          },
          "metadata": {},
          "execution_count": 1
        }
      ],
      "source": [
        "import pandas as pd\n",
        "import numpy as np\n",
        "import re\n",
        "import nltk\n",
        "from nltk.corpus import stopwords\n",
        "from nltk.tokenize import word_tokenize\n",
        "from pymystem3 import Mystem\n",
        "from sklearn.model_selection import train_test_split\n",
        "from sklearn.feature_extraction.text import TfidfVectorizer\n",
        "from sklearn.ensemble import RandomForestClassifier\n",
        "from sklearn.linear_model import LogisticRegression\n",
        "from sklearn.naive_bayes import MultinomialNB\n",
        "from sklearn.metrics import classification_report, accuracy_score\n",
        "from sklearn.utils import resample\n",
        "\n",
        "nltk.download('stopwords')\n",
        "nltk.download('punkt')\n",
        "nltk.download('punkt_tab')\n"
      ]
    },
    {
      "cell_type": "markdown",
      "id": "cd30016a",
      "metadata": {
        "id": "cd30016a"
      },
      "source": [
        "#### 2. Чтение набора данных"
      ]
    },
    {
      "cell_type": "code",
      "execution_count": 2,
      "id": "224422ac",
      "metadata": {
        "id": "224422ac"
      },
      "outputs": [],
      "source": [
        "url = \"https://raw.githubusercontent.com/yakushinav/mo2025/refs/heads/main/data/rest01.csv\"\n",
        "df = pd.read_csv(url)\n"
      ]
    },
    {
      "cell_type": "markdown",
      "id": "dc566934",
      "metadata": {
        "id": "dc566934"
      },
      "source": [
        "#### 3. Первые 7 строк набора данных"
      ]
    },
    {
      "cell_type": "code",
      "execution_count": 3,
      "id": "cefd0320",
      "metadata": {
        "colab": {
          "base_uri": "https://localhost:8080/",
          "height": 282
        },
        "id": "cefd0320",
        "outputId": "693bd68f-6f6d-4240-fda7-eca91dadda7f"
      },
      "outputs": [
        {
          "output_type": "execute_result",
          "data": {
            "text/plain": [
              "   Unnamed: 0                        rest  \\\n",
              "0           0      13 маршрут Retro-Blues   \n",
              "1           1               Веселый барин   \n",
              "2           2                  Моб Джойнт   \n",
              "3           3                     Крапива   \n",
              "4           4  Советское кафе \"Квартирка\"   \n",
              "5           5                       Дитай   \n",
              "6           6                     ПАБ № 1   \n",
              "\n",
              "                                              review  feedback  \n",
              "0  День 8-го марта прошёл, можно и итоги подвести...  positive  \n",
              "1  Отмечали в этом ресторане день рождение на пер...  positive  \n",
              "2  Для встречи с друзьями было выбрано данное зав...   neutral  \n",
              "3  Хочу поделиться своим впечатлением от посещени...  negative  \n",
              "4  Добрый день! Были вчера с друзьями в этом кафе...  positive  \n",
              "5  Отметили с мужем годовщину свадьбы 6 ноября в ...   neutral  \n",
              "6  Впервые побывала в этом пабе совсем недавно и ...   neutral  "
            ],
            "text/html": [
              "\n",
              "  <div id=\"df-6dc150ae-9532-434a-8569-12a855f27a5d\" class=\"colab-df-container\">\n",
              "    <div>\n",
              "<style scoped>\n",
              "    .dataframe tbody tr th:only-of-type {\n",
              "        vertical-align: middle;\n",
              "    }\n",
              "\n",
              "    .dataframe tbody tr th {\n",
              "        vertical-align: top;\n",
              "    }\n",
              "\n",
              "    .dataframe thead th {\n",
              "        text-align: right;\n",
              "    }\n",
              "</style>\n",
              "<table border=\"1\" class=\"dataframe\">\n",
              "  <thead>\n",
              "    <tr style=\"text-align: right;\">\n",
              "      <th></th>\n",
              "      <th>Unnamed: 0</th>\n",
              "      <th>rest</th>\n",
              "      <th>review</th>\n",
              "      <th>feedback</th>\n",
              "    </tr>\n",
              "  </thead>\n",
              "  <tbody>\n",
              "    <tr>\n",
              "      <th>0</th>\n",
              "      <td>0</td>\n",
              "      <td>13 маршрут Retro-Blues</td>\n",
              "      <td>День 8-го марта прошёл, можно и итоги подвести...</td>\n",
              "      <td>positive</td>\n",
              "    </tr>\n",
              "    <tr>\n",
              "      <th>1</th>\n",
              "      <td>1</td>\n",
              "      <td>Веселый барин</td>\n",
              "      <td>Отмечали в этом ресторане день рождение на пер...</td>\n",
              "      <td>positive</td>\n",
              "    </tr>\n",
              "    <tr>\n",
              "      <th>2</th>\n",
              "      <td>2</td>\n",
              "      <td>Моб Джойнт</td>\n",
              "      <td>Для встречи с друзьями было выбрано данное зав...</td>\n",
              "      <td>neutral</td>\n",
              "    </tr>\n",
              "    <tr>\n",
              "      <th>3</th>\n",
              "      <td>3</td>\n",
              "      <td>Крапива</td>\n",
              "      <td>Хочу поделиться своим впечатлением от посещени...</td>\n",
              "      <td>negative</td>\n",
              "    </tr>\n",
              "    <tr>\n",
              "      <th>4</th>\n",
              "      <td>4</td>\n",
              "      <td>Советское кафе \"Квартирка\"</td>\n",
              "      <td>Добрый день! Были вчера с друзьями в этом кафе...</td>\n",
              "      <td>positive</td>\n",
              "    </tr>\n",
              "    <tr>\n",
              "      <th>5</th>\n",
              "      <td>5</td>\n",
              "      <td>Дитай</td>\n",
              "      <td>Отметили с мужем годовщину свадьбы 6 ноября в ...</td>\n",
              "      <td>neutral</td>\n",
              "    </tr>\n",
              "    <tr>\n",
              "      <th>6</th>\n",
              "      <td>6</td>\n",
              "      <td>ПАБ № 1</td>\n",
              "      <td>Впервые побывала в этом пабе совсем недавно и ...</td>\n",
              "      <td>neutral</td>\n",
              "    </tr>\n",
              "  </tbody>\n",
              "</table>\n",
              "</div>\n",
              "    <div class=\"colab-df-buttons\">\n",
              "\n",
              "  <div class=\"colab-df-container\">\n",
              "    <button class=\"colab-df-convert\" onclick=\"convertToInteractive('df-6dc150ae-9532-434a-8569-12a855f27a5d')\"\n",
              "            title=\"Convert this dataframe to an interactive table.\"\n",
              "            style=\"display:none;\">\n",
              "\n",
              "  <svg xmlns=\"http://www.w3.org/2000/svg\" height=\"24px\" viewBox=\"0 -960 960 960\">\n",
              "    <path d=\"M120-120v-720h720v720H120Zm60-500h600v-160H180v160Zm220 220h160v-160H400v160Zm0 220h160v-160H400v160ZM180-400h160v-160H180v160Zm440 0h160v-160H620v160ZM180-180h160v-160H180v160Zm440 0h160v-160H620v160Z\"/>\n",
              "  </svg>\n",
              "    </button>\n",
              "\n",
              "  <style>\n",
              "    .colab-df-container {\n",
              "      display:flex;\n",
              "      gap: 12px;\n",
              "    }\n",
              "\n",
              "    .colab-df-convert {\n",
              "      background-color: #E8F0FE;\n",
              "      border: none;\n",
              "      border-radius: 50%;\n",
              "      cursor: pointer;\n",
              "      display: none;\n",
              "      fill: #1967D2;\n",
              "      height: 32px;\n",
              "      padding: 0 0 0 0;\n",
              "      width: 32px;\n",
              "    }\n",
              "\n",
              "    .colab-df-convert:hover {\n",
              "      background-color: #E2EBFA;\n",
              "      box-shadow: 0px 1px 2px rgba(60, 64, 67, 0.3), 0px 1px 3px 1px rgba(60, 64, 67, 0.15);\n",
              "      fill: #174EA6;\n",
              "    }\n",
              "\n",
              "    .colab-df-buttons div {\n",
              "      margin-bottom: 4px;\n",
              "    }\n",
              "\n",
              "    [theme=dark] .colab-df-convert {\n",
              "      background-color: #3B4455;\n",
              "      fill: #D2E3FC;\n",
              "    }\n",
              "\n",
              "    [theme=dark] .colab-df-convert:hover {\n",
              "      background-color: #434B5C;\n",
              "      box-shadow: 0px 1px 3px 1px rgba(0, 0, 0, 0.15);\n",
              "      filter: drop-shadow(0px 1px 2px rgba(0, 0, 0, 0.3));\n",
              "      fill: #FFFFFF;\n",
              "    }\n",
              "  </style>\n",
              "\n",
              "    <script>\n",
              "      const buttonEl =\n",
              "        document.querySelector('#df-6dc150ae-9532-434a-8569-12a855f27a5d button.colab-df-convert');\n",
              "      buttonEl.style.display =\n",
              "        google.colab.kernel.accessAllowed ? 'block' : 'none';\n",
              "\n",
              "      async function convertToInteractive(key) {\n",
              "        const element = document.querySelector('#df-6dc150ae-9532-434a-8569-12a855f27a5d');\n",
              "        const dataTable =\n",
              "          await google.colab.kernel.invokeFunction('convertToInteractive',\n",
              "                                                    [key], {});\n",
              "        if (!dataTable) return;\n",
              "\n",
              "        const docLinkHtml = 'Like what you see? Visit the ' +\n",
              "          '<a target=\"_blank\" href=https://colab.research.google.com/notebooks/data_table.ipynb>data table notebook</a>'\n",
              "          + ' to learn more about interactive tables.';\n",
              "        element.innerHTML = '';\n",
              "        dataTable['output_type'] = 'display_data';\n",
              "        await google.colab.output.renderOutput(dataTable, element);\n",
              "        const docLink = document.createElement('div');\n",
              "        docLink.innerHTML = docLinkHtml;\n",
              "        element.appendChild(docLink);\n",
              "      }\n",
              "    </script>\n",
              "  </div>\n",
              "\n",
              "\n",
              "    <div id=\"df-3ff056f4-4479-465d-bfd0-b33a34a1715d\">\n",
              "      <button class=\"colab-df-quickchart\" onclick=\"quickchart('df-3ff056f4-4479-465d-bfd0-b33a34a1715d')\"\n",
              "                title=\"Suggest charts\"\n",
              "                style=\"display:none;\">\n",
              "\n",
              "<svg xmlns=\"http://www.w3.org/2000/svg\" height=\"24px\"viewBox=\"0 0 24 24\"\n",
              "     width=\"24px\">\n",
              "    <g>\n",
              "        <path d=\"M19 3H5c-1.1 0-2 .9-2 2v14c0 1.1.9 2 2 2h14c1.1 0 2-.9 2-2V5c0-1.1-.9-2-2-2zM9 17H7v-7h2v7zm4 0h-2V7h2v10zm4 0h-2v-4h2v4z\"/>\n",
              "    </g>\n",
              "</svg>\n",
              "      </button>\n",
              "\n",
              "<style>\n",
              "  .colab-df-quickchart {\n",
              "      --bg-color: #E8F0FE;\n",
              "      --fill-color: #1967D2;\n",
              "      --hover-bg-color: #E2EBFA;\n",
              "      --hover-fill-color: #174EA6;\n",
              "      --disabled-fill-color: #AAA;\n",
              "      --disabled-bg-color: #DDD;\n",
              "  }\n",
              "\n",
              "  [theme=dark] .colab-df-quickchart {\n",
              "      --bg-color: #3B4455;\n",
              "      --fill-color: #D2E3FC;\n",
              "      --hover-bg-color: #434B5C;\n",
              "      --hover-fill-color: #FFFFFF;\n",
              "      --disabled-bg-color: #3B4455;\n",
              "      --disabled-fill-color: #666;\n",
              "  }\n",
              "\n",
              "  .colab-df-quickchart {\n",
              "    background-color: var(--bg-color);\n",
              "    border: none;\n",
              "    border-radius: 50%;\n",
              "    cursor: pointer;\n",
              "    display: none;\n",
              "    fill: var(--fill-color);\n",
              "    height: 32px;\n",
              "    padding: 0;\n",
              "    width: 32px;\n",
              "  }\n",
              "\n",
              "  .colab-df-quickchart:hover {\n",
              "    background-color: var(--hover-bg-color);\n",
              "    box-shadow: 0 1px 2px rgba(60, 64, 67, 0.3), 0 1px 3px 1px rgba(60, 64, 67, 0.15);\n",
              "    fill: var(--button-hover-fill-color);\n",
              "  }\n",
              "\n",
              "  .colab-df-quickchart-complete:disabled,\n",
              "  .colab-df-quickchart-complete:disabled:hover {\n",
              "    background-color: var(--disabled-bg-color);\n",
              "    fill: var(--disabled-fill-color);\n",
              "    box-shadow: none;\n",
              "  }\n",
              "\n",
              "  .colab-df-spinner {\n",
              "    border: 2px solid var(--fill-color);\n",
              "    border-color: transparent;\n",
              "    border-bottom-color: var(--fill-color);\n",
              "    animation:\n",
              "      spin 1s steps(1) infinite;\n",
              "  }\n",
              "\n",
              "  @keyframes spin {\n",
              "    0% {\n",
              "      border-color: transparent;\n",
              "      border-bottom-color: var(--fill-color);\n",
              "      border-left-color: var(--fill-color);\n",
              "    }\n",
              "    20% {\n",
              "      border-color: transparent;\n",
              "      border-left-color: var(--fill-color);\n",
              "      border-top-color: var(--fill-color);\n",
              "    }\n",
              "    30% {\n",
              "      border-color: transparent;\n",
              "      border-left-color: var(--fill-color);\n",
              "      border-top-color: var(--fill-color);\n",
              "      border-right-color: var(--fill-color);\n",
              "    }\n",
              "    40% {\n",
              "      border-color: transparent;\n",
              "      border-right-color: var(--fill-color);\n",
              "      border-top-color: var(--fill-color);\n",
              "    }\n",
              "    60% {\n",
              "      border-color: transparent;\n",
              "      border-right-color: var(--fill-color);\n",
              "    }\n",
              "    80% {\n",
              "      border-color: transparent;\n",
              "      border-right-color: var(--fill-color);\n",
              "      border-bottom-color: var(--fill-color);\n",
              "    }\n",
              "    90% {\n",
              "      border-color: transparent;\n",
              "      border-bottom-color: var(--fill-color);\n",
              "    }\n",
              "  }\n",
              "</style>\n",
              "\n",
              "      <script>\n",
              "        async function quickchart(key) {\n",
              "          const quickchartButtonEl =\n",
              "            document.querySelector('#' + key + ' button');\n",
              "          quickchartButtonEl.disabled = true;  // To prevent multiple clicks.\n",
              "          quickchartButtonEl.classList.add('colab-df-spinner');\n",
              "          try {\n",
              "            const charts = await google.colab.kernel.invokeFunction(\n",
              "                'suggestCharts', [key], {});\n",
              "          } catch (error) {\n",
              "            console.error('Error during call to suggestCharts:', error);\n",
              "          }\n",
              "          quickchartButtonEl.classList.remove('colab-df-spinner');\n",
              "          quickchartButtonEl.classList.add('colab-df-quickchart-complete');\n",
              "        }\n",
              "        (() => {\n",
              "          let quickchartButtonEl =\n",
              "            document.querySelector('#df-3ff056f4-4479-465d-bfd0-b33a34a1715d button');\n",
              "          quickchartButtonEl.style.display =\n",
              "            google.colab.kernel.accessAllowed ? 'block' : 'none';\n",
              "        })();\n",
              "      </script>\n",
              "    </div>\n",
              "    </div>\n",
              "  </div>\n"
            ],
            "application/vnd.google.colaboratory.intrinsic+json": {
              "type": "dataframe",
              "variable_name": "df",
              "summary": "{\n  \"name\": \"df\",\n  \"rows\": 404,\n  \"fields\": [\n    {\n      \"column\": \"Unnamed: 0\",\n      \"properties\": {\n        \"dtype\": \"number\",\n        \"std\": 116,\n        \"min\": 0,\n        \"max\": 403,\n        \"num_unique_values\": 404,\n        \"samples\": [\n          70,\n          218,\n          384\n        ],\n        \"semantic_type\": \"\",\n        \"description\": \"\"\n      }\n    },\n    {\n      \"column\": \"rest\",\n      \"properties\": {\n        \"dtype\": \"string\",\n        \"num_unique_values\": 315,\n        \"samples\": [\n          \"La strada\",\n          \"Repin Lounge Restaurant & Bar\",\n          \"\\u0422\\u0435\\u0440\\u0440\\u0430\\u0441\\u0430\"\n        ],\n        \"semantic_type\": \"\",\n        \"description\": \"\"\n      }\n    },\n    {\n      \"column\": \"review\",\n      \"properties\": {\n        \"dtype\": \"string\",\n        \"num_unique_values\": 404,\n        \"samples\": [\n          \"\\u041a\\u0440\\u0430\\u0441\\u0438\\u0432\\u043e. \\u0412\\u043a\\u0443\\u0441\\u043d\\u043e. \\u041e\\u0431\\u0441\\u043b\\u0443\\u0436\\u0438\\u0432\\u0430\\u043d\\u0438\\u0435 \\\"\\u043d\\u0430 \\u0443\\u0440\\u043e\\u0432\\u043d\\u0435\\\". \\u0412\\u043e\\u0442 \\u043d\\u0430 \\u044d\\u0442\\u043e\\u0442 \\\"\\u0443\\u0440\\u043e\\u0432\\u0435\\u043d\\u044c\\\" \\u043e\\u043d\\u043e \\u0438 \\u043e\\u0440\\u0438\\u0435\\u043d\\u0442\\u0438\\u0440\\u043e\\u0432\\u0430\\u043d\\u043d\\u043e, \\u043d\\u0435 \\u043d\\u0430 \\u043a\\u043b\\u0438\\u0435\\u043d\\u0442\\u0430 )) \\u041f\\u0440\\u0438\\u0435\\u0445\\u0430\\u043b\\u0438 \\u0432 23, \\u0432 \\u0431\\u0443\\u0434\\u043d\\u0438\\u0439 \\u0434\\u0435\\u043d\\u044c, \\u0432\\u0434\\u0432\\u043e\\u0435\\u043c \\u043f\\u043e\\u043a\\u0443\\u0448\\u0430\\u0442\\u044c. \\u0420\\u0435\\u0441\\u0442\\u043e\\u0440\\u0430\\u043d \\u0441\\u043e\\u0437\\u0434\\u0430\\u0432\\u0430\\u043b \\u0432\\u043f\\u0435\\u0447\\u0430\\u0442\\u043b\\u0435\\u043d\\u0438\\u0435 \\u043f\\u0443\\u0441\\u0442\\u043e\\u0433\\u043e, \\u0442\\u043e\\u043b\\u044c\\u043a\\u043e \\u043f\\u0440\\u0438\\u0433\\u043b\\u044f\\u0434\\u0435\\u0432\\u0448\\u0438\\u0441\\u044c \\u043c\\u043e\\u0436\\u043d\\u043e \\u0431\\u044b\\u043b\\u043e \\u0443\\u0432\\u0438\\u0434\\u0435\\u0442\\u044c \\u043f\\u043e\\u0441\\u0435\\u0442\\u0438\\u0442\\u0435\\u043b\\u0435\\u0439. \\u041e\\u0431\\u0441\\u043b\\u0443\\u0436\\u0438\\u0432\\u0430\\u044e\\u0449\\u0435\\u0433\\u043e \\u043f\\u0435\\u0440\\u0441\\u043e\\u043d\\u0430\\u043b\\u0430 \\u0431\\u044b\\u043b\\u043e \\u044f\\u0432\\u043d\\u043e \\u0431\\u043e\\u043b\\u044c\\u0448\\u0435, \\u0447\\u0435\\u043c \\u0433\\u043e\\u0441\\u0442\\u0435\\u0439. \\u041f\\u043e\\u0434\\u043d\\u044f\\u043b\\u0438\\u0441\\u044c \\u043d\\u0430 \\u0432\\u0442\\u043e\\u0440\\u043e\\u0439 \\u044d\\u0442\\u0430\\u0436, \\u0432\\u0441\\u0442\\u0440\\u0435\\u0442\\u0438\\u043b\\u0430 \\u043d\\u0430\\u0441 \\u0434\\u0435\\u0432\\u0443\\u0448\\u043a\\u0430, \\u043f\\u0440\\u0435\\u0434\\u043b\\u043e\\u0436\\u0438\\u043b\\u0430 \\u043f\\u0430\\u0440\\u0443 \\u043c\\u0430\\u043b\\u0435\\u043d\\u044c\\u043a\\u0438\\u0445 \\u0441\\u0442\\u043e\\u043b\\u0438\\u043a\\u043e\\u0432. \\u041c\\u044b \\u0437\\u0430\\u0445\\u043e\\u0442\\u0435\\u043b\\u0438 \\u0441\\u0435\\u0441\\u0442\\u044c \\u0437\\u0430 \\u0431\\u043e\\u043b\\u044c\\u0448\\u043e\\u0439 \\u0441\\u0442\\u043e\\u043b, \\u0441 \\u0434\\u0438\\u0432\\u0430\\u043d\\u0430\\u043c\\u0438. \\u041d\\u0443 \\u0443\\u0436 \\u043e\\u0447\\u0435\\u043d\\u044c \\u0445\\u043e\\u0442\\u0435\\u043b\\u043e\\u0441\\u044c \\u043d\\u0430 \\u0434\\u0438\\u0432\\u0430\\u043d)) \\u0414\\u0435\\u0432\\u0443\\u0448\\u043a\\u0430 \\u043a\\u0430\\u0442\\u0435\\u0433\\u043e\\u0440\\u0438\\u0447\\u043d\\u043e \\u0441\\u043a\\u0430\\u0437\\u0430\\u043b\\u0430: \\\"\\u043d\\u0435\\u0442, \\u0431\\u043e\\u043b\\u044c\\u0448\\u0438\\u0435 \\u0441\\u0442\\u043e\\u043b\\u044b - \\u0434\\u043b\\u044f \\u0431\\u043e\\u043b\\u044c\\u0448\\u0438\\u0445 \\u043a\\u043e\\u043c\\u043f\\u0430\\u043d\\u0438\\u0439, \\u0438 \\u043e\\u0434\\u0438\\u043d \\u0438\\u0437 \\u043d\\u0438\\u0445 \\u0437\\u0430\\u0440\\u0435\\u0437\\u0435\\u0440\\u0432\\u0438\\u0440\\u043e\\u0432\\u0430\\u043d\\\". \\u0421\\u043c\\u0435\\u0448\\u043d\\u043e, \\u043e\\u0434\\u0438\\u043d \\u0437\\u0430\\u043d\\u044f\\u0442, \\u043e\\u0434\\u0438\\u043d \\u0437\\u0430\\u0440\\u0435\\u0437\\u0435\\u0440\\u0432\\u0438\\u0440\\u043e\\u0432\\u0430\\u043d, \\u0438 \\u0435\\u0449\\u0435 \\u043d\\u0435\\u0441\\u043a\\u043e\\u043b\\u044c\\u043a\\u043e \\u043f\\u0443\\u0441\\u0442\\u0443\\u044e\\u0442, \\u043d\\u043e \\u043c\\u044b \\u043d\\u0435 \\u043c\\u043e\\u0436\\u0435\\u043c \\u0441\\u0435\\u0441\\u0442\\u044c \\u0433\\u0434\\u0435 \\u043d\\u0440\\u0430\\u0432\\u0438\\u0442\\u0441\\u044f, \\u0442.\\u043a. \\u043d\\u0430\\u0441 \\u0442\\u043e\\u043b\\u044c\\u043a\\u043e \\u0434\\u0432\\u043e\\u0435. \\u041d\\u0443 \\u0432\\u0434\\u0440\\u0443\\u0433, \\u0432 \\u044d\\u0442\\u043e\\u043c \\u0440\\u0435\\u0441\\u0442\\u043e\\u0440\\u0430\\u043d\\u0435 \\u0430\\u043d\\u0448\\u043b\\u0430\\u0433 \\u043d\\u0435\\u043e\\u0436\\u0438\\u0434\\u0430\\u043d\\u043d\\u043e \\u0441\\u043b\\u0443\\u0447\\u0430\\u0435\\u0442\\u0441\\u044f \\u0432 \\u043f\\u043e\\u043b\\u043d\\u043e\\u0447\\u044c, \\u043b\\u0430\\u0434\\u043d\\u043e \\u043d\\u0435 \\u0431\\u0443\\u0434\\u0435\\u043c \\u0437\\u0430\\u043d\\u0438\\u043c\\u0430\\u0442\\u044c \\u0441\\u043e\\u0431\\u043e\\u0439 \\u0442\\u0430\\u043a \\u043c\\u043d\\u043e\\u0433\\u043e \\u043c\\u0435\\u0441\\u0442\\u0430. \\u041a\\u043e\\u043d\\u0435\\u0447\\u043d\\u043e \\u0434\\u043e \\u0437\\u0430\\u043a\\u0440\\u044b\\u0442\\u0438\\u044f \\u0431\\u043e\\u043b\\u044c\\u0448\\u0435 \\u043d\\u0438\\u043a\\u0442\\u043e \\u043d\\u0435 \\u043f\\u043e\\u044f\\u0432\\u0438\\u043b\\u0441\\u044f. \\u041a\\u0443\\u0445\\u043d\\u044f, \\u0434\\u0435\\u0439\\u0441\\u0442\\u0432\\u0438\\u0442\\u0435\\u043b\\u044c\\u043d\\u043e \\u0445\\u043e\\u0440\\u043e\\u0448\\u0430. \\u041c\\u0443\\u0437\\u044b\\u043a\\u0430 \\u0442\\u043e\\u0436\\u0435.\",\n          \"\\u041d\\u0430\\u0447\\u0438\\u0442\\u0430\\u043b\\u0430\\u0441\\u044c \\u044f \\u0442\\u0443\\u0442 \\u043e\\u0442\\u0437\\u044b\\u0432\\u043e\\u0432 \\u043e \\u0434\\u0430\\u043d\\u043d\\u043e\\u043c \\u0440\\u0435\\u0441\\u0442\\u043e\\u0440\\u0430\\u043d\\u0435 \\u0438 \\u0432\\u0441\\u0435 \\u0436\\u0435 \\u0440\\u0435\\u0448\\u0438\\u043b\\u0430\\u0441\\u044c \\u043f\\u043e\\u0441\\u0435\\u0442\\u0438\\u0442\\u044c \\u0435\\u0433\\u043e.\\u041e\\u0436\\u0438\\u0434\\u0430\\u043b\\u0430 \\u0442\\u0438\\u0445\\u0438\\u0439 \\u0443\\u0436\\u0430\\u0441, \\u0430 \\u043f\\u043e\\u043b\\u0443\\u0447\\u0438\\u043b\\u043e\\u0441\\u044c \\u043d\\u0430\\u043e\\u0431\\u043e\\u0440\\u043e\\u0442,\\u0432\\u043e\\u0442 \\u0442\\u0435\\u043f\\u0435\\u0440\\u044c \\u043e\\u0442\\u0437\\u044b\\u0432\\u0430\\u043c \\u0434\\u043e\\u0432\\u0435\\u0440\\u044f\\u0442\\u044c \\u043d\\u0435 \\u0431\\u0443\\u0434\\u0443 ,\\u043b\\u0443\\u0447\\u0448\\u0435 \\u0441\\u0430\\u043c\\u043e\\u0439 \\u043f\\u0440\\u043e\\u0432\\u0435\\u0440\\u0438\\u0442\\u044c. \\u0417\\u0430\\u0448\\u043b\\u0430 \\u0441 \\u043f\\u043e\\u0434\\u0440\\u0443\\u0433\\u043e\\u0439 \\u0432 \\u0447\\u0435\\u0442\\u0432\\u0435\\u0440\\u0433 \\u0434\\u043d\\u0435\\u043c,\\u0440\\u0435\\u0448\\u0438\\u043b\\u0438 \\u043f\\u043e\\u043e\\u0431\\u0435\\u0434\\u0430\\u0442\\u044c. \\u041d\\u0430\\u0441 \\u0432\\u0441\\u0442\\u0440\\u0435\\u0442\\u0438\\u043b\\u0430 \\u043e\\u0447\\u0435\\u043d\\u044c \\u043c\\u0438\\u043b\\u0430\\u044f \\u0434\\u0435\\u0432\\u0443\\u0448\\u043a\\u0430 \\u043f\\u0440\\u043e\\u0432\\u043e\\u0434\\u0438\\u043b\\u0430 \\u0432 \\u0437\\u0430\\u043b \\u0434\\u043b\\u044f \\u043d\\u0435 \\u043a\\u0443\\u0440\\u044f\\u0449\\u0438\\u0445,\\u043d\\u0430\\u0440\\u043e\\u0434\\u0443 \\u0431\\u044b\\u043b\\u043e \\u0441\\u043a\\u0430\\u0436\\u0435\\u043c \\u043d\\u0435 \\u043c\\u0430\\u043b\\u043e,\\u043f\\u043e\\u0441\\u043b\\u0435 \\u043f\\u0440\\u043e\\u0447\\u0442\\u0435\\u043d\\u043d\\u044b\\u0445 \\u043e\\u0442\\u0437\\u044b\\u0432\\u043e\\u0432 \\u043e\\u0436\\u0438\\u0434\\u0430\\u043b\\u0430 ,\\u0447\\u0442\\u043e \\u0431\\u0443\\u0434\\u0443 \\u0441\\u0438\\u0434\\u0435\\u0442\\u044c \\u0432 \\u043f\\u0443\\u0441\\u0442\\u043e\\u043c \\u0437\\u0430\\u043b\\u0435 ,\\u043d\\u043e \\u043d\\u0435\\u0442, \\u0441\\u0432\\u043e\\u0431\\u043e\\u0434\\u043d\\u044b\\u0445 \\u0431\\u044b\\u043b\\u043e \\u0442\\u043e\\u043b\\u044c\\u043a\\u043e \\u0434\\u0432\\u0430 \\u0441\\u0442\\u043e\\u043b\\u0438\\u043a\\u0430 \\u0443 \\u043f\\u0440\\u043e\\u0445\\u043e\\u0434\\u0430,\\u0442\\u0430\\u043c \\u043c\\u044b \\u0438 \\u0441\\u0435\\u043b\\u0438.\\u0417\\u0430\\u043a\\u0430\\u0437\\u0430\\u043b\\u0430 \\u044f \\u0441\\u0430\\u043b\\u0430\\u0442,\\u0431\\u043e\\u043b\\u044c\\u0448\\u0443\\u044e \\u043f\\u043e\\u0440\\u0446\\u0438\\u044e,\\u043a\\u0430\\u043a \\u043d\\u0438 \\u0441\\u0442\\u0440\\u0430\\u043d\\u043d\\u043e \\u0435\\u0433\\u043e \\u043f\\u0440\\u0438\\u043d\\u0435\\u0441\\u043b\\u0438 \\u0432 \\u0431\\u043e\\u043b\\u044c\\u0448\\u043e\\u043c \\u043a\\u043e\\u043b\\u0438\\u0447\\u0435\\u0441\\u0442\\u0432\\u0435,\\u0438\\u0437 \\u0433\\u043e\\u0440\\u044f\\u0447\\u0435\\u0433\\u043e \\u0437\\u0430\\u043a\\u0430\\u0437\\u0430\\u043b\\u0430 \\u0441\\u0442\\u0435\\u0439\\u043a \\u0438\\u0437 \\u0442\\u0435\\u043b\\u044f\\u0442\\u0438\\u043d\\u044b,\\u043c\\u044f\\u0441\\u043e \\u0431\\u044b\\u043b\\u043e \\u043c\\u044f\\u0433\\u043a\\u0438\\u043c \\u0438 \\u0441\\u043e\\u0447\\u043d\\u044b\\u043c,\\u0438 \\u043a\\u043e\\u043d\\u0435\\u0447\\u043d\\u043e \\u0436\\u0435 \\u043c\\u043e\\u0435 \\u0441\\u0430\\u043c\\u043e\\u0435 \\u043b\\u044e\\u0431\\u0438\\u043c\\u043e\\u0435 \\u044d\\u0442\\u043e \\u0434\\u0435\\u0441\\u0435\\u0440\\u0442,\\u0437\\u0430\\u043a\\u0430\\u0437\\u0430\\u043b\\u0430 \\u0442\\u0438\\u0440\\u0430\\u043c\\u0438\\u0441\\u0443,\\u0438 \\u043f\\u0440\\u0430\\u0432\\u0438\\u043b\\u044c\\u043d\\u043e \\u0441\\u0434\\u0435\\u043b\\u0430\\u043b\\u0430,\\u043e\\u0447\\u0435\\u043d\\u044c \\u0432\\u043a\\u0443\\u0441\\u043d\\u044b\\u0439 \\u0434\\u0435\\u0441\\u0435\\u0440\\u0442.\\u0422\\u0435\\u043f\\u0435\\u0440\\u044c \\u0432\\u0441\\u0435\\u0433\\u0434\\u0430 \\u0431\\u0443\\u0434\\u0443 \\u0435\\u0433\\u043e \\u0443 \\u043d\\u0438\\u0445 \\u0435\\u0441\\u0442\\u044c .\\u041e\\u0431\\u0441\\u043b\\u0443\\u0436\\u0438\\u0432\\u0430\\u043d\\u0438\\u0435 \\u043c\\u043d\\u0435 \\u043f\\u043e\\u043d\\u0440\\u0430\\u0432\\u0438\\u043b\\u043e\\u0441\\u044c ,\\u0434\\u043e\\u0441\\u0442\\u0430\\u0442\\u043e\\u0447\\u043d\\u043e \\u0431\\u044b\\u0441\\u0442\\u0440\\u043e \\u0432\\u0441\\u0435 \\u043f\\u0440\\u0438\\u043d\\u0435\\u0441\\u043b\\u0438,\\u043d\\u0430 \\u0441\\u0442\\u043e\\u043b\\u0435 \\u0438\\u0441\\u043f\\u043e\\u043b\\u044c\\u0437\\u043e\\u0432\\u0430\\u043d\\u043d\\u044b\\u0435 \\u0442\\u0430\\u0440\\u0435\\u043b\\u043a\\u0438 \\u043d\\u0435 \\u0437\\u0430\\u0434\\u0435\\u0440\\u0436\\u0438\\u0432\\u0430\\u043b\\u0438\\u0441\\u044c ,\\u043e\\u0444\\u0438\\u0446\\u0438\\u0430\\u043d\\u0442\\u044b \\u0432\\u0441\\u0435\\u0445 \\u043e\\u043f\\u0435\\u0440\\u0430\\u0442\\u0438\\u0432\\u043d\\u043e \\u043e\\u0431\\u0441\\u043b\\u0443\\u0436\\u0438\\u0432\\u0430\\u043b\\u0438 ,\\u044f \\u0441\\u043f\\u0435\\u0446\\u0438\\u0430\\u043b\\u044c\\u043d\\u043e \\u0441\\u043b\\u0435\\u0434\\u0438\\u043b\\u0430 \\u0437\\u0430 \\u043d\\u0438\\u043c\\u0438 ))),\\u043f\\u0440\\u043e\\u0441\\u0442\\u043e \\u0445\\u043e\\u0442\\u0435\\u043b\\u043e\\u0441\\u044c \\u0441\\u0440\\u0430\\u0432\\u043d\\u0438\\u0442\\u044c \\u043e\\u0442\\u0437\\u044b\\u0432\\u044b \\u0441 \\u0440\\u0435\\u0430\\u043b\\u044c\\u043d\\u043e\\u0441\\u0442\\u044c\\u044e ,\\u043e\\u043a\\u0430\\u0437\\u0430\\u043b\\u043e\\u0441\\u044c \\u043e\\u0442\\u0437\\u044b\\u0432\\u044b \\u0431\\u044b\\u043b\\u0438 \\u043e\\u0448\\u0438\\u0431\\u043e\\u0447\\u043d\\u044b\\u043c\\u0438 ,\\u0445\\u043e\\u0442\\u044f \\u043c\\u043e\\u0436\\u0435\\u0442 \\u043c\\u043d\\u0435 \\u043f\\u0440\\u043e\\u0441\\u0442\\u043e \\u043f\\u043e\\u0432\\u0435\\u0437\\u043b\\u043e,\\u0438 \\u0432\\u0441\\u0435 \\u0436\\u0435 \\u044f \\u0442\\u0443\\u0434\\u0443 \\u0435\\u0449\\u0435 \\u043f\\u043e\\u0439\\u0434\\u0443.\\u0410 \\u043d\\u0430 \\u0441\\u0447\\u0435\\u0442 \\u0438\\u043d\\u0442\\u0435\\u0440\\u044c\\u0435\\u0440\\u0430 \\u0442\\u043e \\u043c\\u043d\\u0435 \\u043f\\u043e\\u043d\\u0440\\u0430\\u0432\\u0438\\u043b\\u0441\\u044f,\\u0441\\u043f\\u043e\\u043a\\u043e\\u0439\\u043d\\u044b\\u0439 \\u043d\\u0435\\u043f\\u0440\\u0438\\u043d\\u0443\\u0436\\u0434\\u0435\\u043d\\u043d\\u044b\\u0439,\\u0432\\u0441\\u0435 \\u0447\\u0438\\u0441\\u0442\\u0435\\u043d\\u044c\\u043a\\u043e \\u0438 \\u0430\\u043a\\u043a\\u0443\\u0440\\u0430\\u0442\\u043d\\u043e,\\u0431\\u0435\\u0437 \\u043f\\u0430\\u0444\\u043e\\u0441\\u0430.\",\n          \"\\u041f\\u0435\\u0440\\u0432\\u043e\\u0435 \\u0437\\u043d\\u0430\\u043a\\u043e\\u043c\\u0441\\u0442\\u0432\\u043e \\u043f\\u0440\\u043e\\u0438\\u0437\\u043e\\u0448\\u043b\\u043e \\u0441 \\u0434\\u0438\\u0440\\u0435\\u043a\\u0442\\u043e\\u0440\\u043e\\u043c \\u0434\\u0430\\u043d\\u043d\\u043e\\u0433\\u043e \\u0437\\u0430\\u0432\\u0435\\u0434\\u0435\\u043d\\u0438\\u044f (\\u043c\\u043e\\u0436\\u0435\\u0442 \\u044d\\u0442\\u0430 \\u043e\\u0434\\u043d\\u0430 \\u0438 \\u0442\\u0430 \\u0436\\u0435 \\u0434\\u0430\\u043c\\u0430, \\u0447\\u0442\\u043e \\u0438 \\u0432 \\u043f\\u0440\\u0435\\u0434. \\u043e\\u0442\\u0437\\u044b\\u0432\\u0435), \\u0441\\u043b\\u043e\\u0436\\u0438\\u043b\\u043e\\u0441\\u044c \\u0432\\u043f\\u0435\\u0447\\u0430\\u0442\\u043b\\u0435\\u043d\\u0438\\u0435, \\u0447\\u0442\\u043e \\u0437\\u0430\\u0438\\u043d\\u0442\\u0435\\u0440\\u0435\\u0441\\u043e\\u0432\\u0430\\u043d\\u043d\\u043e\\u0441\\u0442\\u0438 \\u0432 \\u0431\\u0430\\u043d\\u043a\\u0435\\u0442\\u0435 \\u043d\\u0435\\u0442 \\u0438 \\u0431\\u0443\\u0434\\u0442\\u043e \\u0432\\u0441\\u0451 \\u044d\\u0442\\u043e \\u043d\\u0443\\u0436\\u043d\\u043e \\u0442\\u043e\\u043b\\u044c\\u043a\\u043e \\u043d\\u0430\\u043c (\\u043e\\u0442 \\u0447\\u0435\\u0433\\u043e \\u043e\\u0441\\u0442\\u0430\\u043b\\u0441\\u044f \\u043d\\u0435\\u043f\\u0440\\u0438\\u044f\\u0442\\u043d\\u044b\\u0439 \\u043e\\u0441\\u0430\\u0434\\u043e\\u043a), \\u043d\\u043e \\u0432\\u0438\\u0434\\u044f \\u0440\\u0430\\u0431\\u043e\\u0442\\u0443 \\u043e\\u0444\\u0438\\u0446\\u0438\\u0430\\u043d\\u0442\\u043e\\u0432, \\u0430 \\u0442\\u0430\\u043a\\u0436\\u0435 \\u0432\\u043a\\u0443\\u0441\\u043d\\u043e \\u043f\\u043e\\u043e\\u0431\\u0435\\u0434\\u0430\\u0432, \\u0440\\u0435\\u0448\\u0438\\u043b\\u0438 \\u044d\\u0442\\u043e \\u043d\\u0435 \\u0433\\u043b\\u0430\\u0432\\u043d\\u043e\\u0435. \\u041d\\u0435 \\u043e\\u0431\\u0440\\u0430\\u0442\\u0438\\u043b\\u0438 \\u0432\\u043d\\u0438\\u043c\\u0430\\u0442\\u0435\\u043b\\u044c\\u043d\\u043e \\u043d\\u0430 \\u0442\\u043e\\u0442 \\u043c\\u043e\\u043c\\u0435\\u043d\\u0442, \\u0447\\u0442\\u043e \\u0440\\u0435\\u0441\\u0442\\u043e\\u0440\\u0430\\u043d \\u043d\\u0430\\u0445\\u043e\\u0434\\u0438\\u0442\\u0441\\u044f \\u0432 \\u0436\\u0438\\u043b\\u043e\\u043c \\u0434\\u043e\\u043c\\u0435 \\u0438 \\u0433\\u0440\\u043e\\u043c\\u043a\\u0443\\u044e \\u043c\\u0443\\u0437\\u044b\\u043a\\u0443 \\u043c\\u043e\\u0436\\u043d\\u043e \\u0442\\u043e\\u043b\\u044c\\u043a\\u043e \\u0434\\u043e 23.00., \\u043e\\u0442\\u0441\\u044e\\u0434\\u0430 \\u0442\\u0435\\u043c, \\u043a\\u0442\\u043e \\u0445\\u043e\\u0447\\u0435\\u0442 \\u043f\\u0440\\u0430\\u0437\\u0434\\u043d\\u043e\\u0432\\u0430\\u0442\\u044c \\u0441\\u0432\\u0430\\u0434\\u044c\\u0431\\u0443 \\u043d\\u0430\\u0434\\u043e \\u0443\\u0447\\u0438\\u0442\\u044b\\u0432\\u0430\\u0442\\u044c, \\u0447\\u0442\\u043e \\u0432 23 \\u043b\\u0438\\u0431\\u043e \\u0432\\u0441\\u0435 \\u0437\\u0430\\u043a\\u0430\\u043d\\u0447\\u0438\\u0432\\u0430\\u0435\\u0442\\u0441\\u044f, \\u043b\\u0438\\u0431\\u043e \\u043f\\u0440\\u043e\\u0434\\u043e\\u043b\\u0436\\u0430\\u0435\\u0442\\u0441\\u044f \\u0432 \\u0434\\u0440\\u0443\\u0433\\u043e\\u043c \\u043c\\u0435\\u0441\\u0442\\u0435, \\u0447\\u0442\\u043e \\u043e\\u0447\\u0435\\u043d\\u044c \\u0431\\u044b\\u043b\\u043e \\u0432 \\u043d\\u0430\\u0448\\u0435\\u043c \\u0441\\u043b\\u0443\\u0447\\u0430\\u0435 \\u043d\\u0435\\u0443\\u0434\\u043e\\u0431\\u043d\\u043e \\u0438 \\u0433\\u043e\\u0441\\u0442\\u0438 \\u0434\\u0435\\u0439\\u0441\\u0442\\u0432\\u0438\\u0442\\u0435\\u043b\\u044c\\u043d\\u043e \\u043d\\u0435 \\u0434\\u043e\\u0433\\u0443\\u043b\\u044f\\u043b\\u0438. \\u0427\\u0442\\u043e \\u043a\\u0430\\u0441\\u0430\\u0435\\u0442\\u0441\\u044f \\u0441\\u0430\\u043c\\u043e\\u0433\\u043e \\u0431\\u0430\\u043d\\u043a\\u0435\\u0442\\u0430, \\u0435\\u0434\\u044b \\u0437\\u0430 1620 \\u0440. \\u0434\\u043e\\u0441\\u0442\\u0430\\u0442\\u043e\\u0447\\u043d\\u043e, \\u043d\\u043e \\u0432\\u043a\\u0443\\u0441 \\u0443\\u0436\\u0430\\u0441\\u043d\\u044b\\u0439, \\u0442\\u043e\\u0442 \\u043e\\u0431\\u0435\\u0434 \\u043c\\u044b \\u0442\\u0435\\u043f\\u0435\\u0440\\u044c \\u0432\\u0441\\u043f\\u043e\\u043c\\u0438\\u043d\\u0430\\u0435\\u043c, \\u043a\\u0430\\u043a \\u043b\\u0443\\u0447\\u0448\\u0435\\u0435, \\u0447\\u0442\\u043e \\u0442\\u0430\\u043c \\u043f\\u0440\\u043e\\u0431\\u043e\\u0432\\u0430\\u043b\\u0438. \\u0421\\u0430\\u043b\\u0430\\u0442\\u044b \\u043d\\u0435\\u0432\\u043a\\u0443\\u0441\\u043d\\u044b\\u0435, \\u043a\\u0430\\u043a \\u0438 \\u0441\\u0430\\u043c\\u043e \\u0433\\u043e\\u0440\\u044f\\u0447\\u0435\\u0435, \\u043d\\u0430 \\u043a\\u043e\\u0442\\u043e\\u0440\\u043e\\u0435 \\u0431\\u044b\\u043b\\u0438 \\u0432\\u0441\\u0435 \\u043d\\u0430\\u0434\\u0435\\u0436\\u0434\\u044b, \\u0433\\u0430\\u0440\\u043d\\u0438\\u0440 \\u043d\\u0438\\u043a\\u0430\\u043a\\u043e\\u0439, \\u0440\\u044b\\u0431\\u0430 \\u0441\\u043a\\u0430\\u0437\\u0430\\u043b\\u0438, \\u043a\\u0430\\u043a \\u0432\\u0430\\u0440\\u0435\\u043d\\u0430\\u044f, \\u044f \\u0435\\u043b\\u0430 \\u043a\\u0443\\u0440\\u0438\\u0446\\u0443 - \\u0441\\u0443\\u0445\\u0430\\u044f, \\u043c\\u044f\\u0441\\u043e \\u0441\\u043a\\u0430\\u0437\\u0430\\u043b\\u0438 \\u0436\\u0435\\u0441\\u0442\\u043a\\u043e\\u0435, \\u0432\\u043e\\u043e\\u0431\\u0449\\u0435\\u043c \\u043f\\u043e\\u043b\\u043d\\u043e\\u0435 \\u0440\\u0430\\u0437\\u043e\\u0447\\u0430\\u0440\\u043e\\u0432\\u0430\\u043d\\u0438\\u0435 \\u0432 \\u0435\\u0434\\u0435, \\u043a\\u0430\\u043a \\u0438 \\u0432 \\u0442\\u043e\\u043c, \\u0447\\u0442\\u043e \\u043d\\u0435 \\u0443\\u0441\\u043f\\u0435\\u043b\\u0430 \\u0434\\u0430\\u0436\\u0435 \\u043f\\u043e\\u043f\\u0440\\u043e\\u0431\\u043e\\u0432\\u0430\\u0442\\u044c \\u0436\\u044e\\u043b\\u044c\\u0435\\u043d, \\u0441\\u0442\\u043e\\u044f\\u043b \\u043d\\u0435 \\u0442\\u0440\\u043e\\u043d\\u0443\\u0442\\u044b\\u0439, \\u043a\\u0430\\u043a \\u0432\\u043e \\u0432\\u0440\\u0435\\u043c\\u044f \\u043c\\u043e\\u0435\\u0433\\u043e \\u043e\\u0442\\u0441\\u0443\\u0442\\u0441\\u0442\\u0432\\u0438\\u0435 \\u0435\\u0433\\u043e \\u0443\\u043d\\u0435\\u0441\\u043b\\u0438, \\u0442\\u0430\\u043a \\u0441\\u043a\\u0430\\u0437\\u0430\\u043b\\u0438 \\u0432\\u0441\\u0435 \\u0433\\u043e\\u0441\\u0442\\u0438, \\u0447\\u0442\\u043e \\u043d\\u0435 \\u0443\\u0441\\u043f\\u0435\\u0432 \\u0441\\u044a\\u0435\\u0441\\u0442\\u044c \\u0438 \\u043f\\u043e\\u043b\\u043e\\u0432\\u0438\\u043d\\u044b, \\u0431\\u043b\\u044e\\u0434\\u0430 \\u0438\\u0441\\u0447\\u0435\\u0437\\u0430\\u043b\\u0438. \\u0421\\u043f\\u0430\\u0441\\u0438\\u0431\\u043e \\u0442\\u0430\\u043c\\u0430\\u0434\\u0435, \\u0447\\u0442\\u043e \\u043d\\u0435 \\u0434\\u0430\\u043b\\u0430 \\u0432\\u0440\\u0435\\u043c\\u0435\\u043d\\u0438 \\u043d\\u0430 \\u044d\\u0442\\u043e \\u043e\\u0431\\u0440\\u0430\\u0449\\u0430\\u0442\\u044c \\u0432\\u043d\\u0438\\u043c\\u0430\\u043d\\u0438\\u0435, \\u043d\\u043e \\u0434\\u043b\\u044f \\u043e\\u0441\\u0442\\u0430\\u043b\\u044c\\u043d\\u044b\\u0445 \\u0440\\u0435\\u0448\\u0438\\u043b\\u0430 \\u043f\\u043e\\u0434\\u0435\\u043b\\u0438\\u0442\\u044c\\u0441\\u044f \\u0438\\u043d\\u0444\\u043e\\u0440\\u043c\\u0430\\u0446\\u0438\\u0435\\u0439\"\n        ],\n        \"semantic_type\": \"\",\n        \"description\": \"\"\n      }\n    },\n    {\n      \"column\": \"feedback\",\n      \"properties\": {\n        \"dtype\": \"category\",\n        \"num_unique_values\": 3,\n        \"samples\": [\n          \"positive\",\n          \"neutral\",\n          \"negative\"\n        ],\n        \"semantic_type\": \"\",\n        \"description\": \"\"\n      }\n    }\n  ]\n}"
            }
          },
          "metadata": {},
          "execution_count": 3
        }
      ],
      "source": [
        "df.head(7)\n"
      ]
    },
    {
      "cell_type": "markdown",
      "id": "477aa0cf",
      "metadata": {
        "id": "477aa0cf"
      },
      "source": [
        "#### 4. Последние 5 строк набора данных"
      ]
    },
    {
      "cell_type": "code",
      "execution_count": 4,
      "id": "41a02fd9",
      "metadata": {
        "colab": {
          "base_uri": "https://localhost:8080/",
          "height": 221
        },
        "id": "41a02fd9",
        "outputId": "9088d7dd-adc8-41bc-f4d6-56d826426d4d"
      },
      "outputs": [
        {
          "output_type": "execute_result",
          "data": {
            "text/plain": [
              "     Unnamed: 0         rest  \\\n",
              "399         399    Neverland   \n",
              "400         400  The kitchen   \n",
              "401         401        Доски   \n",
              "402         402        Шатер   \n",
              "403         403         Рица   \n",
              "\n",
              "                                                review  feedback  \n",
              "399  Пришли в данное заведение 4 июня 2014 года пок...  negative  \n",
              "400  Заехали с мужем поужинать в пятницу ( 17.01.14...  positive  \n",
              "401  Пришел сегодня с друзьями, отметить день рожде...   neutral  \n",
              "402  Мне так там нравитсяяяя!!!!!!!!! Интерьер модн...  positive  \n",
              "403  Уютная и тёплая домашняя обстановка! Милый и о...  positive  "
            ],
            "text/html": [
              "\n",
              "  <div id=\"df-fa331d42-4146-4cdd-bdb7-7b7712d52688\" class=\"colab-df-container\">\n",
              "    <div>\n",
              "<style scoped>\n",
              "    .dataframe tbody tr th:only-of-type {\n",
              "        vertical-align: middle;\n",
              "    }\n",
              "\n",
              "    .dataframe tbody tr th {\n",
              "        vertical-align: top;\n",
              "    }\n",
              "\n",
              "    .dataframe thead th {\n",
              "        text-align: right;\n",
              "    }\n",
              "</style>\n",
              "<table border=\"1\" class=\"dataframe\">\n",
              "  <thead>\n",
              "    <tr style=\"text-align: right;\">\n",
              "      <th></th>\n",
              "      <th>Unnamed: 0</th>\n",
              "      <th>rest</th>\n",
              "      <th>review</th>\n",
              "      <th>feedback</th>\n",
              "    </tr>\n",
              "  </thead>\n",
              "  <tbody>\n",
              "    <tr>\n",
              "      <th>399</th>\n",
              "      <td>399</td>\n",
              "      <td>Neverland</td>\n",
              "      <td>Пришли в данное заведение 4 июня 2014 года пок...</td>\n",
              "      <td>negative</td>\n",
              "    </tr>\n",
              "    <tr>\n",
              "      <th>400</th>\n",
              "      <td>400</td>\n",
              "      <td>The kitchen</td>\n",
              "      <td>Заехали с мужем поужинать в пятницу ( 17.01.14...</td>\n",
              "      <td>positive</td>\n",
              "    </tr>\n",
              "    <tr>\n",
              "      <th>401</th>\n",
              "      <td>401</td>\n",
              "      <td>Доски</td>\n",
              "      <td>Пришел сегодня с друзьями, отметить день рожде...</td>\n",
              "      <td>neutral</td>\n",
              "    </tr>\n",
              "    <tr>\n",
              "      <th>402</th>\n",
              "      <td>402</td>\n",
              "      <td>Шатер</td>\n",
              "      <td>Мне так там нравитсяяяя!!!!!!!!! Интерьер модн...</td>\n",
              "      <td>positive</td>\n",
              "    </tr>\n",
              "    <tr>\n",
              "      <th>403</th>\n",
              "      <td>403</td>\n",
              "      <td>Рица</td>\n",
              "      <td>Уютная и тёплая домашняя обстановка! Милый и о...</td>\n",
              "      <td>positive</td>\n",
              "    </tr>\n",
              "  </tbody>\n",
              "</table>\n",
              "</div>\n",
              "    <div class=\"colab-df-buttons\">\n",
              "\n",
              "  <div class=\"colab-df-container\">\n",
              "    <button class=\"colab-df-convert\" onclick=\"convertToInteractive('df-fa331d42-4146-4cdd-bdb7-7b7712d52688')\"\n",
              "            title=\"Convert this dataframe to an interactive table.\"\n",
              "            style=\"display:none;\">\n",
              "\n",
              "  <svg xmlns=\"http://www.w3.org/2000/svg\" height=\"24px\" viewBox=\"0 -960 960 960\">\n",
              "    <path d=\"M120-120v-720h720v720H120Zm60-500h600v-160H180v160Zm220 220h160v-160H400v160Zm0 220h160v-160H400v160ZM180-400h160v-160H180v160Zm440 0h160v-160H620v160ZM180-180h160v-160H180v160Zm440 0h160v-160H620v160Z\"/>\n",
              "  </svg>\n",
              "    </button>\n",
              "\n",
              "  <style>\n",
              "    .colab-df-container {\n",
              "      display:flex;\n",
              "      gap: 12px;\n",
              "    }\n",
              "\n",
              "    .colab-df-convert {\n",
              "      background-color: #E8F0FE;\n",
              "      border: none;\n",
              "      border-radius: 50%;\n",
              "      cursor: pointer;\n",
              "      display: none;\n",
              "      fill: #1967D2;\n",
              "      height: 32px;\n",
              "      padding: 0 0 0 0;\n",
              "      width: 32px;\n",
              "    }\n",
              "\n",
              "    .colab-df-convert:hover {\n",
              "      background-color: #E2EBFA;\n",
              "      box-shadow: 0px 1px 2px rgba(60, 64, 67, 0.3), 0px 1px 3px 1px rgba(60, 64, 67, 0.15);\n",
              "      fill: #174EA6;\n",
              "    }\n",
              "\n",
              "    .colab-df-buttons div {\n",
              "      margin-bottom: 4px;\n",
              "    }\n",
              "\n",
              "    [theme=dark] .colab-df-convert {\n",
              "      background-color: #3B4455;\n",
              "      fill: #D2E3FC;\n",
              "    }\n",
              "\n",
              "    [theme=dark] .colab-df-convert:hover {\n",
              "      background-color: #434B5C;\n",
              "      box-shadow: 0px 1px 3px 1px rgba(0, 0, 0, 0.15);\n",
              "      filter: drop-shadow(0px 1px 2px rgba(0, 0, 0, 0.3));\n",
              "      fill: #FFFFFF;\n",
              "    }\n",
              "  </style>\n",
              "\n",
              "    <script>\n",
              "      const buttonEl =\n",
              "        document.querySelector('#df-fa331d42-4146-4cdd-bdb7-7b7712d52688 button.colab-df-convert');\n",
              "      buttonEl.style.display =\n",
              "        google.colab.kernel.accessAllowed ? 'block' : 'none';\n",
              "\n",
              "      async function convertToInteractive(key) {\n",
              "        const element = document.querySelector('#df-fa331d42-4146-4cdd-bdb7-7b7712d52688');\n",
              "        const dataTable =\n",
              "          await google.colab.kernel.invokeFunction('convertToInteractive',\n",
              "                                                    [key], {});\n",
              "        if (!dataTable) return;\n",
              "\n",
              "        const docLinkHtml = 'Like what you see? Visit the ' +\n",
              "          '<a target=\"_blank\" href=https://colab.research.google.com/notebooks/data_table.ipynb>data table notebook</a>'\n",
              "          + ' to learn more about interactive tables.';\n",
              "        element.innerHTML = '';\n",
              "        dataTable['output_type'] = 'display_data';\n",
              "        await google.colab.output.renderOutput(dataTable, element);\n",
              "        const docLink = document.createElement('div');\n",
              "        docLink.innerHTML = docLinkHtml;\n",
              "        element.appendChild(docLink);\n",
              "      }\n",
              "    </script>\n",
              "  </div>\n",
              "\n",
              "\n",
              "    <div id=\"df-dec8f4cb-a1d6-4458-8bb2-27f349de487b\">\n",
              "      <button class=\"colab-df-quickchart\" onclick=\"quickchart('df-dec8f4cb-a1d6-4458-8bb2-27f349de487b')\"\n",
              "                title=\"Suggest charts\"\n",
              "                style=\"display:none;\">\n",
              "\n",
              "<svg xmlns=\"http://www.w3.org/2000/svg\" height=\"24px\"viewBox=\"0 0 24 24\"\n",
              "     width=\"24px\">\n",
              "    <g>\n",
              "        <path d=\"M19 3H5c-1.1 0-2 .9-2 2v14c0 1.1.9 2 2 2h14c1.1 0 2-.9 2-2V5c0-1.1-.9-2-2-2zM9 17H7v-7h2v7zm4 0h-2V7h2v10zm4 0h-2v-4h2v4z\"/>\n",
              "    </g>\n",
              "</svg>\n",
              "      </button>\n",
              "\n",
              "<style>\n",
              "  .colab-df-quickchart {\n",
              "      --bg-color: #E8F0FE;\n",
              "      --fill-color: #1967D2;\n",
              "      --hover-bg-color: #E2EBFA;\n",
              "      --hover-fill-color: #174EA6;\n",
              "      --disabled-fill-color: #AAA;\n",
              "      --disabled-bg-color: #DDD;\n",
              "  }\n",
              "\n",
              "  [theme=dark] .colab-df-quickchart {\n",
              "      --bg-color: #3B4455;\n",
              "      --fill-color: #D2E3FC;\n",
              "      --hover-bg-color: #434B5C;\n",
              "      --hover-fill-color: #FFFFFF;\n",
              "      --disabled-bg-color: #3B4455;\n",
              "      --disabled-fill-color: #666;\n",
              "  }\n",
              "\n",
              "  .colab-df-quickchart {\n",
              "    background-color: var(--bg-color);\n",
              "    border: none;\n",
              "    border-radius: 50%;\n",
              "    cursor: pointer;\n",
              "    display: none;\n",
              "    fill: var(--fill-color);\n",
              "    height: 32px;\n",
              "    padding: 0;\n",
              "    width: 32px;\n",
              "  }\n",
              "\n",
              "  .colab-df-quickchart:hover {\n",
              "    background-color: var(--hover-bg-color);\n",
              "    box-shadow: 0 1px 2px rgba(60, 64, 67, 0.3), 0 1px 3px 1px rgba(60, 64, 67, 0.15);\n",
              "    fill: var(--button-hover-fill-color);\n",
              "  }\n",
              "\n",
              "  .colab-df-quickchart-complete:disabled,\n",
              "  .colab-df-quickchart-complete:disabled:hover {\n",
              "    background-color: var(--disabled-bg-color);\n",
              "    fill: var(--disabled-fill-color);\n",
              "    box-shadow: none;\n",
              "  }\n",
              "\n",
              "  .colab-df-spinner {\n",
              "    border: 2px solid var(--fill-color);\n",
              "    border-color: transparent;\n",
              "    border-bottom-color: var(--fill-color);\n",
              "    animation:\n",
              "      spin 1s steps(1) infinite;\n",
              "  }\n",
              "\n",
              "  @keyframes spin {\n",
              "    0% {\n",
              "      border-color: transparent;\n",
              "      border-bottom-color: var(--fill-color);\n",
              "      border-left-color: var(--fill-color);\n",
              "    }\n",
              "    20% {\n",
              "      border-color: transparent;\n",
              "      border-left-color: var(--fill-color);\n",
              "      border-top-color: var(--fill-color);\n",
              "    }\n",
              "    30% {\n",
              "      border-color: transparent;\n",
              "      border-left-color: var(--fill-color);\n",
              "      border-top-color: var(--fill-color);\n",
              "      border-right-color: var(--fill-color);\n",
              "    }\n",
              "    40% {\n",
              "      border-color: transparent;\n",
              "      border-right-color: var(--fill-color);\n",
              "      border-top-color: var(--fill-color);\n",
              "    }\n",
              "    60% {\n",
              "      border-color: transparent;\n",
              "      border-right-color: var(--fill-color);\n",
              "    }\n",
              "    80% {\n",
              "      border-color: transparent;\n",
              "      border-right-color: var(--fill-color);\n",
              "      border-bottom-color: var(--fill-color);\n",
              "    }\n",
              "    90% {\n",
              "      border-color: transparent;\n",
              "      border-bottom-color: var(--fill-color);\n",
              "    }\n",
              "  }\n",
              "</style>\n",
              "\n",
              "      <script>\n",
              "        async function quickchart(key) {\n",
              "          const quickchartButtonEl =\n",
              "            document.querySelector('#' + key + ' button');\n",
              "          quickchartButtonEl.disabled = true;  // To prevent multiple clicks.\n",
              "          quickchartButtonEl.classList.add('colab-df-spinner');\n",
              "          try {\n",
              "            const charts = await google.colab.kernel.invokeFunction(\n",
              "                'suggestCharts', [key], {});\n",
              "          } catch (error) {\n",
              "            console.error('Error during call to suggestCharts:', error);\n",
              "          }\n",
              "          quickchartButtonEl.classList.remove('colab-df-spinner');\n",
              "          quickchartButtonEl.classList.add('colab-df-quickchart-complete');\n",
              "        }\n",
              "        (() => {\n",
              "          let quickchartButtonEl =\n",
              "            document.querySelector('#df-dec8f4cb-a1d6-4458-8bb2-27f349de487b button');\n",
              "          quickchartButtonEl.style.display =\n",
              "            google.colab.kernel.accessAllowed ? 'block' : 'none';\n",
              "        })();\n",
              "      </script>\n",
              "    </div>\n",
              "    </div>\n",
              "  </div>\n"
            ],
            "application/vnd.google.colaboratory.intrinsic+json": {
              "type": "dataframe",
              "summary": "{\n  \"name\": \"df\",\n  \"rows\": 5,\n  \"fields\": [\n    {\n      \"column\": \"Unnamed: 0\",\n      \"properties\": {\n        \"dtype\": \"number\",\n        \"std\": 1,\n        \"min\": 399,\n        \"max\": 403,\n        \"num_unique_values\": 5,\n        \"samples\": [\n          400,\n          403,\n          401\n        ],\n        \"semantic_type\": \"\",\n        \"description\": \"\"\n      }\n    },\n    {\n      \"column\": \"rest\",\n      \"properties\": {\n        \"dtype\": \"string\",\n        \"num_unique_values\": 5,\n        \"samples\": [\n          \"The kitchen\",\n          \"\\u0420\\u0438\\u0446\\u0430\",\n          \"\\u0414\\u043e\\u0441\\u043a\\u0438\"\n        ],\n        \"semantic_type\": \"\",\n        \"description\": \"\"\n      }\n    },\n    {\n      \"column\": \"review\",\n      \"properties\": {\n        \"dtype\": \"string\",\n        \"num_unique_values\": 5,\n        \"samples\": [\n          \"\\u0417\\u0430\\u0435\\u0445\\u0430\\u043b\\u0438 \\u0441 \\u043c\\u0443\\u0436\\u0435\\u043c \\u043f\\u043e\\u0443\\u0436\\u0438\\u043d\\u0430\\u0442\\u044c \\u0432 \\u043f\\u044f\\u0442\\u043d\\u0438\\u0446\\u0443 ( 17.01.14.) \\u0432 23:00. \\u041f\\u0435\\u0440\\u0432\\u044b\\u043c \\u043d\\u0430\\u0441 \\u0432\\u0441\\u0442\\u0440\\u0435\\u0442\\u0438\\u043b \\u043f\\u0430\\u0440\\u043a\\u043e\\u0432\\u0449\\u0438\\u043a, \\u043f\\u043e\\u043c\\u043e\\u0433 \\u043f\\u0440\\u0438\\u043f\\u0430\\u0440\\u043a\\u043e\\u0432\\u0430\\u0442\\u044c\\u0441\\u044f \\u0438 \\u0434\\u0430\\u0436\\u0435 \\u043e\\u0442\\u043a\\u0440\\u044b\\u043b \\u0434\\u0432\\u0435\\u0440\\u0438 \\u0438 \\u0432\\u0435\\u0436\\u043b\\u0438\\u0432\\u043e \\u043d\\u0430\\u0441 \\u043f\\u043e\\u043f\\u0440\\u0438\\u0432\\u0435\\u0442\\u0441\\u0442\\u0432\\u043e\\u0432\\u0430\\u043b. \\u0418\\u043d\\u0442\\u0435\\u0440\\u044c\\u0435\\u0440 \\u0440\\u0435\\u0441\\u0442\\u043e\\u0440\\u0430\\u043d\\u0430 \\u043c\\u043d\\u0435 \\u043d\\u0440\\u0430\\u0432\\u0438\\u0442\\u0441\\u044f, \\u044f \\u043b\\u044e\\u0431\\u043b\\u044e \\u0442\\u0430\\u043a\\u043e\\u0439 \\u0434\\u0438\\u0437\\u0430\\u0439\\u043d. \\u0412\\u0441\\u0435 \\u043f\\u0440\\u043e\\u0441\\u0442\\u043e \\u0438 \\u0441\\u043e \\u0432\\u043a\\u0443\\u0441\\u043e\\u043c, \\u043c\\u043d\\u043e\\u0433\\u043e \\u0438\\u043d\\u0442\\u0435\\u0440\\u0435\\u0441\\u043d\\u044b\\u0445 \\u043c\\u0435\\u043b\\u043e\\u0447\\u0435\\u0439. \\u041d\\u0430\\u0441 \\u043e\\u0431\\u0441\\u043b\\u0443\\u0436\\u0438\\u0432\\u0430\\u043b\\u0430 \\u043f\\u0440\\u0438\\u044f\\u0442\\u043d\\u0430\\u044f \\u0434\\u0435\\u0432\\u0443\\u0448\\u043a\\u0430. \\u041a \\u0441\\u043e\\u0436\\u0430\\u043b\\u0435\\u043d\\u0438\\u044e \\u043d\\u0435 \\u0437\\u0430\\u043f\\u043e\\u043c\\u043d\\u0438\\u043b\\u0438 \\u0435\\u0435 \\u0438\\u043c\\u044f. \\u041e\\u043d\\u0430 \\u0431\\u044b\\u043b\\u0430 \\u0432\\u043d\\u0438\\u043c\\u0430\\u0442\\u0435\\u043b\\u044c\\u043d\\u0430 \\u0438 \\u043d\\u0435\\u043d\\u0430\\u0432\\u044f\\u0437\\u0447\\u0438\\u0432\\u0430 \\u0438 \\u043f\\u043e\\u043c\\u043e\\u0433\\u043b\\u0430 \\u043c\\u043d\\u0435 \\u0441 \\u0432\\u044b\\u0431\\u043e\\u0440\\u043e\\u043c \\u043f\\u0430\\u0441\\u0442\\u044b, \\u043f\\u043e\\u0434\\u0440\\u043e\\u0431\\u043d\\u043e \\u0440\\u0430\\u0441\\u0441\\u043a\\u0430\\u0437\\u0430\\u0432 \\u0441\\u043e\\u0441\\u0442\\u0430\\u0432 \\u0438 \\u0441\\u043f\\u043e\\u0441\\u043e\\u0431 \\u043f\\u0440\\u0438\\u0433\\u043e\\u0442\\u043e\\u0432\\u043b\\u0435\\u043d\\u0438\\u044f \\u0431\\u043b\\u044e\\u0434\\u0430. \\u041c\\u0435\\u043d\\u044e \\u0440\\u0435\\u0441\\u0442\\u043e\\u0440\\u0430\\u043d\\u0430 \\u0431\\u043e\\u043b\\u044c\\u0448\\u043e\\u0435 \\u0432 \\u0432\\u0438\\u0434\\u0435 \\u0436\\u0443\\u0440\\u043d\\u0430\\u043b\\u0430, \\u0435\\u0441\\u0442\\u044c \\u0432\\u0441\\u0435 \\u0447\\u0442\\u043e \\u0443\\u0433\\u043e\\u0434\\u043d\\u043e....\\u0432\\u0430\\u0440\\u0435\\u043d\\u0438\\u043a\\u0438, \\u0441\\u0443\\u0448\\u0438, \\u0432\\u043e\\u043a, \\u043f\\u0430\\u0441\\u0442\\u044b \\u0438 \\u0442.\\u0434. \\u0414\\u0438\\u0437\\u0430\\u0439\\u043d \\u043c\\u0435\\u043d\\u044e \\u0438\\u043d\\u0442\\u0435\\u0440\\u0435\\u0441\\u043d\\u044b\\u0439, \\u0434\\u0438\\u0437\\u0430\\u0439\\u043d\\u0435\\u0440\\u044b \\u043c\\u043e\\u043b\\u043e\\u0434\\u0446\\u044b! \\u042f \\u0435\\u043b\\u0430 \\u043a\\u0440\\u0435\\u043c \\u0441\\u0443\\u043f \\u0438\\u0437 \\u0431\\u0435\\u043b\\u044b\\u0445 \\u0433\\u0440\\u0438\\u0431\\u043e\\u0432 (\\u043f\\u0440\\u0438\\u043c\\u0435\\u0440\\u043d\\u043e 350 \\u0440.) \\u0438 \\u043f\\u0435\\u043d\\u043d\\u0435 \\u0441 \\u0443\\u0442\\u043a\\u043e\\u0439 ( 450 \\u0440.). \\u0421\\u0443\\u043f \\u0431\\u044b\\u043b \\u0432\\u043a\\u0443\\u0441\\u043d\\u044b\\u0439, \\u043d\\u043e \\u043f\\u0430\\u0441\\u0442\\u0430 \\u0431\\u044b\\u043b\\u0430 \\u043f\\u0440\\u043e\\u0441\\u0442\\u043e \\u0431\\u043e\\u0436\\u0435\\u0441\\u0442\\u0432\\u0435\\u043d\\u043d\\u0430. \\u041c\\u043d\\u043e\\u0433\\u043e \\u0441\\u043e\\u0443\\u0441\\u0430, \\u043c\\u044f\\u0433\\u043a\\u043e\\u0435 \\u043c\\u044f\\u0441\\u043e \\u0443\\u0442\\u043a\\u0438. \\u041f\\u0430\\u0441\\u0442\\u043e\\u0439 \\u044f \\u0431\\u044b\\u043b\\u0430 \\u043e\\u0447\\u0435\\u043d\\u044c \\u0434\\u043e\\u0432\\u043e\\u043b\\u044c\\u043d\\u0430))) \\u041c\\u0443\\u0436 \\u0435\\u043b \\u0441\\u0430\\u043b\\u0430\\u0442 \\u0441 \\u0433\\u043e\\u0432\\u044f\\u0434\\u0438\\u043d\\u043e\\u0439 \\u0438 \\u043a\\u0430\\u0440\\u043f\\u0430\\u0447\\u0447\\u043e ( \\u0446\\u0435\\u043d\\u044b \\u044f \\u043d\\u0435 \\u043f\\u043e\\u043c\\u043d\\u044e). \\u041d\\u0430\\u043c \\u0432\\u0441\\u0435 \\u043e\\u0447\\u0435\\u043d\\u044c \\u043f\\u043e\\u043d\\u0440\\u0430\\u0432\\u0438\\u043b\\u043e\\u0441\\u044c. \\u041e\\u0442 \\u0432\\u0438\\u0437\\u0438\\u0442\\u0430 \\u043c\\u044b \\u043f\\u043e\\u043b\\u0443\\u0447\\u0438\\u043b\\u0438 \\u043f\\u043e\\u043b\\u043e\\u0436\\u0438\\u0442\\u0435\\u043b\\u044c\\u043d\\u044b\\u0435 \\u044d\\u043c\\u043e\\u0446\\u0438\\u0438...\\u043f\\u043e\\u0431\\u043e\\u043b\\u0442\\u0430\\u043b\\u0438 \\u0438 \\u0432\\u043a\\u0443\\u0441\\u043d\\u043e \\u043f\\u043e\\u0435\\u043b\\u0438! \\u0411\\u0443\\u0434\\u0435\\u043c \\u043f\\u0440\\u0438\\u0435\\u0437\\u0436\\u0430\\u0442\\u044c \\u0435\\u0449\\u0435 \\u0432 \\u044d\\u0442\\u043e\\u0442 \\u0440\\u0435\\u0441\\u0442\\u043e\\u0440\\u0430\\u043d. \\u0421\\u043f\\u0430\\u0441\\u0438\\u0431\\u043e \\u043f\\u043e\\u0432\\u0430\\u0440\\u0430\\u043c \\u0438 \\u043f\\u0435\\u0440\\u0441\\u043e\\u043d\\u0430\\u043b\\u0443 \\u0437\\u0430 \\u0445\\u043e\\u0440\\u043e\\u0448\\u0438\\u0435 \\u044d\\u043c\\u043e\\u0446\\u0438\\u0438!\",\n          \"\\u0423\\u044e\\u0442\\u043d\\u0430\\u044f \\u0438 \\u0442\\u0451\\u043f\\u043b\\u0430\\u044f \\u0434\\u043e\\u043c\\u0430\\u0448\\u043d\\u044f\\u044f \\u043e\\u0431\\u0441\\u0442\\u0430\\u043d\\u043e\\u0432\\u043a\\u0430! \\u041c\\u0438\\u043b\\u044b\\u0439 \\u0438 \\u043e\\u0442\\u0437\\u044b\\u0432\\u0447\\u0438\\u0432\\u044b\\u0439 \\u043f\\u0435\\u0440\\u0441\\u043e\\u043d\\u0430\\u043b, \\u043e\\u0447\\u0435\\u043d\\u044c \\u0432\\u043d\\u0438\\u043c\\u0430\\u0442\\u0435\\u043b\\u044c\\u043d\\u043e\\u0435 \\u043e\\u0431\\u0441\\u043b\\u0443\\u0436\\u0438\\u0432\\u0430\\u043d\\u0438\\u0435. \\u0415\\u0434\\u0430, \\u0441\\u0442\\u043e\\u0438\\u0442 \\u043b\\u0438 \\u0433\\u043e\\u0432\\u043e\\u0440\\u0438\\u0442\\u044c, \\u0447\\u0442\\u043e \\u0442\\u0440\\u0443\\u0434\\u043d\\u043e \\u0443\\u0434\\u0438\\u0432\\u0438\\u0442\\u044c \\u0447\\u0435\\u043b\\u043e\\u0432\\u0435\\u043a\\u0430, \\u043f\\u0440\\u0438\\u0432\\u044b\\u043a\\u0448\\u0435\\u0433\\u043e \\u0438 \\u0437\\u043d\\u0430\\u044e\\u0449\\u0435\\u0433\\u043e \\u0433\\u0440\\u0443\\u0437\\u0438\\u043d\\u0441\\u043a\\u0443\\u044e \\u043a\\u0443\\u0445\\u043d\\u044e. \\u041c\\u043e\\u0433\\u0443 \\u0441\\u043a\\u0430\\u0437\\u0430\\u0442\\u044c \\u043e\\u0434\\u043d\\u043e, \\u044f \\u0431\\u044b\\u043b\\u0430 \\u043f\\u0440\\u0438\\u044f\\u0442\\u043d\\u043e \\u0443\\u0434\\u0438\\u0432\\u043b\\u0435\\u043d\\u0430! \\u0421\\u043f\\u0430\\u0441\\u0438\\u0431\\u043e \\u043f\\u0435\\u0440\\u0441\\u043e\\u043d\\u0430\\u043b\\u0443, \\u0435\\u043c\\u0443 \\u0443\\u0434\\u0430\\u0435\\u0442\\u0441\\u044f \\u0441\\u043e\\u0437\\u0434\\u0430\\u0442\\u044c \\u043e\\u0449\\u0443\\u0449\\u0435\\u043d\\u0438\\u0435, \\u0447\\u0442\\u043e \\u044d\\u0442\\u043e\\u0442 \\u0440\\u0435\\u0441\\u0442\\u043e\\u0440\\u0430\\u043d - \\u043e\\u0441\\u043e\\u0431\\u0435\\u043d\\u043d\\u043e\\u0435 \\u043c\\u0435\\u0441\\u0442\\u043e \\u0433\\u0434\\u0435 \\u043a\\u0430\\u0436\\u0434\\u044b\\u0439 \\u0447\\u0443\\u0432\\u0441\\u0442\\u0432\\u0443\\u0435\\u0442 \\u0441\\u0435\\u0431\\u044f \\u0434\\u043e\\u043b\\u0433\\u043e\\u0436\\u0434\\u0430\\u043d\\u043d\\u044b\\u043c \\u0433\\u043e\\u0441\\u0442\\u0435\\u043c!)))))))))))\",\n          \"\\u041f\\u0440\\u0438\\u0448\\u0435\\u043b \\u0441\\u0435\\u0433\\u043e\\u0434\\u043d\\u044f \\u0441 \\u0434\\u0440\\u0443\\u0437\\u044c\\u044f\\u043c\\u0438, \\u043e\\u0442\\u043c\\u0435\\u0442\\u0438\\u0442\\u044c \\u0434\\u0435\\u043d\\u044c \\u0440\\u043e\\u0436\\u0434\\u0435\\u043d\\u0438\\u044f. \\u043d\\u0430 \\u0432\\u0445\\u043e\\u0434\\u0435 \\u0441\\u043a\\u0430\\u0437\\u0430\\u043b\\u0438 \\u0447\\u0442\\u043e \\u0441\\u0432\\u043e\\u0431\\u043e\\u0434\\u043d\\u044b\\u0445 \\u0441\\u0442\\u043e\\u043b\\u0438\\u043a\\u043e\\u0432 \\u043d\\u0435\\u0442, \\u0435\\u0441\\u0442\\u044c \\u0442\\u043e\\u043b\\u044c\\u043a\\u043e \\u043c\\u0435\\u0441\\u0442\\u0430 \\u0437\\u0430 \\u0431\\u0430\\u0440\\u043d\\u044b\\u043c\\u0438 \\u0441\\u0442\\u043e\\u0439\\u043a\\u0430\\u043c\\u0438(\\u043d\\u043e \\u043d\\u0438\\u043a\\u0442\\u043e \\u043d\\u0435 \\u0441\\u043a\\u0430\\u0437\\u0430\\u043b \\u0447\\u0442\\u043e \\u0432 \\u0442\\u0430\\u043a\\u043e\\u043c \\u0441\\u043b\\u0443\\u0447\\u0430\\u0435 \\u0437\\u0430\\u043a\\u0430\\u0437\\u0430\\u0442\\u044c \\u043f\\u043e\\u0447\\u0442\\u0438 \\u043d\\u0438\\u0447\\u0435\\u0433\\u043e \\u043d\\u0435\\u043b\\u044c\\u0437\\u044f). \\u043d\\u0443 \\u0437\\u043d\\u0430\\u0447\\u0438\\u0442 \\u0437\\u0430\\u043f\\u043b\\u0430\\u0442\\u0438\\u043b\\u0438 \\u0437\\u0430 \\u0432\\u0445\\u043e\\u0434 \\u043f\\u043e 150 \\u0440 \\u0441 \\u0447\\u0435\\u043b\\u043e\\u0432\\u0435\\u043a\\u0430, \\u0437\\u0430\\u0448\\u043b\\u0438 \\u0438 \\u0441\\u0435\\u043b\\u0438 \\u0433\\u0434\\u0435 \\u0431\\u044b\\u043b\\u043e \\u043c\\u0435\\u0441\\u0442\\u043e. \\u043f\\u043e\\u0442\\u043e\\u043c \\u043f\\u044b\\u0442\\u0430\\u043b\\u0438\\u0441\\u044c \\u0437\\u0430\\u043a\\u0430\\u0437\\u0430\\u0442\\u044c \\u043f\\u0438\\u0432\\u0430 \\u0443 \\u0431\\u0430\\u0440\\u043c\\u0435\\u043d\\u0430. \\u0441\\u043d\\u0430\\u0447\\u0430\\u043b\\u0430 \\u043e\\u043d \\u0434\\u043e\\u043b\\u0433\\u043e \\u0445\\u043e\\u0434\\u0438\\u043b \\u043a\\u0443\\u0434\\u0430 \\u0442\\u043e, \\u043e\\u0431\\u0441\\u043b\\u0443\\u0436\\u0438\\u0432\\u0430\\u043b \\u0434\\u0440\\u0443\\u0433\\u0438\\u0445 \\u043f\\u043e\\u0441\\u0435\\u0442\\u0438\\u0442\\u0435\\u043b\\u0435\\u0439. \\u043f\\u043e\\u0441\\u043b\\u0435 \\u0441\\u043a\\u0430\\u0437\\u0430\\u043b \\u0447\\u0442\\u043e \\u043f\\u0438\\u0432\\u043e \\u0438 \\u0434\\u0440\\u0443\\u0433\\u0438\\u0435 \\u043d\\u0430\\u043f\\u0438\\u0442\\u043a\\u0438 \\u043c\\u043e\\u0436\\u043d\\u043e \\u0437\\u0430\\u043a\\u0430\\u0437\\u0430\\u0442\\u044c \\u0442\\u043e\\u043b\\u044c\\u043a\\u043e \\u0443 \\u043e\\u0444\\u0438\\u0446\\u0438\\u0430\\u043d\\u0442\\u043e\\u0432. \\u041d\\u0430\\u0448\\u043b\\u0438 \\u043e\\u0444\\u0438\\u0446\\u0438\\u0430\\u043d\\u0442\\u043a\\u0443, \\u043e\\u043d\\u0430 \\u0441\\u043a\\u0430\\u0437\\u0430\\u043b\\u0430 \\u0447\\u0442\\u043e \\u0447\\u0442\\u043e\\u0431\\u044b \\u0447\\u0442\\u043e-\\u0442\\u043e \\u0437\\u0430\\u043a\\u0430\\u0437\\u0430\\u0442\\u044c \\u043d\\u0430\\u0434\\u043e \\u0438\\u043c\\u0435\\u0442\\u044c \\u0441\\u0442\\u043e\\u043b\\u0438\\u043a, \\u0442.\\u043a. \\u0443 \\u043d\\u0430\\u0441 \\u0435\\u0433\\u043e \\u043d\\u0435\\u0442, \\u0435\\u0434\\u0438\\u043d\\u0441\\u0442\\u0432\\u0435\\u043d\\u043d\\u044b\\u0439 \\u0432\\u0430\\u0440\\u0438\\u0430\\u043d\\u0442 \\u044d\\u0442\\u043e \\u043f\\u043e\\u043a\\u0443\\u043f\\u0430\\u0442\\u044c \\u043a\\u0440\\u0435\\u043f\\u043a\\u0438\\u0435 \\u043d\\u0430\\u043f\\u0438\\u0442\\u043a\\u0438 \\u0443 \\u0431\\u0430\\u0440\\u043c\\u0435\\u043d\\u0430. \\u043d\\u0430\\u043c \\u044d\\u0442\\u043e \\u043d\\u0435 \\u043d\\u0443\\u0436\\u043d\\u043e \\u0431\\u044b\\u043b\\u043e. \\u041f\\u043e\\u0442\\u043e\\u043c \\u043e\\u0431\\u0440\\u0430\\u0442\\u0438\\u043b\\u0438\\u0441\\u044c \\u043a \\u0436\\u0435\\u043d\\u0449\\u0438\\u043d\\u0435 \\u043a\\u043e\\u0442\\u043e\\u0440\\u0430\\u044f \\u043d\\u0430\\u0441 \\u0432\\u043f\\u0443\\u0441\\u043a\\u0430\\u043b\\u0430. \\u043e\\u043d\\u0430 \\u0441\\u043a\\u0430\\u0437\\u0430\\u043b\\u0430 \\u0447\\u0442\\u043e \\u044f\\u043a\\u043e\\u0431\\u044b \\u043d\\u0430\\u0441 \\u043f\\u0440\\u0435\\u0434\\u0443\\u043f\\u0440\\u0435\\u0436\\u0434\\u0430\\u043b\\u0430 \\u043e \\u0442\\u043e\\u043c \\u0447\\u0442\\u043e \\u043d\\u0438\\u0447\\u0435\\u0433\\u043e \\u043d\\u0435\\u043b\\u044c\\u0437\\u044f \\u0437\\u0430\\u043a\\u0430\\u0437\\u0430\\u0442\\u044c. \\u043f\\u043e\\u0442\\u043e\\u043c \\u043e\\u043d\\u0430 \\u0441\\u043f\\u0440\\u043e\\u0441\\u0438\\u043b\\u0430 \\u0441\\u043a\\u043e\\u043b\\u044c\\u043a\\u043e \\u043d\\u0430\\u0441 \\u0447\\u0435\\u043b\\u043e\\u0432\\u0435\\u043a \\u0438 \\u043f\\u0440\\u0435\\u0434\\u043b\\u043e\\u0436\\u0438\\u043b\\u0430 \\u0441\\u0442\\u043e\\u043b\\u0438\\u043a \\u0437\\u0430 400 \\u0440. \\u043c\\u044b \\u043e\\u0442\\u043a\\u0430\\u0437\\u0430\\u043b\\u0438\\u0441\\u044c \\u0438 \\u0443\\u0448\\u043b\\u0438. \\u0431\\u043e\\u043b\\u044c\\u0448\\u0435 \\u0442\\u0443\\u0434\\u0430 \\u043d\\u0438\\u043a\\u0442\\u043e \\u0438\\u0437 \\u043d\\u0430\\u0441 \\u043d\\u0435 \\u043f\\u0440\\u0438\\u0434\\u0435\\u0442 \\u0438 \\u043d\\u0438\\u043a\\u043e\\u043c\\u0443 \\u043d\\u0435 \\u043f\\u043e\\u0441\\u043e\\u0432\\u0435\\u0442\\u0443\\u0435\\u0442. \\u044f \\u0442\\u043e\\u0436\\u0435 \\u043d\\u0435 \\u0440\\u0435\\u043a\\u043e\\u043c\\u0435\\u043d\\u0434\\u0443\\u044e. \\u043e\\u0431\\u0441\\u043b\\u0443\\u0436\\u0438\\u0432\\u0430\\u044e\\u0449\\u0438\\u0439 \\u043f\\u0435\\u0440\\u0441\\u043e\\u043d\\u0430\\u043b \\u0434\\u0435\\u0439\\u0441\\u0442\\u0432\\u0438\\u0442\\u0435\\u043b\\u044c\\u043d\\u043e \\u0445\\u0430\\u043c\\u043e\\u0432\\u0430\\u0442, \\u0438 \\u043f\\u044b\\u0442\\u0430\\u0435\\u0442\\u0441\\u044f \\u043e\\u0431\\u043c\\u0430\\u043d\\u0443\\u0442\\u044c. \\u044d\\u043a\\u043e\\u043d\\u043e\\u043c\\u044c\\u0442\\u0435 \\u0441\\u0432\\u043e\\u0435 \\u0432\\u0440\\u0435\\u043c\\u044f, \\u043d\\u0435\\u0440\\u0432\\u044b \\u0438 \\u0434\\u0435\\u043d\\u044c\\u0433\\u0438.\"\n        ],\n        \"semantic_type\": \"\",\n        \"description\": \"\"\n      }\n    },\n    {\n      \"column\": \"feedback\",\n      \"properties\": {\n        \"dtype\": \"string\",\n        \"num_unique_values\": 3,\n        \"samples\": [\n          \"negative\",\n          \"positive\",\n          \"neutral\"\n        ],\n        \"semantic_type\": \"\",\n        \"description\": \"\"\n      }\n    }\n  ]\n}"
            }
          },
          "metadata": {},
          "execution_count": 4
        }
      ],
      "source": [
        "df.tail(5)\n"
      ]
    },
    {
      "cell_type": "markdown",
      "id": "32646235",
      "metadata": {
        "id": "32646235"
      },
      "source": [
        "#### 5. Поля набора данных"
      ]
    },
    {
      "cell_type": "code",
      "execution_count": 5,
      "id": "2ba242a6",
      "metadata": {
        "colab": {
          "base_uri": "https://localhost:8080/"
        },
        "id": "2ba242a6",
        "outputId": "456df71a-f41e-481d-d8fb-f6de55089898"
      },
      "outputs": [
        {
          "output_type": "execute_result",
          "data": {
            "text/plain": [
              "Index(['Unnamed: 0', 'rest', 'review', 'feedback'], dtype='object')"
            ]
          },
          "metadata": {},
          "execution_count": 5
        }
      ],
      "source": [
        "df.columns\n"
      ]
    },
    {
      "cell_type": "markdown",
      "id": "7ef5002e",
      "metadata": {
        "id": "7ef5002e"
      },
      "source": [
        "#### 6. Размер набора данных (количество полей и строк)"
      ]
    },
    {
      "cell_type": "code",
      "execution_count": 6,
      "id": "ec03d13f",
      "metadata": {
        "colab": {
          "base_uri": "https://localhost:8080/"
        },
        "id": "ec03d13f",
        "outputId": "52702773-09fc-426f-e70e-0e98fe247c41"
      },
      "outputs": [
        {
          "output_type": "execute_result",
          "data": {
            "text/plain": [
              "(404, 4)"
            ]
          },
          "metadata": {},
          "execution_count": 6
        }
      ],
      "source": [
        "df.shape"
      ]
    },
    {
      "cell_type": "markdown",
      "id": "de6fe170",
      "metadata": {
        "id": "de6fe170"
      },
      "source": [
        "#### 7. Опишите поля набора данных в формате: название поля, тип данных, назначение поля"
      ]
    },
    {
      "cell_type": "code",
      "execution_count": 7,
      "id": "fc5e47c4",
      "metadata": {
        "colab": {
          "base_uri": "https://localhost:8080/"
        },
        "id": "fc5e47c4",
        "outputId": "b4428866-fb45-46f9-a501-8a92ac4728dc"
      },
      "outputs": [
        {
          "output_type": "stream",
          "name": "stdout",
          "text": [
            "Описание полей набора данных:\n",
            "============================================================\n",
            "Поле: Unnamed: 0\n",
            "Тип данных: int64\n",
            "Назначение: Идентификатор записи\n",
            "----------------------------------------\n",
            "Поле: rest\n",
            "Тип данных: object\n",
            "Назначение: Название ресторана\n",
            "----------------------------------------\n",
            "Поле: review\n",
            "Тип данных: object\n",
            "Назначение: Текст отзыва посетителя\n",
            "----------------------------------------\n",
            "Поле: feedback\n",
            "Тип данных: object\n",
            "Назначение: Тональность отзыва (целевая переменная)\n",
            "----------------------------------------\n"
          ]
        }
      ],
      "source": [
        "print(\"Описание полей набора данных:\")\n",
        "print(\"=\" * 60)\n",
        "for col in df.columns:\n",
        "    dtype = df[col].dtype\n",
        "    if col == 'Unnamed: 0':\n",
        "        purpose = \"Идентификатор записи\"\n",
        "    elif col == 'rest':\n",
        "        purpose = \"Название ресторана\"\n",
        "    elif col == 'review':\n",
        "        purpose = \"Текст отзыва посетителя\"\n",
        "    elif col == 'feedback':\n",
        "        purpose = \"Тональность отзыва (целевая переменная)\"\n",
        "    else:\n",
        "        purpose = \"Неопределенное назначение\"\n",
        "\n",
        "    print(f\"Поле: {col}\")\n",
        "    print(f\"Тип данных: {dtype}\")\n",
        "    print(f\"Назначение: {purpose}\")\n",
        "    print(\"-\" * 40)"
      ]
    },
    {
      "cell_type": "markdown",
      "id": "e9b5d265",
      "metadata": {
        "id": "e9b5d265"
      },
      "source": [
        "#### 8. Информация о наборе данных"
      ]
    },
    {
      "cell_type": "code",
      "execution_count": 8,
      "id": "5ee67609",
      "metadata": {
        "colab": {
          "base_uri": "https://localhost:8080/"
        },
        "id": "5ee67609",
        "outputId": "7e263ea5-8da8-4c99-e469-e0ab13841c5e"
      },
      "outputs": [
        {
          "output_type": "stream",
          "name": "stdout",
          "text": [
            "<class 'pandas.core.frame.DataFrame'>\n",
            "RangeIndex: 404 entries, 0 to 403\n",
            "Data columns (total 4 columns):\n",
            " #   Column      Non-Null Count  Dtype \n",
            "---  ------      --------------  ----- \n",
            " 0   Unnamed: 0  404 non-null    int64 \n",
            " 1   rest        404 non-null    object\n",
            " 2   review      404 non-null    object\n",
            " 3   feedback    404 non-null    object\n",
            "dtypes: int64(1), object(3)\n",
            "memory usage: 12.8+ KB\n"
          ]
        }
      ],
      "source": [
        "df.info()\n"
      ]
    },
    {
      "cell_type": "markdown",
      "id": "e076e26a",
      "metadata": {
        "id": "e076e26a"
      },
      "source": [
        "#### 9. Проверка наличия пропусков в данных"
      ]
    },
    {
      "cell_type": "code",
      "execution_count": 9,
      "id": "b8e45bcc",
      "metadata": {
        "colab": {
          "base_uri": "https://localhost:8080/",
          "height": 224
        },
        "id": "b8e45bcc",
        "outputId": "0176510c-3ce3-4885-a9d6-39592da9ada6"
      },
      "outputs": [
        {
          "output_type": "execute_result",
          "data": {
            "text/plain": [
              "Unnamed: 0    0\n",
              "rest          0\n",
              "review        0\n",
              "feedback      0\n",
              "dtype: int64"
            ],
            "text/html": [
              "<div>\n",
              "<style scoped>\n",
              "    .dataframe tbody tr th:only-of-type {\n",
              "        vertical-align: middle;\n",
              "    }\n",
              "\n",
              "    .dataframe tbody tr th {\n",
              "        vertical-align: top;\n",
              "    }\n",
              "\n",
              "    .dataframe thead th {\n",
              "        text-align: right;\n",
              "    }\n",
              "</style>\n",
              "<table border=\"1\" class=\"dataframe\">\n",
              "  <thead>\n",
              "    <tr style=\"text-align: right;\">\n",
              "      <th></th>\n",
              "      <th>0</th>\n",
              "    </tr>\n",
              "  </thead>\n",
              "  <tbody>\n",
              "    <tr>\n",
              "      <th>Unnamed: 0</th>\n",
              "      <td>0</td>\n",
              "    </tr>\n",
              "    <tr>\n",
              "      <th>rest</th>\n",
              "      <td>0</td>\n",
              "    </tr>\n",
              "    <tr>\n",
              "      <th>review</th>\n",
              "      <td>0</td>\n",
              "    </tr>\n",
              "    <tr>\n",
              "      <th>feedback</th>\n",
              "      <td>0</td>\n",
              "    </tr>\n",
              "  </tbody>\n",
              "</table>\n",
              "</div><br><label><b>dtype:</b> int64</label>"
            ]
          },
          "metadata": {},
          "execution_count": 9
        }
      ],
      "source": [
        "df.isnull().sum()\n"
      ]
    },
    {
      "cell_type": "markdown",
      "id": "e29d8c92",
      "metadata": {
        "id": "e29d8c92"
      },
      "source": [
        "#### 10. Если вы обнаружили пропуски в данных, то удалите их"
      ]
    },
    {
      "cell_type": "code",
      "execution_count": 10,
      "id": "31cbc03b",
      "metadata": {
        "id": "31cbc03b"
      },
      "outputs": [],
      "source": [
        "# не было"
      ]
    },
    {
      "cell_type": "markdown",
      "id": "8f82e446",
      "metadata": {
        "id": "8f82e446"
      },
      "source": [
        "#### 11. Проведите предобработку текстовых данных: удаление символов, лемматизация, стоп слова, перевод в нижний регистр"
      ]
    },
    {
      "cell_type": "code",
      "execution_count": 11,
      "id": "da0daa0b",
      "metadata": {
        "colab": {
          "base_uri": "https://localhost:8080/"
        },
        "id": "da0daa0b",
        "outputId": "b1a386ea-37e9-4a65-c2df-88fe28cbe72a"
      },
      "outputs": [
        {
          "output_type": "stream",
          "name": "stderr",
          "text": [
            "Installing mystem to /root/.local/bin/mystem from http://download.cdn.yandex.net/mystem/mystem-3.1-linux-64bit.tar.gz\n"
          ]
        }
      ],
      "source": [
        "mystem = Mystem()\n",
        "russian_stopwords = set(stopwords.words(\"russian\"))\n",
        "\n",
        "def preprocess_text(text):\n",
        "    if pd.isna(text):\n",
        "        return \"\"\n",
        "\n",
        "    # нижний регистр\n",
        "    text = text.lower()\n",
        "\n",
        "    # Удаление лишних символов\n",
        "    text = re.sub(r\"[^а-яё\\s]\", \" \", text)\n",
        "\n",
        "    # Удаляем множественные пробелы (на всякий случай)\n",
        "    text = re.sub(r\"\\s+\", \" \", text).strip()\n",
        "\n",
        "    # Токенизация\n",
        "    tokens = word_tokenize(text, language=\"russian\")\n",
        "\n",
        "    # Удаляем стоп-слова и короткие слова\n",
        "    tokens = [token for token in tokens if token not in russian_stopwords and len(token) > 2]\n",
        "\n",
        "    # Лемматизация\n",
        "    if tokens:\n",
        "        lemmas = mystem.lemmatize(\" \".join(tokens))\n",
        "        lemmas = [lemma.strip() for lemma in lemmas if lemma.strip() and len(lemma.strip()) > 1]\n",
        "        return \" \".join(lemmas)\n",
        "\n",
        "    return \"\"\n",
        "\n",
        "# Применяем предобработку\n",
        "df = df.dropna(subset=['review'])\n",
        "df['processed_review'] = df['review'].apply(preprocess_text)\n",
        "df = df[df['processed_review'].str.len() > 0]\n"
      ]
    },
    {
      "cell_type": "markdown",
      "id": "58375ceb",
      "metadata": {
        "id": "58375ceb"
      },
      "source": [
        "#### 12. Сделайте вывод о пригодности набора данных для построения модели машинного обучения"
      ]
    },
    {
      "cell_type": "code",
      "execution_count": 12,
      "id": "cea16830",
      "metadata": {
        "colab": {
          "base_uri": "https://localhost:8080/"
        },
        "id": "cea16830",
        "outputId": "79887753-4d76-439c-9e9e-f5d09905a834"
      },
      "outputs": [
        {
          "output_type": "stream",
          "name": "stdout",
          "text": [
            "В целом можно сказать, что набор нормальный, хотя и несбалансированный. После очистки и лемматизации данные пригодны для обучения модели классификации.\n"
          ]
        }
      ],
      "source": [
        "print(\"В целом можно сказать, что набор нормальный, хотя и несбалансированный. После очистки и лемматизации данные пригодны для обучения модели классификации.\")\n"
      ]
    },
    {
      "cell_type": "markdown",
      "id": "3ae2e352",
      "metadata": {
        "id": "3ae2e352"
      },
      "source": [
        "# Часть II. Построение модели машинного обучения для набора данных: Отзывы о ресторанах"
      ]
    },
    {
      "cell_type": "markdown",
      "id": "6f0b261f",
      "metadata": {
        "id": "6f0b261f"
      },
      "source": [
        "## Задание\n",
        "\n",
        "Вам нужно решить задачу классификации с помощью алгоритма\n",
        "\n",
        "Случайный лес RandomForestClassifier\n",
        "\n",
        "\n",
        "\n",
        "Целевая переменная, результат: **feedback**"
      ]
    },
    {
      "cell_type": "markdown",
      "id": "d60003c6",
      "metadata": {
        "id": "d60003c6"
      },
      "source": [
        "#### 13. Разделить выборку на признаки (Х) и результат (Y)"
      ]
    },
    {
      "cell_type": "code",
      "execution_count": 13,
      "id": "79fce5f9",
      "metadata": {
        "colab": {
          "base_uri": "https://localhost:8080/"
        },
        "id": "79fce5f9",
        "outputId": "f1c346ff-c3f8-4a35-906b-58a58b95511a"
      },
      "outputs": [
        {
          "output_type": "stream",
          "name": "stdout",
          "text": [
            "Распределение классов:\n",
            "feedback\n",
            "positive    279\n",
            "neutral      84\n",
            "negative     41\n",
            "Name: count, dtype: int64\n",
            "\n",
            "Распределение после балансировки:\n",
            "feedback\n",
            "positive    41\n",
            "neutral     41\n",
            "negative    41\n",
            "Name: count, dtype: int64\n",
            "\n",
            "Размеры: X=123, y=123\n"
          ]
        }
      ],
      "source": [
        "print(\"Распределение классов:\")\n",
        "print(df['feedback'].value_counts())\n",
        "\n",
        "min_class_size = df['feedback'].value_counts().min()\n",
        "\n",
        "balanced_dfs = []\n",
        "for class_label in df['feedback'].unique():\n",
        "    class_df = df[df['feedback'] == class_label]\n",
        "    if len(class_df) > min_class_size:\n",
        "        class_df = resample(class_df, n_samples=min_class_size, random_state=42)\n",
        "    balanced_dfs.append(class_df)\n",
        "\n",
        "df_balanced = pd.concat(balanced_dfs, ignore_index=True)\n",
        "\n",
        "print(\"\\nРаспределение после балансировки:\")\n",
        "print(df_balanced['feedback'].value_counts())\n",
        "\n",
        "X = df_balanced['processed_review']\n",
        "y = df_balanced['feedback']\n",
        "\n",
        "print(f\"\\nРазмеры: X={len(X)}, y={len(y)}\")\n"
      ]
    },
    {
      "cell_type": "markdown",
      "id": "c14ac8e1",
      "metadata": {
        "id": "c14ac8e1"
      },
      "source": [
        "#### 14. Разделить на обучающую и тестовую выборки"
      ]
    },
    {
      "cell_type": "code",
      "execution_count": 14,
      "id": "f08dda91",
      "metadata": {
        "colab": {
          "base_uri": "https://localhost:8080/"
        },
        "id": "f08dda91",
        "outputId": "df288e2a-9563-4319-d13a-3adb142f2d2c"
      },
      "outputs": [
        {
          "output_type": "stream",
          "name": "stdout",
          "text": [
            "Обучающая выборка: 98\n",
            "Тестовая выборка: 25\n",
            "Распределение в обучающей выборке:\n",
            "feedback\n",
            "neutral     33\n",
            "negative    33\n",
            "positive    32\n",
            "Name: count, dtype: int64\n"
          ]
        }
      ],
      "source": [
        "X_train, X_test, y_train, y_test = train_test_split(\n",
        "    X, y,\n",
        "    test_size=0.2,\n",
        "    random_state=42,\n",
        "    stratify=y\n",
        ")\n",
        "\n",
        "print(f\"Обучающая выборка: {len(X_train)}\")\n",
        "print(f\"Тестовая выборка: {len(X_test)}\")\n",
        "print(f\"Распределение в обучающей выборке:\\n{y_train.value_counts()}\")\n"
      ]
    },
    {
      "cell_type": "markdown",
      "id": "c2f48820",
      "metadata": {
        "id": "c2f48820"
      },
      "source": [
        "#### 15. TF-IDF векторизация и мешок слов"
      ]
    },
    {
      "cell_type": "code",
      "execution_count": 15,
      "id": "ccb49bf2",
      "metadata": {
        "colab": {
          "base_uri": "https://localhost:8080/"
        },
        "id": "ccb49bf2",
        "outputId": "e839d9af-6e86-4eca-c83b-cab8f34d2ac9"
      },
      "outputs": [
        {
          "output_type": "stream",
          "name": "stdout",
          "text": [
            "Размер матрицы признаков: (98, 988)\n",
            "Количество уникальных слов: 988\n"
          ]
        }
      ],
      "source": [
        "vectorizer = TfidfVectorizer(\n",
        "    ngram_range=(1, 2),\n",
        "    max_df=0.8,\n",
        "    min_df=3,\n",
        "    max_features=5000,\n",
        "    sublinear_tf=True,\n",
        "    use_idf=True,\n",
        "    smooth_idf=True\n",
        ")\n",
        "\n",
        "X_train_vec = vectorizer.fit_transform(X_train)\n",
        "X_test_vec = vectorizer.transform(X_test)\n",
        "\n",
        "print(f\"Размер матрицы признаков: {X_train_vec.shape}\")\n",
        "print(f\"Количество уникальных слов: {len(vectorizer.vocabulary_)}\")\n"
      ]
    },
    {
      "cell_type": "markdown",
      "id": "1eb8bfb4",
      "metadata": {
        "id": "1eb8bfb4"
      },
      "source": [
        "#### 16. Сформировать модель машинного обучения"
      ]
    },
    {
      "cell_type": "code",
      "execution_count": 16,
      "id": "71354b1a",
      "metadata": {
        "colab": {
          "base_uri": "https://localhost:8080/"
        },
        "id": "71354b1a",
        "outputId": "0c08769d-3b1a-4c41-9dbd-51d2732c02fe"
      },
      "outputs": [
        {
          "output_type": "stream",
          "name": "stdout",
          "text": [
            "Модель RandomForest создана с оптимизированными параметрами\n"
          ]
        }
      ],
      "source": [
        "rf_model = RandomForestClassifier(\n",
        "    n_estimators=100,\n",
        "    max_depth=20,\n",
        "    min_samples_split=5,\n",
        "    min_samples_leaf=2,\n",
        "    max_features='sqrt',\n",
        "    class_weight='balanced',\n",
        "    random_state=42,\n",
        "    n_jobs=-1\n",
        ")\n",
        "\n",
        "print(\"Модель RandomForest создана с оптимизированными параметрами\")\n"
      ]
    },
    {
      "cell_type": "markdown",
      "id": "bcb65a7a",
      "metadata": {
        "id": "bcb65a7a"
      },
      "source": [
        "#### 17. Обучить модель"
      ]
    },
    {
      "cell_type": "code",
      "execution_count": 17,
      "id": "c06e9d88",
      "metadata": {
        "id": "c06e9d88"
      },
      "outputs": [],
      "source": [
        "rf_model.fit(X_train_vec, y_train)\n",
        "from sklearn.model_selection import GridSearchCV\n",
        "\n",
        "param_grid = {\n",
        "    'max_depth': [10, 15, 20],\n",
        "    'min_samples_split': [2, 5],\n",
        "    'max_features': ['sqrt', 'log2']\n",
        "}\n",
        "\n",
        "grid_search = GridSearchCV(rf_model, param_grid, cv=5, n_jobs=-1, scoring='accuracy')\n",
        "grid_search.fit(X_train_vec, y_train)\n",
        "best_rf = grid_search.best_estimator_\n"
      ]
    },
    {
      "cell_type": "markdown",
      "id": "c0fa0c0d",
      "metadata": {
        "id": "c0fa0c0d"
      },
      "source": [
        "#### 18. Оценить качество модели"
      ]
    },
    {
      "cell_type": "code",
      "execution_count": 18,
      "id": "ba4f50ee",
      "metadata": {
        "colab": {
          "base_uri": "https://localhost:8080/"
        },
        "id": "ba4f50ee",
        "outputId": "2ecb919f-d3ec-452a-a330-6151f5fb0fac"
      },
      "outputs": [
        {
          "output_type": "stream",
          "name": "stdout",
          "text": [
            "              precision    recall  f1-score   support\n",
            "\n",
            "    negative       0.64      0.88      0.74         8\n",
            "     neutral       0.60      0.38      0.46         8\n",
            "    positive       0.56      0.56      0.56         9\n",
            "\n",
            "    accuracy                           0.60        25\n",
            "   macro avg       0.60      0.60      0.58        25\n",
            "weighted avg       0.60      0.60      0.58        25\n",
            "\n",
            "Accuracy: 0.6\n"
          ]
        }
      ],
      "source": [
        "y_pred = rf_model.predict(X_test_vec)\n",
        "print(classification_report(y_test, y_pred))\n",
        "print(\"Accuracy:\", accuracy_score(y_test, y_pred))\n"
      ]
    },
    {
      "cell_type": "markdown",
      "id": "8911f881",
      "metadata": {
        "id": "8911f881"
      },
      "source": [
        "#### 19. Выполнить предсказание класса для трех разных фраз"
      ]
    },
    {
      "cell_type": "code",
      "execution_count": 19,
      "id": "a186b33e",
      "metadata": {
        "colab": {
          "base_uri": "https://localhost:8080/"
        },
        "id": "a186b33e",
        "outputId": "1be1d144-e4c2-4f63-a616-1859221c7ad1"
      },
      "outputs": [
        {
          "output_type": "stream",
          "name": "stdout",
          "text": [
            "Фраза: Очень понравилось обслуживание и еда! — Класс: positive\n",
            "Фраза: Ужасное место, плохо, больше не приду. — Класс: neutral\n",
            "Фраза: Средний ресторан, ничего особенного. — Класс: neutral\n"
          ]
        }
      ],
      "source": [
        "examples = [\n",
        "    \"Очень понравилось обслуживание и еда!\",\n",
        "    \"Ужасное место, плохо, больше не приду.\",\n",
        "    \"Средний ресторан, ничего особенного.\"\n",
        "]\n",
        "examples_proc = [preprocess_text(text) for text in examples]\n",
        "examples_vec = vectorizer.transform(examples_proc)\n",
        "preds = rf_model.predict(examples_vec)\n",
        "for phrase, pred in zip(examples, preds):\n",
        "    print(f\"Фраза: {phrase} — Класс: {pred}\")\n"
      ]
    },
    {
      "cell_type": "markdown",
      "id": "7bfa1b9f",
      "metadata": {
        "id": "7bfa1b9f"
      },
      "source": [
        "#### 20. По итогам сделать вывод о качестве и пригодности модели машинного обучения для использования"
      ]
    },
    {
      "cell_type": "code",
      "execution_count": 20,
      "id": "29c9498b",
      "metadata": {
        "colab": {
          "base_uri": "https://localhost:8080/"
        },
        "id": "29c9498b",
        "outputId": "4cc62c8d-e42f-420f-f405-d58e9b934106"
      },
      "outputs": [
        {
          "output_type": "stream",
          "name": "stdout",
          "text": [
            "Модель RandomForestClassifier показала адекватные результаты на тестовой выборке. Классификатор пригоден для автоматического определения тональности отзывов о ресторанах.\n"
          ]
        }
      ],
      "source": [
        "print(\"Модель RandomForestClassifier показала адекватные результаты на тестовой выборке. Классификатор более-менее подходит для автоматического определения тональности отзывов о ресторанах.\")\n"
      ]
    },
    {
      "cell_type": "code",
      "source": [
        "logreg = LogisticRegression(\n",
        "    penalty='l1',\n",
        "    solver='liblinear',\n",
        "    C=0.5,\n",
        "    max_iter=1000,\n",
        "    class_weight='balanced'\n",
        ")\n",
        "logreg.fit(X_train_vec, y_train)\n"
      ],
      "metadata": {
        "colab": {
          "base_uri": "https://localhost:8080/",
          "height": 115
        },
        "id": "fOtmajbDZD0d",
        "outputId": "f1382661-53dc-48ff-886f-caff1521bfd3"
      },
      "id": "fOtmajbDZD0d",
      "execution_count": 21,
      "outputs": [
        {
          "output_type": "execute_result",
          "data": {
            "text/plain": [
              "LogisticRegression(C=0.5, class_weight='balanced', max_iter=1000, penalty='l1',\n",
              "                   solver='liblinear')"
            ],
            "text/html": [
              "<style>#sk-container-id-1 {\n",
              "  /* Definition of color scheme common for light and dark mode */\n",
              "  --sklearn-color-text: #000;\n",
              "  --sklearn-color-text-muted: #666;\n",
              "  --sklearn-color-line: gray;\n",
              "  /* Definition of color scheme for unfitted estimators */\n",
              "  --sklearn-color-unfitted-level-0: #fff5e6;\n",
              "  --sklearn-color-unfitted-level-1: #f6e4d2;\n",
              "  --sklearn-color-unfitted-level-2: #ffe0b3;\n",
              "  --sklearn-color-unfitted-level-3: chocolate;\n",
              "  /* Definition of color scheme for fitted estimators */\n",
              "  --sklearn-color-fitted-level-0: #f0f8ff;\n",
              "  --sklearn-color-fitted-level-1: #d4ebff;\n",
              "  --sklearn-color-fitted-level-2: #b3dbfd;\n",
              "  --sklearn-color-fitted-level-3: cornflowerblue;\n",
              "\n",
              "  /* Specific color for light theme */\n",
              "  --sklearn-color-text-on-default-background: var(--sg-text-color, var(--theme-code-foreground, var(--jp-content-font-color1, black)));\n",
              "  --sklearn-color-background: var(--sg-background-color, var(--theme-background, var(--jp-layout-color0, white)));\n",
              "  --sklearn-color-border-box: var(--sg-text-color, var(--theme-code-foreground, var(--jp-content-font-color1, black)));\n",
              "  --sklearn-color-icon: #696969;\n",
              "\n",
              "  @media (prefers-color-scheme: dark) {\n",
              "    /* Redefinition of color scheme for dark theme */\n",
              "    --sklearn-color-text-on-default-background: var(--sg-text-color, var(--theme-code-foreground, var(--jp-content-font-color1, white)));\n",
              "    --sklearn-color-background: var(--sg-background-color, var(--theme-background, var(--jp-layout-color0, #111)));\n",
              "    --sklearn-color-border-box: var(--sg-text-color, var(--theme-code-foreground, var(--jp-content-font-color1, white)));\n",
              "    --sklearn-color-icon: #878787;\n",
              "  }\n",
              "}\n",
              "\n",
              "#sk-container-id-1 {\n",
              "  color: var(--sklearn-color-text);\n",
              "}\n",
              "\n",
              "#sk-container-id-1 pre {\n",
              "  padding: 0;\n",
              "}\n",
              "\n",
              "#sk-container-id-1 input.sk-hidden--visually {\n",
              "  border: 0;\n",
              "  clip: rect(1px 1px 1px 1px);\n",
              "  clip: rect(1px, 1px, 1px, 1px);\n",
              "  height: 1px;\n",
              "  margin: -1px;\n",
              "  overflow: hidden;\n",
              "  padding: 0;\n",
              "  position: absolute;\n",
              "  width: 1px;\n",
              "}\n",
              "\n",
              "#sk-container-id-1 div.sk-dashed-wrapped {\n",
              "  border: 1px dashed var(--sklearn-color-line);\n",
              "  margin: 0 0.4em 0.5em 0.4em;\n",
              "  box-sizing: border-box;\n",
              "  padding-bottom: 0.4em;\n",
              "  background-color: var(--sklearn-color-background);\n",
              "}\n",
              "\n",
              "#sk-container-id-1 div.sk-container {\n",
              "  /* jupyter's `normalize.less` sets `[hidden] { display: none; }`\n",
              "     but bootstrap.min.css set `[hidden] { display: none !important; }`\n",
              "     so we also need the `!important` here to be able to override the\n",
              "     default hidden behavior on the sphinx rendered scikit-learn.org.\n",
              "     See: https://github.com/scikit-learn/scikit-learn/issues/21755 */\n",
              "  display: inline-block !important;\n",
              "  position: relative;\n",
              "}\n",
              "\n",
              "#sk-container-id-1 div.sk-text-repr-fallback {\n",
              "  display: none;\n",
              "}\n",
              "\n",
              "div.sk-parallel-item,\n",
              "div.sk-serial,\n",
              "div.sk-item {\n",
              "  /* draw centered vertical line to link estimators */\n",
              "  background-image: linear-gradient(var(--sklearn-color-text-on-default-background), var(--sklearn-color-text-on-default-background));\n",
              "  background-size: 2px 100%;\n",
              "  background-repeat: no-repeat;\n",
              "  background-position: center center;\n",
              "}\n",
              "\n",
              "/* Parallel-specific style estimator block */\n",
              "\n",
              "#sk-container-id-1 div.sk-parallel-item::after {\n",
              "  content: \"\";\n",
              "  width: 100%;\n",
              "  border-bottom: 2px solid var(--sklearn-color-text-on-default-background);\n",
              "  flex-grow: 1;\n",
              "}\n",
              "\n",
              "#sk-container-id-1 div.sk-parallel {\n",
              "  display: flex;\n",
              "  align-items: stretch;\n",
              "  justify-content: center;\n",
              "  background-color: var(--sklearn-color-background);\n",
              "  position: relative;\n",
              "}\n",
              "\n",
              "#sk-container-id-1 div.sk-parallel-item {\n",
              "  display: flex;\n",
              "  flex-direction: column;\n",
              "}\n",
              "\n",
              "#sk-container-id-1 div.sk-parallel-item:first-child::after {\n",
              "  align-self: flex-end;\n",
              "  width: 50%;\n",
              "}\n",
              "\n",
              "#sk-container-id-1 div.sk-parallel-item:last-child::after {\n",
              "  align-self: flex-start;\n",
              "  width: 50%;\n",
              "}\n",
              "\n",
              "#sk-container-id-1 div.sk-parallel-item:only-child::after {\n",
              "  width: 0;\n",
              "}\n",
              "\n",
              "/* Serial-specific style estimator block */\n",
              "\n",
              "#sk-container-id-1 div.sk-serial {\n",
              "  display: flex;\n",
              "  flex-direction: column;\n",
              "  align-items: center;\n",
              "  background-color: var(--sklearn-color-background);\n",
              "  padding-right: 1em;\n",
              "  padding-left: 1em;\n",
              "}\n",
              "\n",
              "\n",
              "/* Toggleable style: style used for estimator/Pipeline/ColumnTransformer box that is\n",
              "clickable and can be expanded/collapsed.\n",
              "- Pipeline and ColumnTransformer use this feature and define the default style\n",
              "- Estimators will overwrite some part of the style using the `sk-estimator` class\n",
              "*/\n",
              "\n",
              "/* Pipeline and ColumnTransformer style (default) */\n",
              "\n",
              "#sk-container-id-1 div.sk-toggleable {\n",
              "  /* Default theme specific background. It is overwritten whether we have a\n",
              "  specific estimator or a Pipeline/ColumnTransformer */\n",
              "  background-color: var(--sklearn-color-background);\n",
              "}\n",
              "\n",
              "/* Toggleable label */\n",
              "#sk-container-id-1 label.sk-toggleable__label {\n",
              "  cursor: pointer;\n",
              "  display: flex;\n",
              "  width: 100%;\n",
              "  margin-bottom: 0;\n",
              "  padding: 0.5em;\n",
              "  box-sizing: border-box;\n",
              "  text-align: center;\n",
              "  align-items: start;\n",
              "  justify-content: space-between;\n",
              "  gap: 0.5em;\n",
              "}\n",
              "\n",
              "#sk-container-id-1 label.sk-toggleable__label .caption {\n",
              "  font-size: 0.6rem;\n",
              "  font-weight: lighter;\n",
              "  color: var(--sklearn-color-text-muted);\n",
              "}\n",
              "\n",
              "#sk-container-id-1 label.sk-toggleable__label-arrow:before {\n",
              "  /* Arrow on the left of the label */\n",
              "  content: \"▸\";\n",
              "  float: left;\n",
              "  margin-right: 0.25em;\n",
              "  color: var(--sklearn-color-icon);\n",
              "}\n",
              "\n",
              "#sk-container-id-1 label.sk-toggleable__label-arrow:hover:before {\n",
              "  color: var(--sklearn-color-text);\n",
              "}\n",
              "\n",
              "/* Toggleable content - dropdown */\n",
              "\n",
              "#sk-container-id-1 div.sk-toggleable__content {\n",
              "  max-height: 0;\n",
              "  max-width: 0;\n",
              "  overflow: hidden;\n",
              "  text-align: left;\n",
              "  /* unfitted */\n",
              "  background-color: var(--sklearn-color-unfitted-level-0);\n",
              "}\n",
              "\n",
              "#sk-container-id-1 div.sk-toggleable__content.fitted {\n",
              "  /* fitted */\n",
              "  background-color: var(--sklearn-color-fitted-level-0);\n",
              "}\n",
              "\n",
              "#sk-container-id-1 div.sk-toggleable__content pre {\n",
              "  margin: 0.2em;\n",
              "  border-radius: 0.25em;\n",
              "  color: var(--sklearn-color-text);\n",
              "  /* unfitted */\n",
              "  background-color: var(--sklearn-color-unfitted-level-0);\n",
              "}\n",
              "\n",
              "#sk-container-id-1 div.sk-toggleable__content.fitted pre {\n",
              "  /* unfitted */\n",
              "  background-color: var(--sklearn-color-fitted-level-0);\n",
              "}\n",
              "\n",
              "#sk-container-id-1 input.sk-toggleable__control:checked~div.sk-toggleable__content {\n",
              "  /* Expand drop-down */\n",
              "  max-height: 200px;\n",
              "  max-width: 100%;\n",
              "  overflow: auto;\n",
              "}\n",
              "\n",
              "#sk-container-id-1 input.sk-toggleable__control:checked~label.sk-toggleable__label-arrow:before {\n",
              "  content: \"▾\";\n",
              "}\n",
              "\n",
              "/* Pipeline/ColumnTransformer-specific style */\n",
              "\n",
              "#sk-container-id-1 div.sk-label input.sk-toggleable__control:checked~label.sk-toggleable__label {\n",
              "  color: var(--sklearn-color-text);\n",
              "  background-color: var(--sklearn-color-unfitted-level-2);\n",
              "}\n",
              "\n",
              "#sk-container-id-1 div.sk-label.fitted input.sk-toggleable__control:checked~label.sk-toggleable__label {\n",
              "  background-color: var(--sklearn-color-fitted-level-2);\n",
              "}\n",
              "\n",
              "/* Estimator-specific style */\n",
              "\n",
              "/* Colorize estimator box */\n",
              "#sk-container-id-1 div.sk-estimator input.sk-toggleable__control:checked~label.sk-toggleable__label {\n",
              "  /* unfitted */\n",
              "  background-color: var(--sklearn-color-unfitted-level-2);\n",
              "}\n",
              "\n",
              "#sk-container-id-1 div.sk-estimator.fitted input.sk-toggleable__control:checked~label.sk-toggleable__label {\n",
              "  /* fitted */\n",
              "  background-color: var(--sklearn-color-fitted-level-2);\n",
              "}\n",
              "\n",
              "#sk-container-id-1 div.sk-label label.sk-toggleable__label,\n",
              "#sk-container-id-1 div.sk-label label {\n",
              "  /* The background is the default theme color */\n",
              "  color: var(--sklearn-color-text-on-default-background);\n",
              "}\n",
              "\n",
              "/* On hover, darken the color of the background */\n",
              "#sk-container-id-1 div.sk-label:hover label.sk-toggleable__label {\n",
              "  color: var(--sklearn-color-text);\n",
              "  background-color: var(--sklearn-color-unfitted-level-2);\n",
              "}\n",
              "\n",
              "/* Label box, darken color on hover, fitted */\n",
              "#sk-container-id-1 div.sk-label.fitted:hover label.sk-toggleable__label.fitted {\n",
              "  color: var(--sklearn-color-text);\n",
              "  background-color: var(--sklearn-color-fitted-level-2);\n",
              "}\n",
              "\n",
              "/* Estimator label */\n",
              "\n",
              "#sk-container-id-1 div.sk-label label {\n",
              "  font-family: monospace;\n",
              "  font-weight: bold;\n",
              "  display: inline-block;\n",
              "  line-height: 1.2em;\n",
              "}\n",
              "\n",
              "#sk-container-id-1 div.sk-label-container {\n",
              "  text-align: center;\n",
              "}\n",
              "\n",
              "/* Estimator-specific */\n",
              "#sk-container-id-1 div.sk-estimator {\n",
              "  font-family: monospace;\n",
              "  border: 1px dotted var(--sklearn-color-border-box);\n",
              "  border-radius: 0.25em;\n",
              "  box-sizing: border-box;\n",
              "  margin-bottom: 0.5em;\n",
              "  /* unfitted */\n",
              "  background-color: var(--sklearn-color-unfitted-level-0);\n",
              "}\n",
              "\n",
              "#sk-container-id-1 div.sk-estimator.fitted {\n",
              "  /* fitted */\n",
              "  background-color: var(--sklearn-color-fitted-level-0);\n",
              "}\n",
              "\n",
              "/* on hover */\n",
              "#sk-container-id-1 div.sk-estimator:hover {\n",
              "  /* unfitted */\n",
              "  background-color: var(--sklearn-color-unfitted-level-2);\n",
              "}\n",
              "\n",
              "#sk-container-id-1 div.sk-estimator.fitted:hover {\n",
              "  /* fitted */\n",
              "  background-color: var(--sklearn-color-fitted-level-2);\n",
              "}\n",
              "\n",
              "/* Specification for estimator info (e.g. \"i\" and \"?\") */\n",
              "\n",
              "/* Common style for \"i\" and \"?\" */\n",
              "\n",
              ".sk-estimator-doc-link,\n",
              "a:link.sk-estimator-doc-link,\n",
              "a:visited.sk-estimator-doc-link {\n",
              "  float: right;\n",
              "  font-size: smaller;\n",
              "  line-height: 1em;\n",
              "  font-family: monospace;\n",
              "  background-color: var(--sklearn-color-background);\n",
              "  border-radius: 1em;\n",
              "  height: 1em;\n",
              "  width: 1em;\n",
              "  text-decoration: none !important;\n",
              "  margin-left: 0.5em;\n",
              "  text-align: center;\n",
              "  /* unfitted */\n",
              "  border: var(--sklearn-color-unfitted-level-1) 1pt solid;\n",
              "  color: var(--sklearn-color-unfitted-level-1);\n",
              "}\n",
              "\n",
              ".sk-estimator-doc-link.fitted,\n",
              "a:link.sk-estimator-doc-link.fitted,\n",
              "a:visited.sk-estimator-doc-link.fitted {\n",
              "  /* fitted */\n",
              "  border: var(--sklearn-color-fitted-level-1) 1pt solid;\n",
              "  color: var(--sklearn-color-fitted-level-1);\n",
              "}\n",
              "\n",
              "/* On hover */\n",
              "div.sk-estimator:hover .sk-estimator-doc-link:hover,\n",
              ".sk-estimator-doc-link:hover,\n",
              "div.sk-label-container:hover .sk-estimator-doc-link:hover,\n",
              ".sk-estimator-doc-link:hover {\n",
              "  /* unfitted */\n",
              "  background-color: var(--sklearn-color-unfitted-level-3);\n",
              "  color: var(--sklearn-color-background);\n",
              "  text-decoration: none;\n",
              "}\n",
              "\n",
              "div.sk-estimator.fitted:hover .sk-estimator-doc-link.fitted:hover,\n",
              ".sk-estimator-doc-link.fitted:hover,\n",
              "div.sk-label-container:hover .sk-estimator-doc-link.fitted:hover,\n",
              ".sk-estimator-doc-link.fitted:hover {\n",
              "  /* fitted */\n",
              "  background-color: var(--sklearn-color-fitted-level-3);\n",
              "  color: var(--sklearn-color-background);\n",
              "  text-decoration: none;\n",
              "}\n",
              "\n",
              "/* Span, style for the box shown on hovering the info icon */\n",
              ".sk-estimator-doc-link span {\n",
              "  display: none;\n",
              "  z-index: 9999;\n",
              "  position: relative;\n",
              "  font-weight: normal;\n",
              "  right: .2ex;\n",
              "  padding: .5ex;\n",
              "  margin: .5ex;\n",
              "  width: min-content;\n",
              "  min-width: 20ex;\n",
              "  max-width: 50ex;\n",
              "  color: var(--sklearn-color-text);\n",
              "  box-shadow: 2pt 2pt 4pt #999;\n",
              "  /* unfitted */\n",
              "  background: var(--sklearn-color-unfitted-level-0);\n",
              "  border: .5pt solid var(--sklearn-color-unfitted-level-3);\n",
              "}\n",
              "\n",
              ".sk-estimator-doc-link.fitted span {\n",
              "  /* fitted */\n",
              "  background: var(--sklearn-color-fitted-level-0);\n",
              "  border: var(--sklearn-color-fitted-level-3);\n",
              "}\n",
              "\n",
              ".sk-estimator-doc-link:hover span {\n",
              "  display: block;\n",
              "}\n",
              "\n",
              "/* \"?\"-specific style due to the `<a>` HTML tag */\n",
              "\n",
              "#sk-container-id-1 a.estimator_doc_link {\n",
              "  float: right;\n",
              "  font-size: 1rem;\n",
              "  line-height: 1em;\n",
              "  font-family: monospace;\n",
              "  background-color: var(--sklearn-color-background);\n",
              "  border-radius: 1rem;\n",
              "  height: 1rem;\n",
              "  width: 1rem;\n",
              "  text-decoration: none;\n",
              "  /* unfitted */\n",
              "  color: var(--sklearn-color-unfitted-level-1);\n",
              "  border: var(--sklearn-color-unfitted-level-1) 1pt solid;\n",
              "}\n",
              "\n",
              "#sk-container-id-1 a.estimator_doc_link.fitted {\n",
              "  /* fitted */\n",
              "  border: var(--sklearn-color-fitted-level-1) 1pt solid;\n",
              "  color: var(--sklearn-color-fitted-level-1);\n",
              "}\n",
              "\n",
              "/* On hover */\n",
              "#sk-container-id-1 a.estimator_doc_link:hover {\n",
              "  /* unfitted */\n",
              "  background-color: var(--sklearn-color-unfitted-level-3);\n",
              "  color: var(--sklearn-color-background);\n",
              "  text-decoration: none;\n",
              "}\n",
              "\n",
              "#sk-container-id-1 a.estimator_doc_link.fitted:hover {\n",
              "  /* fitted */\n",
              "  background-color: var(--sklearn-color-fitted-level-3);\n",
              "}\n",
              "</style><div id=\"sk-container-id-1\" class=\"sk-top-container\"><div class=\"sk-text-repr-fallback\"><pre>LogisticRegression(C=0.5, class_weight=&#x27;balanced&#x27;, max_iter=1000, penalty=&#x27;l1&#x27;,\n",
              "                   solver=&#x27;liblinear&#x27;)</pre><b>In a Jupyter environment, please rerun this cell to show the HTML representation or trust the notebook. <br />On GitHub, the HTML representation is unable to render, please try loading this page with nbviewer.org.</b></div><div class=\"sk-container\" hidden><div class=\"sk-item\"><div class=\"sk-estimator fitted sk-toggleable\"><input class=\"sk-toggleable__control sk-hidden--visually\" id=\"sk-estimator-id-1\" type=\"checkbox\" checked><label for=\"sk-estimator-id-1\" class=\"sk-toggleable__label fitted sk-toggleable__label-arrow\"><div><div>LogisticRegression</div></div><div><a class=\"sk-estimator-doc-link fitted\" rel=\"noreferrer\" target=\"_blank\" href=\"https://scikit-learn.org/1.6/modules/generated/sklearn.linear_model.LogisticRegression.html\">?<span>Documentation for LogisticRegression</span></a><span class=\"sk-estimator-doc-link fitted\">i<span>Fitted</span></span></div></label><div class=\"sk-toggleable__content fitted\"><pre>LogisticRegression(C=0.5, class_weight=&#x27;balanced&#x27;, max_iter=1000, penalty=&#x27;l1&#x27;,\n",
              "                   solver=&#x27;liblinear&#x27;)</pre></div> </div></div></div></div>"
            ]
          },
          "metadata": {},
          "execution_count": 21
        }
      ]
    },
    {
      "cell_type": "markdown",
      "id": "2af37291",
      "metadata": {
        "id": "2af37291"
      },
      "source": [
        "#### 21. Постройте еще две модели машинного обучения, сравните той, что была в задании и сделайте вывод о том, какая модель лучше"
      ]
    },
    {
      "cell_type": "code",
      "execution_count": 22,
      "id": "7ddb9276",
      "metadata": {
        "colab": {
          "base_uri": "https://localhost:8080/"
        },
        "id": "7ddb9276",
        "outputId": "243ee52b-8f1f-4c37-a2dd-877db7255c0d"
      },
      "outputs": [
        {
          "output_type": "stream",
          "name": "stdout",
          "text": [
            "Сравнение моделей:\n",
            "============================================================\n",
            "RandomForest:\n",
            "  CV F1-macro: 0.621 ± 0.076\n",
            "  Test Accuracy: 0.600\n",
            "  Classification Report:\n",
            "              precision    recall  f1-score   support\n",
            "\n",
            "    negative       0.64      0.88      0.74         8\n",
            "     neutral       0.60      0.38      0.46         8\n",
            "    positive       0.56      0.56      0.56         9\n",
            "\n",
            "    accuracy                           0.60        25\n",
            "   macro avg       0.60      0.60      0.58        25\n",
            "weighted avg       0.60      0.60      0.58        25\n",
            "\n",
            "------------------------------------------------------------\n",
            "LogisticRegression:\n",
            "  CV F1-macro: 0.652 ± 0.046\n",
            "  Test Accuracy: 0.640\n",
            "  Classification Report:\n",
            "              precision    recall  f1-score   support\n",
            "\n",
            "    negative       0.73      1.00      0.84         8\n",
            "     neutral       0.50      0.25      0.33         8\n",
            "    positive       0.60      0.67      0.63         9\n",
            "\n",
            "    accuracy                           0.64        25\n",
            "   macro avg       0.61      0.64      0.60        25\n",
            "weighted avg       0.61      0.64      0.60        25\n",
            "\n",
            "------------------------------------------------------------\n",
            "MultinomialNB:\n",
            "  CV F1-macro: 0.699 ± 0.042\n",
            "  Test Accuracy: 0.520\n",
            "  Classification Report:\n",
            "              precision    recall  f1-score   support\n",
            "\n",
            "    negative       0.53      1.00      0.70         8\n",
            "     neutral       1.00      0.12      0.22         8\n",
            "    positive       0.44      0.44      0.44         9\n",
            "\n",
            "    accuracy                           0.52        25\n",
            "   macro avg       0.66      0.52      0.45        25\n",
            "weighted avg       0.65      0.52      0.45        25\n",
            "\n",
            "------------------------------------------------------------\n",
            "SVM:\n",
            "  CV F1-macro: 0.649 ± 0.073\n",
            "  Test Accuracy: 0.640\n",
            "  Classification Report:\n",
            "              precision    recall  f1-score   support\n",
            "\n",
            "    negative       0.67      1.00      0.80         8\n",
            "     neutral       0.67      0.25      0.36         8\n",
            "    positive       0.60      0.67      0.63         9\n",
            "\n",
            "    accuracy                           0.64        25\n",
            "   macro avg       0.64      0.64      0.60        25\n",
            "weighted avg       0.64      0.64      0.60        25\n",
            "\n",
            "------------------------------------------------------------\n",
            "\n",
            "Лучшая модель: LogisticRegression с точностью 0.640\n"
          ]
        }
      ],
      "source": [
        "from sklearn.svm import SVC\n",
        "from sklearn.model_selection import cross_val_score\n",
        "\n",
        "# Создаем дополнительные модели\n",
        "models = {\n",
        "    'RandomForest': rf_model,\n",
        "    'LogisticRegression': LogisticRegression(\n",
        "        max_iter=1000,\n",
        "        class_weight='balanced',\n",
        "        random_state=42\n",
        "    ),\n",
        "    'MultinomialNB': MultinomialNB(alpha=0.1),\n",
        "    'SVM': SVC(\n",
        "        kernel='linear',\n",
        "        class_weight='balanced',\n",
        "        random_state=42,\n",
        "        probability=True\n",
        "    )\n",
        "}\n",
        "\n",
        "print(\"Сравнение моделей:\")\n",
        "print(\"=\" * 60)\n",
        "\n",
        "best_model = None\n",
        "best_score = 0\n",
        "\n",
        "for name, model in models.items():\n",
        "    # Обучаем модель\n",
        "    model.fit(X_train_vec, y_train)\n",
        "\n",
        "    cv_scores = cross_val_score(model, X_train_vec, y_train, cv=5, scoring='f1_macro')\n",
        "\n",
        "    # Тестирование\n",
        "    y_pred = model.predict(X_test_vec)\n",
        "    test_accuracy = accuracy_score(y_test, y_pred)\n",
        "\n",
        "    print(f\"{name}:\")\n",
        "    print(f\"  CV F1-macro: {cv_scores.mean():.3f} ± {cv_scores.std():.3f}\")\n",
        "    print(f\"  Test Accuracy: {test_accuracy:.3f}\")\n",
        "    print(f\"  Classification Report:\")\n",
        "    print(classification_report(y_test, y_pred))\n",
        "    print(\"-\" * 60)\n",
        "\n",
        "    # Отслеживаем лучшую модель\n",
        "    if test_accuracy > best_score:\n",
        "        best_score = test_accuracy\n",
        "        best_model = (name, model)\n",
        "\n",
        "print(f\"\\nЛучшая модель: {best_model[0]} с точностью {best_score:.3f}\")\n"
      ]
    }
  ],
  "metadata": {
    "colab": {
      "provenance": []
    },
    "language_info": {
      "name": "python"
    },
    "kernelspec": {
      "name": "python3",
      "display_name": "Python 3"
    }
  },
  "nbformat": 4,
  "nbformat_minor": 5
}