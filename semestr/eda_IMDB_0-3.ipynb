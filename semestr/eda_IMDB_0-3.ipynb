{
  "cells": [
    {
      "cell_type": "markdown",
      "id": "b03dae55",
      "metadata": {
        "id": "b03dae55"
      },
      "source": [
        "[Текст ссылки](https://)# Разведочный анализ данных для набора данных: IMDB"
      ]
    },
    {
      "cell_type": "markdown",
      "id": "8ba28771",
      "metadata": {
        "id": "8ba28771"
      },
      "source": [
        "## Задание\n",
        "\n",
        "Вам предлагается выполнить разведочный анализ данных и описать полученные результаты\n",
        "\n",
        "Описание набора данных: https://www.kaggle.com/datasets/parthdande/imdb-dataset-2024-updated\n",
        "\n",
        "Ссылка на набор данных для использования в блокноте: https://raw.githubusercontent.com/yakushinav/journ/refs/heads/main/datasets/IMDb_Dataset.csv"
      ]
    },
    {
      "cell_type": "markdown",
      "id": "064503e1",
      "metadata": {
        "id": "064503e1"
      },
      "source": [
        "#### 1. Подключение библиотек"
      ]
    },
    {
      "cell_type": "code",
      "execution_count": null,
      "id": "ea245730",
      "metadata": {
        "id": "ea245730"
      },
      "outputs": [],
      "source": [
        " import pandas as pd\n",
        " import numpy as np\n",
        " import matplotlib.pyplot as plt\n",
        " import seaborn as sns\n",
        " from sklearn.preprocessing import LabelEncoder\n"
      ]
    },
    {
      "cell_type": "markdown",
      "id": "4bf410d3",
      "metadata": {
        "id": "4bf410d3"
      },
      "source": [
        "#### 2. Чтение набора данных"
      ]
    },
    {
      "cell_type": "code",
      "execution_count": null,
      "id": "48ed8d8d",
      "metadata": {
        "id": "48ed8d8d"
      },
      "outputs": [],
      "source": [
        "data = pd.read_csv('https://raw.githubusercontent.com/yakushinav/journ/refs/heads/main/datasets/IMDb_Dataset.csv')"
      ]
    },
    {
      "cell_type": "markdown",
      "id": "d8ac6fba",
      "metadata": {
        "id": "d8ac6fba"
      },
      "source": [
        "#### 3. Первые 5 строк набора данных"
      ]
    },
    {
      "cell_type": "code",
      "execution_count": null,
      "id": "8b9e203a",
      "metadata": {
        "colab": {
          "base_uri": "https://localhost:8080/",
          "height": 272
        },
        "id": "8b9e203a",
        "outputId": "c6717ceb-8801-41c6-d239-e2f499ec10ef"
      },
      "outputs": [
        {
          "output_type": "execute_result",
          "data": {
            "text/plain": [
              "                                           Title  IMDb Rating  Year  \\\n",
              "0                                      Gladiator          8.5  2000   \n",
              "1  Mission: Impossible - Dead Reckoning Part One          7.7  2023   \n",
              "2           Rebel Moon - Part Two: The Scargiver          5.2  2024   \n",
              "3                           Inglourious Basterds          8.4  2009   \n",
              "4                                    Borderlands          7.1  2024   \n",
              "\n",
              "  Certificates      Genre               Director  \\\n",
              "0            R     Action           Ridley Scott   \n",
              "1        PG-13     Action  Christopher McQuarrie   \n",
              "2        PG-13     Action            Zack Snyder   \n",
              "3            R  Adventure      Quentin Tarantino   \n",
              "4            R     Action               Eli Roth   \n",
              "\n",
              "                                   Star Cast  MetaScore  Duration (minutes)  \n",
              "0  David FranzoniJohn LoganWilliam Nicholson       67.0               155.0  \n",
              "1         Tom CruiseHayley AtwellVing Rhames       81.0               163.0  \n",
              "2        Zack SnyderKurt JohnstadShay Hatten       35.0               122.0  \n",
              "3              Brad PittDiane KrugerEli Roth       69.0               153.0  \n",
              "4                        Eli RothJoe Crombie       66.9               116.3  "
            ],
            "text/html": [
              "\n",
              "  <div id=\"df-9574d5dd-5b8b-47dd-a545-1d03d8e6f7ae\" class=\"colab-df-container\">\n",
              "    <div>\n",
              "<style scoped>\n",
              "    .dataframe tbody tr th:only-of-type {\n",
              "        vertical-align: middle;\n",
              "    }\n",
              "\n",
              "    .dataframe tbody tr th {\n",
              "        vertical-align: top;\n",
              "    }\n",
              "\n",
              "    .dataframe thead th {\n",
              "        text-align: right;\n",
              "    }\n",
              "</style>\n",
              "<table border=\"1\" class=\"dataframe\">\n",
              "  <thead>\n",
              "    <tr style=\"text-align: right;\">\n",
              "      <th></th>\n",
              "      <th>Title</th>\n",
              "      <th>IMDb Rating</th>\n",
              "      <th>Year</th>\n",
              "      <th>Certificates</th>\n",
              "      <th>Genre</th>\n",
              "      <th>Director</th>\n",
              "      <th>Star Cast</th>\n",
              "      <th>MetaScore</th>\n",
              "      <th>Duration (minutes)</th>\n",
              "    </tr>\n",
              "  </thead>\n",
              "  <tbody>\n",
              "    <tr>\n",
              "      <th>0</th>\n",
              "      <td>Gladiator</td>\n",
              "      <td>8.5</td>\n",
              "      <td>2000</td>\n",
              "      <td>R</td>\n",
              "      <td>Action</td>\n",
              "      <td>Ridley Scott</td>\n",
              "      <td>David FranzoniJohn LoganWilliam Nicholson</td>\n",
              "      <td>67.0</td>\n",
              "      <td>155.0</td>\n",
              "    </tr>\n",
              "    <tr>\n",
              "      <th>1</th>\n",
              "      <td>Mission: Impossible - Dead Reckoning Part One</td>\n",
              "      <td>7.7</td>\n",
              "      <td>2023</td>\n",
              "      <td>PG-13</td>\n",
              "      <td>Action</td>\n",
              "      <td>Christopher McQuarrie</td>\n",
              "      <td>Tom CruiseHayley AtwellVing Rhames</td>\n",
              "      <td>81.0</td>\n",
              "      <td>163.0</td>\n",
              "    </tr>\n",
              "    <tr>\n",
              "      <th>2</th>\n",
              "      <td>Rebel Moon - Part Two: The Scargiver</td>\n",
              "      <td>5.2</td>\n",
              "      <td>2024</td>\n",
              "      <td>PG-13</td>\n",
              "      <td>Action</td>\n",
              "      <td>Zack Snyder</td>\n",
              "      <td>Zack SnyderKurt JohnstadShay Hatten</td>\n",
              "      <td>35.0</td>\n",
              "      <td>122.0</td>\n",
              "    </tr>\n",
              "    <tr>\n",
              "      <th>3</th>\n",
              "      <td>Inglourious Basterds</td>\n",
              "      <td>8.4</td>\n",
              "      <td>2009</td>\n",
              "      <td>R</td>\n",
              "      <td>Adventure</td>\n",
              "      <td>Quentin Tarantino</td>\n",
              "      <td>Brad PittDiane KrugerEli Roth</td>\n",
              "      <td>69.0</td>\n",
              "      <td>153.0</td>\n",
              "    </tr>\n",
              "    <tr>\n",
              "      <th>4</th>\n",
              "      <td>Borderlands</td>\n",
              "      <td>7.1</td>\n",
              "      <td>2024</td>\n",
              "      <td>R</td>\n",
              "      <td>Action</td>\n",
              "      <td>Eli Roth</td>\n",
              "      <td>Eli RothJoe Crombie</td>\n",
              "      <td>66.9</td>\n",
              "      <td>116.3</td>\n",
              "    </tr>\n",
              "  </tbody>\n",
              "</table>\n",
              "</div>\n",
              "    <div class=\"colab-df-buttons\">\n",
              "\n",
              "  <div class=\"colab-df-container\">\n",
              "    <button class=\"colab-df-convert\" onclick=\"convertToInteractive('df-9574d5dd-5b8b-47dd-a545-1d03d8e6f7ae')\"\n",
              "            title=\"Convert this dataframe to an interactive table.\"\n",
              "            style=\"display:none;\">\n",
              "\n",
              "  <svg xmlns=\"http://www.w3.org/2000/svg\" height=\"24px\" viewBox=\"0 -960 960 960\">\n",
              "    <path d=\"M120-120v-720h720v720H120Zm60-500h600v-160H180v160Zm220 220h160v-160H400v160Zm0 220h160v-160H400v160ZM180-400h160v-160H180v160Zm440 0h160v-160H620v160ZM180-180h160v-160H180v160Zm440 0h160v-160H620v160Z\"/>\n",
              "  </svg>\n",
              "    </button>\n",
              "\n",
              "  <style>\n",
              "    .colab-df-container {\n",
              "      display:flex;\n",
              "      gap: 12px;\n",
              "    }\n",
              "\n",
              "    .colab-df-convert {\n",
              "      background-color: #E8F0FE;\n",
              "      border: none;\n",
              "      border-radius: 50%;\n",
              "      cursor: pointer;\n",
              "      display: none;\n",
              "      fill: #1967D2;\n",
              "      height: 32px;\n",
              "      padding: 0 0 0 0;\n",
              "      width: 32px;\n",
              "    }\n",
              "\n",
              "    .colab-df-convert:hover {\n",
              "      background-color: #E2EBFA;\n",
              "      box-shadow: 0px 1px 2px rgba(60, 64, 67, 0.3), 0px 1px 3px 1px rgba(60, 64, 67, 0.15);\n",
              "      fill: #174EA6;\n",
              "    }\n",
              "\n",
              "    .colab-df-buttons div {\n",
              "      margin-bottom: 4px;\n",
              "    }\n",
              "\n",
              "    [theme=dark] .colab-df-convert {\n",
              "      background-color: #3B4455;\n",
              "      fill: #D2E3FC;\n",
              "    }\n",
              "\n",
              "    [theme=dark] .colab-df-convert:hover {\n",
              "      background-color: #434B5C;\n",
              "      box-shadow: 0px 1px 3px 1px rgba(0, 0, 0, 0.15);\n",
              "      filter: drop-shadow(0px 1px 2px rgba(0, 0, 0, 0.3));\n",
              "      fill: #FFFFFF;\n",
              "    }\n",
              "  </style>\n",
              "\n",
              "    <script>\n",
              "      const buttonEl =\n",
              "        document.querySelector('#df-9574d5dd-5b8b-47dd-a545-1d03d8e6f7ae button.colab-df-convert');\n",
              "      buttonEl.style.display =\n",
              "        google.colab.kernel.accessAllowed ? 'block' : 'none';\n",
              "\n",
              "      async function convertToInteractive(key) {\n",
              "        const element = document.querySelector('#df-9574d5dd-5b8b-47dd-a545-1d03d8e6f7ae');\n",
              "        const dataTable =\n",
              "          await google.colab.kernel.invokeFunction('convertToInteractive',\n",
              "                                                    [key], {});\n",
              "        if (!dataTable) return;\n",
              "\n",
              "        const docLinkHtml = 'Like what you see? Visit the ' +\n",
              "          '<a target=\"_blank\" href=https://colab.research.google.com/notebooks/data_table.ipynb>data table notebook</a>'\n",
              "          + ' to learn more about interactive tables.';\n",
              "        element.innerHTML = '';\n",
              "        dataTable['output_type'] = 'display_data';\n",
              "        await google.colab.output.renderOutput(dataTable, element);\n",
              "        const docLink = document.createElement('div');\n",
              "        docLink.innerHTML = docLinkHtml;\n",
              "        element.appendChild(docLink);\n",
              "      }\n",
              "    </script>\n",
              "  </div>\n",
              "\n",
              "\n",
              "<div id=\"df-872a91a8-91d2-408d-af14-f37978f50a35\">\n",
              "  <button class=\"colab-df-quickchart\" onclick=\"quickchart('df-872a91a8-91d2-408d-af14-f37978f50a35')\"\n",
              "            title=\"Suggest charts\"\n",
              "            style=\"display:none;\">\n",
              "\n",
              "<svg xmlns=\"http://www.w3.org/2000/svg\" height=\"24px\"viewBox=\"0 0 24 24\"\n",
              "     width=\"24px\">\n",
              "    <g>\n",
              "        <path d=\"M19 3H5c-1.1 0-2 .9-2 2v14c0 1.1.9 2 2 2h14c1.1 0 2-.9 2-2V5c0-1.1-.9-2-2-2zM9 17H7v-7h2v7zm4 0h-2V7h2v10zm4 0h-2v-4h2v4z\"/>\n",
              "    </g>\n",
              "</svg>\n",
              "  </button>\n",
              "\n",
              "<style>\n",
              "  .colab-df-quickchart {\n",
              "      --bg-color: #E8F0FE;\n",
              "      --fill-color: #1967D2;\n",
              "      --hover-bg-color: #E2EBFA;\n",
              "      --hover-fill-color: #174EA6;\n",
              "      --disabled-fill-color: #AAA;\n",
              "      --disabled-bg-color: #DDD;\n",
              "  }\n",
              "\n",
              "  [theme=dark] .colab-df-quickchart {\n",
              "      --bg-color: #3B4455;\n",
              "      --fill-color: #D2E3FC;\n",
              "      --hover-bg-color: #434B5C;\n",
              "      --hover-fill-color: #FFFFFF;\n",
              "      --disabled-bg-color: #3B4455;\n",
              "      --disabled-fill-color: #666;\n",
              "  }\n",
              "\n",
              "  .colab-df-quickchart {\n",
              "    background-color: var(--bg-color);\n",
              "    border: none;\n",
              "    border-radius: 50%;\n",
              "    cursor: pointer;\n",
              "    display: none;\n",
              "    fill: var(--fill-color);\n",
              "    height: 32px;\n",
              "    padding: 0;\n",
              "    width: 32px;\n",
              "  }\n",
              "\n",
              "  .colab-df-quickchart:hover {\n",
              "    background-color: var(--hover-bg-color);\n",
              "    box-shadow: 0 1px 2px rgba(60, 64, 67, 0.3), 0 1px 3px 1px rgba(60, 64, 67, 0.15);\n",
              "    fill: var(--button-hover-fill-color);\n",
              "  }\n",
              "\n",
              "  .colab-df-quickchart-complete:disabled,\n",
              "  .colab-df-quickchart-complete:disabled:hover {\n",
              "    background-color: var(--disabled-bg-color);\n",
              "    fill: var(--disabled-fill-color);\n",
              "    box-shadow: none;\n",
              "  }\n",
              "\n",
              "  .colab-df-spinner {\n",
              "    border: 2px solid var(--fill-color);\n",
              "    border-color: transparent;\n",
              "    border-bottom-color: var(--fill-color);\n",
              "    animation:\n",
              "      spin 1s steps(1) infinite;\n",
              "  }\n",
              "\n",
              "  @keyframes spin {\n",
              "    0% {\n",
              "      border-color: transparent;\n",
              "      border-bottom-color: var(--fill-color);\n",
              "      border-left-color: var(--fill-color);\n",
              "    }\n",
              "    20% {\n",
              "      border-color: transparent;\n",
              "      border-left-color: var(--fill-color);\n",
              "      border-top-color: var(--fill-color);\n",
              "    }\n",
              "    30% {\n",
              "      border-color: transparent;\n",
              "      border-left-color: var(--fill-color);\n",
              "      border-top-color: var(--fill-color);\n",
              "      border-right-color: var(--fill-color);\n",
              "    }\n",
              "    40% {\n",
              "      border-color: transparent;\n",
              "      border-right-color: var(--fill-color);\n",
              "      border-top-color: var(--fill-color);\n",
              "    }\n",
              "    60% {\n",
              "      border-color: transparent;\n",
              "      border-right-color: var(--fill-color);\n",
              "    }\n",
              "    80% {\n",
              "      border-color: transparent;\n",
              "      border-right-color: var(--fill-color);\n",
              "      border-bottom-color: var(--fill-color);\n",
              "    }\n",
              "    90% {\n",
              "      border-color: transparent;\n",
              "      border-bottom-color: var(--fill-color);\n",
              "    }\n",
              "  }\n",
              "</style>\n",
              "\n",
              "  <script>\n",
              "    async function quickchart(key) {\n",
              "      const quickchartButtonEl =\n",
              "        document.querySelector('#' + key + ' button');\n",
              "      quickchartButtonEl.disabled = true;  // To prevent multiple clicks.\n",
              "      quickchartButtonEl.classList.add('colab-df-spinner');\n",
              "      try {\n",
              "        const charts = await google.colab.kernel.invokeFunction(\n",
              "            'suggestCharts', [key], {});\n",
              "      } catch (error) {\n",
              "        console.error('Error during call to suggestCharts:', error);\n",
              "      }\n",
              "      quickchartButtonEl.classList.remove('colab-df-spinner');\n",
              "      quickchartButtonEl.classList.add('colab-df-quickchart-complete');\n",
              "    }\n",
              "    (() => {\n",
              "      let quickchartButtonEl =\n",
              "        document.querySelector('#df-872a91a8-91d2-408d-af14-f37978f50a35 button');\n",
              "      quickchartButtonEl.style.display =\n",
              "        google.colab.kernel.accessAllowed ? 'block' : 'none';\n",
              "    })();\n",
              "  </script>\n",
              "</div>\n",
              "    </div>\n",
              "  </div>\n"
            ],
            "application/vnd.google.colaboratory.intrinsic+json": {
              "type": "dataframe",
              "variable_name": "data",
              "summary": "{\n  \"name\": \"data\",\n  \"rows\": 400,\n  \"fields\": [\n    {\n      \"column\": \"Title\",\n      \"properties\": {\n        \"dtype\": \"string\",\n        \"num_unique_values\": 251,\n        \"samples\": [\n          \"Midsommar\",\n          \"The Fifth Element\",\n          \"Arcadian\"\n        ],\n        \"semantic_type\": \"\",\n        \"description\": \"\"\n      }\n    },\n    {\n      \"column\": \"IMDb Rating\",\n      \"properties\": {\n        \"dtype\": \"number\",\n        \"std\": 0.9322513980536219,\n        \"min\": 3.9,\n        \"max\": 9.2,\n        \"num_unique_values\": 45,\n        \"samples\": [\n          5.0,\n          5.8,\n          5.9\n        ],\n        \"semantic_type\": \"\",\n        \"description\": \"\"\n      }\n    },\n    {\n      \"column\": \"Year\",\n      \"properties\": {\n        \"dtype\": \"number\",\n        \"std\": 13,\n        \"min\": 1939,\n        \"max\": 2025,\n        \"num_unique_values\": 47,\n        \"samples\": [\n          2018,\n          2002,\n          2019\n        ],\n        \"semantic_type\": \"\",\n        \"description\": \"\"\n      }\n    },\n    {\n      \"column\": \"Certificates\",\n      \"properties\": {\n        \"dtype\": \"category\",\n        \"num_unique_values\": 11,\n        \"samples\": [\n          \"Not Rated\",\n          \"R\",\n          \"16+\"\n        ],\n        \"semantic_type\": \"\",\n        \"description\": \"\"\n      }\n    },\n    {\n      \"column\": \"Genre\",\n      \"properties\": {\n        \"dtype\": \"category\",\n        \"num_unique_values\": 10,\n        \"samples\": [\n          \"Fantasy\",\n          \"Adventure\",\n          \"Biography\"\n        ],\n        \"semantic_type\": \"\",\n        \"description\": \"\"\n      }\n    },\n    {\n      \"column\": \"Director\",\n      \"properties\": {\n        \"dtype\": \"category\",\n        \"num_unique_values\": 199,\n        \"samples\": [\n          \"Antoine Fuqua\",\n          \"Jan de Bont\",\n          \"Andy Muschietti\"\n        ],\n        \"semantic_type\": \"\",\n        \"description\": \"\"\n      }\n    },\n    {\n      \"column\": \"Star Cast\",\n      \"properties\": {\n        \"dtype\": \"string\",\n        \"num_unique_values\": 247,\n        \"samples\": [\n          \"Mark BombackRick JaffaAmanda Silver\",\n          \"Luc BessonRobert Mark Kamen\",\n          \"Madelaine PetschRyan BownMatus Lajcak\"\n        ],\n        \"semantic_type\": \"\",\n        \"description\": \"\"\n      }\n    },\n    {\n      \"column\": \"MetaScore\",\n      \"properties\": {\n        \"dtype\": \"number\",\n        \"std\": 15.312005656692275,\n        \"min\": 26.0,\n        \"max\": 100.0,\n        \"num_unique_values\": 66,\n        \"samples\": [\n          89.0,\n          36.0,\n          67.0\n        ],\n        \"semantic_type\": \"\",\n        \"description\": \"\"\n      }\n    },\n    {\n      \"column\": \"Duration (minutes)\",\n      \"properties\": {\n        \"dtype\": \"number\",\n        \"std\": 21.369757457021603,\n        \"min\": 80.0,\n        \"max\": 206.0,\n        \"num_unique_values\": 79,\n        \"samples\": [\n          140.0,\n          155.0,\n          157.0\n        ],\n        \"semantic_type\": \"\",\n        \"description\": \"\"\n      }\n    }\n  ]\n}"
            }
          },
          "metadata": {},
          "execution_count": 5
        }
      ],
      "source": [
        "data.head()"
      ]
    },
    {
      "cell_type": "markdown",
      "id": "9d56e399",
      "metadata": {
        "id": "9d56e399"
      },
      "source": [
        "#### 4. Последние 7 строк набора данных"
      ]
    },
    {
      "cell_type": "code",
      "execution_count": null,
      "id": "2df30966",
      "metadata": {
        "colab": {
          "base_uri": "https://localhost:8080/",
          "height": 351
        },
        "id": "2df30966",
        "outputId": "ffd639f8-945f-4bf8-d30b-3f3ff54a30fd"
      },
      "outputs": [
        {
          "output_type": "execute_result",
          "data": {
            "text/plain": [
              "                       Title  IMDb Rating  Year Certificates      Genre  \\\n",
              "393       The Garfield Movie          5.9  2024           PG  Animation   \n",
              "394        Kinds of Kindness          7.0  2024            R     Comedy   \n",
              "395      Mother of the Bride          4.8  2024        TV-PG     Comedy   \n",
              "396  Beetlejuice Beetlejuice          7.1  2024            R     Comedy   \n",
              "397          The Idea of You          6.4  2024            R     Comedy   \n",
              "398                       IF          6.7  2024           PG  Animation   \n",
              "399             The Fall Guy          7.1  2024        PG-13     Action   \n",
              "\n",
              "              Director                                     Star Cast  \\\n",
              "393        Mark Dindal      Paul A. KaplanMark TorgoveDavid Reynolds   \n",
              "394   Yorgos Lanthimos             Efthimis FilippouYorgos Lanthimos   \n",
              "395        Mark Waters  Brooke ShieldsMiranda CosgroveBenjamin Bratt   \n",
              "396         Tim Burton    Alfred GoughMiles MillarSeth Grahame-Smith   \n",
              "397  Michael Showalter     Anne HathawayNicholas GalitzineElla Rubin   \n",
              "398     John Krasinski     Cailey FlemingRyan ReynoldsJohn Krasinski   \n",
              "399       David Leitch   Ryan GoslingEmily BluntAaron Taylor-Johnson   \n",
              "\n",
              "     MetaScore  Duration (minutes)  \n",
              "393       31.0               101.0  \n",
              "394       72.0               164.0  \n",
              "395       39.0                88.0  \n",
              "396       66.9               116.3  \n",
              "397       67.0               115.0  \n",
              "398       46.0               104.0  \n",
              "399       73.0               126.0  "
            ],
            "text/html": [
              "\n",
              "  <div id=\"df-d3f5afd3-7e5c-46df-ad40-53c7e2552ee5\" class=\"colab-df-container\">\n",
              "    <div>\n",
              "<style scoped>\n",
              "    .dataframe tbody tr th:only-of-type {\n",
              "        vertical-align: middle;\n",
              "    }\n",
              "\n",
              "    .dataframe tbody tr th {\n",
              "        vertical-align: top;\n",
              "    }\n",
              "\n",
              "    .dataframe thead th {\n",
              "        text-align: right;\n",
              "    }\n",
              "</style>\n",
              "<table border=\"1\" class=\"dataframe\">\n",
              "  <thead>\n",
              "    <tr style=\"text-align: right;\">\n",
              "      <th></th>\n",
              "      <th>Title</th>\n",
              "      <th>IMDb Rating</th>\n",
              "      <th>Year</th>\n",
              "      <th>Certificates</th>\n",
              "      <th>Genre</th>\n",
              "      <th>Director</th>\n",
              "      <th>Star Cast</th>\n",
              "      <th>MetaScore</th>\n",
              "      <th>Duration (minutes)</th>\n",
              "    </tr>\n",
              "  </thead>\n",
              "  <tbody>\n",
              "    <tr>\n",
              "      <th>393</th>\n",
              "      <td>The Garfield Movie</td>\n",
              "      <td>5.9</td>\n",
              "      <td>2024</td>\n",
              "      <td>PG</td>\n",
              "      <td>Animation</td>\n",
              "      <td>Mark Dindal</td>\n",
              "      <td>Paul A. KaplanMark TorgoveDavid Reynolds</td>\n",
              "      <td>31.0</td>\n",
              "      <td>101.0</td>\n",
              "    </tr>\n",
              "    <tr>\n",
              "      <th>394</th>\n",
              "      <td>Kinds of Kindness</td>\n",
              "      <td>7.0</td>\n",
              "      <td>2024</td>\n",
              "      <td>R</td>\n",
              "      <td>Comedy</td>\n",
              "      <td>Yorgos Lanthimos</td>\n",
              "      <td>Efthimis FilippouYorgos Lanthimos</td>\n",
              "      <td>72.0</td>\n",
              "      <td>164.0</td>\n",
              "    </tr>\n",
              "    <tr>\n",
              "      <th>395</th>\n",
              "      <td>Mother of the Bride</td>\n",
              "      <td>4.8</td>\n",
              "      <td>2024</td>\n",
              "      <td>TV-PG</td>\n",
              "      <td>Comedy</td>\n",
              "      <td>Mark Waters</td>\n",
              "      <td>Brooke ShieldsMiranda CosgroveBenjamin Bratt</td>\n",
              "      <td>39.0</td>\n",
              "      <td>88.0</td>\n",
              "    </tr>\n",
              "    <tr>\n",
              "      <th>396</th>\n",
              "      <td>Beetlejuice Beetlejuice</td>\n",
              "      <td>7.1</td>\n",
              "      <td>2024</td>\n",
              "      <td>R</td>\n",
              "      <td>Comedy</td>\n",
              "      <td>Tim Burton</td>\n",
              "      <td>Alfred GoughMiles MillarSeth Grahame-Smith</td>\n",
              "      <td>66.9</td>\n",
              "      <td>116.3</td>\n",
              "    </tr>\n",
              "    <tr>\n",
              "      <th>397</th>\n",
              "      <td>The Idea of You</td>\n",
              "      <td>6.4</td>\n",
              "      <td>2024</td>\n",
              "      <td>R</td>\n",
              "      <td>Comedy</td>\n",
              "      <td>Michael Showalter</td>\n",
              "      <td>Anne HathawayNicholas GalitzineElla Rubin</td>\n",
              "      <td>67.0</td>\n",
              "      <td>115.0</td>\n",
              "    </tr>\n",
              "    <tr>\n",
              "      <th>398</th>\n",
              "      <td>IF</td>\n",
              "      <td>6.7</td>\n",
              "      <td>2024</td>\n",
              "      <td>PG</td>\n",
              "      <td>Animation</td>\n",
              "      <td>John Krasinski</td>\n",
              "      <td>Cailey FlemingRyan ReynoldsJohn Krasinski</td>\n",
              "      <td>46.0</td>\n",
              "      <td>104.0</td>\n",
              "    </tr>\n",
              "    <tr>\n",
              "      <th>399</th>\n",
              "      <td>The Fall Guy</td>\n",
              "      <td>7.1</td>\n",
              "      <td>2024</td>\n",
              "      <td>PG-13</td>\n",
              "      <td>Action</td>\n",
              "      <td>David Leitch</td>\n",
              "      <td>Ryan GoslingEmily BluntAaron Taylor-Johnson</td>\n",
              "      <td>73.0</td>\n",
              "      <td>126.0</td>\n",
              "    </tr>\n",
              "  </tbody>\n",
              "</table>\n",
              "</div>\n",
              "    <div class=\"colab-df-buttons\">\n",
              "\n",
              "  <div class=\"colab-df-container\">\n",
              "    <button class=\"colab-df-convert\" onclick=\"convertToInteractive('df-d3f5afd3-7e5c-46df-ad40-53c7e2552ee5')\"\n",
              "            title=\"Convert this dataframe to an interactive table.\"\n",
              "            style=\"display:none;\">\n",
              "\n",
              "  <svg xmlns=\"http://www.w3.org/2000/svg\" height=\"24px\" viewBox=\"0 -960 960 960\">\n",
              "    <path d=\"M120-120v-720h720v720H120Zm60-500h600v-160H180v160Zm220 220h160v-160H400v160Zm0 220h160v-160H400v160ZM180-400h160v-160H180v160Zm440 0h160v-160H620v160ZM180-180h160v-160H180v160Zm440 0h160v-160H620v160Z\"/>\n",
              "  </svg>\n",
              "    </button>\n",
              "\n",
              "  <style>\n",
              "    .colab-df-container {\n",
              "      display:flex;\n",
              "      gap: 12px;\n",
              "    }\n",
              "\n",
              "    .colab-df-convert {\n",
              "      background-color: #E8F0FE;\n",
              "      border: none;\n",
              "      border-radius: 50%;\n",
              "      cursor: pointer;\n",
              "      display: none;\n",
              "      fill: #1967D2;\n",
              "      height: 32px;\n",
              "      padding: 0 0 0 0;\n",
              "      width: 32px;\n",
              "    }\n",
              "\n",
              "    .colab-df-convert:hover {\n",
              "      background-color: #E2EBFA;\n",
              "      box-shadow: 0px 1px 2px rgba(60, 64, 67, 0.3), 0px 1px 3px 1px rgba(60, 64, 67, 0.15);\n",
              "      fill: #174EA6;\n",
              "    }\n",
              "\n",
              "    .colab-df-buttons div {\n",
              "      margin-bottom: 4px;\n",
              "    }\n",
              "\n",
              "    [theme=dark] .colab-df-convert {\n",
              "      background-color: #3B4455;\n",
              "      fill: #D2E3FC;\n",
              "    }\n",
              "\n",
              "    [theme=dark] .colab-df-convert:hover {\n",
              "      background-color: #434B5C;\n",
              "      box-shadow: 0px 1px 3px 1px rgba(0, 0, 0, 0.15);\n",
              "      filter: drop-shadow(0px 1px 2px rgba(0, 0, 0, 0.3));\n",
              "      fill: #FFFFFF;\n",
              "    }\n",
              "  </style>\n",
              "\n",
              "    <script>\n",
              "      const buttonEl =\n",
              "        document.querySelector('#df-d3f5afd3-7e5c-46df-ad40-53c7e2552ee5 button.colab-df-convert');\n",
              "      buttonEl.style.display =\n",
              "        google.colab.kernel.accessAllowed ? 'block' : 'none';\n",
              "\n",
              "      async function convertToInteractive(key) {\n",
              "        const element = document.querySelector('#df-d3f5afd3-7e5c-46df-ad40-53c7e2552ee5');\n",
              "        const dataTable =\n",
              "          await google.colab.kernel.invokeFunction('convertToInteractive',\n",
              "                                                    [key], {});\n",
              "        if (!dataTable) return;\n",
              "\n",
              "        const docLinkHtml = 'Like what you see? Visit the ' +\n",
              "          '<a target=\"_blank\" href=https://colab.research.google.com/notebooks/data_table.ipynb>data table notebook</a>'\n",
              "          + ' to learn more about interactive tables.';\n",
              "        element.innerHTML = '';\n",
              "        dataTable['output_type'] = 'display_data';\n",
              "        await google.colab.output.renderOutput(dataTable, element);\n",
              "        const docLink = document.createElement('div');\n",
              "        docLink.innerHTML = docLinkHtml;\n",
              "        element.appendChild(docLink);\n",
              "      }\n",
              "    </script>\n",
              "  </div>\n",
              "\n",
              "\n",
              "<div id=\"df-99ffb1bd-cbab-4f49-8372-9b866952cc4c\">\n",
              "  <button class=\"colab-df-quickchart\" onclick=\"quickchart('df-99ffb1bd-cbab-4f49-8372-9b866952cc4c')\"\n",
              "            title=\"Suggest charts\"\n",
              "            style=\"display:none;\">\n",
              "\n",
              "<svg xmlns=\"http://www.w3.org/2000/svg\" height=\"24px\"viewBox=\"0 0 24 24\"\n",
              "     width=\"24px\">\n",
              "    <g>\n",
              "        <path d=\"M19 3H5c-1.1 0-2 .9-2 2v14c0 1.1.9 2 2 2h14c1.1 0 2-.9 2-2V5c0-1.1-.9-2-2-2zM9 17H7v-7h2v7zm4 0h-2V7h2v10zm4 0h-2v-4h2v4z\"/>\n",
              "    </g>\n",
              "</svg>\n",
              "  </button>\n",
              "\n",
              "<style>\n",
              "  .colab-df-quickchart {\n",
              "      --bg-color: #E8F0FE;\n",
              "      --fill-color: #1967D2;\n",
              "      --hover-bg-color: #E2EBFA;\n",
              "      --hover-fill-color: #174EA6;\n",
              "      --disabled-fill-color: #AAA;\n",
              "      --disabled-bg-color: #DDD;\n",
              "  }\n",
              "\n",
              "  [theme=dark] .colab-df-quickchart {\n",
              "      --bg-color: #3B4455;\n",
              "      --fill-color: #D2E3FC;\n",
              "      --hover-bg-color: #434B5C;\n",
              "      --hover-fill-color: #FFFFFF;\n",
              "      --disabled-bg-color: #3B4455;\n",
              "      --disabled-fill-color: #666;\n",
              "  }\n",
              "\n",
              "  .colab-df-quickchart {\n",
              "    background-color: var(--bg-color);\n",
              "    border: none;\n",
              "    border-radius: 50%;\n",
              "    cursor: pointer;\n",
              "    display: none;\n",
              "    fill: var(--fill-color);\n",
              "    height: 32px;\n",
              "    padding: 0;\n",
              "    width: 32px;\n",
              "  }\n",
              "\n",
              "  .colab-df-quickchart:hover {\n",
              "    background-color: var(--hover-bg-color);\n",
              "    box-shadow: 0 1px 2px rgba(60, 64, 67, 0.3), 0 1px 3px 1px rgba(60, 64, 67, 0.15);\n",
              "    fill: var(--button-hover-fill-color);\n",
              "  }\n",
              "\n",
              "  .colab-df-quickchart-complete:disabled,\n",
              "  .colab-df-quickchart-complete:disabled:hover {\n",
              "    background-color: var(--disabled-bg-color);\n",
              "    fill: var(--disabled-fill-color);\n",
              "    box-shadow: none;\n",
              "  }\n",
              "\n",
              "  .colab-df-spinner {\n",
              "    border: 2px solid var(--fill-color);\n",
              "    border-color: transparent;\n",
              "    border-bottom-color: var(--fill-color);\n",
              "    animation:\n",
              "      spin 1s steps(1) infinite;\n",
              "  }\n",
              "\n",
              "  @keyframes spin {\n",
              "    0% {\n",
              "      border-color: transparent;\n",
              "      border-bottom-color: var(--fill-color);\n",
              "      border-left-color: var(--fill-color);\n",
              "    }\n",
              "    20% {\n",
              "      border-color: transparent;\n",
              "      border-left-color: var(--fill-color);\n",
              "      border-top-color: var(--fill-color);\n",
              "    }\n",
              "    30% {\n",
              "      border-color: transparent;\n",
              "      border-left-color: var(--fill-color);\n",
              "      border-top-color: var(--fill-color);\n",
              "      border-right-color: var(--fill-color);\n",
              "    }\n",
              "    40% {\n",
              "      border-color: transparent;\n",
              "      border-right-color: var(--fill-color);\n",
              "      border-top-color: var(--fill-color);\n",
              "    }\n",
              "    60% {\n",
              "      border-color: transparent;\n",
              "      border-right-color: var(--fill-color);\n",
              "    }\n",
              "    80% {\n",
              "      border-color: transparent;\n",
              "      border-right-color: var(--fill-color);\n",
              "      border-bottom-color: var(--fill-color);\n",
              "    }\n",
              "    90% {\n",
              "      border-color: transparent;\n",
              "      border-bottom-color: var(--fill-color);\n",
              "    }\n",
              "  }\n",
              "</style>\n",
              "\n",
              "  <script>\n",
              "    async function quickchart(key) {\n",
              "      const quickchartButtonEl =\n",
              "        document.querySelector('#' + key + ' button');\n",
              "      quickchartButtonEl.disabled = true;  // To prevent multiple clicks.\n",
              "      quickchartButtonEl.classList.add('colab-df-spinner');\n",
              "      try {\n",
              "        const charts = await google.colab.kernel.invokeFunction(\n",
              "            'suggestCharts', [key], {});\n",
              "      } catch (error) {\n",
              "        console.error('Error during call to suggestCharts:', error);\n",
              "      }\n",
              "      quickchartButtonEl.classList.remove('colab-df-spinner');\n",
              "      quickchartButtonEl.classList.add('colab-df-quickchart-complete');\n",
              "    }\n",
              "    (() => {\n",
              "      let quickchartButtonEl =\n",
              "        document.querySelector('#df-99ffb1bd-cbab-4f49-8372-9b866952cc4c button');\n",
              "      quickchartButtonEl.style.display =\n",
              "        google.colab.kernel.accessAllowed ? 'block' : 'none';\n",
              "    })();\n",
              "  </script>\n",
              "</div>\n",
              "    </div>\n",
              "  </div>\n"
            ],
            "application/vnd.google.colaboratory.intrinsic+json": {
              "type": "dataframe",
              "summary": "{\n  \"name\": \"data\",\n  \"rows\": 7,\n  \"fields\": [\n    {\n      \"column\": \"Title\",\n      \"properties\": {\n        \"dtype\": \"string\",\n        \"num_unique_values\": 7,\n        \"samples\": [\n          \"The Garfield Movie\",\n          \"Kinds of Kindness\",\n          \"IF\"\n        ],\n        \"semantic_type\": \"\",\n        \"description\": \"\"\n      }\n    },\n    {\n      \"column\": \"IMDb Rating\",\n      \"properties\": {\n        \"dtype\": \"number\",\n        \"std\": 0.8400680244565232,\n        \"min\": 4.8,\n        \"max\": 7.1,\n        \"num_unique_values\": 6,\n        \"samples\": [\n          5.9,\n          7.0,\n          6.7\n        ],\n        \"semantic_type\": \"\",\n        \"description\": \"\"\n      }\n    },\n    {\n      \"column\": \"Year\",\n      \"properties\": {\n        \"dtype\": \"number\",\n        \"std\": 0,\n        \"min\": 2024,\n        \"max\": 2024,\n        \"num_unique_values\": 1,\n        \"samples\": [\n          2024\n        ],\n        \"semantic_type\": \"\",\n        \"description\": \"\"\n      }\n    },\n    {\n      \"column\": \"Certificates\",\n      \"properties\": {\n        \"dtype\": \"string\",\n        \"num_unique_values\": 4,\n        \"samples\": [\n          \"R\"\n        ],\n        \"semantic_type\": \"\",\n        \"description\": \"\"\n      }\n    },\n    {\n      \"column\": \"Genre\",\n      \"properties\": {\n        \"dtype\": \"category\",\n        \"num_unique_values\": 3,\n        \"samples\": [\n          \"Animation\"\n        ],\n        \"semantic_type\": \"\",\n        \"description\": \"\"\n      }\n    },\n    {\n      \"column\": \"Director\",\n      \"properties\": {\n        \"dtype\": \"string\",\n        \"num_unique_values\": 7,\n        \"samples\": [\n          \"Mark Dindal\"\n        ],\n        \"semantic_type\": \"\",\n        \"description\": \"\"\n      }\n    },\n    {\n      \"column\": \"Star Cast\",\n      \"properties\": {\n        \"dtype\": \"string\",\n        \"num_unique_values\": 7,\n        \"samples\": [\n          \"Paul A. KaplanMark TorgoveDavid Reynolds\"\n        ],\n        \"semantic_type\": \"\",\n        \"description\": \"\"\n      }\n    },\n    {\n      \"column\": \"MetaScore\",\n      \"properties\": {\n        \"dtype\": \"number\",\n        \"std\": 17.308998485511186,\n        \"min\": 31.0,\n        \"max\": 73.0,\n        \"num_unique_values\": 7,\n        \"samples\": [\n          31.0\n        ],\n        \"semantic_type\": \"\",\n        \"description\": \"\"\n      }\n    },\n    {\n      \"column\": \"Duration (minutes)\",\n      \"properties\": {\n        \"dtype\": \"number\",\n        \"std\": 24.349313083104573,\n        \"min\": 88.0,\n        \"max\": 164.0,\n        \"num_unique_values\": 7,\n        \"samples\": [\n          101.0\n        ],\n        \"semantic_type\": \"\",\n        \"description\": \"\"\n      }\n    }\n  ]\n}"
            }
          },
          "metadata": {},
          "execution_count": 6
        }
      ],
      "source": [
        "data.tail(7)"
      ]
    },
    {
      "cell_type": "markdown",
      "id": "08669f25",
      "metadata": {
        "id": "08669f25"
      },
      "source": [
        "#### 5. Поля набора данных"
      ]
    },
    {
      "cell_type": "code",
      "execution_count": null,
      "id": "2a434269",
      "metadata": {
        "id": "2a434269"
      },
      "outputs": [],
      "source": [
        "columns = data.columns"
      ]
    },
    {
      "cell_type": "markdown",
      "id": "d550dcf9",
      "metadata": {
        "id": "d550dcf9"
      },
      "source": [
        "#### 6. Размер набора данных (количество полей и строк)"
      ]
    },
    {
      "cell_type": "code",
      "execution_count": null,
      "id": "3a83ead3",
      "metadata": {
        "id": "3a83ead3"
      },
      "outputs": [],
      "source": [
        "print(f\"Количество строк: {data.shape[0]}\")\n",
        "print(f\"Количество столбцов: {data.shape[1]}\")"
      ]
    },
    {
      "cell_type": "markdown",
      "id": "e9fc7e04",
      "metadata": {
        "id": "e9fc7e04"
      },
      "source": [
        "#### 7. Опишите поля набора данных в формате: название поля, тип данных, назначение поля"
      ]
    },
    {
      "cell_type": "code",
      "execution_count": null,
      "id": "c11f702e",
      "metadata": {
        "id": "c11f702e"
      },
      "outputs": [],
      "source": [
        "field_description = \"\"\"\n",
        "1. Title: Название фильма (string)\n",
        "2. Year: Год выпуска (integer)\n",
        "3. Genre: Жанр фильма (string)\n",
        "4. Director: Режиссер (string)\n",
        "5. Star Cast: Основной актерский состав (string)\n",
        "6. Runtime: Продолжительность фильма (integer)\n",
        "7. Country: Страна производства (string)\n",
        "8. Language: Язык фильма (string)\n",
        "9. Certificates: Сертификация (string)\n",
        "10. IMDb Rating: Рейтинг IMDb (float)\n",
        "11. MetaScore: Оценка MetaScore (float)\n",
        "12. Votes: Количество голосов (integer)\n",
        "\"\"\""
      ]
    },
    {
      "cell_type": "markdown",
      "id": "d0491f49",
      "metadata": {
        "id": "d0491f49"
      },
      "source": [
        "#### 8. Информация о наборе данных"
      ]
    },
    {
      "cell_type": "code",
      "execution_count": null,
      "id": "d9259eff",
      "metadata": {
        "id": "d9259eff"
      },
      "outputs": [],
      "source": [
        "data.info()"
      ]
    },
    {
      "cell_type": "markdown",
      "id": "9af973e5",
      "metadata": {
        "id": "9af973e5"
      },
      "source": [
        "#### 9. Описательная статистика для числовых полей"
      ]
    },
    {
      "cell_type": "code",
      "execution_count": null,
      "id": "d60fef66",
      "metadata": {
        "id": "d60fef66"
      },
      "outputs": [],
      "source": [
        "numeric_stats = data.describe()"
      ]
    },
    {
      "cell_type": "markdown",
      "id": "34938310",
      "metadata": {
        "id": "34938310"
      },
      "source": [
        "#### 10. Описательная статистика для категориальных полей"
      ]
    },
    {
      "cell_type": "code",
      "execution_count": null,
      "id": "ae8c8db1",
      "metadata": {
        "id": "ae8c8db1"
      },
      "outputs": [],
      "source": [
        "categorical_stats = data.describe(exclude=np.number)"
      ]
    },
    {
      "cell_type": "markdown",
      "id": "a522fe48",
      "metadata": {
        "id": "a522fe48"
      },
      "source": [
        "#### 11. Проверка наличия пропусков в данных"
      ]
    },
    {
      "cell_type": "code",
      "execution_count": null,
      "id": "17b1b2ed",
      "metadata": {
        "id": "17b1b2ed"
      },
      "outputs": [],
      "source": [
        "missing_values = data.isnull().sum()\n"
      ]
    },
    {
      "cell_type": "markdown",
      "id": "39002063",
      "metadata": {
        "id": "39002063"
      },
      "source": [
        "#### 12. Если вы обнаружили пропуски в данных, то заполните их на основе среднего или медианы или моды"
      ]
    },
    {
      "cell_type": "code",
      "execution_count": null,
      "id": "8c3d3ddd",
      "metadata": {
        "id": "8c3d3ddd"
      },
      "outputs": [],
      "source": [
        "data.fillna(data.median(), inplace=True)"
      ]
    },
    {
      "cell_type": "markdown",
      "id": "285a2994",
      "metadata": {
        "id": "285a2994"
      },
      "source": [
        "#### 13. Фильтрация. Выберите все строки таблицы, для которых значение поля Year больше 1982"
      ]
    },
    {
      "cell_type": "code",
      "execution_count": null,
      "id": "ba639f93",
      "metadata": {
        "id": "ba639f93"
      },
      "outputs": [],
      "source": [
        "filtered_year = data[data['Year'] > 1982]"
      ]
    },
    {
      "cell_type": "markdown",
      "id": "eb1249cb",
      "metadata": {
        "id": "eb1249cb"
      },
      "source": [
        "#### 14. Фильтрация. Выберите все строки таблицы, для которых значение поля Genre равно Action"
      ]
    },
    {
      "cell_type": "code",
      "execution_count": null,
      "id": "72bc724f",
      "metadata": {
        "id": "72bc724f"
      },
      "outputs": [],
      "source": [
        "filtered_genre = data[data['Genre'] == 'Action']"
      ]
    },
    {
      "cell_type": "markdown",
      "id": "223eb145",
      "metadata": {
        "id": "223eb145"
      },
      "source": [
        "#### 15. Фильтрация. Выберите все строки таблицы, для которых значение поля Star Cast равно Gil KenanJason ReitmanIvan Reitman и значение поля Certificates равно R"
      ]
    },
    {
      "cell_type": "code",
      "execution_count": null,
      "id": "4ed3065a",
      "metadata": {
        "id": "4ed3065a"
      },
      "outputs": [],
      "source": [
        "filtered_cast = data[(data['Star Cast'] == 'Gil KenanJason ReitmanIvan Reitman') & (data['Certificates'] == 'R')]"
      ]
    },
    {
      "cell_type": "markdown",
      "id": "ff61165d",
      "metadata": {
        "id": "ff61165d"
      },
      "source": [
        "#### 16. Получите все уникальные значения поля  Certificates и подсчитайте частоту появления каждого их них"
      ]
    },
    {
      "cell_type": "code",
      "execution_count": null,
      "id": "e32b9d3e",
      "metadata": {
        "id": "e32b9d3e"
      },
      "outputs": [],
      "source": [
        "certificates_freq = data['Certificates'].value_counts()"
      ]
    },
    {
      "cell_type": "markdown",
      "id": "27dd389c",
      "metadata": {
        "id": "27dd389c"
      },
      "source": [
        "#### 17. Выполните группировку набора данных одновременно по полям Director и Genre. Добавьте подсчет минимума, максимума и медианы по каждой группе."
      ]
    },
    {
      "cell_type": "code",
      "execution_count": null,
      "id": "7c634f80",
      "metadata": {
        "id": "7c634f80"
      },
      "outputs": [],
      "source": [
        "grouped = data.groupby(['Director', 'Genre']).agg({'IMDb Rating': ['min', 'max', 'median']})"
      ]
    },
    {
      "cell_type": "markdown",
      "id": "274afa06",
      "metadata": {
        "id": "274afa06"
      },
      "source": [
        "#### 18. Постройте поле корреляции (тепловая карта) для числовых полей"
      ]
    },
    {
      "cell_type": "code",
      "execution_count": null,
      "id": "25abcf1f",
      "metadata": {
        "id": "25abcf1f"
      },
      "outputs": [],
      "source": [
        "plt.figure(figsize=(10, 8))\n",
        "sns.heatmap(data.corr(), annot=True, cmap='coolwarm')\n",
        "plt.title('Корреляционная матрица')\n",
        "plt.show()"
      ]
    },
    {
      "cell_type": "markdown",
      "id": "259b49c2",
      "metadata": {
        "id": "259b49c2"
      },
      "source": [
        "#### 19. Постройте гистограмму по полю IMDb Rating"
      ]
    },
    {
      "cell_type": "code",
      "execution_count": null,
      "id": "9e9147dc",
      "metadata": {
        "id": "9e9147dc"
      },
      "outputs": [],
      "source": [
        "plt.figure(figsize=(10, 6))\n",
        "sns.histplot(data['IMDb Rating'], bins=20, kde=True)\n",
        "plt.title('Распределение рейтингов IMDb')\n",
        "plt.xlabel('Рейтинг')\n",
        "plt.ylabel('Частота')\n",
        "plt.show()"
      ]
    },
    {
      "cell_type": "markdown",
      "id": "e7f2a54b",
      "metadata": {
        "id": "e7f2a54b"
      },
      "source": [
        "#### 20. Постройте точечную диаграмму для полей MetaScore и IMDb Rating"
      ]
    },
    {
      "cell_type": "code",
      "execution_count": null,
      "id": "d1b88463",
      "metadata": {
        "id": "d1b88463"
      },
      "outputs": [],
      "source": [
        "plt.figure(figsize=(10, 6))\n",
        "sns.scatterplot(x='MetaScore', y='IMDb Rating', data=data)\n",
        "plt.title('Сравнение MetaScore и IMDb Rating')\n",
        "plt.show()"
      ]
    },
    {
      "cell_type": "markdown",
      "id": "543baa40",
      "metadata": {
        "id": "543baa40"
      },
      "source": [
        "#### 21. Постройте диаграмму ящик с усами поля MetaScore"
      ]
    },
    {
      "cell_type": "code",
      "execution_count": null,
      "id": "88cc2e3f",
      "metadata": {
        "id": "88cc2e3f"
      },
      "outputs": [],
      "source": [
        "plt.figure(figsize=(10, 6))\n",
        "sns.boxplot(x=data['MetaScore'])\n",
        "plt.title('Boxplot MetaScore')\n",
        "plt.show()"
      ]
    },
    {
      "cell_type": "markdown",
      "id": "50bd4ca6",
      "metadata": {
        "id": "50bd4ca6"
      },
      "source": [
        "#### 22. Постройте матрицу диаграммы рассеяния"
      ]
    },
    {
      "cell_type": "code",
      "execution_count": null,
      "id": "41a7b2d4",
      "metadata": {
        "id": "41a7b2d4"
      },
      "outputs": [],
      "source": [
        "sns.pairplot(data[['IMDb Rating', 'MetaScore', 'Votes', 'Runtime']])\n",
        "plt.show()"
      ]
    },
    {
      "cell_type": "markdown",
      "id": "4a78da2a",
      "metadata": {
        "id": "4a78da2a"
      },
      "source": [
        "#### 23. Преобразуйте все категориальные поля в числовые с помощью LabelEncoder"
      ]
    },
    {
      "cell_type": "code",
      "execution_count": 1,
      "id": "4a50c7e7",
      "metadata": {
        "id": "4a50c7e7",
        "colab": {
          "base_uri": "https://localhost:8080/",
          "height": 173
        },
        "outputId": "e5ade6bc-b06e-41d8-ed6e-223dfe33d304"
      },
      "outputs": [
        {
          "output_type": "error",
          "ename": "NameError",
          "evalue": "name 'LabelEncoder' is not defined",
          "traceback": [
            "\u001b[0;31m---------------------------------------------------------------------------\u001b[0m",
            "\u001b[0;31mNameError\u001b[0m                                 Traceback (most recent call last)",
            "\u001b[0;32m<ipython-input-1-911226079196>\u001b[0m in \u001b[0;36m<cell line: 0>\u001b[0;34m()\u001b[0m\n\u001b[0;32m----> 1\u001b[0;31m \u001b[0mle\u001b[0m \u001b[0;34m=\u001b[0m \u001b[0mLabelEncoder\u001b[0m\u001b[0;34m(\u001b[0m\u001b[0;34m)\u001b[0m\u001b[0;34m\u001b[0m\u001b[0;34m\u001b[0m\u001b[0m\n\u001b[0m\u001b[1;32m      2\u001b[0m \u001b[0;32mfor\u001b[0m \u001b[0mcol\u001b[0m \u001b[0;32min\u001b[0m \u001b[0mdata\u001b[0m\u001b[0;34m.\u001b[0m\u001b[0mselect_dtypes\u001b[0m\u001b[0;34m(\u001b[0m\u001b[0minclude\u001b[0m\u001b[0;34m=\u001b[0m\u001b[0;34m[\u001b[0m\u001b[0;34m'object'\u001b[0m\u001b[0;34m]\u001b[0m\u001b[0;34m)\u001b[0m\u001b[0;34m.\u001b[0m\u001b[0mcolumns\u001b[0m\u001b[0;34m:\u001b[0m\u001b[0;34m\u001b[0m\u001b[0;34m\u001b[0m\u001b[0m\n\u001b[1;32m      3\u001b[0m     \u001b[0mdata\u001b[0m\u001b[0;34m[\u001b[0m\u001b[0mcol\u001b[0m\u001b[0;34m]\u001b[0m \u001b[0;34m=\u001b[0m \u001b[0mle\u001b[0m\u001b[0;34m.\u001b[0m\u001b[0mfit_transform\u001b[0m\u001b[0;34m(\u001b[0m\u001b[0mdata\u001b[0m\u001b[0;34m[\u001b[0m\u001b[0mcol\u001b[0m\u001b[0;34m]\u001b[0m\u001b[0;34m.\u001b[0m\u001b[0mastype\u001b[0m\u001b[0;34m(\u001b[0m\u001b[0mstr\u001b[0m\u001b[0;34m)\u001b[0m\u001b[0;34m)\u001b[0m\u001b[0;34m\u001b[0m\u001b[0;34m\u001b[0m\u001b[0m\n",
            "\u001b[0;31mNameError\u001b[0m: name 'LabelEncoder' is not defined"
          ]
        }
      ],
      "source": [
        "le = LabelEncoder()\n",
        "for col in data.select_dtypes(include=['object']).columns:\n",
        "    data[col] = le.fit_transform(data[col].astype(str))\n"
      ]
    },
    {
      "cell_type": "markdown",
      "id": "e06766ec",
      "metadata": {
        "id": "e06766ec"
      },
      "source": [
        "#### 24. Сделайте вывод о проделанной работе и особенностях набора данных"
      ]
    },
    {
      "cell_type": "code",
      "execution_count": null,
      "id": "1123b63f",
      "metadata": {
        "id": "1123b63f"
      },
      "outputs": [],
      "source": [
        "Выводы\n",
        "\t1.\tНабор данных содержит информацию о 400 фильмах, включая рейтинги, продолжительность, жанры и режиссеров.\n",
        "\t2.\tБольшинство фильмов имеют возрастной рейтинг R и жанр Action.\n",
        "\t3.\tКорреляция между MetaScore и IMDb Rating указывает на умеренную связь между этими показателями.\n",
        "\t4.\tДанные хорошо структурированы и не содержат пропусков, что облегчает их дальнейший анализ или использование в моделях машинного обучения."
      ]
    }
  ],
  "metadata": {
    "colab": {
      "provenance": []
    },
    "language_info": {
      "name": "python"
    },
    "kernelspec": {
      "name": "python3",
      "display_name": "Python 3"
    }
  },
  "nbformat": 4,
  "nbformat_minor": 5
}