{
  "cells": [
    {
      "cell_type": "markdown",
      "metadata": {
        "ExecuteTime": {
          "end_time": "2017-05-14T12:45:01.548143",
          "start_time": "2017-05-14T12:45:01.544684"
        },
        "id": "t8PEr9ME9_9g"
      },
      "source": [
        "# Анализ данных с Pandas"
      ]
    },
    {
      "cell_type": "code",
      "execution_count": null,
      "metadata": {
        "ExecuteTime": {
          "end_time": "2018-06-22T11:03:09.115996Z",
          "start_time": "2018-06-22T11:03:09.075870Z"
        },
        "id": "dgq-LF3U9_9l"
      },
      "outputs": [],
      "source": [
        "import pandas as pd\n",
        "import numpy as np"
      ]
    },
    {
      "cell_type": "markdown",
      "metadata": {
        "id": "VY-mcHrQ9_9n"
      },
      "source": [
        "## Структура"
      ]
    },
    {
      "cell_type": "code",
      "execution_count": null,
      "metadata": {
        "ExecuteTime": {
          "end_time": "2017-07-18T14:34:50.278547",
          "start_time": "2017-07-18T14:34:50.267946"
        },
        "id": "IZi5q9QK9_9n"
      },
      "outputs": [],
      "source": [
        "q = pd.DataFrame(data={'a': ['abc', 'bcd', 'def'], 'b': [1,2,3], 'c': [100, 300, 200]}, index=[8,9,10])\n",
        "q"
      ]
    },
    {
      "cell_type": "code",
      "execution_count": null,
      "metadata": {
        "ExecuteTime": {
          "end_time": "2017-07-18T14:34:50.361898",
          "start_time": "2017-07-18T14:34:50.354925"
        },
        "id": "UsIi33Me9_9n"
      },
      "outputs": [],
      "source": [
        "q.index"
      ]
    },
    {
      "cell_type": "code",
      "execution_count": null,
      "metadata": {
        "ExecuteTime": {
          "end_time": "2017-07-18T14:34:50.631748",
          "start_time": "2017-07-18T14:34:50.627202"
        },
        "id": "NVZtacml9_9o"
      },
      "outputs": [],
      "source": [
        "q.columns"
      ]
    },
    {
      "cell_type": "code",
      "execution_count": null,
      "metadata": {
        "ExecuteTime": {
          "end_time": "2017-07-18T14:34:50.738798",
          "start_time": "2017-07-18T14:34:50.727861"
        },
        "id": "0BnYgVbJ9_9o"
      },
      "outputs": [],
      "source": [
        "q.a"
      ]
    },
    {
      "cell_type": "code",
      "execution_count": null,
      "metadata": {
        "ExecuteTime": {
          "end_time": "2017-07-18T14:34:50.880436",
          "start_time": "2017-07-18T14:34:50.875460"
        },
        "id": "BGCdo3Ha9_9o"
      },
      "outputs": [],
      "source": [
        "q['a']"
      ]
    },
    {
      "cell_type": "code",
      "execution_count": null,
      "metadata": {
        "ExecuteTime": {
          "end_time": "2017-07-18T14:34:51.054256",
          "start_time": "2017-07-18T14:34:51.050052"
        },
        "id": "dUu5oNEQ9_9o"
      },
      "outputs": [],
      "source": [
        "type(q.a)"
      ]
    },
    {
      "cell_type": "code",
      "execution_count": null,
      "metadata": {
        "ExecuteTime": {
          "end_time": "2017-07-18T14:34:51.291890",
          "start_time": "2017-07-18T14:34:51.273436"
        },
        "id": "Ba7qZzvw9_9p"
      },
      "outputs": [],
      "source": [
        "q[:2]"
      ]
    },
    {
      "cell_type": "code",
      "execution_count": null,
      "metadata": {
        "ExecuteTime": {
          "end_time": "2017-07-18T14:34:51.495244",
          "start_time": "2017-07-18T14:34:51.485800"
        },
        "id": "giQJHDRV9_9p"
      },
      "outputs": [],
      "source": [
        "q[ ['a', 'b'] ]"
      ]
    },
    {
      "cell_type": "code",
      "execution_count": null,
      "metadata": {
        "ExecuteTime": {
          "end_time": "2017-07-18T14:34:51.543569",
          "start_time": "2017-07-18T14:34:51.532338"
        },
        "id": "Im8NS6Uw9_9p"
      },
      "outputs": [],
      "source": [
        "q[['a', 'b']][:2]"
      ]
    },
    {
      "cell_type": "markdown",
      "metadata": {
        "id": "ZKagRc9k9_9p"
      },
      "source": [
        "## Чтение и просмотр"
      ]
    },
    {
      "cell_type": "markdown",
      "metadata": {
        "id": "VmFXfVsj9_9p"
      },
      "source": [
        "Данные соцопросов Census Income, с которыми будем работать:"
      ]
    },
    {
      "cell_type": "code",
      "execution_count": null,
      "metadata": {
        "ExecuteTime": {
          "end_time": "2018-06-22T11:03:13.273900Z",
          "start_time": "2018-06-22T11:03:13.116041Z"
        },
        "id": "nsHnivDW9_9q"
      },
      "outputs": [],
      "source": [
        "df = pd.read_csv('https://raw.githubusercontent.com/yakushinav/omo/main/data/adult_data.csv')"
      ]
    },
    {
      "cell_type": "markdown",
      "metadata": {
        "id": "aooXIp4P9_9q"
      },
      "source": [
        "* __age__: continuous.\n",
        "* __workclass__: Private, Self-emp-not-inc, Self-emp-inc, Federal-gov, Local-gov, State-gov, Without-pay, Never-worked.\n",
        "* __fnlwgt__: continuous.\n",
        "* __education__: Bachelors, Some-college, 11th, HS-grad, Prof-school, Assoc-acdm, Assoc-voc, 9th, 7th-8th, 12th, Masters, 1st-4th, 10th, Doctorate, 5th-6th, Preschool.\n",
        "* __education-num__: continuous.\n",
        "* __marital-status__: Married-civ-spouse, Divorced, Never-married, Separated, Widowed, Married-spouse-absent, Married-AF-spouse.\n",
        "* __occupation__: Tech-support, Craft-repair, Other-service, Sales, Exec-managerial, Prof-specialty, Handlers-cleaners, Machine-op-inspct, Adm-clerical, Farming-fishing, Transport-moving, Priv-house-serv, Protective-serv, Armed-Forces.\n",
        "* __relationship__: Wife, Own-child, Husband, Not-in-family, Other-relative, Unmarried.\n",
        "* __race__: White, Asian-Pac-Islander, Amer-Indian-Eskimo, Other, Black.\n",
        "* __sex__: Female, Male.\n",
        "* __capital-gain__: continuous.\n",
        "* __capital-loss__: continuous.\n",
        "* __hours-per-week__: continuous.\n",
        "* __native-country__: United-States, Cambodia, England, Puerto-Rico, Canada, Germany, Outlying-US(Guam-USVI-etc), India, Japan, Greece, South, China, Cuba, Iran, Honduras, Philippines, Italy, Poland, Jamaica, Vietnam, Mexico, Portugal, Ireland, France, Dominican-Republic, Laos, Ecuador, Taiwan, Haiti, Columbia, Hungary, Guatemala, Nicaragua, Scotland, Thailand, Yugoslavia, El-Salvador, Trinadad&Tobago, Peru, Hong, Holand-Netherlands."
      ]
    },
    {
      "cell_type": "markdown",
      "metadata": {
        "id": "Cbj81QRU9_9q"
      },
      "source": [
        "`head()` показывает первые 5 строк датафрейма.\n",
        "\n",
        "`tail()` - последние 5.\n",
        "\n",
        "`head(N)` показывает первые N строк датафрейма.\n",
        "\n",
        "`tail(N)` - последние N."
      ]
    },
    {
      "cell_type": "code",
      "execution_count": null,
      "metadata": {
        "ExecuteTime": {
          "end_time": "2018-06-22T11:03:16.944327Z",
          "start_time": "2018-06-22T11:03:16.882450Z"
        },
        "id": "qCRHua1p9_9r"
      },
      "outputs": [],
      "source": [
        "df.head(3)"
      ]
    },
    {
      "cell_type": "markdown",
      "metadata": {
        "id": "Nn11qlcl9_9r"
      },
      "source": [
        "## Общее"
      ]
    },
    {
      "cell_type": "markdown",
      "metadata": {
        "id": "Q3KbrjHm9_9r"
      },
      "source": [
        "Размер:"
      ]
    },
    {
      "cell_type": "code",
      "execution_count": null,
      "metadata": {
        "ExecuteTime": {
          "end_time": "2017-07-18T14:34:52.477827",
          "start_time": "2017-07-18T14:34:52.473160"
        },
        "id": "krsVwrjX9_9r"
      },
      "outputs": [],
      "source": [
        "df.shape"
      ]
    },
    {
      "cell_type": "markdown",
      "metadata": {
        "id": "31Mf00LY9_9r"
      },
      "source": [
        "Столбцы:"
      ]
    },
    {
      "cell_type": "code",
      "execution_count": null,
      "metadata": {
        "ExecuteTime": {
          "end_time": "2017-07-18T14:34:53.004876",
          "start_time": "2017-07-18T14:34:52.997890"
        },
        "id": "BNe9Zpf49_9r"
      },
      "outputs": [],
      "source": [
        "df.columns"
      ]
    },
    {
      "cell_type": "markdown",
      "metadata": {
        "id": "obS3SaZy9_9s"
      },
      "source": [
        "Информация содержит данные о типе колонок, степени их заполненности (в нашем случае пропусков в данных нет), типе данных каждой из колонок, а также потреблении памяти:"
      ]
    },
    {
      "cell_type": "code",
      "execution_count": null,
      "metadata": {
        "ExecuteTime": {
          "end_time": "2017-07-18T14:34:53.577031",
          "start_time": "2017-07-18T14:34:53.547119"
        },
        "id": "CZhB4ZTG9_9s"
      },
      "outputs": [],
      "source": [
        "df.info()"
      ]
    },
    {
      "cell_type": "markdown",
      "metadata": {
        "id": "bj4ErKOH9_9s"
      },
      "source": [
        "Метод `describe` содержит основные статистики по числовым столбцам данных:\n",
        "* количество\n",
        "* среднее\n",
        "* среднеквадратичное отклонение\n",
        "* минимум, максимум\n",
        "* медиану\n",
        "* первый и третий квартили"
      ]
    },
    {
      "cell_type": "code",
      "execution_count": null,
      "metadata": {
        "ExecuteTime": {
          "end_time": "2017-07-18T14:34:54.704408",
          "start_time": "2017-07-18T14:34:54.668130"
        },
        "id": "KvOrdXPi9_9s"
      },
      "outputs": [],
      "source": [
        "df.describe()"
      ]
    },
    {
      "cell_type": "markdown",
      "metadata": {
        "id": "0-3qhcE09_9s"
      },
      "source": [
        "Если хочется посмотреть и на нечисловые признаки, то нужно указать их тип в параметре `include`. Всего есть совсем немного основных:\n",
        "* `bool` - логический\n",
        "* `object` - общий нечисловой, в большинстве случаев это строки\n",
        "* `numeric` - числовой, включающий как числа с плавающей запятой, так и целые"
      ]
    },
    {
      "cell_type": "code",
      "execution_count": null,
      "metadata": {
        "ExecuteTime": {
          "end_time": "2017-07-18T14:34:56.199787",
          "start_time": "2017-07-18T14:34:56.074485"
        },
        "id": "6BrMgPn79_9s"
      },
      "outputs": [],
      "source": [
        "df.describe(include=['object', 'bool'])"
      ]
    },
    {
      "cell_type": "markdown",
      "metadata": {
        "ExecuteTime": {
          "end_time": "2017-05-14T13:22:09.347929",
          "start_time": "2017-05-14T13:22:09.333417"
        },
        "id": "El-8mJhy9_9t"
      },
      "source": [
        "Полезным методом является `value_counts()`, считающим распределение данных по категориям:"
      ]
    },
    {
      "cell_type": "code",
      "execution_count": null,
      "metadata": {
        "ExecuteTime": {
          "end_time": "2017-07-18T14:34:58.891272",
          "start_time": "2017-07-18T14:34:58.879318"
        },
        "id": "yPR_54yH9_9t"
      },
      "outputs": [],
      "source": [
        "df.education.value_counts()"
      ]
    },
    {
      "cell_type": "markdown",
      "metadata": {
        "ExecuteTime": {
          "end_time": "2017-05-14T13:22:40.773646",
          "start_time": "2017-05-14T13:22:40.769333"
        },
        "id": "2gzffExX9_9t"
      },
      "source": [
        "Для отображения в долях существует флажок `normalize`:"
      ]
    },
    {
      "cell_type": "code",
      "execution_count": null,
      "metadata": {
        "ExecuteTime": {
          "end_time": "2017-07-18T14:35:01.425746",
          "start_time": "2017-07-18T14:35:01.413629"
        },
        "id": "SjQr-sE89_9t"
      },
      "outputs": [],
      "source": [
        "df.education.value_counts(normalize=True)"
      ]
    },
    {
      "cell_type": "markdown",
      "metadata": {
        "id": "bXRkwxaZ9_9u"
      },
      "source": [
        "Можно строить простые диаграммы"
      ]
    },
    {
      "cell_type": "code",
      "execution_count": null,
      "metadata": {
        "ExecuteTime": {
          "end_time": "2017-07-18T14:35:02.999824",
          "start_time": "2017-07-18T14:35:02.677395"
        },
        "id": "-zY8gLof9_9u"
      },
      "outputs": [],
      "source": [
        "df.education.value_counts().plot.bar(); #(kind='bar');"
      ]
    },
    {
      "cell_type": "markdown",
      "metadata": {
        "id": "fhOT6crs9_9u"
      },
      "source": [
        "## Индексация и фильтры"
      ]
    },
    {
      "cell_type": "markdown",
      "metadata": {
        "ExecuteTime": {
          "end_time": "2017-05-14T13:35:25.120034",
          "start_time": "2017-05-14T13:35:25.114342"
        },
        "id": "be4nn_Ly9_9u"
      },
      "source": [
        "Весь датафрейм:"
      ]
    },
    {
      "cell_type": "code",
      "execution_count": null,
      "metadata": {
        "ExecuteTime": {
          "end_time": "2017-07-18T14:35:05.037890",
          "start_time": "2017-07-18T14:35:05.034722"
        },
        "id": "7Fd81Q1N9_9v"
      },
      "outputs": [],
      "source": [
        "print(df)"
      ]
    },
    {
      "cell_type": "markdown",
      "metadata": {
        "id": "wAwWlMHm9_9v"
      },
      "source": [
        "Только те, чей возраст меньше 25 лет, но больший 10:"
      ]
    },
    {
      "cell_type": "code",
      "execution_count": null,
      "metadata": {
        "ExecuteTime": {
          "end_time": "2017-07-18T14:35:40.388914",
          "start_time": "2017-07-18T14:35:40.382685"
        },
        "id": "rUIu_tiU9_9w"
      },
      "outputs": [],
      "source": [
        "df[(df.age < 25) & (df.age > 10)]"
      ]
    },
    {
      "cell_type": "markdown",
      "metadata": {
        "id": "AnUsq2Wn9_9w"
      },
      "source": [
        "Только те, кто получают больше 50 000$:"
      ]
    },
    {
      "cell_type": "code",
      "execution_count": null,
      "metadata": {
        "ExecuteTime": {
          "end_time": "2017-07-18T14:35:55.719580",
          "start_time": "2017-07-18T14:35:55.710507"
        },
        "id": "d2lg-Y6I9_9w"
      },
      "outputs": [],
      "source": [
        "df[df.salary == '>50K']"
      ]
    },
    {
      "cell_type": "code",
      "execution_count": null,
      "metadata": {
        "ExecuteTime": {
          "end_time": "2017-07-18T14:35:56.001011",
          "start_time": "2017-07-18T14:35:55.982691"
        },
        "scrolled": true,
        "id": "duy7PpRR9_9w"
      },
      "outputs": [],
      "source": [
        "df[df.salary == '<=50K'].sex.value_counts(normalize=False)"
      ]
    },
    {
      "cell_type": "code",
      "execution_count": null,
      "metadata": {
        "ExecuteTime": {
          "end_time": "2017-07-18T14:35:56.290344",
          "start_time": "2017-07-18T14:35:56.269597"
        },
        "id": "DiMPnZj69_9w"
      },
      "outputs": [],
      "source": [
        "df[df.salary == '>50K'].sex.value_counts(normalize=True)"
      ]
    },
    {
      "cell_type": "markdown",
      "metadata": {
        "id": "2BaM3iZK9_9x"
      },
      "source": [
        "## Сортировка"
      ]
    },
    {
      "cell_type": "code",
      "execution_count": null,
      "metadata": {
        "ExecuteTime": {
          "end_time": "2017-07-18T14:35:58.375089",
          "start_time": "2017-07-18T14:35:58.350856"
        },
        "id": "1pEyiOmZ9_9x"
      },
      "outputs": [],
      "source": [
        "df.sort_values(by=['education'])"
      ]
    },
    {
      "cell_type": "markdown",
      "metadata": {
        "id": "EMmMtYZP9_9x"
      },
      "source": [
        "Отсортируем сначала по полу, внутри пола - по возрасту, но в обратном порядке"
      ]
    },
    {
      "cell_type": "code",
      "execution_count": null,
      "metadata": {
        "ExecuteTime": {
          "end_time": "2017-07-18T14:36:05.992059",
          "start_time": "2017-07-18T14:36:05.980369"
        },
        "id": "-b2coOUP9_9x"
      },
      "outputs": [],
      "source": [
        "df.sort_values(by=['sex', 'age'], ascending=[True, False])"
      ]
    },
    {
      "cell_type": "markdown",
      "metadata": {
        "id": "JjU3VrUs9_9x"
      },
      "source": [
        "## Применение функций"
      ]
    },
    {
      "cell_type": "markdown",
      "metadata": {
        "id": "KKX_S61d9_9x"
      },
      "source": [
        "Применить функцию к каждому столбцу или каждой строке можно с помощью `apply`:"
      ]
    },
    {
      "cell_type": "code",
      "execution_count": null,
      "metadata": {
        "ExecuteTime": {
          "end_time": "2017-07-18T14:36:34.986381",
          "start_time": "2017-07-18T14:36:34.978370"
        },
        "id": "iOzJATd59_9x"
      },
      "outputs": [],
      "source": [
        "t = pd.DataFrame(data = {'a': [1,2,3], 'b': [4,5,6]})\n",
        "t"
      ]
    },
    {
      "cell_type": "code",
      "execution_count": null,
      "metadata": {
        "ExecuteTime": {
          "end_time": "2017-07-18T14:36:42.624850",
          "start_time": "2017-07-18T14:36:42.620662"
        },
        "id": "z91n2oVH9_9x"
      },
      "outputs": [],
      "source": [
        "t['c'] = t.apply(lambda row: row['a'] + row['b'], axis=1) # построчно"
      ]
    },
    {
      "cell_type": "code",
      "execution_count": null,
      "metadata": {
        "ExecuteTime": {
          "end_time": "2017-07-18T14:36:44.009929",
          "start_time": "2017-07-18T14:36:44.002577"
        },
        "id": "n_8w7mrQ9_9x"
      },
      "outputs": [],
      "source": [
        "t"
      ]
    },
    {
      "cell_type": "markdown",
      "metadata": {
        "id": "n5NFvRcF9_9x"
      },
      "source": [
        "Применение функции к каждой __ячейке__ реализовывается с помощью `map`:"
      ]
    },
    {
      "cell_type": "code",
      "execution_count": null,
      "metadata": {
        "ExecuteTime": {
          "end_time": "2017-07-18T14:36:48.825233",
          "start_time": "2017-07-18T14:36:48.817222"
        },
        "id": "K8drYCpH9_9x"
      },
      "outputs": [],
      "source": [
        "renaming = {'>50K': 1, '<=50K': 0}\n",
        "df.salary = df.salary.map(renaming)"
      ]
    },
    {
      "cell_type": "code",
      "execution_count": null,
      "metadata": {
        "ExecuteTime": {
          "end_time": "2017-07-18T14:36:49.372850",
          "start_time": "2017-07-18T14:36:49.366600"
        },
        "id": "trbZ9TT99_9y"
      },
      "outputs": [],
      "source": [
        "df.salary.value_counts()"
      ]
    },
    {
      "cell_type": "code",
      "execution_count": null,
      "metadata": {
        "ExecuteTime": {
          "end_time": "2017-07-18T14:36:51.212923",
          "start_time": "2017-07-18T14:36:51.203576"
        },
        "id": "l_P0QBV09_9y"
      },
      "outputs": [],
      "source": [
        "renaming = {1:'> 50K', 0: '<= 50K'}\n",
        "df.salary = df.salary.map(renaming)"
      ]
    },
    {
      "cell_type": "markdown",
      "metadata": {
        "id": "euTwpodC9_9y"
      },
      "source": [
        "__apply__ к нескольким столбцам сразу называется __applymap__:"
      ]
    },
    {
      "cell_type": "code",
      "execution_count": null,
      "metadata": {
        "ExecuteTime": {
          "end_time": "2017-07-18T14:37:27.760174",
          "start_time": "2017-07-18T14:37:27.727952"
        },
        "id": "zqE3m9NF9_9y"
      },
      "outputs": [],
      "source": [
        "df['sex'] = df['sex'].apply(lambda x: x.lower())\n",
        "df['relationship'] = df['relationship'].apply(lambda x: x.lower())"
      ]
    },
    {
      "cell_type": "code",
      "execution_count": null,
      "metadata": {
        "ExecuteTime": {
          "end_time": "2017-07-18T14:37:28.009172",
          "start_time": "2017-07-18T14:37:27.927060"
        },
        "id": "ShVbSclQ9_9y"
      },
      "outputs": [],
      "source": [
        "# same as above:\n",
        "cols = ['sex', 'relationship']\n",
        "df[cols] = df[cols].applymap(lambda x: x.lower())"
      ]
    },
    {
      "cell_type": "markdown",
      "metadata": {
        "id": "YtH75h9K9_9y"
      },
      "source": [
        "У строковых столбцов есть хитрое поле __str__, которое возвращает наружу как будто строку (синтаксис тот же), но применяет к каждому элементу столбца.\n",
        "\n",
        "При больших объемах данных это будет быстрее, потому что `.str` под капотом векторизует операции со строками. Для дат можно использовать `.dt`."
      ]
    },
    {
      "cell_type": "code",
      "execution_count": null,
      "metadata": {
        "ExecuteTime": {
          "end_time": "2017-07-18T14:38:16.931878",
          "start_time": "2017-07-18T14:38:16.915864"
        },
        "id": "o3qCQtbP9_9y"
      },
      "outputs": [],
      "source": [
        "df.sex.apply(lambda x: x.upper());"
      ]
    },
    {
      "cell_type": "code",
      "execution_count": null,
      "metadata": {
        "ExecuteTime": {
          "end_time": "2017-07-18T14:38:33.278060",
          "start_time": "2017-07-18T14:38:33.261524"
        },
        "id": "TfddMl9v9_9y"
      },
      "outputs": [],
      "source": [
        "# same as above\n",
        "df.sex.str.upper();"
      ]
    },
    {
      "cell_type": "markdown",
      "metadata": {
        "id": "bL_ir8_P9_9y"
      },
      "source": [
        "## Дубликаты"
      ]
    },
    {
      "cell_type": "code",
      "execution_count": null,
      "metadata": {
        "ExecuteTime": {
          "end_time": "2017-07-18T14:38:38.794641",
          "start_time": "2017-07-18T14:38:38.783166"
        },
        "id": "Io1O6Vnl9_9z"
      },
      "outputs": [],
      "source": [
        "q = pd.DataFrame(data={'a': [1,2,3,1,1], 'b': [1,2,3,2,1], 'c':[10,20,30,40,40]})\n",
        "q"
      ]
    },
    {
      "cell_type": "code",
      "execution_count": null,
      "metadata": {
        "ExecuteTime": {
          "end_time": "2017-07-18T14:38:40.967404",
          "start_time": "2017-07-18T14:38:40.961095"
        },
        "id": "2S7tCgqJ9_9z"
      },
      "outputs": [],
      "source": [
        "q.duplicated(['a'])"
      ]
    },
    {
      "cell_type": "code",
      "execution_count": null,
      "metadata": {
        "ExecuteTime": {
          "end_time": "2017-07-18T14:38:57.771235",
          "start_time": "2017-07-18T14:38:57.765355"
        },
        "id": "u92e94gP9_9z"
      },
      "outputs": [],
      "source": [
        "q.duplicated(['a', 'b']) # - уже оценивает кортежи значений из нескольких колонок"
      ]
    },
    {
      "cell_type": "code",
      "execution_count": null,
      "metadata": {
        "ExecuteTime": {
          "end_time": "2017-07-18T14:38:59.235228",
          "start_time": "2017-07-18T14:38:59.225541"
        },
        "id": "pp9JZH9V9_9z"
      },
      "outputs": [],
      "source": [
        "q.drop_duplicates(subset=['a'])"
      ]
    },
    {
      "cell_type": "code",
      "execution_count": null,
      "metadata": {
        "ExecuteTime": {
          "end_time": "2017-07-18T14:39:02.006730",
          "start_time": "2017-07-18T14:39:01.996516"
        },
        "id": "EKIWz_be9_9z"
      },
      "outputs": [],
      "source": [
        "q.drop_duplicates(subset=['a', 'b'])"
      ]
    },
    {
      "cell_type": "markdown",
      "metadata": {
        "id": "IPoV4o-k9_9z"
      },
      "source": [
        "## Группировка"
      ]
    },
    {
      "cell_type": "code",
      "execution_count": null,
      "metadata": {
        "ExecuteTime": {
          "end_time": "2017-07-18T14:39:05.406107",
          "start_time": "2017-07-18T14:39:05.402838"
        },
        "id": "uwALUR3L9_9z"
      },
      "outputs": [],
      "source": [
        "df.groupby(['salary']);"
      ]
    },
    {
      "cell_type": "markdown",
      "metadata": {
        "id": "M17kKM6k9_9z"
      },
      "source": [
        "__Важно__: groupby-объекты - не копии частей датафрейма!"
      ]
    },
    {
      "cell_type": "code",
      "execution_count": null,
      "metadata": {
        "ExecuteTime": {
          "end_time": "2017-07-18T14:39:07.370243",
          "start_time": "2017-07-18T14:39:07.085856"
        },
        "id": "fL2993_f9_9z"
      },
      "outputs": [],
      "source": [
        "df.groupby(['salary']).describe(include=['object', 'bool'])"
      ]
    },
    {
      "cell_type": "code",
      "execution_count": null,
      "metadata": {
        "ExecuteTime": {
          "end_time": "2017-07-18T14:39:09.663826",
          "start_time": "2017-07-18T14:39:09.658305"
        },
        "id": "btSl4-yR9_9z"
      },
      "outputs": [],
      "source": [
        "df.groupby('salary')"
      ]
    },
    {
      "cell_type": "code",
      "execution_count": null,
      "metadata": {
        "ExecuteTime": {
          "end_time": "2017-07-18T14:39:11.415229",
          "start_time": "2017-07-18T14:39:11.402367"
        },
        "id": "KvOl4AQ-9_9z"
      },
      "outputs": [],
      "source": [
        "df.sex.value_counts()"
      ]
    },
    {
      "cell_type": "code",
      "execution_count": null,
      "metadata": {
        "ExecuteTime": {
          "end_time": "2017-07-18T14:39:12.953141",
          "start_time": "2017-07-18T14:39:12.704291"
        },
        "id": "rahfC1Oq9_9z"
      },
      "outputs": [],
      "source": [
        "df.groupby('salary').sex.value_counts().plot.bar();"
      ]
    },
    {
      "cell_type": "markdown",
      "metadata": {
        "id": "cm3ZrUQE9_9z"
      },
      "source": [
        "## Таблицы сопряженности и melt"
      ]
    },
    {
      "cell_type": "markdown",
      "metadata": {
        "ExecuteTime": {
          "end_time": "2017-05-14T15:50:16.958656",
          "start_time": "2017-05-14T15:50:16.955760"
        },
        "id": "PZMMvfp69_90"
      },
      "source": [
        "### Таблицы сопряженности"
      ]
    },
    {
      "cell_type": "code",
      "execution_count": null,
      "metadata": {
        "ExecuteTime": {
          "end_time": "2017-07-18T14:45:10.866028",
          "start_time": "2017-07-18T14:45:10.573951"
        },
        "id": "Df1cqDMe9_90"
      },
      "outputs": [],
      "source": [
        "pd.crosstab(df.salary, df.sex).plot(kind='bar');"
      ]
    },
    {
      "cell_type": "code",
      "execution_count": null,
      "metadata": {
        "ExecuteTime": {
          "end_time": "2017-07-18T14:45:10.890460",
          "start_time": "2017-07-18T14:45:10.867905"
        },
        "id": "kVEhxW5f9_90"
      },
      "outputs": [],
      "source": [
        "pd.crosstab(df.salary, df.sex, normalize=True)"
      ]
    },
    {
      "cell_type": "code",
      "execution_count": null,
      "metadata": {
        "ExecuteTime": {
          "end_time": "2017-07-18T14:45:11.364782",
          "start_time": "2017-07-18T14:45:10.914105"
        },
        "scrolled": true,
        "id": "vAcE5biu9_90"
      },
      "outputs": [],
      "source": [
        "pd.crosstab(df.salary, df['marital-status'], normalize=True).plot.bar();"
      ]
    },
    {
      "cell_type": "markdown",
      "metadata": {
        "id": "QzLi9xYN9_90"
      },
      "source": [
        "### Melt - превращение столбцов в строки"
      ]
    },
    {
      "cell_type": "code",
      "execution_count": null,
      "metadata": {
        "ExecuteTime": {
          "end_time": "2017-07-18T14:45:13.860322",
          "start_time": "2017-07-18T14:45:13.849796"
        },
        "id": "GzMDFdnG9_90"
      },
      "outputs": [],
      "source": [
        "t = pd.DataFrame(data={'name': ['PC', 'PlayStation4'],\n",
        "                   '1W-2014': [100, 300],\n",
        "                   '2W-2014': [150, 350]})\n",
        "t"
      ]
    },
    {
      "cell_type": "code",
      "execution_count": null,
      "metadata": {
        "ExecuteTime": {
          "end_time": "2017-07-18T14:45:14.078250",
          "start_time": "2017-07-18T14:45:14.068143"
        },
        "id": "CPyNy4N09_90"
      },
      "outputs": [],
      "source": [
        "t2 = pd.melt(t, id_vars=['name'], value_name='cost', var_name='timestamp')\n",
        "t2"
      ]
    },
    {
      "cell_type": "markdown",
      "metadata": {
        "id": "iHJqAqam9_90"
      },
      "source": [
        "## Изменение таблиц"
      ]
    },
    {
      "cell_type": "code",
      "execution_count": null,
      "metadata": {
        "ExecuteTime": {
          "end_time": "2017-07-18T14:45:18.697565",
          "start_time": "2017-07-18T14:45:18.677824"
        },
        "id": "K63oOztj9_90"
      },
      "outputs": [],
      "source": [
        "df.head(2)"
      ]
    },
    {
      "cell_type": "markdown",
      "metadata": {
        "id": "6zPHwXWA9_90"
      },
      "source": [
        "### Добавление нового столбца"
      ]
    },
    {
      "cell_type": "code",
      "execution_count": null,
      "metadata": {
        "ExecuteTime": {
          "end_time": "2017-07-18T14:45:21.278023",
          "start_time": "2017-07-18T14:45:21.274271"
        },
        "id": "qTakT13b9_90"
      },
      "outputs": [],
      "source": [
        "df['working_days'] = df['hours-per-week'] / 8.0"
      ]
    },
    {
      "cell_type": "code",
      "execution_count": null,
      "metadata": {
        "ExecuteTime": {
          "end_time": "2017-07-18T14:45:24.704265",
          "start_time": "2017-07-18T14:45:24.683008"
        },
        "id": "evDhhSYx9_90"
      },
      "outputs": [],
      "source": [
        "df.head(2)"
      ]
    },
    {
      "cell_type": "code",
      "execution_count": null,
      "metadata": {
        "ExecuteTime": {
          "end_time": "2017-07-18T14:45:26.901403",
          "start_time": "2017-07-18T14:45:26.897836"
        },
        "id": "TSCV8EMF9_90"
      },
      "outputs": [],
      "source": [
        "df['constant'] = 1"
      ]
    },
    {
      "cell_type": "code",
      "execution_count": null,
      "metadata": {
        "ExecuteTime": {
          "end_time": "2017-07-18T14:45:27.622228",
          "start_time": "2017-07-18T14:45:27.613812"
        },
        "id": "zjHOt-ZN9_91"
      },
      "outputs": [],
      "source": [
        "df = df.assign(anotherConstant = lambda dataframe: dataframe.constant*2)"
      ]
    },
    {
      "cell_type": "code",
      "execution_count": null,
      "metadata": {
        "id": "xHeZTfF_9_91"
      },
      "outputs": [],
      "source": [
        "df.head(2)"
      ]
    },
    {
      "cell_type": "markdown",
      "metadata": {
        "id": "3IhlApW89_91"
      },
      "source": [
        "### Удаление строк и столбцов"
      ]
    },
    {
      "cell_type": "code",
      "execution_count": null,
      "metadata": {
        "ExecuteTime": {
          "end_time": "2017-07-18T14:45:31.073715",
          "start_time": "2017-07-18T14:45:31.062933"
        },
        "id": "EGzRiGXO9_91"
      },
      "outputs": [],
      "source": [
        "df.drop(['constant', 'anotherConstant'], axis=1, inplace=True)"
      ]
    },
    {
      "cell_type": "markdown",
      "metadata": {
        "id": "t36r0yzN9_91"
      },
      "source": [
        "__NB__: У большинства операторов pandas есть флажок `inplace`. Если он выставлен в `False` (по умолчанию именно так), то изменения, например, как `drop` в примере выше, не будут изменять таблицу, а вернут измененную копию."
      ]
    },
    {
      "cell_type": "code",
      "execution_count": null,
      "metadata": {
        "ExecuteTime": {
          "end_time": "2017-07-18T14:45:35.256137",
          "start_time": "2017-07-18T14:45:35.232619"
        },
        "id": "JZ6i9tkC9_91"
      },
      "outputs": [],
      "source": [
        "df.drop([1,2]).head(3) # => удаляет строки"
      ]
    },
    {
      "cell_type": "markdown",
      "metadata": {
        "id": "js9qymwP9_91"
      },
      "source": [
        "### loc, iloc"
      ]
    },
    {
      "cell_type": "code",
      "execution_count": null,
      "metadata": {
        "ExecuteTime": {
          "end_time": "2017-07-18T14:47:58.938071",
          "start_time": "2017-07-18T14:47:58.932642"
        },
        "id": "ZLq9TMzN9_91"
      },
      "outputs": [],
      "source": [
        "df.loc[0, 'workclass'] # получение конкретной ячейки по индексу и названию столбца"
      ]
    },
    {
      "cell_type": "code",
      "execution_count": null,
      "metadata": {
        "ExecuteTime": {
          "end_time": "2017-07-18T14:48:21.018773",
          "start_time": "2017-07-18T14:48:21.013115"
        },
        "id": "XIJWlZWP9_91"
      },
      "outputs": [],
      "source": [
        "df.iloc[0, 1] # получение конкретной ячейки по номеру строки и номеру столбца, вне зависимости от индексов"
      ]
    },
    {
      "cell_type": "markdown",
      "metadata": {
        "id": "PkTSoQ129_91"
      },
      "source": [
        "__Важно__: можно и получать строки по маскам:"
      ]
    },
    {
      "cell_type": "code",
      "execution_count": null,
      "metadata": {
        "ExecuteTime": {
          "end_time": "2017-07-18T14:49:54.773969",
          "start_time": "2017-07-18T14:49:54.766869"
        },
        "id": "iuoLOs4g9_91"
      },
      "outputs": [],
      "source": [
        "df.loc[df.age % 5 == 0, 'workclass'].head()"
      ]
    },
    {
      "cell_type": "markdown",
      "metadata": {
        "id": "Iia0zVwz9_91"
      },
      "source": [
        "__Важно__: Основываясь на этом, можно присваивать другим значениям:"
      ]
    },
    {
      "cell_type": "code",
      "execution_count": null,
      "metadata": {
        "ExecuteTime": {
          "end_time": "2017-07-18T14:50:43.742633",
          "start_time": "2017-07-18T14:50:43.736127"
        },
        "id": "ZLljm21n9_92"
      },
      "outputs": [],
      "source": [
        "df.loc[df.age % 2 == 0, 'workclass'] = 'ЧЕТНЫЙ'"
      ]
    },
    {
      "cell_type": "code",
      "execution_count": null,
      "metadata": {
        "ExecuteTime": {
          "end_time": "2017-07-18T14:50:46.490544",
          "start_time": "2017-07-18T14:50:46.486057"
        },
        "id": "Qjx8nLrN9_92"
      },
      "outputs": [],
      "source": [
        "df.loc[:5, 'education'] = 'NO EDUCATION'"
      ]
    },
    {
      "cell_type": "code",
      "execution_count": null,
      "metadata": {
        "ExecuteTime": {
          "end_time": "2017-07-18T14:50:48.079145",
          "start_time": "2017-07-18T14:50:48.059804"
        },
        "id": "eEj-L42k9_92"
      },
      "outputs": [],
      "source": [
        "df.head(7)"
      ]
    },
    {
      "cell_type": "markdown",
      "metadata": {
        "id": "UWqP-fpf9_92"
      },
      "source": [
        "### Переименование столбцов"
      ]
    },
    {
      "cell_type": "code",
      "execution_count": null,
      "metadata": {
        "ExecuteTime": {
          "end_time": "2017-07-18T14:50:58.428510",
          "start_time": "2017-07-18T14:50:58.424638"
        },
        "id": "4iL8Hcym9_92"
      },
      "outputs": [],
      "source": [
        "df.columns = [c.upper() for c in df.columns]"
      ]
    },
    {
      "cell_type": "code",
      "execution_count": null,
      "metadata": {
        "ExecuteTime": {
          "end_time": "2017-07-18T14:50:59.129465",
          "start_time": "2017-07-18T14:50:59.112055"
        },
        "id": "anB61Igd9_92"
      },
      "outputs": [],
      "source": [
        "df.head(1)"
      ]
    },
    {
      "cell_type": "code",
      "execution_count": null,
      "metadata": {
        "ExecuteTime": {
          "end_time": "2017-07-18T14:51:11.280083",
          "start_time": "2017-07-18T14:51:11.276685"
        },
        "id": "5fSL9qFj9_92"
      },
      "outputs": [],
      "source": [
        "df.columns = [c.lower() for c in df.columns]"
      ]
    },
    {
      "cell_type": "code",
      "execution_count": null,
      "metadata": {
        "ExecuteTime": {
          "end_time": "2017-07-18T14:51:11.574143",
          "start_time": "2017-07-18T14:51:11.558704"
        },
        "id": "u37F1a0p9_92"
      },
      "outputs": [],
      "source": [
        "df = df.rename(columns={'marital-status': 'marital_status'})\n",
        "                        # словарь старое-новое значение"
      ]
    },
    {
      "cell_type": "markdown",
      "metadata": {
        "ExecuteTime": {
          "end_time": "2017-05-18T12:24:09.500495",
          "start_time": "2017-05-18T12:24:09.497359"
        },
        "id": "XBHkjCVG9_92"
      },
      "source": [
        "## Работа с пропущенными (NaN) значениями"
      ]
    },
    {
      "cell_type": "code",
      "execution_count": null,
      "metadata": {
        "ExecuteTime": {
          "end_time": "2017-07-18T14:51:14.019521",
          "start_time": "2017-07-18T14:51:14.003646"
        },
        "id": "tDoBAOJF9_92"
      },
      "outputs": [],
      "source": [
        "test = pd.DataFrame(data={'name': ['John', 'Bill', 'Jennifer', 'Max'],\n",
        "                          'salary': [90, np.nan, 95, 130],\n",
        "                          'age': [27, 30, np.nan, np.nan],\n",
        "                          'status': [np.nan, 'married', np.nan, 'married']\n",
        "                         })\n",
        "test = test[['name', 'age', 'salary', 'status']]\n",
        "test"
      ]
    },
    {
      "cell_type": "markdown",
      "metadata": {
        "id": "VGbIox_z9_92"
      },
      "source": [
        "### Отображение"
      ]
    },
    {
      "cell_type": "code",
      "execution_count": null,
      "metadata": {
        "ExecuteTime": {
          "end_time": "2017-07-18T14:51:14.847525",
          "start_time": "2017-07-18T14:51:14.837090"
        },
        "id": "8GRhlW9q9_92"
      },
      "outputs": [],
      "source": [
        "test[test['age'].isnull()]"
      ]
    },
    {
      "cell_type": "code",
      "execution_count": null,
      "metadata": {
        "ExecuteTime": {
          "end_time": "2017-07-18T14:51:15.950701",
          "start_time": "2017-07-18T14:51:15.940498"
        },
        "id": "ekP3gkL49_92"
      },
      "outputs": [],
      "source": [
        "test[test['age'].notnull()]"
      ]
    },
    {
      "cell_type": "code",
      "execution_count": null,
      "metadata": {
        "ExecuteTime": {
          "end_time": "2017-07-18T14:51:21.019491",
          "start_time": "2017-07-18T14:51:20.997432"
        },
        "id": "52HLOxhA9_93"
      },
      "outputs": [],
      "source": [
        "test[test.isnull().any(axis=1)] # !"
      ]
    },
    {
      "cell_type": "code",
      "execution_count": null,
      "metadata": {
        "ExecuteTime": {
          "end_time": "2017-07-18T14:51:22.941954",
          "start_time": "2017-07-18T14:51:22.933447"
        },
        "id": "JihgYhDF9_93"
      },
      "outputs": [],
      "source": [
        "test[~test.isnull().any(axis=1)]"
      ]
    },
    {
      "cell_type": "markdown",
      "metadata": {
        "id": "Vu1YukRN9_93"
      },
      "source": [
        "### Заполнение"
      ]
    },
    {
      "cell_type": "markdown",
      "metadata": {
        "id": "OdVP6Jea9_93"
      },
      "source": [
        "Прежде всего, можно заполнить некоторым константным значением:"
      ]
    },
    {
      "cell_type": "code",
      "execution_count": null,
      "metadata": {
        "ExecuteTime": {
          "end_time": "2017-07-18T14:51:24.678877",
          "start_time": "2017-07-18T14:51:24.667186"
        },
        "id": "UuPlyQLR9_93"
      },
      "outputs": [],
      "source": [
        "dashtest = test.fillna('-')\n",
        "dashtest"
      ]
    },
    {
      "cell_type": "markdown",
      "metadata": {
        "id": "ojzErLqE9_93"
      },
      "source": [
        "Важно заметить, что теперь слобцы возраста и зарплаты более не числовые:"
      ]
    },
    {
      "cell_type": "code",
      "execution_count": null,
      "metadata": {
        "ExecuteTime": {
          "end_time": "2017-07-18T14:51:26.226936",
          "start_time": "2017-07-18T14:51:26.220719"
        },
        "id": "u41B5Oql9_93"
      },
      "outputs": [],
      "source": [
        "print(test.dtypes, '\\n\\n', dashtest.dtypes)"
      ]
    },
    {
      "cell_type": "code",
      "execution_count": null,
      "metadata": {
        "ExecuteTime": {
          "end_time": "2017-07-18T14:51:26.935763",
          "start_time": "2017-07-18T14:51:26.923336"
        },
        "id": "a4Q7AEb59_93"
      },
      "outputs": [],
      "source": [
        "test.fillna(method='ffill')"
      ]
    },
    {
      "cell_type": "code",
      "execution_count": null,
      "metadata": {
        "ExecuteTime": {
          "end_time": "2017-07-18T14:51:27.732023",
          "start_time": "2017-07-18T14:51:27.717061"
        },
        "id": "UpGNynXu9_93"
      },
      "outputs": [],
      "source": [
        "test.fillna(method='bfill')"
      ]
    },
    {
      "cell_type": "code",
      "execution_count": null,
      "metadata": {
        "ExecuteTime": {
          "end_time": "2017-07-18T14:51:31.324038",
          "start_time": "2017-07-18T14:51:31.311470"
        },
        "id": "DiFY9yD49_93"
      },
      "outputs": [],
      "source": [
        "test.fillna(method='ffill').fillna(method='bfill')"
      ]
    },
    {
      "cell_type": "code",
      "execution_count": null,
      "metadata": {
        "ExecuteTime": {
          "end_time": "2017-07-18T14:51:39.449343",
          "start_time": "2017-07-18T14:51:39.384666"
        },
        "id": "cXPJM8fm9_93"
      },
      "outputs": [],
      "source": [
        "test['salary'] = test[['salary']].fillna(test.salary.median())\n",
        "test"
      ]
    },
    {
      "cell_type": "code",
      "execution_count": null,
      "metadata": {
        "ExecuteTime": {
          "end_time": "2017-07-18T14:51:44.824769",
          "start_time": "2017-07-18T14:51:44.809905"
        },
        "id": "7fapAw_-9_93"
      },
      "outputs": [],
      "source": [
        "test['age'] = test[['salary']].fillna(25)\n",
        "test['status'] = test[['status']].fillna(test.status.mode()[0])\n",
        "test"
      ]
    },
    {
      "cell_type": "markdown",
      "metadata": {
        "id": "os1w_HtU9_93"
      },
      "source": [
        "## Краткий конспект\n",
        "\n",
        "- df.shape - размер\n",
        "- df.head(N), df.tail(N), - просмотр\n",
        "- df[массив имен колонок] - часть (slice) датафрейма\n",
        "- df['имя колонки'] - одна колонка (можно и через точку: df.имя_колонки)\n",
        "- df.unique, df.nunique - просмотр уникальных значений и их количества\n",
        "- df.value_counts - сколько разных значений в колонке\n",
        "- df.имя колонки.apply - применяет функцию к значениям в столбце\n",
        "- df.fillna - заполняет NaN\n",
        "- df.dropna - удаляет строки/столбцы с NaN\n",
        "- df.duplicated - показывает строки, являющиеся дупликатами других\n",
        "- df.drop_duplicates - удаляет строки-дупликаты\n",
        "- df[df.isnull().any(axis=1)] - вывести строки, содержащие NaN\n",
        "- df[df.имя колонки.isnull().any(axis=1)] - вывести только те строки, где в указанной колонке есть пропуски\n",
        "- df.groupby - группировка по некоторому признаку"
      ]
    },
    {
      "cell_type": "markdown",
      "metadata": {
        "id": "LbTjgXTI82Ey"
      },
      "source": [
        "## Задание"
      ]
    },
    {
      "cell_type": "markdown",
      "metadata": {
        "id": "BnBpD-KN82Ez"
      },
      "source": [
        "**1.** Загрузите csv-файл `https://raw.githubusercontent.com/yakushinav/omo/main/data/fishing.csv` в переменную fishing_data. Описание данных см. [здесь](https://github.com/yakushinav/journ/blob/main/fishing.md)."
      ]
    },
    {
      "cell_type": "code",
      "execution_count": 1,
      "metadata": {
        "id": "40fSJUxQ82E0"
      },
      "outputs": [],
      "source": [
        "import pandas as pd\n",
        "fishing_data = pd.read_csv(\"https://raw.githubusercontent.com/yakushinav/omo/main/data/fishing.csv\")"
      ]
    },
    {
      "cell_type": "markdown",
      "metadata": {
        "id": "zHiQ10W382E1"
      },
      "source": [
        "**2.** Выведите описательные статистики для всех числовых (integer, float) переменных в датафрейме."
      ]
    },
    {
      "cell_type": "code",
      "execution_count": 2,
      "metadata": {
        "colab": {
          "base_uri": "https://localhost:8080/"
        },
        "id": "xww0C-0e82E2",
        "outputId": "5e5cfd00-78f4-4925-cf06-809ab8d797d6"
      },
      "outputs": [
        {
          "output_type": "stream",
          "name": "stdout",
          "text": [
            "        Unnamed: 0        price        catch       pbeach        ppier  \\\n",
            "count  1182.000000  1182.000000  1182.000000  1182.000000  1182.000000   \n",
            "mean    591.500000    52.081975     0.389368   103.422005   103.422005   \n",
            "std     341.358316    53.829970     0.560596   103.641042   103.641042   \n",
            "min       1.000000     1.290000     0.000200     1.290000     1.290000   \n",
            "25%     296.250000    15.870000     0.036100    26.656500    26.656500   \n",
            "50%     591.500000    37.896000     0.164300    74.628000    74.628000   \n",
            "75%     886.750000    67.513000     0.533300   144.144000   144.144000   \n",
            "max    1182.000000   666.110000     2.310100   843.186000   843.186000   \n",
            "\n",
            "             pboat     pcharter       cbeach        cpier        cboat  \\\n",
            "count  1182.000000  1182.000000  1182.000000  1182.000000  1182.000000   \n",
            "mean     55.256570    84.379244     0.241011     0.162224     0.171215   \n",
            "std      62.713444    63.544650     0.190752     0.160390     0.209789   \n",
            "min       2.290000    27.290000     0.067800     0.001400     0.000200   \n",
            "25%      13.122000    42.896000     0.067800     0.050300     0.023300   \n",
            "50%      33.534000    61.607000     0.253700     0.078900     0.089700   \n",
            "75%      72.402000   102.774000     0.533300     0.149800     0.241300   \n",
            "max     666.110000   691.110000     0.533300     0.452200     0.736900   \n",
            "\n",
            "          ccharter        income  \n",
            "count  1182.000000   1182.000000  \n",
            "mean      0.629368   4099.337054  \n",
            "std       0.706114   2461.964060  \n",
            "min       0.002100    416.666680  \n",
            "25%       0.021900   2083.333200  \n",
            "50%       0.421600   3749.999900  \n",
            "75%       1.026600   5416.666700  \n",
            "max       2.310100  12499.998000  \n"
          ]
        }
      ],
      "source": [
        "print(fishing_data.describe())"
      ]
    },
    {
      "cell_type": "markdown",
      "metadata": {
        "id": "axcZ6fS882E2"
      },
      "source": [
        "**3.** Выберите из таблицы только строки, которые соответствуют респондентам, которые выбрали рыбалку на берегу (`beach`)."
      ]
    },
    {
      "cell_type": "code",
      "execution_count": 3,
      "metadata": {
        "id": "JvujsNy082E3",
        "colab": {
          "base_uri": "https://localhost:8080/"
        },
        "outputId": "50ea8f74-6041-40b9-dbb3-f21e1fabddb3"
      },
      "outputs": [
        {
          "output_type": "stream",
          "name": "stdout",
          "text": [
            "      Unnamed: 0   mode    price   catch   pbeach    ppier    pboat  pcharter  \\\n",
            "6              7  beach   51.934  0.0678   51.934   51.934  191.930   220.930   \n",
            "14            15  beach   74.514  0.2537   74.514   74.514   74.514    93.014   \n",
            "16            17  beach   48.114  0.1049   48.114   48.114   33.534    57.534   \n",
            "25            26  beach   67.784  0.5333   67.784   67.784   17.862    52.862   \n",
            "33            34  beach    9.522  0.0678    9.522    9.522   78.292   107.292   \n",
            "...          ...    ...      ...     ...      ...      ...      ...       ...   \n",
            "1167        1168  beach   23.688  0.5333   23.688   23.688  139.496   174.496   \n",
            "1173        1174  beach   62.634  0.0678   62.634   62.634  123.552   152.552   \n",
            "1176        1177  beach  121.836  0.5333  121.836  121.836  203.346   238.346   \n",
            "1178        1179  beach  235.436  0.5333  235.436  235.436  392.946   427.946   \n",
            "1180        1181  beach   36.636  0.5333   36.636   36.636   61.146    96.146   \n",
            "\n",
            "      cbeach   cpier   cboat  ccharter      income  \n",
            "6     0.0678  0.0789  0.1643    0.5391  8750.00100  \n",
            "14    0.2537  0.1498  0.2339    0.6288  8750.00100  \n",
            "16    0.1049  0.0451  0.1574    0.4671  5416.66670  \n",
            "25    0.5333  0.4522  0.2413    1.0266  1249.99980  \n",
            "33    0.0678  0.0789  0.0014    0.0029  3749.99990  \n",
            "...      ...     ...     ...       ...         ...  \n",
            "1167  0.5333  0.4522  0.0156    0.0058  2083.33320  \n",
            "1173  0.0678  0.0789  0.0014    0.0029  2916.66660  \n",
            "1176  0.5333  0.4522  0.2413    1.0266  2916.66660  \n",
            "1178  0.5333  0.4522  0.2413    1.0266  6250.00130  \n",
            "1180  0.5333  0.4522  0.1665    0.3975   416.66668  \n",
            "\n",
            "[134 rows x 13 columns]\n"
          ]
        }
      ],
      "source": [
        "beach_fishing = fishing_data[fishing_data['mode'] == 'beach']\n",
        "print(beach_fishing)"
      ]
    },
    {
      "cell_type": "markdown",
      "metadata": {
        "id": "G2hxBini82E4"
      },
      "source": [
        "**4.** Выберите из таблицы строки, которые соответствуют респондентам, которые предпочитают рыбачить на лодке (`boat`) с доходом (`income`) ниже 3500. Сохраните результат в переменную `boat_data`."
      ]
    },
    {
      "cell_type": "code",
      "execution_count": 4,
      "metadata": {
        "id": "QAmeexnU82E4",
        "colab": {
          "base_uri": "https://localhost:8080/"
        },
        "outputId": "e52ddde8-cb28-48c6-f361-61d9dd3e0b0f"
      },
      "outputs": [
        {
          "output_type": "stream",
          "name": "stdout",
          "text": [
            "      Unnamed: 0  mode    price   catch   pbeach    ppier    pboat  pcharter  \\\n",
            "9             10  boat   28.314  0.0233   28.314   28.314   28.314    46.814   \n",
            "22            23  boat   15.134  0.1665  100.674  100.674   15.134    50.134   \n",
            "32            33  boat    7.722  0.0023   33.462   33.462    7.722    31.722   \n",
            "37            38  boat   80.608  0.0531   25.648   25.648   80.608   105.608   \n",
            "40            41  boat   46.332  0.1643   10.296   10.296   46.332    75.332   \n",
            "...          ...   ...      ...     ...      ...      ...      ...       ...   \n",
            "1121        1122  boat   48.906  0.0732  204.204  204.204   48.906    78.406   \n",
            "1129        1130  boat    3.290  0.0531   37.506   37.506    3.290    28.290   \n",
            "1135        1136  boat   37.506  0.0102  101.990  101.990   37.506    72.506   \n",
            "1141        1142  boat  132.990  0.0156    4.290    4.290  132.990   167.990   \n",
            "1154        1155  boat   39.990  0.1574   30.186   30.186   39.990    63.990   \n",
            "\n",
            "      cbeach   cpier   cboat  ccharter      income  \n",
            "9     0.2537  0.1498  0.0233    0.0219  2916.66660  \n",
            "22    0.5333  0.4522  0.1665    0.3975  2083.33320  \n",
            "32    0.1049  0.0451  0.0023    0.0046  2916.66660  \n",
            "37    0.2537  0.1498  0.0531    0.0052  1249.99980  \n",
            "40    0.0678  0.0789  0.1643    0.5391  2916.66660  \n",
            "...      ...     ...     ...       ...         ...  \n",
            "1121  0.0678  0.0052  0.0732    0.1726  2916.66660  \n",
            "1129  0.2537  0.1498  0.0531    0.0052  2083.33320  \n",
            "1135  0.0678  0.0789  0.0102    0.0209  2083.33320  \n",
            "1141  0.5333  0.4522  0.0156    0.0058  2916.66660  \n",
            "1154  0.1049  0.0451  0.1574    0.4671   416.66668  \n",
            "\n",
            "[152 rows x 13 columns]\n"
          ]
        }
      ],
      "source": [
        "boat_data = fishing_data[(fishing_data['mode'] == 'boat') & (fishing_data['income'] < 3500)]\n",
        "print(boat_data)"
      ]
    },
    {
      "cell_type": "markdown",
      "metadata": {
        "id": "Hjupzfph82E5"
      },
      "source": [
        "**5.** Переименуйте столбец `catch` в `c_rate`."
      ]
    },
    {
      "cell_type": "code",
      "execution_count": 5,
      "metadata": {
        "id": "OS4rUTxV82E7"
      },
      "outputs": [],
      "source": [
        "fishing_data = fishing_data.rename(columns={'catch': 'c_rate'})"
      ]
    },
    {
      "cell_type": "markdown",
      "metadata": {
        "id": "7AAcH3Gy82E7"
      },
      "source": [
        "**6.** Добавьте в таблицу столбец `log_income`, содержащий натуральный логарифм доходов респондентов."
      ]
    },
    {
      "cell_type": "code",
      "execution_count": 6,
      "metadata": {
        "id": "qHvesEP082E8"
      },
      "outputs": [],
      "source": [
        "import numpy as np\n",
        "fishing_data['log_income'] = np.log(fishing_data['income'])"
      ]
    },
    {
      "cell_type": "markdown",
      "metadata": {
        "id": "GjDqAUSX82E8"
      },
      "source": [
        "**7.** Сгруппируйте наблюдения в таблице по признаку тип рыбалки (`mode`) и выведите для каждого типа среднюю цену (`price`), которую респонденты готовы заплатить за рыбалку."
      ]
    },
    {
      "cell_type": "code",
      "execution_count": 7,
      "metadata": {
        "id": "kGaB0inL82E8",
        "colab": {
          "base_uri": "https://localhost:8080/"
        },
        "outputId": "1d7954c3-0db7-4f7c-c908-ac3b3794c85b"
      },
      "outputs": [
        {
          "output_type": "stream",
          "name": "stdout",
          "text": [
            "mode\n",
            "beach      35.699493\n",
            "boat       41.606813\n",
            "charter    75.096942\n",
            "pier       30.571326\n",
            "Name: price, dtype: float64\n"
          ]
        }
      ],
      "source": [
        "mean_price_by_mode = fishing_data.groupby('mode')['price'].mean()\n",
        "print(mean_price_by_mode)"
      ]
    },
    {
      "cell_type": "markdown",
      "metadata": {
        "id": "aNlqu3Kn82E9"
      },
      "source": [
        "**8.** Выведите на экран первые 8 строк таблицы. А теперь последние 8."
      ]
    },
    {
      "cell_type": "code",
      "execution_count": 8,
      "metadata": {
        "id": "ssNG9GHb82E9",
        "colab": {
          "base_uri": "https://localhost:8080/"
        },
        "outputId": "9f66c795-4f63-4bed-ea79-136b69266140"
      },
      "outputs": [
        {
          "output_type": "stream",
          "name": "stdout",
          "text": [
            "Первые 8 строк:\n",
            "    Unnamed: 0     mode    price  c_rate   pbeach    ppier    pboat  pcharter  \\\n",
            "0           1  charter  182.930  0.5391  157.930  157.930  157.930   182.930   \n",
            "1           2  charter   34.534  0.4671   15.114   15.114   10.534    34.534   \n",
            "2           3     boat   24.334  0.2413  161.874  161.874   24.334    59.334   \n",
            "3           4     pier   15.134  0.0789   15.134   15.134   55.930    84.930   \n",
            "4           5     boat   41.514  0.1082  106.930  106.930   41.514    71.014   \n",
            "5           6  charter   63.934  0.3975  192.474  192.474   28.934    63.934   \n",
            "6           7    beach   51.934  0.0678   51.934   51.934  191.930   220.930   \n",
            "7           8  charter   56.714  0.0209   15.134   15.134   21.714    56.714   \n",
            "\n",
            "   cbeach   cpier   cboat  ccharter     income  log_income  \n",
            "0  0.0678  0.0503  0.2601    0.5391  7083.3317    8.865500  \n",
            "1  0.1049  0.0451  0.1574    0.4671  1249.9998    7.130899  \n",
            "2  0.5333  0.4522  0.2413    1.0266  3749.9999    8.229511  \n",
            "3  0.0678  0.0789  0.1643    0.5391  2083.3332    7.641724  \n",
            "4  0.0678  0.0503  0.1082    0.3240  4583.3320    8.430182  \n",
            "5  0.5333  0.4522  0.1665    0.3975  4583.3320    8.430182  \n",
            "6  0.0678  0.0789  0.1643    0.5391  8750.0010    9.076809  \n",
            "7  0.0678  0.0789  0.0102    0.0209  2083.3332    7.641724  \n",
            "\n",
            "Последние 8 строк:\n",
            "       Unnamed: 0     mode    price  c_rate   pbeach    ppier    pboat  \\\n",
            "1174        1175     boat   86.802  0.0102   91.834   91.834   86.802   \n",
            "1175        1176  charter  149.402  0.0209  121.034  121.034  114.402   \n",
            "1176        1177    beach  121.836  0.5333  121.836  121.836  203.346   \n",
            "1177        1178     pier  150.236  0.4522  150.236  150.236  250.746   \n",
            "1178        1179    beach  235.436  0.5333  235.436  235.436  392.946   \n",
            "1179        1180     pier   65.036  0.4522   65.036   65.036  108.546   \n",
            "1180        1181    beach   36.636  0.5333   36.636   36.636   61.146   \n",
            "1181        1182     boat  235.436  0.6817  339.890  339.890  235.436   \n",
            "\n",
            "      pcharter  cbeach   cpier   cboat  ccharter      income  log_income  \n",
            "1174   121.802  0.0678  0.0789  0.0102    0.0209  4583.33200    8.430182  \n",
            "1175   149.402  0.0678  0.0789  0.0102    0.0209  6250.00130    8.740337  \n",
            "1176   238.346  0.5333  0.4522  0.2413    1.0266  2916.66660    7.978197  \n",
            "1177   285.746  0.5333  0.4522  0.2413    1.0266  3749.99990    8.229511  \n",
            "1178   427.946  0.5333  0.4522  0.2413    1.0266  6250.00130    8.740337  \n",
            "1179   143.546  0.5333  0.4522  0.2413    1.0266  1249.99980    7.130899  \n",
            "1180    96.146  0.5333  0.4522  0.1665    0.3975   416.66668    6.032287  \n",
            "1181   260.436  0.2537  0.1498  0.6817    2.3014  6250.00130    8.740337  \n"
          ]
        }
      ],
      "source": [
        "print(\"Первые 8 строк:\\n\", fishing_data.head(8))\n",
        "print(\"\\nПоследние 8 строк:\\n\", fishing_data.tail(8))"
      ]
    },
    {
      "cell_type": "markdown",
      "metadata": {
        "id": "J7lVYGmS82E9"
      },
      "source": [
        "**9.** Сохраните изменённый датафрейм в csv-файл."
      ]
    },
    {
      "cell_type": "code",
      "execution_count": 10,
      "metadata": {
        "id": "_HQz2KM782E9"
      },
      "outputs": [],
      "source": [
        "fishing_data.to_csv('fishing_data_modified.csv', index=False)"
      ]
    }
  ],
  "metadata": {
    "kernelspec": {
      "display_name": "Python 3 (ipykernel)",
      "language": "python",
      "name": "python3"
    },
    "language_info": {
      "codemirror_mode": {
        "name": "ipython",
        "version": 3
      },
      "file_extension": ".py",
      "mimetype": "text/x-python",
      "name": "python",
      "nbconvert_exporter": "python",
      "pygments_lexer": "ipython3",
      "version": "3.9.13"
    },
    "toc": {
      "colors": {
        "hover_highlight": "#DAA520",
        "running_highlight": "#FF0000",
        "selected_highlight": "#FFD700"
      },
      "moveMenuLeft": true,
      "nav_menu": {
        "height": "12px",
        "width": "252px"
      },
      "navigate_menu": true,
      "number_sections": true,
      "sideBar": true,
      "threshold": 4,
      "toc_cell": false,
      "toc_position": {
        "height": "550px",
        "left": "0px",
        "right": "1068px",
        "top": "106px",
        "width": "212px"
      },
      "toc_section_display": "block",
      "toc_window_display": false
    },
    "colab": {
      "provenance": []
    }
  },
  "nbformat": 4,
  "nbformat_minor": 0
}